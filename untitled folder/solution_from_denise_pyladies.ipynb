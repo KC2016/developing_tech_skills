{
 "cells": [
  {
   "cell_type": "code",
   "execution_count": 8,
   "metadata": {},
   "outputs": [],
   "source": [
    "import pandas as pd\n",
    "import numpy as np"
   ]
  },
  {
   "cell_type": "code",
   "execution_count": null,
   "metadata": {},
   "outputs": [],
   "source": []
  },
  {
   "cell_type": "code",
   "execution_count": 9,
   "metadata": {},
   "outputs": [
    {
     "data": {
      "text/html": [
       "<div>\n",
       "<style scoped>\n",
       "    .dataframe tbody tr th:only-of-type {\n",
       "        vertical-align: middle;\n",
       "    }\n",
       "\n",
       "    .dataframe tbody tr th {\n",
       "        vertical-align: top;\n",
       "    }\n",
       "\n",
       "    .dataframe thead th {\n",
       "        text-align: right;\n",
       "    }\n",
       "</style>\n",
       "<table border=\"1\" class=\"dataframe\">\n",
       "  <thead>\n",
       "    <tr style=\"text-align: right;\">\n",
       "      <th></th>\n",
       "      <th>longterm</th>\n",
       "      <th>nearterm</th>\n",
       "    </tr>\n",
       "  </thead>\n",
       "  <tbody>\n",
       "    <tr>\n",
       "      <th>0</th>\n",
       "      <td>NaN</td>\n",
       "      <td>2</td>\n",
       "    </tr>\n",
       "    <tr>\n",
       "      <th>1</th>\n",
       "      <td>1.5</td>\n",
       "      <td>NaN</td>\n",
       "    </tr>\n",
       "    <tr>\n",
       "      <th>2</th>\n",
       "      <td>1.0</td>\n",
       "      <td>NaN</td>\n",
       "    </tr>\n",
       "  </tbody>\n",
       "</table>\n",
       "</div>"
      ],
      "text/plain": [
       "  longterm nearterm\n",
       "0      NaN        2\n",
       "1      1.5      NaN\n",
       "2      1.0      NaN"
      ]
     },
     "execution_count": 9,
     "metadata": {},
     "output_type": "execute_result"
    }
   ],
   "source": [
    "term = { \"longterm\": [np.NaN, \"1.5\", \"1.0\"], \"nearterm\": [\"2\", np.NaN, np.NaN]}\n",
    "termdf = pd.DataFrame(term)\n",
    "\n",
    "def calculate_relative(row):\n",
    "   longterm = row[0]\n",
    "   nearterm = row[1]\n",
    "   if longterm:\n",
    "      return \"long_term\"\n",
    "   if nearterm:\n",
    "      return \"near_term\"\n",
    "\n",
    "termdf\n",
    "# df['term'] = df.apply(calculate_relative, axis=1) # axis=1 means run by rows instead of columns\n",
    "\n",
    "# df"
   ]
  },
  {
   "cell_type": "code",
   "execution_count": null,
   "metadata": {},
   "outputs": [],
   "source": [
    "term = { \"longterm\": [np.NaN, \"1.5\", \"1.0\"], \"nearterm\": [\"2\", np.NaN, np.NaN]}\n",
    "termdf = pd.DataFrame(term)\n",
    "\n",
    "\n",
    "def calculate_relative(longterm, nearterm):\n",
    "   if longterm is np.NaN:\n",
    "      return \"near_term\"\n",
    "   if nearterm is np.NaN:\n",
    "      return \"long_term\"\n",
    "\n",
    "termdf['term'] = termdf.apply(lambda x: calculate_relative(x['longterm'], x['nearterm']), axis=1)"
   ]
  }
 ],
 "metadata": {
  "kernelspec": {
   "display_name": "Python 3.7.6",
   "language": "python",
   "name": "python3"
  },
  "language_info": {
   "codemirror_mode": {
    "name": "ipython",
    "version": 3
   },
   "file_extension": ".py",
   "mimetype": "text/x-python",
   "name": "python",
   "nbconvert_exporter": "python",
   "pygments_lexer": "ipython3",
   "version": "3.7.6"
  },
  "orig_nbformat": 4,
  "vscode": {
   "interpreter": {
    "hash": "40d3a090f54c6569ab1632332b64b2c03c39dcf918b08424e98f38b5ae0af88f"
   }
  }
 },
 "nbformat": 4,
 "nbformat_minor": 2
}
