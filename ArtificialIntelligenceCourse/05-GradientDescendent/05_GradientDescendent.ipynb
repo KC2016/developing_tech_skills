{
 "cells": [
  {
   "cell_type": "markdown",
   "metadata": {
    "colab_type": "text",
    "id": "KF369nUKEjJc"
   },
   "source": [
    "## Linear Regression with PyTorch\n",
    "Training:<BR/>\n",
    "1- Model Design (Input, Output, Forward Pass)<BR/>\n",
    "2- Definition of Loss and Optimzer Function<BR/>\n",
    "3- Training loop:\n",
    "  - Forward Pass: Calculating Prediction and Loss\n",
    "  - Backwarpass: Calculate Gradients\n",
    "  - Update Weights\n",
    "\n",
    "  https://www.youtube.com/watch?v=joaYDx1HTcA&list=PLtQM10PgmGogjn0cikgWi8wpQUnV6ERkY&index=7"
   ]
  },
  {
   "cell_type": "code",
   "execution_count": 34,
   "metadata": {
    "colab": {},
    "colab_type": "code",
    "id": "q3ma2UCrGzjz"
   },
   "outputs": [],
   "source": [
    "# import libraries\n",
    "import torch\n",
    "import time\n",
    "import torch.nn as nn\n",
    "import numpy as np\n",
    "from sklearn import datasets\n",
    "import matplotlib.pyplot as plt"
   ]
  },
  {
   "cell_type": "code",
   "execution_count": 35,
   "metadata": {
    "colab": {
     "base_uri": "https://localhost:8080/",
     "height": 316
    },
    "colab_type": "code",
    "id": "EsHvCFx3Gzds",
    "outputId": "5144b442-460f-45f7-80d6-bf0b8f5cac7d"
   },
   "outputs": [
    {
     "name": "stdout",
     "output_type": "stream",
     "text": [
      "torch.Size([100, 1])\n",
      "torch.Size([100, 1])\n"
     ]
    },
    {
     "data": {
      "text/plain": [
       "[<matplotlib.lines.Line2D at 0x7f44b6499518>]"
      ]
     },
     "execution_count": 35,
     "metadata": {
      "tags": []
     },
     "output_type": "execute_result"
    },
    {
     "data": {
      "image/png": "[encoded data removed]",
      "text/plain": [
       "<Figure size 432x288 with 1 Axes>"
      ]
     },
     "metadata": {
      "needs_background": "light",
      "tags": []
     },
     "output_type": "display_data"
    }
   ],
   "source": [
    "# prepare data: convert array numpy to torch\n",
    "x_numpy, y_numpy = datasets.make_regression(n_samples=100, n_features=1, noise=20, random_state=1)\n",
    "\n",
    "x = torch.from_numpy(x_numpy.astype(np.float32)) # independent variable, change stype to torch\n",
    "y = torch.from_numpy(y_numpy.astype(np.float32))  # dependent variable, change stype to torch\n",
    "y = y.view(y.shape[0], 1)  # change the dimension of the array; from horizontal to vertical.\n",
    "\n",
    "print(x.shape)\n",
    "print(y.shape)\n",
    "\n",
    "plt.plot(x_numpy, y_numpy, 'ro')  # plot the dataset"
   ]
  },
  {
   "cell_type": "code",
   "execution_count": 36,
   "metadata": {
    "colab": {},
    "colab_type": "code",
    "id": "OKnQ3KEEGzb5"
   },
   "outputs": [],
   "source": [
    "# Model Design\n",
    "input_size = 1     # because we have only one independent variable\n",
    "output_size = 1\n",
    "model = nn.Linear(input_size, output_size) # create the model"
   ]
  },
  {
   "cell_type": "code",
   "execution_count": 37,
   "metadata": {
    "colab": {
     "base_uri": "https://localhost:8080/",
     "height": 35
    },
    "colab_type": "code",
    "id": "sFLrHSimGzYb",
    "outputId": "dd568596-b65a-415f-8cb2-ea845eec3c47"
   },
   "outputs": [
    {
     "name": "stdout",
     "output_type": "stream",
     "text": [
      "<generator object Module.parameters at 0x7f44b65af830>\n"
     ]
    }
   ],
   "source": [
    "# Definition of Loss and Optimzer Function \n",
    "learning_rate = 0.01  #learning_rate to normalize the magnitude\n",
    "criterion = nn.MSELoss()   # mean squared error\n",
    "optimizer = torch.optim.SGD(model.parameters(), lr=learning_rate)  # uses SGD to optimze, update the weights  \n",
    "print (model.parameters())  # calculate the Loss"
   ]
  },
  {
   "cell_type": "code",
   "execution_count": 38,
   "metadata": {
    "colab": {},
    "colab_type": "code",
    "id": "jpUG1jf-GzVj"
   },
   "outputs": [],
   "source": [
    "# Training loop\n",
    "num_epochs = 1000 # make the process of create the line 1000 times (iteration)\n",
    "contador_custo = []\n",
    "for epoch in range(num_epochs):\n",
    "  #forward pass and loss\n",
    "  y_hat = model(x)   # prediction of x\n",
    "  loss = criterion(y_hat, y)\n",
    "  contador_custo.append(loss)"
   ]
  },
  {
   "cell_type": "code",
   "execution_count": 39,
   "metadata": {
    "colab": {},
    "colab_type": "code",
    "id": "JT4B3fKjGzUN"
   },
   "outputs": [],
   "source": [
    "# backward pass (calculate the gradients)\n",
    "loss.backward()"
   ]
  },
  {
   "cell_type": "code",
   "execution_count": 40,
   "metadata": {
    "colab": {},
    "colab_type": "code",
    "id": "C1L3x5ORGzQl"
   },
   "outputs": [],
   "source": [
    "# update weights\n",
    "optimizer.step()"
   ]
  },
  {
   "cell_type": "code",
   "execution_count": 45,
   "metadata": {
    "colab": {
     "base_uri": "https://localhost:8080/",
     "height": 455
    },
    "colab_type": "code",
    "id": "tYEqRj5vGzM6",
    "outputId": "2bbee601-5125-4872-a38b-ca43b34dfe8e"
   },
   "outputs": [
    {
     "name": "stdout",
     "output_type": "stream",
     "text": [
      "Epoch:  999\n",
      "Custo: 5792.41748046875000000000\n",
      "Coeficientes: \n",
      "m: 0.84485918283462524414\n",
      "m (gradiente): 0.00000000000000000000\n",
      "b: 0.94642919301986694336\n",
      "b (gradiente): 0.00000000000000000000\n",
      "0.84\n",
      "0.00\n",
      "0.95\n",
      "0.00\n"
     ]
    },
    {
     "data": {
      "image/png": "[encoded data removed]",
      "text/plain": [
       "<Figure size 432x288 with 1 Axes>"
      ]
     },
     "metadata": {
      "needs_background": "light",
      "tags": []
     },
     "output_type": "display_data"
    }
   ],
   "source": [
    " if (epoch+1)%10 == 0:\n",
    "      print('Epoch: ', epoch)\n",
    "      print('Custo: {:.20f}'.format(loss.item())) \n",
    "      print('Coeficientes: ')\n",
    "      print('m: {:.20f}'.format(model.weight.data.detach().item()))\n",
    "      print('m (gradiente): {:.20f}'.format(model.weight.grad.detach().item()))\n",
    "      print('b: {:.20f}'.format(model.bias.data.detach().item()))\n",
    "      print('b (gradiente): {:.20f}'.format(model.bias.grad.detach().item()))\n",
    "     #  for p in model.parameters():\n",
    "     #   print('{:.2f}'.format(p.data.detach().item()))\n",
    "     #   print('{:.2f}'.format(p.grad.detach().item()))\n",
    "      previsao_final = y_hat.detach().numpy()\n",
    "      plt.plot(x_numpy, y_numpy, 'ro') \n",
    "      plt.plot(x_numpy, previsao_final, 'b')\n",
    "      plt.show()"
   ]
  },
  {
   "cell_type": "code",
   "execution_count": 46,
   "metadata": {
    "colab": {},
    "colab_type": "code",
    "id": "QW8gDDIVGzKG"
   },
   "outputs": [],
   "source": [
    "# clear the optimizer\n",
    "optimizer.zero_grad()"
   ]
  },
  {
   "cell_type": "code",
   "execution_count": 47,
   "metadata": {
    "colab": {
     "base_uri": "https://localhost:8080/",
     "height": 284
    },
    "colab_type": "code",
    "id": "CYS0tbu7GzHF",
    "outputId": "aecc1628-c542-47fd-9d7a-091e6134bd1a"
   },
   "outputs": [
    {
     "name": "stdout",
     "output_type": "stream",
     "text": [
      "GRÁFICO DA FUNÇÃO DE CUSTO\n"
     ]
    },
    {
     "data": {
      "image/png": "[encoded data removed]",
      "text/plain": [
       "<Figure size 432x288 with 1 Axes>"
      ]
     },
     "metadata": {
      "needs_background": "light",
      "tags": []
     },
     "output_type": "display_data"
    }
   ],
   "source": [
    "# plot the loss function chart\n",
    "print(\"GRÁFICO DA FUNÇÃO DE CUSTO\")\n",
    "plt.plot(contador_custo, 'b')\n",
    "plt.show()"
   ]
  },
  {
   "cell_type": "code",
   "execution_count": 43,
   "metadata": {
    "colab": {},
    "colab_type": "code",
    "id": "wpTPQeGRGzDn"
   },
   "outputs": [],
   "source": []
  },
  {
   "cell_type": "markdown",
   "metadata": {
    "colab_type": "text",
    "id": "aSCyuLynEjOt"
   },
   "source": [
    "## Other references:\n",
    "- https://medium.com/@lachlanmiller_52885/machine-learning-week-1-cost-function-gradient-descent-and-univariate-linear-regression-8f5fe69815fd"
   ]
  }
 ],
 "metadata": {
  "colab": {
   "collapsed_sections": [],
   "name": "05-GradientDescendent.ipynb",
   "provenance": []
  },
  "kernelspec": {
   "display_name": "Python 3",
   "language": "python",
   "name": "python3"
  },
  "language_info": {
   "codemirror_mode": {
    "name": "ipython",
    "version": 3
   },
   "file_extension": ".py",
   "mimetype": "text/x-python",
   "name": "python",
   "nbconvert_exporter": "python",
   "pygments_lexer": "ipython3",
   "version": "3.7.7"
  }
 },
 "nbformat": 4,
 "nbformat_minor": 1
}
