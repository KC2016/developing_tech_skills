{
 "cells": [
  {
   "cell_type": "code",
   "execution_count": 78,
   "metadata": {},
   "outputs": [],
   "source": [
    "import numpy as np"
   ]
  },
  {
   "cell_type": "markdown",
   "metadata": {},
   "source": [
    "https://s3.amazonaws.com/assets.datacamp.com/blog_assets/Numpy_Python_Cheat_Sheet.pdf"
   ]
  },
  {
   "cell_type": "markdown",
   "metadata": {},
   "source": [
    "Question - what is an array?"
   ]
  },
  {
   "cell_type": "markdown",
   "metadata": {},
   "source": [
    "ARR= a grid of values, indexed by integers, all values being the same dtype \\\n",
    "Arrays can be multidimensional\\\n",
    "from 0 dimensional to N dimensional\\\n",
    "0 dimensional = 'scalar' \n"
   ]
  },
  {
   "cell_type": "code",
   "execution_count": 79,
   "metadata": {},
   "outputs": [],
   "source": [
    "#why is numpy needed \n",
    "lst=[1,2,3,4,5,6,7,8,9,10,11,12,13,14,15,16]"
   ]
  },
  {
   "cell_type": "code",
   "execution_count": 80,
   "metadata": {},
   "outputs": [],
   "source": [
    "#I want to add 2 to each value in my list \n",
    "# lst+2"
   ]
  },
  {
   "cell_type": "code",
   "execution_count": 81,
   "metadata": {},
   "outputs": [],
   "source": [
    "#define the same list as an array \n",
    "arr=np.array([1,2,3,4,5])\n",
    "\n",
    "#could also have used my_array = np.array(my_list)"
   ]
  },
  {
   "cell_type": "code",
   "execution_count": null,
   "metadata": {},
   "outputs": [],
   "source": []
  },
  {
   "cell_type": "code",
   "execution_count": null,
   "metadata": {},
   "outputs": [],
   "source": []
  },
  {
   "cell_type": "code",
   "execution_count": null,
   "metadata": {},
   "outputs": [],
   "source": []
  },
  {
   "cell_type": "code",
   "execution_count": null,
   "metadata": {},
   "outputs": [],
   "source": []
  },
  {
   "cell_type": "code",
   "execution_count": 82,
   "metadata": {},
   "outputs": [
    {
     "data": {
      "text/plain": [
       "array([3, 4, 5, 6, 7])"
      ]
     },
     "execution_count": 82,
     "metadata": {},
     "output_type": "execute_result"
    }
   ],
   "source": [
    "#now lets add 2 to each value in the list \n",
    "arr+2"
   ]
  },
  {
   "cell_type": "markdown",
   "metadata": {},
   "source": [
    "### 0 and 1 dimension arrays (and some fun friday maths)"
   ]
  },
  {
   "cell_type": "code",
   "execution_count": 83,
   "metadata": {},
   "outputs": [
    {
     "data": {
      "text/plain": [
       "0"
      ]
     },
     "execution_count": 83,
     "metadata": {},
     "output_type": "execute_result"
    }
   ],
   "source": [
    "#example of a 0 d array \n",
    "a=np.array(1)\n",
    "a.ndim"
   ]
  },
  {
   "cell_type": "code",
   "execution_count": 84,
   "metadata": {},
   "outputs": [
    {
     "data": {
      "text/plain": [
       "1"
      ]
     },
     "execution_count": 84,
     "metadata": {},
     "output_type": "execute_result"
    }
   ],
   "source": [
    "#example of a 1 d array \n",
    "b=np.array([1,2,3,4,5])\n",
    "b.ndim\n",
    "#try filling the variable b with a different/longer/more diverse array\n",
    "#just stick to the format v=np.array([#,#,...])"
   ]
  },
  {
   "cell_type": "code",
   "execution_count": 85,
   "metadata": {},
   "outputs": [
    {
     "data": {
      "text/plain": [
       "()"
      ]
     },
     "execution_count": 85,
     "metadata": {},
     "output_type": "execute_result"
    }
   ],
   "source": [
    "#use shape to check the shape of the array \n",
    "a.shape"
   ]
  },
  {
   "cell_type": "code",
   "execution_count": 86,
   "metadata": {},
   "outputs": [
    {
     "data": {
      "text/plain": [
       "(5,)"
      ]
     },
     "execution_count": 86,
     "metadata": {},
     "output_type": "execute_result"
    }
   ],
   "source": [
    "#use shape to check the shape of the array \n",
    "b.shape"
   ]
  },
  {
   "cell_type": "code",
   "execution_count": 87,
   "metadata": {},
   "outputs": [
    {
     "data": {
      "text/plain": [
       "2"
      ]
     },
     "execution_count": 87,
     "metadata": {},
     "output_type": "execute_result"
    }
   ],
   "source": [
    "#Access the second element from the array\n",
    "b[1]"
   ]
  },
  {
   "cell_type": "code",
   "execution_count": 88,
   "metadata": {},
   "outputs": [
    {
     "data": {
      "text/plain": [
       "15"
      ]
     },
     "execution_count": 88,
     "metadata": {},
     "output_type": "execute_result"
    }
   ],
   "source": [
    "#try some basic maths operators with your array:\n",
    "np.sum(b)\n",
    "#eg median,mean,diff,max,min,prod,cumsum,cumprod"
   ]
  },
  {
   "cell_type": "markdown",
   "metadata": {},
   "source": [
    "https://numpy.org/doc/stable/reference/routines.math.html"
   ]
  },
  {
   "cell_type": "markdown",
   "metadata": {},
   "source": [
    "#### Talking of maths ... "
   ]
  },
  {
   "cell_type": "markdown",
   "metadata": {},
   "source": [
    "cast your minds back to when you were in school, remember this?"
   ]
  },
  {
   "cell_type": "code",
   "execution_count": 89,
   "metadata": {},
   "outputs": [],
   "source": [
    "# conda install -c anaconda ipython"
   ]
  },
  {
   "cell_type": "code",
   "execution_count": 90,
   "metadata": {},
   "outputs": [],
   "source": [
    "# from IPython.display import Image\n",
    "# Image(\"pythag.png\")"
   ]
  },
  {
   "cell_type": "code",
   "execution_count": 91,
   "metadata": {},
   "outputs": [
    {
     "data": {
      "text/plain": [
       "36.05551275463989"
      ]
     },
     "execution_count": 91,
     "metadata": {},
     "output_type": "execute_result"
    }
   ],
   "source": [
    "#lets revisit those nightmares and do some Pythag! \n",
    "# define your right angled triangle:\n",
    "base= 20\n",
    "perp= 30\n",
    "#use np to calculate the length of the hypoteneuse\n",
    "hyp=np.hypot(base, perp)\n",
    "hyp "
   ]
  },
  {
   "cell_type": "code",
   "execution_count": 92,
   "metadata": {},
   "outputs": [
    {
     "data": {
      "text/plain": [
       "36.05551275463989"
      ]
     },
     "execution_count": 92,
     "metadata": {},
     "output_type": "execute_result"
    }
   ],
   "source": [
    "#check the above using the old fashioned method hint: import math for sqrt\n",
    "import math\n",
    "hyp=math.sqrt((base*base)+(perp*perp))\n",
    "hyp"
   ]
  },
  {
   "cell_type": "code",
   "execution_count": 93,
   "metadata": {},
   "outputs": [
    {
     "name": "stdout",
     "output_type": "stream",
     "text": [
      "0.1235\n"
     ]
    }
   ],
   "source": [
    "#To pick up Simons question on float64... np can explain it visually \n",
    "\n",
    "p=np.array((0.12345678976543,1,2,3),dtype=np.float16) #1 d array\n",
    "print(p[0])"
   ]
  },
  {
   "cell_type": "code",
   "execution_count": 94,
   "metadata": {},
   "outputs": [
    {
     "name": "stdout",
     "output_type": "stream",
     "text": [
      "0.12345679\n"
     ]
    }
   ],
   "source": [
    "q=np.array((0.12345678976543,1,2,3),dtype=np.float32)\n",
    "print(q[0])"
   ]
  },
  {
   "cell_type": "code",
   "execution_count": 95,
   "metadata": {},
   "outputs": [
    {
     "name": "stdout",
     "output_type": "stream",
     "text": [
      "0.12345678976543\n"
     ]
    }
   ],
   "source": [
    "r=np.array((0.12345678976543,1,2,3),dtype=np.float64)\n",
    "print(r[0])"
   ]
  },
  {
   "cell_type": "markdown",
   "metadata": {},
   "source": [
    "## Multi dimensional np arrays "
   ]
  },
  {
   "cell_type": "code",
   "execution_count": 96,
   "metadata": {},
   "outputs": [
    {
     "data": {
      "text/plain": [
       "2"
      ]
     },
     "execution_count": 96,
     "metadata": {},
     "output_type": "execute_result"
    }
   ],
   "source": [
    "#example of a 2d array\n",
    "c=np.array([[2,2,2,2],[8,7,6,5],[3,3,3,3]])\n",
    "c.ndim\n",
    "#try filling the variable c with a different/longer/more diverse array\n",
    "#just stick to the format v=np.array([[#],[#],...])"
   ]
  },
  {
   "cell_type": "code",
   "execution_count": 97,
   "metadata": {},
   "outputs": [],
   "source": [
    "# Image('2darray.png')"
   ]
  },
  {
   "cell_type": "code",
   "execution_count": 98,
   "metadata": {},
   "outputs": [
    {
     "data": {
      "text/plain": [
       "array([[2, 2, 2, 2],\n",
       "       [8, 7, 6, 5],\n",
       "       [3, 3, 3, 3]])"
      ]
     },
     "execution_count": 98,
     "metadata": {},
     "output_type": "execute_result"
    }
   ],
   "source": [
    "#view the variable c as a matrix of rows and columns\n",
    "c"
   ]
  },
  {
   "cell_type": "code",
   "execution_count": 99,
   "metadata": {},
   "outputs": [
    {
     "data": {
      "text/plain": [
       "(3, 4)"
      ]
     },
     "execution_count": 99,
     "metadata": {},
     "output_type": "execute_result"
    }
   ],
   "source": [
    "#use shape to check the shape of the array c # (rows, columns)\n",
    "c.shape"
   ]
  },
  {
   "cell_type": "code",
   "execution_count": 100,
   "metadata": {},
   "outputs": [
    {
     "data": {
      "text/plain": [
       "6"
      ]
     },
     "execution_count": 100,
     "metadata": {},
     "output_type": "execute_result"
    }
   ],
   "source": [
    "#Access the THIRD element from the second row of the array using v[][] # \n",
    "c[1][2]\n",
    "\n",
    "#hint: row comes first"
   ]
  },
  {
   "cell_type": "code",
   "execution_count": 101,
   "metadata": {},
   "outputs": [],
   "source": [
    "# of course a pandas df is also a 2d np array\n",
    "# import pandas as pd \n",
    "# df=pd.read_csv('checkpoint2.csv')#read any csv file here \n",
    "# df.ndim\n"
   ]
  },
  {
   "cell_type": "code",
   "execution_count": 102,
   "metadata": {},
   "outputs": [],
   "source": [
    "#check the shape - which is first in (n,n), rows or columns? why?\n"
   ]
  },
  {
   "cell_type": "code",
   "execution_count": 103,
   "metadata": {},
   "outputs": [
    {
     "data": {
      "text/plain": [
       "array([ 8, 26, 12])"
      ]
     },
     "execution_count": 103,
     "metadata": {},
     "output_type": "execute_result"
    }
   ],
   "source": [
    "#as with pandas we can apply maths operators to the 2d array c\n",
    "\n",
    "c.sum(axis=1)\n",
    "\n",
    "#try defining the axis along which you wish to sum in ()\n",
    "# experiment with the other maths operators as for the 1d array"
   ]
  },
  {
   "cell_type": "code",
   "execution_count": 114,
   "metadata": {},
   "outputs": [
    {
     "data": {
      "text/plain": [
       "array([8, 7, 6, 5])"
      ]
     },
     "execution_count": 114,
     "metadata": {},
     "output_type": "execute_result"
    }
   ],
   "source": [
    "#whats the min and max of each column of the array?\n",
    "#print(c.min(axis=0))\n",
    "c.max(axis=0)\n",
    "\n",
    "#print(c.min(axis=1))\n",
    "#print(c.max(axis=1))"
   ]
  },
  {
   "cell_type": "code",
   "execution_count": 119,
   "metadata": {},
   "outputs": [
    {
     "data": {
      "text/plain": [
       "array([4.13888889, 2.88888889, 4.13888889])"
      ]
     },
     "execution_count": 119,
     "metadata": {},
     "output_type": "execute_result"
    }
   ],
   "source": [
    "#whats the difference between the variance in each row of the array \n",
    "# as compared to the overall array variance? \n",
    "\n",
    "diff=c.var()-c.var(axis=1)\n",
    "diff"
   ]
  },
  {
   "cell_type": "code",
   "execution_count": 106,
   "metadata": {},
   "outputs": [
    {
     "data": {
      "text/plain": [
       "3"
      ]
     },
     "execution_count": 106,
     "metadata": {},
     "output_type": "execute_result"
    }
   ],
   "source": [
    "#example of a 3d array \n",
    "d=np.array([[[1,2,3], [4,4,4], [1,2,1], [3,2,2]], [[5,6,7], [8,7,8], [9,9,9], [5,5,6]]])\n",
    "d.ndim\n",
    "# a 3d array can be imagined as n x 2 d arrays "
   ]
  },
  {
   "cell_type": "code",
   "execution_count": 120,
   "metadata": {},
   "outputs": [
    {
     "data": {
      "text/plain": [
       "array([[[1, 2, 3],\n",
       "        [4, 4, 4],\n",
       "        [1, 2, 1],\n",
       "        [3, 2, 2]],\n",
       "\n",
       "       [[5, 6, 7],\n",
       "        [8, 7, 8],\n",
       "        [9, 9, 9],\n",
       "        [5, 5, 6]]])"
      ]
     },
     "execution_count": 120,
     "metadata": {},
     "output_type": "execute_result"
    }
   ],
   "source": [
    "#view the variable d as a matrix of rows and columns\n",
    "d"
   ]
  },
  {
   "cell_type": "code",
   "execution_count": 121,
   "metadata": {},
   "outputs": [
    {
     "data": {
      "text/plain": [
       "(2, 4, 3)"
      ]
     },
     "execution_count": 121,
     "metadata": {},
     "output_type": "execute_result"
    }
   ],
   "source": [
    "#use shape to check the shape of the array \n",
    "d.shape"
   ]
  },
  {
   "cell_type": "code",
   "execution_count": 122,
   "metadata": {},
   "outputs": [],
   "source": [
    "# Image(\"3darray.png\")"
   ]
  },
  {
   "cell_type": "markdown",
   "metadata": {},
   "source": [
    "It can be hard to envisage a 3d array, so think of it like a cube\n",
    "\n",
    "this might make for interesting reading on cubes: \\\n",
    "https://www.holistics.io/blog/the-rise-and-fall-of-the-olap-cube/"
   ]
  },
  {
   "cell_type": "code",
   "execution_count": 123,
   "metadata": {},
   "outputs": [
    {
     "data": {
      "text/plain": [
       "array([[[0.37868255, 0.48326011, 0.35420346],\n",
       "        [0.80746458, 0.38001403, 0.22667496],\n",
       "        [0.72932114, 0.0132719 , 0.42226722]],\n",
       "\n",
       "       [[0.87210918, 0.95487178, 0.97825063],\n",
       "        [0.29610939, 0.64037413, 0.66817399],\n",
       "        [0.0468831 , 0.78228779, 0.6175822 ]],\n",
       "\n",
       "       [[0.70477272, 0.35043669, 0.92534943],\n",
       "        [0.38847065, 0.47502705, 0.14560871],\n",
       "        [0.37074853, 0.29150967, 0.88216581]]])"
      ]
     },
     "execution_count": 123,
     "metadata": {},
     "output_type": "execute_result"
    }
   ],
   "source": [
    "#another way to make a 3d array - using random\n",
    "e = np.random.rand(3,3,3)\n",
    "e\n",
    "#random.rand - create an array of the given shape and populate it with random samples from a uniform distribution over [0, 1)."
   ]
  },
  {
   "cell_type": "code",
   "execution_count": 125,
   "metadata": {},
   "outputs": [
    {
     "data": {
      "text/plain": [
       "3"
      ]
     },
     "execution_count": 125,
     "metadata": {},
     "output_type": "execute_result"
    }
   ],
   "source": [
    "#confirm the no of dimensions of e \n",
    "e.ndim"
   ]
  },
  {
   "cell_type": "code",
   "execution_count": 128,
   "metadata": {},
   "outputs": [
    {
     "data": {
      "text/plain": [
       "array([[[0., 0., 0.],\n",
       "        [0., 0., 0.],\n",
       "        [0., 0., 0.]],\n",
       "\n",
       "       [[0., 0., 0.],\n",
       "        [0., 0., 0.],\n",
       "        [0., 0., 0.]],\n",
       "\n",
       "       [[0., 0., 0.],\n",
       "        [0., 0., 0.],\n",
       "        [0., 0., 0.]]])"
      ]
     },
     "execution_count": 128,
     "metadata": {},
     "output_type": "execute_result"
    }
   ],
   "source": [
    "#create a 3d array of only zeros, hint: ask google \n",
    "zero = np.zeros((3, 3, 3)) # np.zeros(dimension)\n",
    "zero"
   ]
  },
  {
   "cell_type": "markdown",
   "metadata": {},
   "source": [
    "## Class experiment\n",
    "\n",
    "* lets define a 2d array together by capturing some data from eachother\n",
    "* students will be organised into 4 breakout rooms of 6 \n",
    "* Each group picks a data question from this [list](https://docs.google.com/spreadsheets/d/10Jj_w8Klj9u7NoPxqq5CqSbj0MPTDfKMHsOfkJ6nUM0/edit?usp=sharing) and collects data points from each student in the group to form a 1d array\n",
    "* each group will provide a 6 digit 1d array via the chat\n",
    "* everyone builds the same class 2d array\n",
    "* we will know the groups/members but not which question was chosen\n",
    "* through the process of analysing the 2d array we put together, can we guess which questions were chosen by each group?\n",
    "\n"
   ]
  },
  {
   "cell_type": "code",
   "execution_count": 130,
   "metadata": {},
   "outputs": [],
   "source": [
    "# 'How many languages do you speak?'\n",
    "lst=[6,3,4,3,3]\n",
    "arr=np.array(lst)"
   ]
  },
  {
   "cell_type": "code",
   "execution_count": 131,
   "metadata": {},
   "outputs": [
    {
     "data": {
      "text/plain": [
       "array([6, 3, 4, 3, 3])"
      ]
     },
     "execution_count": 131,
     "metadata": {},
     "output_type": "execute_result"
    }
   ],
   "source": [
    "arr"
   ]
  },
  {
   "cell_type": "code",
   "execution_count": 129,
   "metadata": {},
   "outputs": [],
   "source": [
    "classmates = np.array([[20,2,2,7,2,6],[6,3,4,3,3,3],[4,3,4,3,4],[29,1,2,7,5,8]"
   ]
  },
  {
   "cell_type": "code",
   "execution_count": null,
   "metadata": {},
   "outputs": [],
   "source": []
  },
  {
   "cell_type": "code",
   "execution_count": null,
   "metadata": {},
   "outputs": [],
   "source": []
  },
  {
   "cell_type": "code",
   "execution_count": null,
   "metadata": {},
   "outputs": [],
   "source": []
  },
  {
   "cell_type": "code",
   "execution_count": null,
   "metadata": {},
   "outputs": [],
   "source": []
  },
  {
   "cell_type": "code",
   "execution_count": null,
   "metadata": {},
   "outputs": [],
   "source": []
  }
 ],
 "metadata": {
  "kernelspec": {
   "display_name": "Python 3",
   "language": "python",
   "name": "python3"
  },
  "language_info": {
   "codemirror_mode": {
    "name": "ipython",
    "version": 3
   },
   "file_extension": ".py",
   "mimetype": "text/x-python",
   "name": "python",
   "nbconvert_exporter": "python",
   "pygments_lexer": "ipython3",
   "version": "3.9.1"
  }
 },
 "nbformat": 4,
 "nbformat_minor": 4
}
