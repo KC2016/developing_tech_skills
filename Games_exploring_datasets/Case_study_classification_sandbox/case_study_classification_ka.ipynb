{
 "cells": [
  {
   "cell_type": "markdown",
   "id": "involved-scanner",
   "metadata": {},
   "source": [
    "## Case study classification project"
   ]
  },
  {
   "cell_type": "code",
   "execution_count": 1,
   "id": "legislative-glasgow",
   "metadata": {},
   "outputs": [],
   "source": [
    "# import libraries\n",
    "import pandas as pd \n",
    "import seaborn as sns \n",
    "import matplotlib.pyplot as plt\n",
    "import numpy as np \n",
    "from scipy import stats"
   ]
  },
  {
   "cell_type": "code",
   "execution_count": 2,
   "id": "documented-composite",
   "metadata": {},
   "outputs": [],
   "source": [
    "# conda install -c conda-forge jupyter_contrib_nbextensions"
   ]
  },
  {
   "cell_type": "code",
   "execution_count": 3,
   "id": "parallel-construction",
   "metadata": {},
   "outputs": [],
   "source": [
    "# df = pd.read_csv('creditcardmarketing.csv')"
   ]
  },
  {
   "cell_type": "code",
   "execution_count": 4,
   "id": "impressive-pottery",
   "metadata": {},
   "outputs": [],
   "source": [
    "df_original = pd.read_excel(r'data/creditcardmarketing.xlsx')"
   ]
  },
  {
   "cell_type": "code",
   "execution_count": 5,
   "id": "extreme-deputy",
   "metadata": {},
   "outputs": [],
   "source": [
    "# save as a csv file to use in the SQL task\n",
    "import csv\n",
    "df_original.to_csv(r'new_creditcardmarketing_original.csv', index = False)"
   ]
  },
  {
   "cell_type": "code",
   "execution_count": 6,
   "id": "tutorial-element",
   "metadata": {},
   "outputs": [],
   "source": [
    "\n",
    "# create a copy of the dataaet\n",
    "df = df_original"
   ]
  },
  {
   "cell_type": "markdown",
   "id": "rocky-marijuana",
   "metadata": {},
   "source": [
    "###  EDA - exploratory data analysis - get to know the data"
   ]
  },
  {
   "cell_type": "code",
   "execution_count": 7,
   "id": "serial-catering",
   "metadata": {},
   "outputs": [
    {
     "name": "stdout",
     "output_type": "stream",
     "text": [
      "<class 'pandas.core.frame.DataFrame'>\n",
      "RangeIndex: 18000 entries, 0 to 17999\n",
      "Data columns (total 17 columns):\n",
      " #   Column                Non-Null Count  Dtype  \n",
      "---  ------                --------------  -----  \n",
      " 0   Customer Number       18000 non-null  int64  \n",
      " 1   Offer Accepted        18000 non-null  object \n",
      " 2   Reward                18000 non-null  object \n",
      " 3   Mailer Type           18000 non-null  object \n",
      " 4   Income Level          18000 non-null  object \n",
      " 5   # Bank Accounts Open  18000 non-null  int64  \n",
      " 6   Overdraft Protection  18000 non-null  object \n",
      " 7   Credit Rating         18000 non-null  object \n",
      " 8   # Credit Cards Held   18000 non-null  int64  \n",
      " 9   # Homes Owned         18000 non-null  int64  \n",
      " 10  Household Size        18000 non-null  int64  \n",
      " 11  Own Your Home         18000 non-null  object \n",
      " 12  Average Balance       17976 non-null  float64\n",
      " 13  Q1 Balance            17976 non-null  float64\n",
      " 14  Q2 Balance            17976 non-null  float64\n",
      " 15  Q3 Balance            17976 non-null  float64\n",
      " 16  Q4 Balance            17976 non-null  float64\n",
      "dtypes: float64(5), int64(5), object(7)\n",
      "memory usage: 2.3+ MB\n"
     ]
    }
   ],
   "source": [
    "# check information about the dataset\n",
    "#df.dtypes\n",
    "df.info()"
   ]
  },
  {
   "cell_type": "code",
   "execution_count": 8,
   "id": "digital-virgin",
   "metadata": {},
   "outputs": [
    {
     "data": {
      "text/plain": [
       "(18000, 17)"
      ]
     },
     "execution_count": 8,
     "metadata": {},
     "output_type": "execute_result"
    }
   ],
   "source": [
    "# cheack shape\n",
    "df.shape"
   ]
  },
  {
   "cell_type": "code",
   "execution_count": 9,
   "id": "hired-state",
   "metadata": {},
   "outputs": [
    {
     "name": "stdout",
     "output_type": "stream",
     "text": [
      "Customer Number          0\n",
      "Offer Accepted           0\n",
      "Reward                   0\n",
      "Mailer Type              0\n",
      "Income Level             0\n",
      "# Bank Accounts Open     0\n",
      "Overdraft Protection     0\n",
      "Credit Rating            0\n",
      "# Credit Cards Held      0\n",
      "# Homes Owned            0\n",
      "Household Size           0\n",
      "Own Your Home            0\n",
      "Average Balance         24\n",
      "Q1 Balance              24\n",
      "Q2 Balance              24\n",
      "Q3 Balance              24\n",
      "Q4 Balance              24\n",
      "dtype: int64\n"
     ]
    }
   ],
   "source": [
    "# print the sum of null values \n",
    "print(df.isnull().sum())"
   ]
  },
  {
   "cell_type": "code",
   "execution_count": 10,
   "id": "artistic-joyce",
   "metadata": {},
   "outputs": [
    {
     "data": {
      "text/html": [
       "<div>\n",
       "<style scoped>\n",
       "    .dataframe tbody tr th:only-of-type {\n",
       "        vertical-align: middle;\n",
       "    }\n",
       "\n",
       "    .dataframe tbody tr th {\n",
       "        vertical-align: top;\n",
       "    }\n",
       "\n",
       "    .dataframe thead th {\n",
       "        text-align: right;\n",
       "    }\n",
       "</style>\n",
       "<table border=\"1\" class=\"dataframe\">\n",
       "  <thead>\n",
       "    <tr style=\"text-align: right;\">\n",
       "      <th></th>\n",
       "      <th>customer_number</th>\n",
       "      <th>offer_accepted</th>\n",
       "      <th>reward</th>\n",
       "      <th>mailer_type</th>\n",
       "      <th>income_level</th>\n",
       "      <th>bank_accounts_open</th>\n",
       "      <th>overdraft_protection</th>\n",
       "      <th>credit_rating</th>\n",
       "      <th>credit_cards_held</th>\n",
       "      <th>homes_owned</th>\n",
       "      <th>household_size</th>\n",
       "      <th>own_your_home</th>\n",
       "      <th>average_balance</th>\n",
       "      <th>q1_balance</th>\n",
       "      <th>q2_balance</th>\n",
       "      <th>q3_balance</th>\n",
       "      <th>q4_balance</th>\n",
       "    </tr>\n",
       "  </thead>\n",
       "  <tbody>\n",
       "    <tr>\n",
       "      <th>0</th>\n",
       "      <td>1</td>\n",
       "      <td>No</td>\n",
       "      <td>Air Miles</td>\n",
       "      <td>Letter</td>\n",
       "      <td>High</td>\n",
       "      <td>1</td>\n",
       "      <td>No</td>\n",
       "      <td>High</td>\n",
       "      <td>2</td>\n",
       "      <td>1</td>\n",
       "      <td>4</td>\n",
       "      <td>No</td>\n",
       "      <td>1160.75</td>\n",
       "      <td>1669.0</td>\n",
       "      <td>877.0</td>\n",
       "      <td>1095.0</td>\n",
       "      <td>1002.0</td>\n",
       "    </tr>\n",
       "    <tr>\n",
       "      <th>1</th>\n",
       "      <td>2</td>\n",
       "      <td>No</td>\n",
       "      <td>Air Miles</td>\n",
       "      <td>Letter</td>\n",
       "      <td>Medium</td>\n",
       "      <td>1</td>\n",
       "      <td>No</td>\n",
       "      <td>Medium</td>\n",
       "      <td>2</td>\n",
       "      <td>2</td>\n",
       "      <td>5</td>\n",
       "      <td>Yes</td>\n",
       "      <td>147.25</td>\n",
       "      <td>39.0</td>\n",
       "      <td>106.0</td>\n",
       "      <td>78.0</td>\n",
       "      <td>366.0</td>\n",
       "    </tr>\n",
       "    <tr>\n",
       "      <th>2</th>\n",
       "      <td>3</td>\n",
       "      <td>No</td>\n",
       "      <td>Air Miles</td>\n",
       "      <td>Postcard</td>\n",
       "      <td>High</td>\n",
       "      <td>2</td>\n",
       "      <td>No</td>\n",
       "      <td>Medium</td>\n",
       "      <td>2</td>\n",
       "      <td>1</td>\n",
       "      <td>2</td>\n",
       "      <td>Yes</td>\n",
       "      <td>276.50</td>\n",
       "      <td>367.0</td>\n",
       "      <td>352.0</td>\n",
       "      <td>145.0</td>\n",
       "      <td>242.0</td>\n",
       "    </tr>\n",
       "    <tr>\n",
       "      <th>3</th>\n",
       "      <td>4</td>\n",
       "      <td>No</td>\n",
       "      <td>Air Miles</td>\n",
       "      <td>Letter</td>\n",
       "      <td>Medium</td>\n",
       "      <td>2</td>\n",
       "      <td>No</td>\n",
       "      <td>High</td>\n",
       "      <td>1</td>\n",
       "      <td>1</td>\n",
       "      <td>4</td>\n",
       "      <td>No</td>\n",
       "      <td>1219.00</td>\n",
       "      <td>1578.0</td>\n",
       "      <td>1760.0</td>\n",
       "      <td>1119.0</td>\n",
       "      <td>419.0</td>\n",
       "    </tr>\n",
       "    <tr>\n",
       "      <th>4</th>\n",
       "      <td>5</td>\n",
       "      <td>No</td>\n",
       "      <td>Air Miles</td>\n",
       "      <td>Letter</td>\n",
       "      <td>Medium</td>\n",
       "      <td>1</td>\n",
       "      <td>No</td>\n",
       "      <td>Medium</td>\n",
       "      <td>2</td>\n",
       "      <td>1</td>\n",
       "      <td>6</td>\n",
       "      <td>Yes</td>\n",
       "      <td>1211.00</td>\n",
       "      <td>2140.0</td>\n",
       "      <td>1357.0</td>\n",
       "      <td>982.0</td>\n",
       "      <td>365.0</td>\n",
       "    </tr>\n",
       "  </tbody>\n",
       "</table>\n",
       "</div>"
      ],
      "text/plain": [
       "   customer_number offer_accepted     reward mailer_type income_level  \\\n",
       "0                1             No  Air Miles      Letter         High   \n",
       "1                2             No  Air Miles      Letter       Medium   \n",
       "2                3             No  Air Miles    Postcard         High   \n",
       "3                4             No  Air Miles      Letter       Medium   \n",
       "4                5             No  Air Miles      Letter       Medium   \n",
       "\n",
       "   bank_accounts_open overdraft_protection credit_rating  credit_cards_held  \\\n",
       "0                   1                   No          High                  2   \n",
       "1                   1                   No        Medium                  2   \n",
       "2                   2                   No        Medium                  2   \n",
       "3                   2                   No          High                  1   \n",
       "4                   1                   No        Medium                  2   \n",
       "\n",
       "   homes_owned  household_size own_your_home  average_balance  q1_balance  \\\n",
       "0            1               4            No          1160.75      1669.0   \n",
       "1            2               5           Yes           147.25        39.0   \n",
       "2            1               2           Yes           276.50       367.0   \n",
       "3            1               4            No          1219.00      1578.0   \n",
       "4            1               6           Yes          1211.00      2140.0   \n",
       "\n",
       "   q2_balance  q3_balance  q4_balance  \n",
       "0       877.0      1095.0      1002.0  \n",
       "1       106.0        78.0       366.0  \n",
       "2       352.0       145.0       242.0  \n",
       "3      1760.0      1119.0       419.0  \n",
       "4      1357.0       982.0       365.0  "
      ]
     },
     "execution_count": 10,
     "metadata": {},
     "output_type": "execute_result"
    }
   ],
   "source": [
    "# standize the readers: replace spaces by _, put in lowercase, remove #\n",
    "df.columns = df.columns.str.replace(' ', '_')\n",
    "df.columns= df.columns.str.lower()\n",
    "df.columns= df.columns.str.replace('#_', '')\n",
    "df.head()"
   ]
  },
  {
   "cell_type": "code",
   "execution_count": 11,
   "id": "portable-tournament",
   "metadata": {},
   "outputs": [
    {
     "data": {
      "text/plain": [
       "0.0013333333333333333"
      ]
     },
     "execution_count": 11,
     "metadata": {},
     "output_type": "execute_result"
    }
   ],
   "source": [
    "# find the percentage of missing values\n",
    "pct_missing=24/18000\n",
    "pct_missing"
   ]
  },
  {
   "cell_type": "markdown",
   "id": "complicated-hungarian",
   "metadata": {},
   "source": [
    "We found few missing values (less than 20%). so we are not droping them.<br/>\n",
    "Since the balances columns are float, we will fill them with the mean"
   ]
  },
  {
   "cell_type": "code",
   "execution_count": 12,
   "id": "funny-strengthening",
   "metadata": {},
   "outputs": [],
   "source": [
    "# # fill nulls with the means\n",
    "\n",
    "# col_miss_values= ['average_balance', 'q1_balance', 'q2_balance', 'q3_balance', 'q4_balance']\n",
    "\n",
    "# mean_average_balance = df['average_balance'].mean()\n",
    "# df['average_balance'] = df['average_balance'].fillna(mean_average_balance)\n",
    "\n",
    "# mean_average_balance = df['q1_balance'].mean()\n",
    "# df['q1_balance'] = df['q1_balance'].fillna(mean_average_balance)\n",
    "\n",
    "# mean_q2_balance = df['q2_balance'].mean()\n",
    "# df['q2_balance'] = df['q2_balance'].fillna(mean_q2_balance)\n",
    "\n",
    "# mean_q3_balance = df['q3_balance'].mean()\n",
    "# df['q3_balance'] = df['q3_balance'].fillna(mean_q3_balance)\n",
    "\n",
    "# mean_q4_balance = df['q4_balance'].mean()\n",
    "# df['q4_balance'] = df['q4_balance'].fillna(mean_q4_balance)\n",
    "                                           \n"
   ]
  },
  {
   "cell_type": "code",
   "execution_count": 13,
   "id": "accepting-means",
   "metadata": {},
   "outputs": [
    {
     "data": {
      "text/plain": [
       "customer_number           int64\n",
       "offer_accepted           object\n",
       "reward                   object\n",
       "mailer_type              object\n",
       "income_level             object\n",
       "bank_accounts_open        int64\n",
       "overdraft_protection     object\n",
       "credit_rating            object\n",
       "credit_cards_held         int64\n",
       "homes_owned               int64\n",
       "household_size            int64\n",
       "own_your_home            object\n",
       "average_balance         float64\n",
       "q1_balance              float64\n",
       "q2_balance              float64\n",
       "q3_balance              float64\n",
       "q4_balance              float64\n",
       "dtype: object"
      ]
     },
     "execution_count": 13,
     "metadata": {},
     "output_type": "execute_result"
    }
   ],
   "source": [
    "col_miss_values= ['average_balance', 'q1_balance', 'q2_balance', 'q3_balance', 'q4_balance']\n",
    "\n",
    "mean_average_balance = df['average_balance'].mean()\n",
    "df['average_balance'] = df['average_balance'].fillna(mean_average_balance)\n",
    "df['average_balance'] = pd.to_numeric(df['average_balance'], errors = 'coerce')\n",
    "\n",
    "mean_average_balance = df['q1_balance'].mean()\n",
    "df['q1_balance'] = df['q1_balance'].fillna(mean_average_balance)\n",
    "df['q1_balance'] = pd.to_numeric(df['q1_balance'], errors = 'coerce')\n",
    "\n",
    "mean_q2_balance = df['q2_balance'].mean()\n",
    "df['q2_balance'] = df['q2_balance'].fillna(mean_q2_balance)\n",
    "df['q2_balance'] = pd.to_numeric(df['q2_balance'], errors = 'coerce')\n",
    "\n",
    "mean_q3_balance = df['q3_balance'].mean()\n",
    "df['q3_balance'] = df['q3_balance'].fillna(mean_q3_balance)\n",
    "df['q3_balance'] = pd.to_numeric(df['q3_balance'], errors = 'coerce')\n",
    "\n",
    "mean_q4_balance = df['q4_balance'].mean()\n",
    "df['q4_balance'] = df['q4_balance'].fillna(mean_q4_balance)\n",
    "df['q4_balance'] = pd.to_numeric(df['q4_balance'], errors = 'coerce')\n",
    "\n",
    "df.dtypes"
   ]
  },
  {
   "cell_type": "code",
   "execution_count": null,
   "id": "polished-breach",
   "metadata": {},
   "outputs": [],
   "source": []
  },
  {
   "cell_type": "code",
   "execution_count": null,
   "id": "aging-wagner",
   "metadata": {},
   "outputs": [],
   "source": []
  },
  {
   "cell_type": "code",
   "execution_count": 14,
   "id": "sixth-sender",
   "metadata": {},
   "outputs": [
    {
     "name": "stdout",
     "output_type": "stream",
     "text": [
      "<class 'pandas.core.frame.DataFrame'>\n",
      "RangeIndex: 18000 entries, 0 to 17999\n",
      "Data columns (total 17 columns):\n",
      " #   Column                Non-Null Count  Dtype  \n",
      "---  ------                --------------  -----  \n",
      " 0   customer_number       18000 non-null  int64  \n",
      " 1   offer_accepted        18000 non-null  object \n",
      " 2   reward                18000 non-null  object \n",
      " 3   mailer_type           18000 non-null  object \n",
      " 4   income_level          18000 non-null  object \n",
      " 5   bank_accounts_open    18000 non-null  int64  \n",
      " 6   overdraft_protection  18000 non-null  object \n",
      " 7   credit_rating         18000 non-null  object \n",
      " 8   credit_cards_held     18000 non-null  int64  \n",
      " 9   homes_owned           18000 non-null  int64  \n",
      " 10  household_size        18000 non-null  int64  \n",
      " 11  own_your_home         18000 non-null  object \n",
      " 12  average_balance       18000 non-null  float64\n",
      " 13  q1_balance            18000 non-null  float64\n",
      " 14  q2_balance            18000 non-null  float64\n",
      " 15  q3_balance            18000 non-null  float64\n",
      " 16  q4_balance            18000 non-null  float64\n",
      "dtypes: float64(5), int64(5), object(7)\n",
      "memory usage: 2.3+ MB\n"
     ]
    }
   ],
   "source": [
    "df.info()"
   ]
  },
  {
   "cell_type": "code",
   "execution_count": 15,
   "id": "artificial-compression",
   "metadata": {},
   "outputs": [
    {
     "data": {
      "text/html": [
       "<div>\n",
       "<style scoped>\n",
       "    .dataframe tbody tr th:only-of-type {\n",
       "        vertical-align: middle;\n",
       "    }\n",
       "\n",
       "    .dataframe tbody tr th {\n",
       "        vertical-align: top;\n",
       "    }\n",
       "\n",
       "    .dataframe thead th {\n",
       "        text-align: right;\n",
       "    }\n",
       "</style>\n",
       "<table border=\"1\" class=\"dataframe\">\n",
       "  <thead>\n",
       "    <tr style=\"text-align: right;\">\n",
       "      <th></th>\n",
       "      <th>customer_number</th>\n",
       "      <th>offer_accepted</th>\n",
       "      <th>reward</th>\n",
       "      <th>mailer_type</th>\n",
       "      <th>income_level</th>\n",
       "      <th>bank_accounts_open</th>\n",
       "      <th>overdraft_protection</th>\n",
       "      <th>credit_rating</th>\n",
       "      <th>credit_cards_held</th>\n",
       "      <th>homes_owned</th>\n",
       "      <th>household_size</th>\n",
       "      <th>own_your_home</th>\n",
       "      <th>average_balance</th>\n",
       "      <th>q1_balance</th>\n",
       "      <th>q2_balance</th>\n",
       "      <th>q3_balance</th>\n",
       "      <th>q4_balance</th>\n",
       "    </tr>\n",
       "  </thead>\n",
       "  <tbody>\n",
       "    <tr>\n",
       "      <th>0</th>\n",
       "      <td>1</td>\n",
       "      <td>No</td>\n",
       "      <td>Air Miles</td>\n",
       "      <td>Letter</td>\n",
       "      <td>High</td>\n",
       "      <td>1</td>\n",
       "      <td>No</td>\n",
       "      <td>High</td>\n",
       "      <td>2</td>\n",
       "      <td>1</td>\n",
       "      <td>4</td>\n",
       "      <td>No</td>\n",
       "      <td>1160.75</td>\n",
       "      <td>1669.0</td>\n",
       "      <td>877.0</td>\n",
       "      <td>1095.0</td>\n",
       "      <td>1002.0</td>\n",
       "    </tr>\n",
       "    <tr>\n",
       "      <th>1</th>\n",
       "      <td>2</td>\n",
       "      <td>No</td>\n",
       "      <td>Air Miles</td>\n",
       "      <td>Letter</td>\n",
       "      <td>Medium</td>\n",
       "      <td>1</td>\n",
       "      <td>No</td>\n",
       "      <td>Medium</td>\n",
       "      <td>2</td>\n",
       "      <td>2</td>\n",
       "      <td>5</td>\n",
       "      <td>Yes</td>\n",
       "      <td>147.25</td>\n",
       "      <td>39.0</td>\n",
       "      <td>106.0</td>\n",
       "      <td>78.0</td>\n",
       "      <td>366.0</td>\n",
       "    </tr>\n",
       "    <tr>\n",
       "      <th>2</th>\n",
       "      <td>3</td>\n",
       "      <td>No</td>\n",
       "      <td>Air Miles</td>\n",
       "      <td>Postcard</td>\n",
       "      <td>High</td>\n",
       "      <td>2</td>\n",
       "      <td>No</td>\n",
       "      <td>Medium</td>\n",
       "      <td>2</td>\n",
       "      <td>1</td>\n",
       "      <td>2</td>\n",
       "      <td>Yes</td>\n",
       "      <td>276.50</td>\n",
       "      <td>367.0</td>\n",
       "      <td>352.0</td>\n",
       "      <td>145.0</td>\n",
       "      <td>242.0</td>\n",
       "    </tr>\n",
       "    <tr>\n",
       "      <th>3</th>\n",
       "      <td>4</td>\n",
       "      <td>No</td>\n",
       "      <td>Air Miles</td>\n",
       "      <td>Letter</td>\n",
       "      <td>Medium</td>\n",
       "      <td>2</td>\n",
       "      <td>No</td>\n",
       "      <td>High</td>\n",
       "      <td>1</td>\n",
       "      <td>1</td>\n",
       "      <td>4</td>\n",
       "      <td>No</td>\n",
       "      <td>1219.00</td>\n",
       "      <td>1578.0</td>\n",
       "      <td>1760.0</td>\n",
       "      <td>1119.0</td>\n",
       "      <td>419.0</td>\n",
       "    </tr>\n",
       "    <tr>\n",
       "      <th>4</th>\n",
       "      <td>5</td>\n",
       "      <td>No</td>\n",
       "      <td>Air Miles</td>\n",
       "      <td>Letter</td>\n",
       "      <td>Medium</td>\n",
       "      <td>1</td>\n",
       "      <td>No</td>\n",
       "      <td>Medium</td>\n",
       "      <td>2</td>\n",
       "      <td>1</td>\n",
       "      <td>6</td>\n",
       "      <td>Yes</td>\n",
       "      <td>1211.00</td>\n",
       "      <td>2140.0</td>\n",
       "      <td>1357.0</td>\n",
       "      <td>982.0</td>\n",
       "      <td>365.0</td>\n",
       "    </tr>\n",
       "  </tbody>\n",
       "</table>\n",
       "</div>"
      ],
      "text/plain": [
       "   customer_number offer_accepted     reward mailer_type income_level  \\\n",
       "0                1             No  Air Miles      Letter         High   \n",
       "1                2             No  Air Miles      Letter       Medium   \n",
       "2                3             No  Air Miles    Postcard         High   \n",
       "3                4             No  Air Miles      Letter       Medium   \n",
       "4                5             No  Air Miles      Letter       Medium   \n",
       "\n",
       "   bank_accounts_open overdraft_protection credit_rating  credit_cards_held  \\\n",
       "0                   1                   No          High                  2   \n",
       "1                   1                   No        Medium                  2   \n",
       "2                   2                   No        Medium                  2   \n",
       "3                   2                   No          High                  1   \n",
       "4                   1                   No        Medium                  2   \n",
       "\n",
       "   homes_owned  household_size own_your_home  average_balance  q1_balance  \\\n",
       "0            1               4            No          1160.75      1669.0   \n",
       "1            2               5           Yes           147.25        39.0   \n",
       "2            1               2           Yes           276.50       367.0   \n",
       "3            1               4            No          1219.00      1578.0   \n",
       "4            1               6           Yes          1211.00      2140.0   \n",
       "\n",
       "   q2_balance  q3_balance  q4_balance  \n",
       "0       877.0      1095.0      1002.0  \n",
       "1       106.0        78.0       366.0  \n",
       "2       352.0       145.0       242.0  \n",
       "3      1760.0      1119.0       419.0  \n",
       "4      1357.0       982.0       365.0  "
      ]
     },
     "execution_count": 15,
     "metadata": {},
     "output_type": "execute_result"
    }
   ],
   "source": [
    "df.head()"
   ]
  },
  {
   "cell_type": "code",
   "execution_count": 16,
   "id": "fresh-yesterday",
   "metadata": {},
   "outputs": [
    {
     "data": {
      "text/html": [
       "<div>\n",
       "<style scoped>\n",
       "    .dataframe tbody tr th:only-of-type {\n",
       "        vertical-align: middle;\n",
       "    }\n",
       "\n",
       "    .dataframe tbody tr th {\n",
       "        vertical-align: top;\n",
       "    }\n",
       "\n",
       "    .dataframe thead th {\n",
       "        text-align: right;\n",
       "    }\n",
       "</style>\n",
       "<table border=\"1\" class=\"dataframe\">\n",
       "  <thead>\n",
       "    <tr style=\"text-align: right;\">\n",
       "      <th></th>\n",
       "      <th>customer_number</th>\n",
       "      <th>bank_accounts_open</th>\n",
       "      <th>credit_cards_held</th>\n",
       "      <th>homes_owned</th>\n",
       "      <th>household_size</th>\n",
       "      <th>average_balance</th>\n",
       "      <th>q1_balance</th>\n",
       "      <th>q2_balance</th>\n",
       "      <th>q3_balance</th>\n",
       "      <th>q4_balance</th>\n",
       "    </tr>\n",
       "  </thead>\n",
       "  <tbody>\n",
       "    <tr>\n",
       "      <th>count</th>\n",
       "      <td>18000.000000</td>\n",
       "      <td>18000.000000</td>\n",
       "      <td>18000.000000</td>\n",
       "      <td>18000.000000</td>\n",
       "      <td>18000.000000</td>\n",
       "      <td>18000.000000</td>\n",
       "      <td>18000.000000</td>\n",
       "      <td>18000.000000</td>\n",
       "      <td>18000.000000</td>\n",
       "      <td>18000.000000</td>\n",
       "    </tr>\n",
       "    <tr>\n",
       "      <th>mean</th>\n",
       "      <td>9000.500000</td>\n",
       "      <td>1.255778</td>\n",
       "      <td>1.903500</td>\n",
       "      <td>1.203444</td>\n",
       "      <td>3.499056</td>\n",
       "      <td>940.515562</td>\n",
       "      <td>910.450656</td>\n",
       "      <td>999.392190</td>\n",
       "      <td>1042.033600</td>\n",
       "      <td>810.185803</td>\n",
       "    </tr>\n",
       "    <tr>\n",
       "      <th>std</th>\n",
       "      <td>5196.296758</td>\n",
       "      <td>0.472501</td>\n",
       "      <td>0.797009</td>\n",
       "      <td>0.427341</td>\n",
       "      <td>1.114182</td>\n",
       "      <td>350.064214</td>\n",
       "      <td>619.663515</td>\n",
       "      <td>457.097214</td>\n",
       "      <td>553.083487</td>\n",
       "      <td>558.628553</td>\n",
       "    </tr>\n",
       "    <tr>\n",
       "      <th>min</th>\n",
       "      <td>1.000000</td>\n",
       "      <td>1.000000</td>\n",
       "      <td>1.000000</td>\n",
       "      <td>1.000000</td>\n",
       "      <td>1.000000</td>\n",
       "      <td>48.250000</td>\n",
       "      <td>0.000000</td>\n",
       "      <td>0.000000</td>\n",
       "      <td>0.000000</td>\n",
       "      <td>0.000000</td>\n",
       "    </tr>\n",
       "    <tr>\n",
       "      <th>25%</th>\n",
       "      <td>4500.750000</td>\n",
       "      <td>1.000000</td>\n",
       "      <td>1.000000</td>\n",
       "      <td>1.000000</td>\n",
       "      <td>3.000000</td>\n",
       "      <td>787.937500</td>\n",
       "      <td>393.000000</td>\n",
       "      <td>664.000000</td>\n",
       "      <td>633.000000</td>\n",
       "      <td>363.750000</td>\n",
       "    </tr>\n",
       "    <tr>\n",
       "      <th>50%</th>\n",
       "      <td>9000.500000</td>\n",
       "      <td>1.000000</td>\n",
       "      <td>2.000000</td>\n",
       "      <td>1.000000</td>\n",
       "      <td>3.000000</td>\n",
       "      <td>1006.500000</td>\n",
       "      <td>773.000000</td>\n",
       "      <td>1032.000000</td>\n",
       "      <td>946.000000</td>\n",
       "      <td>704.000000</td>\n",
       "    </tr>\n",
       "    <tr>\n",
       "      <th>75%</th>\n",
       "      <td>13500.250000</td>\n",
       "      <td>1.000000</td>\n",
       "      <td>2.000000</td>\n",
       "      <td>1.000000</td>\n",
       "      <td>4.000000</td>\n",
       "      <td>1152.562500</td>\n",
       "      <td>1520.250000</td>\n",
       "      <td>1342.000000</td>\n",
       "      <td>1462.000000</td>\n",
       "      <td>1211.000000</td>\n",
       "    </tr>\n",
       "    <tr>\n",
       "      <th>max</th>\n",
       "      <td>18000.000000</td>\n",
       "      <td>3.000000</td>\n",
       "      <td>4.000000</td>\n",
       "      <td>3.000000</td>\n",
       "      <td>9.000000</td>\n",
       "      <td>3366.250000</td>\n",
       "      <td>3450.000000</td>\n",
       "      <td>3421.000000</td>\n",
       "      <td>3823.000000</td>\n",
       "      <td>4215.000000</td>\n",
       "    </tr>\n",
       "  </tbody>\n",
       "</table>\n",
       "</div>"
      ],
      "text/plain": [
       "       customer_number  bank_accounts_open  credit_cards_held   homes_owned  \\\n",
       "count     18000.000000        18000.000000       18000.000000  18000.000000   \n",
       "mean       9000.500000            1.255778           1.903500      1.203444   \n",
       "std        5196.296758            0.472501           0.797009      0.427341   \n",
       "min           1.000000            1.000000           1.000000      1.000000   \n",
       "25%        4500.750000            1.000000           1.000000      1.000000   \n",
       "50%        9000.500000            1.000000           2.000000      1.000000   \n",
       "75%       13500.250000            1.000000           2.000000      1.000000   \n",
       "max       18000.000000            3.000000           4.000000      3.000000   \n",
       "\n",
       "       household_size  average_balance    q1_balance    q2_balance  \\\n",
       "count    18000.000000     18000.000000  18000.000000  18000.000000   \n",
       "mean         3.499056       940.515562    910.450656    999.392190   \n",
       "std          1.114182       350.064214    619.663515    457.097214   \n",
       "min          1.000000        48.250000      0.000000      0.000000   \n",
       "25%          3.000000       787.937500    393.000000    664.000000   \n",
       "50%          3.000000      1006.500000    773.000000   1032.000000   \n",
       "75%          4.000000      1152.562500   1520.250000   1342.000000   \n",
       "max          9.000000      3366.250000   3450.000000   3421.000000   \n",
       "\n",
       "         q3_balance    q4_balance  \n",
       "count  18000.000000  18000.000000  \n",
       "mean    1042.033600    810.185803  \n",
       "std      553.083487    558.628553  \n",
       "min        0.000000      0.000000  \n",
       "25%      633.000000    363.750000  \n",
       "50%      946.000000    704.000000  \n",
       "75%     1462.000000   1211.000000  \n",
       "max     3823.000000   4215.000000  "
      ]
     },
     "execution_count": 16,
     "metadata": {},
     "output_type": "execute_result"
    }
   ],
   "source": [
    "df.describe()"
   ]
  },
  {
   "cell_type": "markdown",
   "id": "durable-struggle",
   "metadata": {},
   "source": [
    "### Get the sweet summary stats on each column to understand the distribution better"
   ]
  },
  {
   "cell_type": "code",
   "execution_count": 17,
   "id": "personalized-report",
   "metadata": {},
   "outputs": [
    {
     "data": {
      "text/html": [
       "<div>\n",
       "<style scoped>\n",
       "    .dataframe tbody tr th:only-of-type {\n",
       "        vertical-align: middle;\n",
       "    }\n",
       "\n",
       "    .dataframe tbody tr th {\n",
       "        vertical-align: top;\n",
       "    }\n",
       "\n",
       "    .dataframe thead th {\n",
       "        text-align: right;\n",
       "    }\n",
       "</style>\n",
       "<table border=\"1\" class=\"dataframe\">\n",
       "  <thead>\n",
       "    <tr style=\"text-align: right;\">\n",
       "      <th></th>\n",
       "      <th>customer_number</th>\n",
       "      <th>bank_accounts_open</th>\n",
       "      <th>credit_cards_held</th>\n",
       "      <th>homes_owned</th>\n",
       "      <th>household_size</th>\n",
       "      <th>average_balance</th>\n",
       "      <th>q1_balance</th>\n",
       "      <th>q2_balance</th>\n",
       "      <th>q3_balance</th>\n",
       "      <th>q4_balance</th>\n",
       "    </tr>\n",
       "  </thead>\n",
       "  <tbody>\n",
       "    <tr>\n",
       "      <th>count</th>\n",
       "      <td>18000.000000</td>\n",
       "      <td>18000.000000</td>\n",
       "      <td>18000.000000</td>\n",
       "      <td>18000.000000</td>\n",
       "      <td>18000.000000</td>\n",
       "      <td>18000.000000</td>\n",
       "      <td>18000.000000</td>\n",
       "      <td>18000.000000</td>\n",
       "      <td>18000.000000</td>\n",
       "      <td>18000.000000</td>\n",
       "    </tr>\n",
       "    <tr>\n",
       "      <th>mean</th>\n",
       "      <td>9000.500000</td>\n",
       "      <td>1.255778</td>\n",
       "      <td>1.903500</td>\n",
       "      <td>1.203444</td>\n",
       "      <td>3.499056</td>\n",
       "      <td>940.515562</td>\n",
       "      <td>910.450656</td>\n",
       "      <td>999.392190</td>\n",
       "      <td>1042.033600</td>\n",
       "      <td>810.185803</td>\n",
       "    </tr>\n",
       "    <tr>\n",
       "      <th>std</th>\n",
       "      <td>5196.296758</td>\n",
       "      <td>0.472501</td>\n",
       "      <td>0.797009</td>\n",
       "      <td>0.427341</td>\n",
       "      <td>1.114182</td>\n",
       "      <td>350.064214</td>\n",
       "      <td>619.663515</td>\n",
       "      <td>457.097214</td>\n",
       "      <td>553.083487</td>\n",
       "      <td>558.628553</td>\n",
       "    </tr>\n",
       "    <tr>\n",
       "      <th>min</th>\n",
       "      <td>1.000000</td>\n",
       "      <td>1.000000</td>\n",
       "      <td>1.000000</td>\n",
       "      <td>1.000000</td>\n",
       "      <td>1.000000</td>\n",
       "      <td>48.250000</td>\n",
       "      <td>0.000000</td>\n",
       "      <td>0.000000</td>\n",
       "      <td>0.000000</td>\n",
       "      <td>0.000000</td>\n",
       "    </tr>\n",
       "    <tr>\n",
       "      <th>25%</th>\n",
       "      <td>4500.750000</td>\n",
       "      <td>1.000000</td>\n",
       "      <td>1.000000</td>\n",
       "      <td>1.000000</td>\n",
       "      <td>3.000000</td>\n",
       "      <td>787.937500</td>\n",
       "      <td>393.000000</td>\n",
       "      <td>664.000000</td>\n",
       "      <td>633.000000</td>\n",
       "      <td>363.750000</td>\n",
       "    </tr>\n",
       "    <tr>\n",
       "      <th>50%</th>\n",
       "      <td>9000.500000</td>\n",
       "      <td>1.000000</td>\n",
       "      <td>2.000000</td>\n",
       "      <td>1.000000</td>\n",
       "      <td>3.000000</td>\n",
       "      <td>1006.500000</td>\n",
       "      <td>773.000000</td>\n",
       "      <td>1032.000000</td>\n",
       "      <td>946.000000</td>\n",
       "      <td>704.000000</td>\n",
       "    </tr>\n",
       "    <tr>\n",
       "      <th>75%</th>\n",
       "      <td>13500.250000</td>\n",
       "      <td>1.000000</td>\n",
       "      <td>2.000000</td>\n",
       "      <td>1.000000</td>\n",
       "      <td>4.000000</td>\n",
       "      <td>1152.562500</td>\n",
       "      <td>1520.250000</td>\n",
       "      <td>1342.000000</td>\n",
       "      <td>1462.000000</td>\n",
       "      <td>1211.000000</td>\n",
       "    </tr>\n",
       "    <tr>\n",
       "      <th>max</th>\n",
       "      <td>18000.000000</td>\n",
       "      <td>3.000000</td>\n",
       "      <td>4.000000</td>\n",
       "      <td>3.000000</td>\n",
       "      <td>9.000000</td>\n",
       "      <td>3366.250000</td>\n",
       "      <td>3450.000000</td>\n",
       "      <td>3421.000000</td>\n",
       "      <td>3823.000000</td>\n",
       "      <td>4215.000000</td>\n",
       "    </tr>\n",
       "  </tbody>\n",
       "</table>\n",
       "</div>"
      ],
      "text/plain": [
       "       customer_number  bank_accounts_open  credit_cards_held   homes_owned  \\\n",
       "count     18000.000000        18000.000000       18000.000000  18000.000000   \n",
       "mean       9000.500000            1.255778           1.903500      1.203444   \n",
       "std        5196.296758            0.472501           0.797009      0.427341   \n",
       "min           1.000000            1.000000           1.000000      1.000000   \n",
       "25%        4500.750000            1.000000           1.000000      1.000000   \n",
       "50%        9000.500000            1.000000           2.000000      1.000000   \n",
       "75%       13500.250000            1.000000           2.000000      1.000000   \n",
       "max       18000.000000            3.000000           4.000000      3.000000   \n",
       "\n",
       "       household_size  average_balance    q1_balance    q2_balance  \\\n",
       "count    18000.000000     18000.000000  18000.000000  18000.000000   \n",
       "mean         3.499056       940.515562    910.450656    999.392190   \n",
       "std          1.114182       350.064214    619.663515    457.097214   \n",
       "min          1.000000        48.250000      0.000000      0.000000   \n",
       "25%          3.000000       787.937500    393.000000    664.000000   \n",
       "50%          3.000000      1006.500000    773.000000   1032.000000   \n",
       "75%          4.000000      1152.562500   1520.250000   1342.000000   \n",
       "max          9.000000      3366.250000   3450.000000   3421.000000   \n",
       "\n",
       "         q3_balance    q4_balance  \n",
       "count  18000.000000  18000.000000  \n",
       "mean    1042.033600    810.185803  \n",
       "std      553.083487    558.628553  \n",
       "min        0.000000      0.000000  \n",
       "25%      633.000000    363.750000  \n",
       "50%      946.000000    704.000000  \n",
       "75%     1462.000000   1211.000000  \n",
       "max     3823.000000   4215.000000  "
      ]
     },
     "execution_count": 17,
     "metadata": {},
     "output_type": "execute_result"
    }
   ],
   "source": [
    "#statistical distribution\n",
    "df.describe()"
   ]
  },
  {
   "cell_type": "markdown",
   "id": "opened-secretariat",
   "metadata": {},
   "source": [
    "### Get a  representation of the numbers "
   ]
  },
  {
   "cell_type": "code",
   "execution_count": null,
   "id": "japanese-miniature",
   "metadata": {},
   "outputs": [],
   "source": [
    "# using pandas\n",
    "hist = df.hist(figsize=(15,10),layout=(3,4), grid=False)"
   ]
  },
  {
   "cell_type": "code",
   "execution_count": null,
   "id": "ambient-infrared",
   "metadata": {},
   "outputs": [],
   "source": [
    "# check relationships with seaborn\n",
    "sns.pairplot(df)\n",
    "plt.show()"
   ]
  },
  {
   "cell_type": "code",
   "execution_count": null,
   "id": "incident-puzzle",
   "metadata": {},
   "outputs": [],
   "source": []
  },
  {
   "cell_type": "markdown",
   "id": "stainless-header",
   "metadata": {},
   "source": [
    "Only the household_size has a normal distribution."
   ]
  },
  {
   "cell_type": "code",
   "execution_count": null,
   "id": "motivated-carolina",
   "metadata": {},
   "outputs": [],
   "source": [
    "# check for multicollinearity \n",
    "corr_matrix=df.corr(method='pearson')  # default\n",
    "fig, ax = plt.subplots(figsize=(10, 8))\n",
    "ax = sns.heatmap(corr_matrix, annot=True)\n",
    "plt.show()"
   ]
  },
  {
   "cell_type": "markdown",
   "id": "graduate-subcommittee",
   "metadata": {},
   "source": [
    "The graph proves the absence of multicollinearity. \n",
    "\n",
    "\"The linear model makes the following assumptions\n",
    "- Require a linear relationship between the dependent and independent variables.\n",
    "- The error terms (residuals) need to be normally distributed. \n",
    "- If not weights can be introduced to penalize some observations in the error metric.\n",
    "Independent variables are normally distributed.\n",
    "If not (apply transformation Box-Cox)\n",
    "- Absence of multicollinearity.\n",
    "- Independent observations (not repeated)\""
   ]
  },
  {
   "cell_type": "code",
   "execution_count": null,
   "id": "administrative-personality",
   "metadata": {},
   "outputs": [],
   "source": [
    "# check for more claning\n",
    "# df.head(20)\n",
    "# df.tail(20)\n",
    "# drop customer_number\n",
    "df=df.drop(['customer_number'], axis=1)\n",
    "df.head(10)"
   ]
  },
  {
   "cell_type": "markdown",
   "id": "expected-basin",
   "metadata": {},
   "source": [
    "It seems that there is no need to make more cleaning. Neither for Bucketing features."
   ]
  },
  {
   "cell_type": "code",
   "execution_count": null,
   "id": "individual-swaziland",
   "metadata": {},
   "outputs": [],
   "source": [
    "df.columns"
   ]
  },
  {
   "cell_type": "code",
   "execution_count": null,
   "id": "enabling-johnson",
   "metadata": {},
   "outputs": [],
   "source": [
    "df.info()"
   ]
  },
  {
   "cell_type": "code",
   "execution_count": null,
   "id": "blind-tourism",
   "metadata": {},
   "outputs": [],
   "source": [
    "df.describe()"
   ]
  },
  {
   "cell_type": "code",
   "execution_count": null,
   "id": "proud-belize",
   "metadata": {},
   "outputs": [],
   "source": [
    "# label / encode any categorical columns \n",
    "\n",
    "cat = df.select_dtypes(include = np.object)\n",
    "cat"
   ]
  },
  {
   "cell_type": "code",
   "execution_count": null,
   "id": "curious-terrorist",
   "metadata": {},
   "outputs": [],
   "source": [
    "# checking all the categorical columns\n",
    "cols_cat = ['offer_accepted', 'reward', 'mailer_type', 'income_level', 'overdraft_protection', 'credit_rating', 'own_your_home']\n",
    "for col in cols_cat:\n",
    "    print(\"Frequency analysis of column: \",col)\n",
    "    my_data = df[col].value_counts().reset_index()\n",
    "    my_data.drop(my_data.index[0])\n",
    "    ax = sns.barplot(x=col, y=\"index\", data = my_data).set_title(col.upper())\n",
    "    plt.figure()\n"
   ]
  },
  {
   "cell_type": "code",
   "execution_count": null,
   "id": "corresponding-technology",
   "metadata": {},
   "outputs": [],
   "source": [
    "df.describe()"
   ]
  },
  {
   "cell_type": "code",
   "execution_count": null,
   "id": "legitimate-circulation",
   "metadata": {},
   "outputs": [],
   "source": [
    "a =df['average_balance'].value_counts().reset_index()\n",
    "a.drop(a.index[0])"
   ]
  },
  {
   "cell_type": "code",
   "execution_count": null,
   "id": "experienced-description",
   "metadata": {},
   "outputs": [],
   "source": []
  },
  {
   "cell_type": "code",
   "execution_count": null,
   "id": "applicable-resistance",
   "metadata": {},
   "outputs": [],
   "source": [
    "# locate the target column in the last position\n",
    "cols = list(df.columns)\n",
    "cols = cols[1:]+[cols[0]]\n",
    "df = df[cols]\n"
   ]
  },
  {
   "cell_type": "code",
   "execution_count": null,
   "id": "innocent-ridge",
   "metadata": {},
   "outputs": [],
   "source": [
    "df.head()"
   ]
  },
  {
   "cell_type": "code",
   "execution_count": null,
   "id": "transparent-brass",
   "metadata": {},
   "outputs": [],
   "source": [
    "df.dtypes"
   ]
  },
  {
   "cell_type": "code",
   "execution_count": null,
   "id": "organizational-glucose",
   "metadata": {},
   "outputs": [],
   "source": []
  },
  {
   "cell_type": "code",
   "execution_count": null,
   "id": "bacterial-concern",
   "metadata": {},
   "outputs": [],
   "source": [
    "# convert balances to float\n",
    "\n",
    "df['average_balance'] = pd.to_numeric(df.average_balance, errors='coerce')\n",
    "df['q1_balance'] = pd.to_numeric(df.q1_balance, errors='coerce')\n",
    "df['q2_balance'] = pd.to_numeric(df.q2_balance, errors='coerce')\n",
    "df['q3_balance'] = pd.to_numeric(df.q3_balance, errors='coerce')\n",
    "df['q4_balance'] = pd.to_numeric(df.q4_balance, errors='coerce')\n"
   ]
  },
  {
   "cell_type": "code",
   "execution_count": null,
   "id": "alternate-terrace",
   "metadata": {},
   "outputs": [],
   "source": [
    "df.dtypes"
   ]
  },
  {
   "cell_type": "markdown",
   "id": "romance-philip",
   "metadata": {},
   "source": [
    "### Outliers"
   ]
  },
  {
   "cell_type": "markdown",
   "id": "driven-method",
   "metadata": {},
   "source": [
    "### Box Plots\n",
    "A boxplot is a standardized way of displaying the distribution of data based on a five number summary (“minimum”, first quartile (Q1), median, third quartile (Q3), and “maximum”). It can tell you about your outliers and what their values are. It can also tell you if your data is symmetrical, how tightly your data is grouped, and if and how your data is skewed."
   ]
  },
  {
   "cell_type": "code",
   "execution_count": null,
   "id": "coated-brisbane",
   "metadata": {},
   "outputs": [],
   "source": [
    "# check outliers\n",
    "df.boxplot(grid=False, figsize= (15,8))"
   ]
  },
  {
   "cell_type": "markdown",
   "id": "tropical-transmission",
   "metadata": {},
   "source": [
    "### Density Plots\n",
    "\n",
    "A density plot is a representation of the distribution of a numeric variable. It uses a kernel density estimate to show the probability density function of the variable. It is a smoothed version of the histogram and is used in the same concept.\n",
    "\n",
    "Kernel Density Estimation(KDE): Kernel density estimation is a really useful statistical tool with an intimidating name. Often shortened to KDE, it’s a technique that let’s you create a smooth curve given a set of data. Kernel Density Estimation (KDE) is a way to estimate the probability density function of a continuous random variable. It is used for non-parametric analysis."
   ]
  },
  {
   "cell_type": "code",
   "execution_count": null,
   "id": "advance-actor",
   "metadata": {},
   "outputs": [],
   "source": [
    "numerics = ['int64', 'float64']\n",
    "df_num = df.select_dtypes(include=numerics)\n",
    "df_num.head()\n",
    "for col in df_num.columns:\n",
    "    ax = sns.kdeplot(data= df_num, x= col, shade= True)\n",
    "    plt.figure()"
   ]
  },
  {
   "cell_type": "code",
   "execution_count": null,
   "id": "proof-routine",
   "metadata": {},
   "outputs": [],
   "source": [
    "for col in df_num.columns:\n",
    "    plt.figure(figsize=(10,6)) \n",
    "    sns.kdeplot(df[col][df.offer_accepted  == 'Yes'], shade=True)\n",
    "    sns.kdeplot(df[col][df.offer_accepted  == 'No'], shade=True)\n",
    "    plt.legend(['offer_accepted ', 'offer_rejected'])\n",
    "    plt.title(col)\n",
    "    plt.show()\n"
   ]
  },
  {
   "cell_type": "code",
   "execution_count": null,
   "id": "substantial-digit",
   "metadata": {},
   "outputs": [],
   "source": []
  },
  {
   "cell_type": "code",
   "execution_count": null,
   "id": "presidential-heath",
   "metadata": {},
   "outputs": [],
   "source": [
    "# # find quartiles\n",
    "# cols_outliers = ['average_balance', 'q1_balance' , 'q2_balance', 'q3_balance', 'q4_balance']\n",
    "\n",
    "# for col in cols_outliers:\n",
    "# #     Q1 = df[col].quantile(0.25)\n",
    "#     Q3 = df[col].quantile(0.75)\n",
    "#     IQR = Q3 - Q1\n",
    "#     print('Q1 of the column ', col,':', Q1)\n",
    "#     print('Q3 of the column ', col,':', Q3)\n",
    "#     print('IRQ of the column ', col,':', IQR)\n",
    "#     Lower_Whisker = Q1 - 1.5 * IQR\n",
    "#     Upper_Whisker = Q3 + 1.5 * IQR\n",
    "#     print('lower_whisker: ', Lower_Whisker, ',' , 'upper whisker: ', Upper_Whisker)\n",
    "    \n",
    "    \n",
    "# #  Outlier Treatment \n",
    "# df_outl_treated = df[df[‘hp’]< Upper_Whisker]\n"
   ]
  },
  {
   "cell_type": "code",
   "execution_count": null,
   "id": "secure-color",
   "metadata": {},
   "outputs": [],
   "source": []
  },
  {
   "cell_type": "code",
   "execution_count": null,
   "id": "alleged-entertainment",
   "metadata": {},
   "outputs": [],
   "source": []
  },
  {
   "cell_type": "markdown",
   "id": "legendary-snapshot",
   "metadata": {},
   "source": [
    "### pre processing \n"
   ]
  },
  {
   "cell_type": "code",
   "execution_count": null,
   "id": "right-speaker",
   "metadata": {},
   "outputs": [],
   "source": [
    "cat.head()\n",
    "\n"
   ]
  },
  {
   "cell_type": "code",
   "execution_count": null,
   "id": "eastern-attack",
   "metadata": {},
   "outputs": [],
   "source": [
    "cat.columns"
   ]
  },
  {
   "cell_type": "code",
   "execution_count": null,
   "id": "important-sixth",
   "metadata": {},
   "outputs": [],
   "source": [
    "# reset index\n",
    "df = df.reset_index(drop = True)"
   ]
  },
  {
   "cell_type": "code",
   "execution_count": null,
   "id": "beginning-ferry",
   "metadata": {},
   "outputs": [],
   "source": [
    "df.head()"
   ]
  },
  {
   "cell_type": "code",
   "execution_count": null,
   "id": "ranging-image",
   "metadata": {},
   "outputs": [],
   "source": [
    "# categorical = pd.get_dummies(cat, columns =['reward', 'mailer_type', 'income_level',\n",
    "#        'overdraft_protection', 'credit_rating', 'own_your_home',\n",
    "#        'average_balance', 'offer_accepted'],drop_first=True)\n",
    "\n",
    "cat = df.select_dtypes(exclude = ['float64'])\n",
    "cat.info()\n",
    "\n",
    "# categorical.head()\n"
   ]
  },
  {
   "cell_type": "code",
   "execution_count": null,
   "id": "future-tuning",
   "metadata": {},
   "outputs": [],
   "source": [
    "# create a list of the column names\n",
    "cat_col=cat.columns.to_list()\n",
    "cat_col"
   ]
  },
  {
   "cell_type": "code",
   "execution_count": null,
   "id": "quarterly-rotation",
   "metadata": {},
   "outputs": [],
   "source": [
    "categorical = pd.get_dummies(cat, columns =['reward',\n",
    " 'mailer_type',\n",
    " 'income_level',\n",
    " 'bank_accounts_open',\n",
    " 'overdraft_protection',\n",
    " 'credit_rating',\n",
    " 'credit_cards_held',\n",
    " 'homes_owned',\n",
    " 'household_size',\n",
    " 'own_your_home',\n",
    " 'offer_accepted'],drop_first=True)"
   ]
  },
  {
   "cell_type": "code",
   "execution_count": null,
   "id": "welcome-failing",
   "metadata": {},
   "outputs": [],
   "source": [
    "categorical.head()"
   ]
  },
  {
   "cell_type": "code",
   "execution_count": null,
   "id": "continental-crown",
   "metadata": {
    "scrolled": false
   },
   "outputs": [],
   "source": [
    "categorical['offer_accepted_Yes'].value_counts()"
   ]
  },
  {
   "cell_type": "code",
   "execution_count": null,
   "id": "guilty-ebony",
   "metadata": {},
   "outputs": [],
   "source": [
    "# percentage\n",
    "pct_offer_accepted = 1023/18000\n",
    "pct_offer_accepted"
   ]
  },
  {
   "cell_type": "code",
   "execution_count": null,
   "id": "labeled-setting",
   "metadata": {},
   "outputs": [],
   "source": [
    "# numerical scaling \n",
    "\n",
    "from sklearn.preprocessing import Normalizer"
   ]
  },
  {
   "cell_type": "code",
   "execution_count": null,
   "id": "manual-accessory",
   "metadata": {},
   "outputs": [],
   "source": [
    "# df_num are the numerical\n",
    "\n",
    "X = df_num.drop(['bank_accounts_open', 'credit_cards_held', 'homes_owned', \"household_size\"], axis=1)\n",
    "transformer = Normalizer().fit(X)\n",
    "X_normalised= transformer.transform(X)\n",
    "X_normalised = pd.DataFrame(X_normalised)"
   ]
  },
  {
   "cell_type": "markdown",
   "id": "listed-conducting",
   "metadata": {},
   "source": [
    "### split off the dependant variable (label)"
   ]
  },
  {
   "cell_type": "code",
   "execution_count": null,
   "id": "copyrighted-satin",
   "metadata": {},
   "outputs": [],
   "source": [
    "#sort out the categoricals \n",
    "y= categorical['offer_accepted_Yes']\n",
    "categorical=categorical.drop(['offer_accepted_Yes'], axis=1)\n",
    "categorical"
   ]
  },
  {
   "cell_type": "code",
   "execution_count": null,
   "id": "handed-production",
   "metadata": {},
   "outputs": [],
   "source": [
    "# bring the numerical data (scaled)in with the x cat\n",
    "X = np.concatenate((X_normalised, categorical),axis=1)"
   ]
  },
  {
   "cell_type": "markdown",
   "id": "excess-vietnamese",
   "metadata": {},
   "source": [
    "### tt split, get model"
   ]
  },
  {
   "cell_type": "code",
   "execution_count": null,
   "id": "looking-transparency",
   "metadata": {},
   "outputs": [],
   "source": [
    "from sklearn.linear_model import LogisticRegression"
   ]
  },
  {
   "cell_type": "code",
   "execution_count": null,
   "id": "damaged-greene",
   "metadata": {},
   "outputs": [],
   "source": [
    "from sklearn.model_selection import train_test_split\n",
    "\n",
    "X_train, X_test, y_train, y_test =train_test_split(X, y, test_size= 0.4, random_state=40)"
   ]
  },
  {
   "cell_type": "markdown",
   "id": "missing-proof",
   "metadata": {},
   "source": [
    "### apply model and train model"
   ]
  },
  {
   "cell_type": "code",
   "execution_count": 76,
   "id": "chicken-plain",
   "metadata": {},
   "outputs": [],
   "source": [
    "classification = LogisticRegression(random_state=0, solver='lbfgs',max_iter=400,\n",
    "                  multi_class='ovr').fit(X_train, y_train)"
   ]
  },
  {
   "cell_type": "markdown",
   "id": "occasional-mercy",
   "metadata": {},
   "source": [
    "### evaluate accuracy and test"
   ]
  },
  {
   "cell_type": "code",
   "execution_count": null,
   "id": "proved-parade",
   "metadata": {},
   "outputs": [],
   "source": [
    "from sklearn.metrics import accuracy_score \n",
    "predictions = classification.predict(X_test)"
   ]
  },
  {
   "cell_type": "code",
   "execution_count": null,
   "id": "plastic-canal",
   "metadata": {},
   "outputs": [],
   "source": [
    "predictions"
   ]
  },
  {
   "cell_type": "code",
   "execution_count": null,
   "id": "exciting-queensland",
   "metadata": {},
   "outputs": [],
   "source": [
    "accuracy_score(y_test, predictions)"
   ]
  },
  {
   "cell_type": "code",
   "execution_count": null,
   "id": "technological-republican",
   "metadata": {},
   "outputs": [],
   "source": [
    "# next steps would be to visualise the accuracy of the predictions in some ways \n",
    "\n",
    "# can i improve my model ?? "
   ]
  },
  {
   "cell_type": "code",
   "execution_count": null,
   "id": "faced-designation",
   "metadata": {},
   "outputs": [],
   "source": []
  },
  {
   "cell_type": "markdown",
   "id": "tutorial-minutes",
   "metadata": {},
   "source": [
    "### visualising accuracy - ROC / AUC "
   ]
  },
  {
   "cell_type": "code",
   "execution_count": null,
   "id": "shared-mainland",
   "metadata": {},
   "outputs": [],
   "source": [
    "import sklearn.metrics as metrics \n",
    "probs = classification.predict_proba(X_test)\n",
    "preds =probs[:,1]\n",
    "fpr, tpr, threshold = metrics.roc_curve(y_test, preds)\n",
    "roc_auc = metrics.auc(fpr, tpr)\n",
    "print(roc_auc)"
   ]
  },
  {
   "cell_type": "code",
   "execution_count": null,
   "id": "brutal-concern",
   "metadata": {},
   "outputs": [],
   "source": [
    "#definitions \n",
    "# tpr = true positive rate \n",
    "# fpr = false positive rate"
   ]
  },
  {
   "cell_type": "code",
   "execution_count": null,
   "id": "social-courage",
   "metadata": {},
   "outputs": [],
   "source": [
    "# method to plot AUC visually \n",
    "plt.title('Receiver Operating Characteristic')\n",
    "plt.plot(fpr, tpr, 'b', label = 'AUC = %0.2f' % roc_auc)\n",
    "plt.legend(loc = 'lower right')\n",
    "plt.plot([0, 1], [0, 1],'r--')\n",
    "plt.xlim([0, 1])\n",
    "plt.ylim([0, 1])\n",
    "plt.ylabel('True Positive Rate')\n",
    "plt.xlabel('False Positive Rate')\n",
    "plt.show()"
   ]
  },
  {
   "cell_type": "code",
   "execution_count": null,
   "id": "sunrise-bracelet",
   "metadata": {},
   "outputs": [],
   "source": [
    "# confusion matrix \n",
    "\n",
    "from sklearn.metrics import confusion_matrix \n",
    "from sklearn.metrics import plot_confusion_matrix\n",
    "\n",
    "accuracy_score(y_test,predictions)\n",
    "confusion_matrix(y_test,predictions)\n",
    "plot_confusion_matrix(classification, X_test, y_test)\n",
    "plt.show()\n"
   ]
  },
  {
   "cell_type": "markdown",
   "id": "worldwide-arlington",
   "metadata": {},
   "source": [
    "### data imbalanced -  SMOTE (oversample the minority class of the target label)"
   ]
  },
  {
   "cell_type": "code",
   "execution_count": null,
   "id": "earned-logan",
   "metadata": {},
   "outputs": [],
   "source": [
    "from imblearn.over_sampling import SMOTE"
   ]
  },
  {
   "cell_type": "code",
   "execution_count": null,
   "id": "minus-original",
   "metadata": {},
   "outputs": [],
   "source": [
    "smote = SMOTE()\n"
   ]
  },
  {
   "cell_type": "code",
   "execution_count": null,
   "id": "attended-output",
   "metadata": {},
   "outputs": [],
   "source": [
    "X_sm, y_sm = smote.fit_resample(X, y)\n",
    "y_sm.value_counts()"
   ]
  },
  {
   "cell_type": "code",
   "execution_count": null,
   "id": "meaningful-rebound",
   "metadata": {},
   "outputs": [],
   "source": [
    "#re do train test split It2\n",
    "\n",
    "X_train, X_test, y_train, y_test =train_test_split(X_sm, y_sm, test_size= 0.4, random_state=40)"
   ]
  },
  {
   "cell_type": "code",
   "execution_count": null,
   "id": "otherwise-criterion",
   "metadata": {},
   "outputs": [],
   "source": [
    "# apply model It2 \n",
    "classification = LogisticRegression(random_state=0, solver='lbfgs',max_iter=400,\n",
    "                  multi_class='ovr').fit(X_train, y_train)"
   ]
  },
  {
   "cell_type": "code",
   "execution_count": null,
   "id": "funded-north",
   "metadata": {},
   "outputs": [],
   "source": [
    "#accuracy assessment It2\n",
    "predictions = classification.predict(X_test)\n",
    "accuracy_score(y_test, predictions)"
   ]
  },
  {
   "cell_type": "code",
   "execution_count": null,
   "id": "through-learning",
   "metadata": {},
   "outputs": [],
   "source": [
    "#Conf matrix It2 \n",
    "confusion_matrix(y_test,predictions)\n",
    "plot_confusion_matrix(classification, X_test, y_test)\n",
    "plt.show()"
   ]
  },
  {
   "cell_type": "code",
   "execution_count": null,
   "id": "dutch-brush",
   "metadata": {},
   "outputs": [],
   "source": [
    "#Tomek links It3 - warning this is going to be quite slow as its a heavy algorithm\n",
    "from imblearn.under_sampling import TomekLinks\n",
    "\n",
    "tl = TomekLinks('majority')\n",
    "X_tl, y_tl = tl.fit_resample(X, y)\n",
    "y_tl.value_counts()\n"
   ]
  },
  {
   "cell_type": "code",
   "execution_count": null,
   "id": "decreased-cookie",
   "metadata": {},
   "outputs": [],
   "source": [
    "#re do train test split It3\n",
    "\n",
    "X_train, X_test, y_train, y_test =train_test_split(X_tl, y_tl, test_size= 0.4, random_state=40)"
   ]
  },
  {
   "cell_type": "code",
   "execution_count": null,
   "id": "anticipated-mercury",
   "metadata": {},
   "outputs": [],
   "source": [
    "# apply model It3\n",
    "classification = LogisticRegression(random_state=0, solver='lbfgs',max_iter=400,\n",
    "                  multi_class='ovr').fit(X_train, y_train)"
   ]
  },
  {
   "cell_type": "code",
   "execution_count": null,
   "id": "worth-portal",
   "metadata": {},
   "outputs": [],
   "source": [
    "#accuracy assessment It3\n",
    "predictions = classification.predict(X_test)\n",
    "accuracy_score(y_test, predictions)"
   ]
  },
  {
   "cell_type": "code",
   "execution_count": null,
   "id": "computational-kitty",
   "metadata": {},
   "outputs": [],
   "source": [
    "#Conf matrix It3 \n",
    "confusion_matrix(y_test,predictions)\n",
    "plot_confusion_matrix(classification, X_test, y_test)\n",
    "plt.show()"
   ]
  },
  {
   "cell_type": "markdown",
   "id": "unlimited-signature",
   "metadata": {},
   "source": [
    "#### conclusion on imbalance:\n",
    "\n",
    "- The SMOTE technique solved the imbalanced, but the TOMEK doesn't.\n",
    "    "
   ]
  },
  {
   "cell_type": "code",
   "execution_count": null,
   "id": "optical-initial",
   "metadata": {},
   "outputs": [],
   "source": []
  },
  {
   "cell_type": "markdown",
   "id": "animal-assets",
   "metadata": {},
   "source": [
    "### References\n",
    "- lectures\n",
    "- women who code: munibootcamp of data science\n",
    "- https://machinelearningmastery.com/confusion-matrix-machine-learning/\n",
    "- https://medium.com/analytics-vidhya/outlier-treatment-9bbe87384d02\n",
    "    "
   ]
  },
  {
   "cell_type": "code",
   "execution_count": null,
   "id": "automatic-atlas",
   "metadata": {},
   "outputs": [],
   "source": []
  },
  {
   "cell_type": "code",
   "execution_count": null,
   "id": "standing-witness",
   "metadata": {},
   "outputs": [],
   "source": []
  }
 ],
 "metadata": {
  "kernelspec": {
   "display_name": "Python 3",
   "language": "python",
   "name": "python3"
  },
  "language_info": {
   "codemirror_mode": {
    "name": "ipython",
    "version": 3
   },
   "file_extension": ".py",
   "mimetype": "text/x-python",
   "name": "python",
   "nbconvert_exporter": "python",
   "pygments_lexer": "ipython3",
   "version": "3.8.8"
  },
  "toc": {
   "base_numbering": 1,
   "nav_menu": {},
   "number_sections": true,
   "sideBar": true,
   "skip_h1_title": false,
   "title_cell": "Table of Contents",
   "title_sidebar": "Contents",
   "toc_cell": false,
   "toc_position": {
    "height": "calc(100% - 180px)",
    "left": "10px",
    "top": "150px",
    "width": "207.594px"
   },
   "toc_section_display": true,
   "toc_window_display": true
  }
 },
 "nbformat": 4,
 "nbformat_minor": 5
}
