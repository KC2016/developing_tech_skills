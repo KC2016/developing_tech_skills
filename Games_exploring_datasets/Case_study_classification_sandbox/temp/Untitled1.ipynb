{
 "cells": [
  {
   "cell_type": "markdown",
   "id": "related-heather",
   "metadata": {},
   "source": [
    "# Table of contents"
   ]
  },
  {
   "cell_type": "markdown",
   "id": "light-makeup",
   "metadata": {},
   "source": [
    " teste"
   ]
  },
  {
   "cell_type": "markdown",
   "id": "arranged-tackle",
   "metadata": {},
   "source": [
    "mhghg"
   ]
  },
  {
   "cell_type": "markdown",
   "id": "charged-public",
   "metadata": {},
   "source": [
    "# teste"
   ]
  },
  {
   "cell_type": "code",
   "execution_count": null,
   "id": "periodic-cheat",
   "metadata": {},
   "outputs": [],
   "source": []
  },
  {
   "cell_type": "code",
   "execution_count": null,
   "id": "northern-bread",
   "metadata": {},
   "outputs": [],
   "source": []
  }
 ],
 "metadata": {
  "kernelspec": {
   "display_name": "Python 3",
   "language": "python",
   "name": "python3"
  },
  "language_info": {
   "codemirror_mode": {
    "name": "ipython",
    "version": 3
   },
   "file_extension": ".py",
   "mimetype": "text/x-python",
   "name": "python",
   "nbconvert_exporter": "python",
   "pygments_lexer": "ipython3",
   "version": "3.8.8"
  },
  "toc": {
   "base_numbering": 1,
   "nav_menu": {},
   "number_sections": true,
   "sideBar": true,
   "skip_h1_title": false,
   "title_cell": "Table of Contents",
   "title_sidebar": "Contents",
   "toc_cell": false,
   "toc_position": {
    "height": "calc(100% - 180px)",
    "left": "10px",
    "top": "150px",
    "width": "336px"
   },
   "toc_section_display": true,
   "toc_window_display": true
  }
 },
 "nbformat": 4,
 "nbformat_minor": 5
}
