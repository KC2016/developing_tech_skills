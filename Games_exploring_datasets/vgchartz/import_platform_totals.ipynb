{
 "cells": [
  {
   "cell_type": "code",
   "execution_count": 1,
   "metadata": {
    "id": "a_fDLF9SA_m5"
   },
   "outputs": [],
   "source": [
    "import pandas as pd\n"
   ]
  },
  {
   "cell_type": "code",
   "execution_count": 5,
   "metadata": {
    "colab": {
     "base_uri": "https://localhost:8080/",
     "height": 405
    },
    "id": "TE6tv8RLBDXu",
    "outputId": "450a2cd9-4c97-4a7a-a682-15c5f309776f"
   },
   "outputs": [
    {
     "name": "stdout",
     "output_type": "stream",
     "text": [
      "    Pos                                    Platform  North America  Europe  \\\n",
      "0     1                         PlayStation 2 (PS2)          53.65   55.28   \n",
      "1     2                            Nintendo DS (DS)          57.39   52.07   \n",
      "2     3                               Game Boy (GB)          43.18   40.05   \n",
      "3     4                         PlayStation 4 (PS4)          37.74   47.80   \n",
      "4     5                            PlayStation (PS)          40.78   31.09   \n",
      "5     6                                   Wii (Wii)          45.51   33.88   \n",
      "6     7                         PlayStation 3 (PS3)          29.42   34.99   \n",
      "7     8                             Xbox 360 (X360)          49.11   25.87   \n",
      "8     9                      Game Boy Advance (GBA)          40.39   21.31   \n",
      "9    10                  PlayStation Portable (PSP)          21.41   24.41   \n",
      "10   11                          Nintendo 3DS (3DS)          25.76   21.06   \n",
      "11   12                        Nintendo Switch (NS)          27.75   19.42   \n",
      "12   13         Nintendo Entertainment System (NES)          33.49    8.30   \n",
      "13   14  Super Nintendo Entertainment System (SNES)          22.88    8.15   \n",
      "14   15                             Xbox One (XOne)          31.75   12.22   \n",
      "15   16                           Nintendo 64 (N64)          20.11    6.35   \n",
      "16   17                          Sega Genesis (GEN)          16.98    8.39   \n",
      "17   18                           Atari 2600 (2600)          23.54    3.35   \n",
      "18   19                                   Xbox (XB)          15.77    7.17   \n",
      "19   20                               GameCube (GC)          12.55    4.44   \n",
      "20   21                      PlayStation Vita (PSV)           2.64    5.24   \n",
      "21   22                                Wii U (WiiU)           6.23    3.54   \n",
      "22   23                               GameGear (GG)           5.40    3.23   \n",
      "23   24                           Sega Saturn (SAT)           1.83    1.12   \n",
      "24   25                              Dreamcast (DC)           3.90    1.91   \n",
      "25   26                           Atari 7800 (7800)           4.30    0.00   \n",
      "26   27                         PlayStation 5 (PS5)           1.68    1.30   \n",
      "27   28                        Xbox Series X/S (XS)           1.21    0.59   \n",
      "28   29                             WonderSwan (WS)           0.00    0.00   \n",
      "29   30                                   iOS (iOS)           0.00    0.00   \n",
      "30   31                      Microsoft Windows (PC)           0.00    0.00   \n",
      "31   32                               Sega CD (SCD)           0.00    0.00   \n",
      "32   33                                PC-FX (PCFX)           0.00    0.00   \n",
      "33   34                                Neo Geo (NG)           0.00    0.00   \n",
      "34   35           3DO Interactive Multiplayer (3DO)           0.00    0.00   \n",
      "35   36                        TurboGrafx-16 (TG16)           0.00    0.00   \n",
      "\n",
      "    Japan  Rest of World  Global  \n",
      "0   23.18          25.57  157.68  \n",
      "1   33.01          12.43  154.90  \n",
      "2   32.47           2.99  118.69  \n",
      "3    9.27          19.82  114.63  \n",
      "4   21.59           9.04  102.50  \n",
      "5   12.77           9.48  101.64  \n",
      "6   10.47          12.53   87.41  \n",
      "7    1.66           9.16   85.80  \n",
      "8   16.96           2.85   81.51  \n",
      "9   20.01          15.26   81.09  \n",
      "10  24.64           4.43   75.89  \n",
      "11  16.86           9.55   73.58  \n",
      "12  19.35           0.77   61.91  \n",
      "13  17.17           0.90   49.10  \n",
      "14   0.12           4.96   49.05  \n",
      "15   5.54           0.93   32.93  \n",
      "16   3.58           0.59   29.54  \n",
      "17   0.00           0.75   27.64  \n",
      "18   0.53           1.18   24.65  \n",
      "19   4.04           0.71   21.74  \n",
      "20   5.92           2.41   16.21  \n",
      "21   3.33           0.87   13.97  \n",
      "22   1.78           0.21   10.62  \n",
      "23   5.80           0.07    8.82  \n",
      "24   2.25           0.14    8.20  \n",
      "25   0.00           0.00    4.30  \n",
      "26   0.23           0.53    3.74  \n",
      "27   0.03           0.17    2.00  \n",
      "28   1.12           0.00    1.12  \n",
      "29   0.00           0.00    0.00  \n",
      "30   0.00           0.00    0.00  \n",
      "31   0.00           0.00    0.00  \n",
      "32   0.00           0.00    0.00  \n",
      "33   0.00           0.00    0.00  \n",
      "34   0.00           0.00    0.00  \n",
      "35   0.00           0.00    0.00  \n"
     ]
    }
   ],
   "source": [
    "platforms = pd.read_csv('../01-games/platform_totals.csv')\n",
    "\n",
    "print(platforms)"
   ]
  },
  {
   "cell_type": "code",
   "execution_count": null,
   "metadata": {
    "colab": {
     "base_uri": "https://localhost:8080/",
     "height": 196
    },
    "id": "oKyZ3i64CmvM",
    "outputId": "57c6f636-b769-4433-9624-e0464bfb8a12"
   },
   "outputs": [],
   "source": []
  },
  {
   "cell_type": "code",
   "execution_count": null,
   "metadata": {},
   "outputs": [],
   "source": []
  }
 ],
 "metadata": {
  "colab": {
   "collapsed_sections": [],
   "name": "Untitled9.ipynb",
   "provenance": []
  },
  "kernelspec": {
   "display_name": "Python 3",
   "language": "python",
   "name": "python3"
  },
  "language_info": {
   "codemirror_mode": {
    "name": "ipython",
    "version": 3
   },
   "file_extension": ".py",
   "mimetype": "text/x-python",
   "name": "python",
   "nbconvert_exporter": "python",
   "pygments_lexer": "ipython3",
   "version": "3.6.10"
  }
 },
 "nbformat": 4,
 "nbformat_minor": 1
}
