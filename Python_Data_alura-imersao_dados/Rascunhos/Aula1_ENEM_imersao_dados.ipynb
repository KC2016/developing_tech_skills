{
  "nbformat": 4,
  "nbformat_minor": 0,
  "metadata": {
    "colab": {
      "name": "Aula1-ENEM-imersao_dados.ipynb",
      "provenance": [],
      "collapsed_sections": []
    },
    "kernelspec": {
      "name": "python3",
      "display_name": "Python 3"
    }
  },
  "cells": [
    {
      "cell_type": "markdown",
      "metadata": {
        "id": "IjvqbxPgOrKf"
      },
      "source": [
        "# KARINA CONDEIXA\n",
        "\n",
        "# Imersao dados - Alura\n"
      ]
    },
    {
      "cell_type": "markdown",
      "metadata": {
        "id": "waSt7ghgkt44"
      },
      "source": [
        "## AULA 1 \n",
        "video https://www.alura.com.br/imersao-dados/aula01-educacao-no-brasil"
      ]
    },
    {
      "cell_type": "code",
      "metadata": {
        "id": "9_cRZY8wvAmc"
      },
      "source": [
        "import pandas as pd\n",
        "\n",
        "import matplotlib.pyplot as plt\n",
        "from matplotlib.ticker import EngFormatter  \n",
        "from matplotlib.ticker import PercentFormatter\n",
        "%matplotlib inline\n",
        "import seaborn as sb"
      ],
      "execution_count": null,
      "outputs": []
    },
    {
      "cell_type": "code",
      "metadata": {
        "id": "PdMH4iZHvcaU"
      },
      "source": [
        "fonte = 'https://raw.githubusercontent.com/alura-cursos/imersao-dados-2-2020/master/MICRODADOS_ENEM_2019_SAMPLE_43278.csv'"
      ],
      "execution_count": null,
      "outputs": []
    },
    {
      "cell_type": "code",
      "metadata": {
        "id": "LkQ2V0ECvcqp"
      },
      "source": [
        "dados = pd.read_csv(fonte)"
      ],
      "execution_count": null,
      "outputs": []
    },
    {
      "cell_type": "code",
      "metadata": {
        "id": "M9KCPTMFvctX",
        "outputId": "eba7e72a-7ceb-4fdf-8292-9824ad257ed3",
        "colab": {
          "base_uri": "https://localhost:8080/",
          "height": 247
        }
      },
      "source": [
        "dados.head()  # dataframe"
      ],
      "execution_count": null,
      "outputs": [
        {
          "output_type": "execute_result",
          "data": {
            "text/html": [
              "<div>\n",
              "<style scoped>\n",
              "    .dataframe tbody tr th:only-of-type {\n",
              "        vertical-align: middle;\n",
              "    }\n",
              "\n",
              "    .dataframe tbody tr th {\n",
              "        vertical-align: top;\n",
              "    }\n",
              "\n",
              "    .dataframe thead th {\n",
              "        text-align: right;\n",
              "    }\n",
              "</style>\n",
              "<table border=\"1\" class=\"dataframe\">\n",
              "  <thead>\n",
              "    <tr style=\"text-align: right;\">\n",
              "      <th></th>\n",
              "      <th>NU_INSCRICAO</th>\n",
              "      <th>NU_ANO</th>\n",
              "      <th>CO_MUNICIPIO_RESIDENCIA</th>\n",
              "      <th>NO_MUNICIPIO_RESIDENCIA</th>\n",
              "      <th>CO_UF_RESIDENCIA</th>\n",
              "      <th>SG_UF_RESIDENCIA</th>\n",
              "      <th>NU_IDADE</th>\n",
              "      <th>TP_SEXO</th>\n",
              "      <th>TP_ESTADO_CIVIL</th>\n",
              "      <th>TP_COR_RACA</th>\n",
              "      <th>TP_NACIONALIDADE</th>\n",
              "      <th>CO_MUNICIPIO_NASCIMENTO</th>\n",
              "      <th>NO_MUNICIPIO_NASCIMENTO</th>\n",
              "      <th>CO_UF_NASCIMENTO</th>\n",
              "      <th>SG_UF_NASCIMENTO</th>\n",
              "      <th>TP_ST_CONCLUSAO</th>\n",
              "      <th>TP_ANO_CONCLUIU</th>\n",
              "      <th>TP_ESCOLA</th>\n",
              "      <th>TP_ENSINO</th>\n",
              "      <th>IN_TREINEIRO</th>\n",
              "      <th>CO_ESCOLA</th>\n",
              "      <th>CO_MUNICIPIO_ESC</th>\n",
              "      <th>NO_MUNICIPIO_ESC</th>\n",
              "      <th>CO_UF_ESC</th>\n",
              "      <th>SG_UF_ESC</th>\n",
              "      <th>TP_DEPENDENCIA_ADM_ESC</th>\n",
              "      <th>TP_LOCALIZACAO_ESC</th>\n",
              "      <th>TP_SIT_FUNC_ESC</th>\n",
              "      <th>IN_BAIXA_VISAO</th>\n",
              "      <th>IN_CEGUEIRA</th>\n",
              "      <th>IN_SURDEZ</th>\n",
              "      <th>IN_DEFICIENCIA_AUDITIVA</th>\n",
              "      <th>IN_SURDO_CEGUEIRA</th>\n",
              "      <th>IN_DEFICIENCIA_FISICA</th>\n",
              "      <th>IN_DEFICIENCIA_MENTAL</th>\n",
              "      <th>IN_DEFICIT_ATENCAO</th>\n",
              "      <th>IN_DISLEXIA</th>\n",
              "      <th>IN_DISCALCULIA</th>\n",
              "      <th>IN_AUTISMO</th>\n",
              "      <th>IN_VISAO_MONOCULAR</th>\n",
              "      <th>...</th>\n",
              "      <th>TX_RESPOSTAS_CH</th>\n",
              "      <th>TX_RESPOSTAS_LC</th>\n",
              "      <th>TX_RESPOSTAS_MT</th>\n",
              "      <th>TP_LINGUA</th>\n",
              "      <th>TX_GABARITO_CN</th>\n",
              "      <th>TX_GABARITO_CH</th>\n",
              "      <th>TX_GABARITO_LC</th>\n",
              "      <th>TX_GABARITO_MT</th>\n",
              "      <th>TP_STATUS_REDACAO</th>\n",
              "      <th>NU_NOTA_COMP1</th>\n",
              "      <th>NU_NOTA_COMP2</th>\n",
              "      <th>NU_NOTA_COMP3</th>\n",
              "      <th>NU_NOTA_COMP4</th>\n",
              "      <th>NU_NOTA_COMP5</th>\n",
              "      <th>NU_NOTA_REDACAO</th>\n",
              "      <th>Q001</th>\n",
              "      <th>Q002</th>\n",
              "      <th>Q003</th>\n",
              "      <th>Q004</th>\n",
              "      <th>Q005</th>\n",
              "      <th>Q006</th>\n",
              "      <th>Q007</th>\n",
              "      <th>Q008</th>\n",
              "      <th>Q009</th>\n",
              "      <th>Q010</th>\n",
              "      <th>Q011</th>\n",
              "      <th>Q012</th>\n",
              "      <th>Q013</th>\n",
              "      <th>Q014</th>\n",
              "      <th>Q015</th>\n",
              "      <th>Q016</th>\n",
              "      <th>Q017</th>\n",
              "      <th>Q018</th>\n",
              "      <th>Q019</th>\n",
              "      <th>Q020</th>\n",
              "      <th>Q021</th>\n",
              "      <th>Q022</th>\n",
              "      <th>Q023</th>\n",
              "      <th>Q024</th>\n",
              "      <th>Q025</th>\n",
              "    </tr>\n",
              "  </thead>\n",
              "  <tbody>\n",
              "    <tr>\n",
              "      <th>0</th>\n",
              "      <td>190001004661</td>\n",
              "      <td>2019</td>\n",
              "      <td>1506138</td>\n",
              "      <td>Redenção</td>\n",
              "      <td>15</td>\n",
              "      <td>PA</td>\n",
              "      <td>17</td>\n",
              "      <td>M</td>\n",
              "      <td>1</td>\n",
              "      <td>3</td>\n",
              "      <td>1</td>\n",
              "      <td>1506138.0</td>\n",
              "      <td>Redenção</td>\n",
              "      <td>15.0</td>\n",
              "      <td>PA</td>\n",
              "      <td>3</td>\n",
              "      <td>0</td>\n",
              "      <td>1</td>\n",
              "      <td>NaN</td>\n",
              "      <td>1</td>\n",
              "      <td>NaN</td>\n",
              "      <td>NaN</td>\n",
              "      <td>NaN</td>\n",
              "      <td>NaN</td>\n",
              "      <td>NaN</td>\n",
              "      <td>NaN</td>\n",
              "      <td>NaN</td>\n",
              "      <td>NaN</td>\n",
              "      <td>0</td>\n",
              "      <td>0</td>\n",
              "      <td>0</td>\n",
              "      <td>0</td>\n",
              "      <td>0</td>\n",
              "      <td>0</td>\n",
              "      <td>0</td>\n",
              "      <td>0</td>\n",
              "      <td>0</td>\n",
              "      <td>0</td>\n",
              "      <td>0</td>\n",
              "      <td>0</td>\n",
              "      <td>...</td>\n",
              "      <td>ACAEAAACABEBABAADCEEEDE*CBDCCCADADCCCBEBBBBDB</td>\n",
              "      <td>99999CCCABBCAADDBCEBCCADBEEBDECBAABDEACACAEABB...</td>\n",
              "      <td>DEEDCAECDDEEECBCBECABEBAECBBCDAECAEBBBBBDCCDB</td>\n",
              "      <td>1</td>\n",
              "      <td>DEADBAAAEBEECEBCBCBCBDADAEABCEDDDDADCBEECACBC</td>\n",
              "      <td>ACACEEBCCBABADBBBACDBBACCCCADCEBADCBEEDBBEADB</td>\n",
              "      <td>EBBADCABDABACBCEBDEEAAADDBECDECDDBADBCDAAECBCC...</td>\n",
              "      <td>AADDDBEEEBEDDBEBACABCDBABECECACAECDCBDCCEDCDA</td>\n",
              "      <td>1.0</td>\n",
              "      <td>60.0</td>\n",
              "      <td>100.0</td>\n",
              "      <td>80.0</td>\n",
              "      <td>80.0</td>\n",
              "      <td>100.0</td>\n",
              "      <td>420.0</td>\n",
              "      <td>B</td>\n",
              "      <td>B</td>\n",
              "      <td>A</td>\n",
              "      <td>A</td>\n",
              "      <td>4</td>\n",
              "      <td>B</td>\n",
              "      <td>A</td>\n",
              "      <td>C</td>\n",
              "      <td>B</td>\n",
              "      <td>A</td>\n",
              "      <td>C</td>\n",
              "      <td>B</td>\n",
              "      <td>A</td>\n",
              "      <td>A</td>\n",
              "      <td>A</td>\n",
              "      <td>A</td>\n",
              "      <td>A</td>\n",
              "      <td>A</td>\n",
              "      <td>A</td>\n",
              "      <td>B</td>\n",
              "      <td>A</td>\n",
              "      <td>C</td>\n",
              "      <td>A</td>\n",
              "      <td>B</td>\n",
              "      <td>B</td>\n",
              "    </tr>\n",
              "    <tr>\n",
              "      <th>1</th>\n",
              "      <td>190001004674</td>\n",
              "      <td>2019</td>\n",
              "      <td>1504208</td>\n",
              "      <td>Marabá</td>\n",
              "      <td>15</td>\n",
              "      <td>PA</td>\n",
              "      <td>23</td>\n",
              "      <td>M</td>\n",
              "      <td>1</td>\n",
              "      <td>3</td>\n",
              "      <td>1</td>\n",
              "      <td>1504208.0</td>\n",
              "      <td>Marabá</td>\n",
              "      <td>15.0</td>\n",
              "      <td>PA</td>\n",
              "      <td>1</td>\n",
              "      <td>3</td>\n",
              "      <td>1</td>\n",
              "      <td>1.0</td>\n",
              "      <td>0</td>\n",
              "      <td>NaN</td>\n",
              "      <td>NaN</td>\n",
              "      <td>NaN</td>\n",
              "      <td>NaN</td>\n",
              "      <td>NaN</td>\n",
              "      <td>NaN</td>\n",
              "      <td>NaN</td>\n",
              "      <td>NaN</td>\n",
              "      <td>0</td>\n",
              "      <td>0</td>\n",
              "      <td>0</td>\n",
              "      <td>0</td>\n",
              "      <td>0</td>\n",
              "      <td>0</td>\n",
              "      <td>0</td>\n",
              "      <td>0</td>\n",
              "      <td>0</td>\n",
              "      <td>0</td>\n",
              "      <td>0</td>\n",
              "      <td>0</td>\n",
              "      <td>...</td>\n",
              "      <td>ABBCEADCEBAAACACEDCDCDACCCACDCBCABCAACBDBDEDE</td>\n",
              "      <td>99999ABCEBCEDDECEEEBBCCEECCABDABEEBCDEAEBBEAEA...</td>\n",
              "      <td>NaN</td>\n",
              "      <td>1</td>\n",
              "      <td>NaN</td>\n",
              "      <td>CBABADBBCEEEBCBADCBEEDBBEADBBACDBBACCCCADACAC</td>\n",
              "      <td>BBEDABDACACBABAECBBCCADCEBDBBCDDEEAAADDBECDECA...</td>\n",
              "      <td>NaN</td>\n",
              "      <td>1.0</td>\n",
              "      <td>80.0</td>\n",
              "      <td>100.0</td>\n",
              "      <td>80.0</td>\n",
              "      <td>80.0</td>\n",
              "      <td>60.0</td>\n",
              "      <td>400.0</td>\n",
              "      <td>C</td>\n",
              "      <td>C</td>\n",
              "      <td>A</td>\n",
              "      <td>A</td>\n",
              "      <td>4</td>\n",
              "      <td>B</td>\n",
              "      <td>A</td>\n",
              "      <td>B</td>\n",
              "      <td>C</td>\n",
              "      <td>A</td>\n",
              "      <td>A</td>\n",
              "      <td>B</td>\n",
              "      <td>B</td>\n",
              "      <td>B</td>\n",
              "      <td>A</td>\n",
              "      <td>A</td>\n",
              "      <td>A</td>\n",
              "      <td>A</td>\n",
              "      <td>B</td>\n",
              "      <td>A</td>\n",
              "      <td>A</td>\n",
              "      <td>B</td>\n",
              "      <td>A</td>\n",
              "      <td>A</td>\n",
              "      <td>B</td>\n",
              "    </tr>\n",
              "    <tr>\n",
              "      <th>2</th>\n",
              "      <td>190001004722</td>\n",
              "      <td>2019</td>\n",
              "      <td>1501402</td>\n",
              "      <td>Belém</td>\n",
              "      <td>15</td>\n",
              "      <td>PA</td>\n",
              "      <td>35</td>\n",
              "      <td>F</td>\n",
              "      <td>2</td>\n",
              "      <td>1</td>\n",
              "      <td>1</td>\n",
              "      <td>1501402.0</td>\n",
              "      <td>Belém</td>\n",
              "      <td>15.0</td>\n",
              "      <td>PA</td>\n",
              "      <td>1</td>\n",
              "      <td>12</td>\n",
              "      <td>1</td>\n",
              "      <td>1.0</td>\n",
              "      <td>0</td>\n",
              "      <td>NaN</td>\n",
              "      <td>NaN</td>\n",
              "      <td>NaN</td>\n",
              "      <td>NaN</td>\n",
              "      <td>NaN</td>\n",
              "      <td>NaN</td>\n",
              "      <td>NaN</td>\n",
              "      <td>NaN</td>\n",
              "      <td>0</td>\n",
              "      <td>0</td>\n",
              "      <td>0</td>\n",
              "      <td>0</td>\n",
              "      <td>0</td>\n",
              "      <td>0</td>\n",
              "      <td>0</td>\n",
              "      <td>0</td>\n",
              "      <td>0</td>\n",
              "      <td>0</td>\n",
              "      <td>0</td>\n",
              "      <td>0</td>\n",
              "      <td>...</td>\n",
              "      <td>CDCAACCAAADEACBBEBAAEECDABDEBAEAABEDCABABAABC</td>\n",
              "      <td>99999ECBCECEBBABECCCECECCEECCDECEEEDADDDDECEDD...</td>\n",
              "      <td>DDBEADEBBCADCEEACABECBCEBADECADCEDAACBDABABCE</td>\n",
              "      <td>1</td>\n",
              "      <td>AAECACDEADCBCDDDBCBDADAEABCEBABEEBCBEECEBDADC</td>\n",
              "      <td>CBABADBBCEEEBCBADCBEEDBBEADBBACDBBACCCCADACAC</td>\n",
              "      <td>BBEDABDACACBABAECBBCCADCEBDBBCDDEEAAADDBECDECA...</td>\n",
              "      <td>EEEADBEBACABCDBABECECACDCBDCCEDCDABEDECDDDBAA</td>\n",
              "      <td>1.0</td>\n",
              "      <td>100.0</td>\n",
              "      <td>120.0</td>\n",
              "      <td>120.0</td>\n",
              "      <td>100.0</td>\n",
              "      <td>120.0</td>\n",
              "      <td>560.0</td>\n",
              "      <td>C</td>\n",
              "      <td>A</td>\n",
              "      <td>B</td>\n",
              "      <td>B</td>\n",
              "      <td>5</td>\n",
              "      <td>C</td>\n",
              "      <td>A</td>\n",
              "      <td>B</td>\n",
              "      <td>C</td>\n",
              "      <td>A</td>\n",
              "      <td>A</td>\n",
              "      <td>B</td>\n",
              "      <td>A</td>\n",
              "      <td>B</td>\n",
              "      <td>A</td>\n",
              "      <td>A</td>\n",
              "      <td>A</td>\n",
              "      <td>A</td>\n",
              "      <td>B</td>\n",
              "      <td>A</td>\n",
              "      <td>B</td>\n",
              "      <td>B</td>\n",
              "      <td>A</td>\n",
              "      <td>A</td>\n",
              "      <td>B</td>\n",
              "    </tr>\n",
              "    <tr>\n",
              "      <th>3</th>\n",
              "      <td>190001004735</td>\n",
              "      <td>2019</td>\n",
              "      <td>1507300</td>\n",
              "      <td>São Félix do Xingu</td>\n",
              "      <td>15</td>\n",
              "      <td>PA</td>\n",
              "      <td>23</td>\n",
              "      <td>F</td>\n",
              "      <td>1</td>\n",
              "      <td>3</td>\n",
              "      <td>1</td>\n",
              "      <td>1505437.0</td>\n",
              "      <td>Ourilândia do Norte</td>\n",
              "      <td>15.0</td>\n",
              "      <td>PA</td>\n",
              "      <td>1</td>\n",
              "      <td>7</td>\n",
              "      <td>1</td>\n",
              "      <td>NaN</td>\n",
              "      <td>0</td>\n",
              "      <td>NaN</td>\n",
              "      <td>NaN</td>\n",
              "      <td>NaN</td>\n",
              "      <td>NaN</td>\n",
              "      <td>NaN</td>\n",
              "      <td>NaN</td>\n",
              "      <td>NaN</td>\n",
              "      <td>NaN</td>\n",
              "      <td>0</td>\n",
              "      <td>0</td>\n",
              "      <td>0</td>\n",
              "      <td>0</td>\n",
              "      <td>0</td>\n",
              "      <td>0</td>\n",
              "      <td>0</td>\n",
              "      <td>0</td>\n",
              "      <td>0</td>\n",
              "      <td>0</td>\n",
              "      <td>0</td>\n",
              "      <td>0</td>\n",
              "      <td>...</td>\n",
              "      <td>EECCCEDBADBEAAAAEBAECEAAAAEEEBACCAC*CEAEDAECE</td>\n",
              "      <td>99999BABCDABBCBDDAAECADBDDADDCBCEEDCAEBCEAEABD...</td>\n",
              "      <td>CBDEBBCBDEBCABCDBDEDADCCBEDBCAECEBEBDEBAEECBC</td>\n",
              "      <td>1</td>\n",
              "      <td>BEEAAEBEEBADEADDADAEABCEDDDBCBCBCCACBCDADCCEB</td>\n",
              "      <td>EEBCEEDBADBBCBABCCADCEBACDBBACCACACBEADBBADCB</td>\n",
              "      <td>ADBBEDCABAABBCBCDAAECDDDBAAAECADECDCEBDEEAECBD...</td>\n",
              "      <td>BEDEEEAADBEBACABCDBABECECACADCBDCCEDCDABECDDD</td>\n",
              "      <td>1.0</td>\n",
              "      <td>100.0</td>\n",
              "      <td>120.0</td>\n",
              "      <td>120.0</td>\n",
              "      <td>120.0</td>\n",
              "      <td>40.0</td>\n",
              "      <td>500.0</td>\n",
              "      <td>E</td>\n",
              "      <td>C</td>\n",
              "      <td>A</td>\n",
              "      <td>A</td>\n",
              "      <td>1</td>\n",
              "      <td>B</td>\n",
              "      <td>A</td>\n",
              "      <td>B</td>\n",
              "      <td>C</td>\n",
              "      <td>A</td>\n",
              "      <td>A</td>\n",
              "      <td>B</td>\n",
              "      <td>A</td>\n",
              "      <td>A</td>\n",
              "      <td>A</td>\n",
              "      <td>A</td>\n",
              "      <td>A</td>\n",
              "      <td>A</td>\n",
              "      <td>B</td>\n",
              "      <td>A</td>\n",
              "      <td>A</td>\n",
              "      <td>B</td>\n",
              "      <td>A</td>\n",
              "      <td>A</td>\n",
              "      <td>B</td>\n",
              "    </tr>\n",
              "    <tr>\n",
              "      <th>4</th>\n",
              "      <td>190001004776</td>\n",
              "      <td>2019</td>\n",
              "      <td>1500800</td>\n",
              "      <td>Ananindeua</td>\n",
              "      <td>15</td>\n",
              "      <td>PA</td>\n",
              "      <td>16</td>\n",
              "      <td>F</td>\n",
              "      <td>1</td>\n",
              "      <td>3</td>\n",
              "      <td>1</td>\n",
              "      <td>1500800.0</td>\n",
              "      <td>Ananindeua</td>\n",
              "      <td>15.0</td>\n",
              "      <td>PA</td>\n",
              "      <td>3</td>\n",
              "      <td>0</td>\n",
              "      <td>1</td>\n",
              "      <td>NaN</td>\n",
              "      <td>1</td>\n",
              "      <td>NaN</td>\n",
              "      <td>NaN</td>\n",
              "      <td>NaN</td>\n",
              "      <td>NaN</td>\n",
              "      <td>NaN</td>\n",
              "      <td>NaN</td>\n",
              "      <td>NaN</td>\n",
              "      <td>NaN</td>\n",
              "      <td>0</td>\n",
              "      <td>0</td>\n",
              "      <td>0</td>\n",
              "      <td>0</td>\n",
              "      <td>0</td>\n",
              "      <td>0</td>\n",
              "      <td>0</td>\n",
              "      <td>0</td>\n",
              "      <td>0</td>\n",
              "      <td>0</td>\n",
              "      <td>0</td>\n",
              "      <td>0</td>\n",
              "      <td>...</td>\n",
              "      <td>CCBCBEACABACABBBBACCBCEBDCBABCADADCBCADBAADEA</td>\n",
              "      <td>EBCAB99999BBCECBCACBEACBDAABDBCBBDACEBBACDCAEC...</td>\n",
              "      <td>AECCBBCBBCBDEDECACBAABEDABBEDDADCEADDBEBDBBEB</td>\n",
              "      <td>0</td>\n",
              "      <td>DEADBAAAEBEECEBCBCBCBDADAEABCEDDDDADCBEECACBC</td>\n",
              "      <td>ACACEEBCCBABADBBBACDBBACCCCADCEBADCBEEDBBEADB</td>\n",
              "      <td>EBBADCABDABACBCEBDEEAAADDBECDECDDBADBCDAAECBCC...</td>\n",
              "      <td>AADDDBEEEBEDDBEBACABCDBABECECACAECDCBDCCEDCDA</td>\n",
              "      <td>1.0</td>\n",
              "      <td>160.0</td>\n",
              "      <td>140.0</td>\n",
              "      <td>160.0</td>\n",
              "      <td>160.0</td>\n",
              "      <td>160.0</td>\n",
              "      <td>780.0</td>\n",
              "      <td>E</td>\n",
              "      <td>E</td>\n",
              "      <td>B</td>\n",
              "      <td>D</td>\n",
              "      <td>3</td>\n",
              "      <td>E</td>\n",
              "      <td>A</td>\n",
              "      <td>B</td>\n",
              "      <td>C</td>\n",
              "      <td>B</td>\n",
              "      <td>A</td>\n",
              "      <td>B</td>\n",
              "      <td>A</td>\n",
              "      <td>A</td>\n",
              "      <td>A</td>\n",
              "      <td>A</td>\n",
              "      <td>A</td>\n",
              "      <td>A</td>\n",
              "      <td>B</td>\n",
              "      <td>A</td>\n",
              "      <td>A</td>\n",
              "      <td>D</td>\n",
              "      <td>A</td>\n",
              "      <td>A</td>\n",
              "      <td>B</td>\n",
              "    </tr>\n",
              "  </tbody>\n",
              "</table>\n",
              "<p>5 rows × 136 columns</p>\n",
              "</div>"
            ],
            "text/plain": [
              "   NU_INSCRICAO  NU_ANO  CO_MUNICIPIO_RESIDENCIA  ... Q023  Q024 Q025\n",
              "0  190001004661    2019                  1506138  ...    A     B    B\n",
              "1  190001004674    2019                  1504208  ...    A     A    B\n",
              "2  190001004722    2019                  1501402  ...    A     A    B\n",
              "3  190001004735    2019                  1507300  ...    A     A    B\n",
              "4  190001004776    2019                  1500800  ...    A     A    B\n",
              "\n",
              "[5 rows x 136 columns]"
            ]
          },
          "metadata": {
            "tags": []
          },
          "execution_count": 381
        }
      ]
    },
    {
      "cell_type": "code",
      "metadata": {
        "id": "H4OFbiMTQH75",
        "outputId": "6bac48d4-4c07-440f-8d05-e7654c70eb8d",
        "colab": {
          "base_uri": "https://localhost:8080/",
          "height": 247
        }
      },
      "source": [
        "dados.tail()  # inclui"
      ],
      "execution_count": null,
      "outputs": [
        {
          "output_type": "execute_result",
          "data": {
            "text/html": [
              "<div>\n",
              "<style scoped>\n",
              "    .dataframe tbody tr th:only-of-type {\n",
              "        vertical-align: middle;\n",
              "    }\n",
              "\n",
              "    .dataframe tbody tr th {\n",
              "        vertical-align: top;\n",
              "    }\n",
              "\n",
              "    .dataframe thead th {\n",
              "        text-align: right;\n",
              "    }\n",
              "</style>\n",
              "<table border=\"1\" class=\"dataframe\">\n",
              "  <thead>\n",
              "    <tr style=\"text-align: right;\">\n",
              "      <th></th>\n",
              "      <th>NU_INSCRICAO</th>\n",
              "      <th>NU_ANO</th>\n",
              "      <th>CO_MUNICIPIO_RESIDENCIA</th>\n",
              "      <th>NO_MUNICIPIO_RESIDENCIA</th>\n",
              "      <th>CO_UF_RESIDENCIA</th>\n",
              "      <th>SG_UF_RESIDENCIA</th>\n",
              "      <th>NU_IDADE</th>\n",
              "      <th>TP_SEXO</th>\n",
              "      <th>TP_ESTADO_CIVIL</th>\n",
              "      <th>TP_COR_RACA</th>\n",
              "      <th>TP_NACIONALIDADE</th>\n",
              "      <th>CO_MUNICIPIO_NASCIMENTO</th>\n",
              "      <th>NO_MUNICIPIO_NASCIMENTO</th>\n",
              "      <th>CO_UF_NASCIMENTO</th>\n",
              "      <th>SG_UF_NASCIMENTO</th>\n",
              "      <th>TP_ST_CONCLUSAO</th>\n",
              "      <th>TP_ANO_CONCLUIU</th>\n",
              "      <th>TP_ESCOLA</th>\n",
              "      <th>TP_ENSINO</th>\n",
              "      <th>IN_TREINEIRO</th>\n",
              "      <th>CO_ESCOLA</th>\n",
              "      <th>CO_MUNICIPIO_ESC</th>\n",
              "      <th>NO_MUNICIPIO_ESC</th>\n",
              "      <th>CO_UF_ESC</th>\n",
              "      <th>SG_UF_ESC</th>\n",
              "      <th>TP_DEPENDENCIA_ADM_ESC</th>\n",
              "      <th>TP_LOCALIZACAO_ESC</th>\n",
              "      <th>TP_SIT_FUNC_ESC</th>\n",
              "      <th>IN_BAIXA_VISAO</th>\n",
              "      <th>IN_CEGUEIRA</th>\n",
              "      <th>IN_SURDEZ</th>\n",
              "      <th>IN_DEFICIENCIA_AUDITIVA</th>\n",
              "      <th>IN_SURDO_CEGUEIRA</th>\n",
              "      <th>IN_DEFICIENCIA_FISICA</th>\n",
              "      <th>IN_DEFICIENCIA_MENTAL</th>\n",
              "      <th>IN_DEFICIT_ATENCAO</th>\n",
              "      <th>IN_DISLEXIA</th>\n",
              "      <th>IN_DISCALCULIA</th>\n",
              "      <th>IN_AUTISMO</th>\n",
              "      <th>IN_VISAO_MONOCULAR</th>\n",
              "      <th>...</th>\n",
              "      <th>TX_RESPOSTAS_CH</th>\n",
              "      <th>TX_RESPOSTAS_LC</th>\n",
              "      <th>TX_RESPOSTAS_MT</th>\n",
              "      <th>TP_LINGUA</th>\n",
              "      <th>TX_GABARITO_CN</th>\n",
              "      <th>TX_GABARITO_CH</th>\n",
              "      <th>TX_GABARITO_LC</th>\n",
              "      <th>TX_GABARITO_MT</th>\n",
              "      <th>TP_STATUS_REDACAO</th>\n",
              "      <th>NU_NOTA_COMP1</th>\n",
              "      <th>NU_NOTA_COMP2</th>\n",
              "      <th>NU_NOTA_COMP3</th>\n",
              "      <th>NU_NOTA_COMP4</th>\n",
              "      <th>NU_NOTA_COMP5</th>\n",
              "      <th>NU_NOTA_REDACAO</th>\n",
              "      <th>Q001</th>\n",
              "      <th>Q002</th>\n",
              "      <th>Q003</th>\n",
              "      <th>Q004</th>\n",
              "      <th>Q005</th>\n",
              "      <th>Q006</th>\n",
              "      <th>Q007</th>\n",
              "      <th>Q008</th>\n",
              "      <th>Q009</th>\n",
              "      <th>Q010</th>\n",
              "      <th>Q011</th>\n",
              "      <th>Q012</th>\n",
              "      <th>Q013</th>\n",
              "      <th>Q014</th>\n",
              "      <th>Q015</th>\n",
              "      <th>Q016</th>\n",
              "      <th>Q017</th>\n",
              "      <th>Q018</th>\n",
              "      <th>Q019</th>\n",
              "      <th>Q020</th>\n",
              "      <th>Q021</th>\n",
              "      <th>Q022</th>\n",
              "      <th>Q023</th>\n",
              "      <th>Q024</th>\n",
              "      <th>Q025</th>\n",
              "    </tr>\n",
              "  </thead>\n",
              "  <tbody>\n",
              "    <tr>\n",
              "      <th>127375</th>\n",
              "      <td>190006120035</td>\n",
              "      <td>2019</td>\n",
              "      <td>3142700</td>\n",
              "      <td>Montalvânia</td>\n",
              "      <td>31</td>\n",
              "      <td>MG</td>\n",
              "      <td>17</td>\n",
              "      <td>F</td>\n",
              "      <td>1</td>\n",
              "      <td>1</td>\n",
              "      <td>1</td>\n",
              "      <td>3142700.0</td>\n",
              "      <td>Montalvânia</td>\n",
              "      <td>31.0</td>\n",
              "      <td>MG</td>\n",
              "      <td>2</td>\n",
              "      <td>0</td>\n",
              "      <td>2</td>\n",
              "      <td>1.0</td>\n",
              "      <td>0</td>\n",
              "      <td>31062961.0</td>\n",
              "      <td>3142700.0</td>\n",
              "      <td>Montalvânia</td>\n",
              "      <td>31.0</td>\n",
              "      <td>MG</td>\n",
              "      <td>2.0</td>\n",
              "      <td>1.0</td>\n",
              "      <td>1.0</td>\n",
              "      <td>0</td>\n",
              "      <td>0</td>\n",
              "      <td>0</td>\n",
              "      <td>0</td>\n",
              "      <td>0</td>\n",
              "      <td>0</td>\n",
              "      <td>0</td>\n",
              "      <td>0</td>\n",
              "      <td>0</td>\n",
              "      <td>0</td>\n",
              "      <td>0</td>\n",
              "      <td>0</td>\n",
              "      <td>...</td>\n",
              "      <td>CEDCCBDBBCBEABACEBABCAEBCDBBDCCACBBBEEEDDBDCB</td>\n",
              "      <td>99999CBDAEABCEBACACECBDBEDABECBDECACCEBEDAACEA...</td>\n",
              "      <td>CBBCABEACDDDCDEEADCBEDEBECEEBCADAABCBDCDABAAD</td>\n",
              "      <td>1</td>\n",
              "      <td>DADCCEBBCCACBEEBEEBACBCDDDDADBCBBCEAEADEADAAE</td>\n",
              "      <td>EEBCEEDBADBBCBABCCADCEBACDBBACCACACBEADBBADCB</td>\n",
              "      <td>ADBBEDCABAABBCBCDAAECDDDBAAAECADECDCEBDEEAECBD...</td>\n",
              "      <td>DBEBACABCDBABECEEEDCBDCCEDCDABEDAADDDECACAECB</td>\n",
              "      <td>1.0</td>\n",
              "      <td>140.0</td>\n",
              "      <td>160.0</td>\n",
              "      <td>140.0</td>\n",
              "      <td>160.0</td>\n",
              "      <td>140.0</td>\n",
              "      <td>740.0</td>\n",
              "      <td>D</td>\n",
              "      <td>F</td>\n",
              "      <td>A</td>\n",
              "      <td>D</td>\n",
              "      <td>3</td>\n",
              "      <td>G</td>\n",
              "      <td>A</td>\n",
              "      <td>C</td>\n",
              "      <td>C</td>\n",
              "      <td>A</td>\n",
              "      <td>A</td>\n",
              "      <td>B</td>\n",
              "      <td>B</td>\n",
              "      <td>A</td>\n",
              "      <td>A</td>\n",
              "      <td>A</td>\n",
              "      <td>A</td>\n",
              "      <td>A</td>\n",
              "      <td>B</td>\n",
              "      <td>A</td>\n",
              "      <td>A</td>\n",
              "      <td>D</td>\n",
              "      <td>A</td>\n",
              "      <td>B</td>\n",
              "      <td>B</td>\n",
              "    </tr>\n",
              "    <tr>\n",
              "      <th>127376</th>\n",
              "      <td>190006120036</td>\n",
              "      <td>2019</td>\n",
              "      <td>2902807</td>\n",
              "      <td>Barra da Estiva</td>\n",
              "      <td>29</td>\n",
              "      <td>BA</td>\n",
              "      <td>18</td>\n",
              "      <td>M</td>\n",
              "      <td>1</td>\n",
              "      <td>2</td>\n",
              "      <td>1</td>\n",
              "      <td>2902807.0</td>\n",
              "      <td>Barra da Estiva</td>\n",
              "      <td>29.0</td>\n",
              "      <td>BA</td>\n",
              "      <td>2</td>\n",
              "      <td>0</td>\n",
              "      <td>2</td>\n",
              "      <td>1.0</td>\n",
              "      <td>0</td>\n",
              "      <td>29213592.0</td>\n",
              "      <td>2902807.0</td>\n",
              "      <td>Barra da Estiva</td>\n",
              "      <td>29.0</td>\n",
              "      <td>BA</td>\n",
              "      <td>2.0</td>\n",
              "      <td>1.0</td>\n",
              "      <td>1.0</td>\n",
              "      <td>0</td>\n",
              "      <td>0</td>\n",
              "      <td>0</td>\n",
              "      <td>0</td>\n",
              "      <td>0</td>\n",
              "      <td>0</td>\n",
              "      <td>0</td>\n",
              "      <td>0</td>\n",
              "      <td>0</td>\n",
              "      <td>0</td>\n",
              "      <td>0</td>\n",
              "      <td>0</td>\n",
              "      <td>...</td>\n",
              "      <td>CDABCDBADECCADDEDBBCBEBACCDDACEABDBCABECDDBBC</td>\n",
              "      <td>BCBAE99999BBCBDEEECAEDCEABECDEBBACBEAACCACADDB...</td>\n",
              "      <td>CADEBBCBABEDCCECEDBADCEEBABCBCBDEBCDAAEADBCEC</td>\n",
              "      <td>0</td>\n",
              "      <td>AAECACDEADCBCDDDBCBDADAEABCEBABEEBCBEECEBDADC</td>\n",
              "      <td>ACACEEBCCBABADBBBACDBBACCCCADCEBADCBEEDBBEADB</td>\n",
              "      <td>EBBADCABDABACBCEBDEEAAADDBECDECDDBADBCDAAECBCC...</td>\n",
              "      <td>EEEADBEBACABCDBABECECACDCBDCCEDCDABEDECDDDBAA</td>\n",
              "      <td>1.0</td>\n",
              "      <td>100.0</td>\n",
              "      <td>120.0</td>\n",
              "      <td>120.0</td>\n",
              "      <td>100.0</td>\n",
              "      <td>80.0</td>\n",
              "      <td>520.0</td>\n",
              "      <td>E</td>\n",
              "      <td>C</td>\n",
              "      <td>A</td>\n",
              "      <td>B</td>\n",
              "      <td>4</td>\n",
              "      <td>B</td>\n",
              "      <td>A</td>\n",
              "      <td>B</td>\n",
              "      <td>C</td>\n",
              "      <td>A</td>\n",
              "      <td>B</td>\n",
              "      <td>B</td>\n",
              "      <td>A</td>\n",
              "      <td>A</td>\n",
              "      <td>A</td>\n",
              "      <td>A</td>\n",
              "      <td>A</td>\n",
              "      <td>A</td>\n",
              "      <td>B</td>\n",
              "      <td>A</td>\n",
              "      <td>A</td>\n",
              "      <td>D</td>\n",
              "      <td>A</td>\n",
              "      <td>B</td>\n",
              "      <td>B</td>\n",
              "    </tr>\n",
              "    <tr>\n",
              "      <th>127377</th>\n",
              "      <td>190006120037</td>\n",
              "      <td>2019</td>\n",
              "      <td>2927408</td>\n",
              "      <td>Salvador</td>\n",
              "      <td>29</td>\n",
              "      <td>BA</td>\n",
              "      <td>22</td>\n",
              "      <td>F</td>\n",
              "      <td>1</td>\n",
              "      <td>3</td>\n",
              "      <td>1</td>\n",
              "      <td>2927408.0</td>\n",
              "      <td>Salvador</td>\n",
              "      <td>29.0</td>\n",
              "      <td>BA</td>\n",
              "      <td>1</td>\n",
              "      <td>1</td>\n",
              "      <td>1</td>\n",
              "      <td>NaN</td>\n",
              "      <td>0</td>\n",
              "      <td>NaN</td>\n",
              "      <td>NaN</td>\n",
              "      <td>NaN</td>\n",
              "      <td>NaN</td>\n",
              "      <td>NaN</td>\n",
              "      <td>NaN</td>\n",
              "      <td>NaN</td>\n",
              "      <td>NaN</td>\n",
              "      <td>0</td>\n",
              "      <td>0</td>\n",
              "      <td>0</td>\n",
              "      <td>0</td>\n",
              "      <td>0</td>\n",
              "      <td>0</td>\n",
              "      <td>0</td>\n",
              "      <td>0</td>\n",
              "      <td>0</td>\n",
              "      <td>0</td>\n",
              "      <td>0</td>\n",
              "      <td>0</td>\n",
              "      <td>...</td>\n",
              "      <td>ABDBEBBEBCAECEDBEDBDEDBDAAEEEBEDCDABCCCDBCCAE</td>\n",
              "      <td>99999CDCAAAEBBECACBCEACBDCAAEBDEEBDACDDDCBDCCA...</td>\n",
              "      <td>NaN</td>\n",
              "      <td>1</td>\n",
              "      <td>NaN</td>\n",
              "      <td>CBABADBBCEEEBCBADCBEEDBBEADBBACDBBACCCCADACAC</td>\n",
              "      <td>BBEDABDACACBABAECBBCCADCEBDBBCDDEEAAADDBECDECA...</td>\n",
              "      <td>NaN</td>\n",
              "      <td>1.0</td>\n",
              "      <td>80.0</td>\n",
              "      <td>120.0</td>\n",
              "      <td>100.0</td>\n",
              "      <td>80.0</td>\n",
              "      <td>60.0</td>\n",
              "      <td>440.0</td>\n",
              "      <td>H</td>\n",
              "      <td>E</td>\n",
              "      <td>F</td>\n",
              "      <td>B</td>\n",
              "      <td>1</td>\n",
              "      <td>B</td>\n",
              "      <td>A</td>\n",
              "      <td>B</td>\n",
              "      <td>B</td>\n",
              "      <td>A</td>\n",
              "      <td>A</td>\n",
              "      <td>B</td>\n",
              "      <td>A</td>\n",
              "      <td>A</td>\n",
              "      <td>A</td>\n",
              "      <td>A</td>\n",
              "      <td>A</td>\n",
              "      <td>A</td>\n",
              "      <td>A</td>\n",
              "      <td>A</td>\n",
              "      <td>A</td>\n",
              "      <td>B</td>\n",
              "      <td>A</td>\n",
              "      <td>A</td>\n",
              "      <td>B</td>\n",
              "    </tr>\n",
              "    <tr>\n",
              "      <th>127378</th>\n",
              "      <td>190006120060</td>\n",
              "      <td>2019</td>\n",
              "      <td>2930709</td>\n",
              "      <td>Simões Filho</td>\n",
              "      <td>29</td>\n",
              "      <td>BA</td>\n",
              "      <td>26</td>\n",
              "      <td>F</td>\n",
              "      <td>2</td>\n",
              "      <td>2</td>\n",
              "      <td>1</td>\n",
              "      <td>2927408.0</td>\n",
              "      <td>Salvador</td>\n",
              "      <td>29.0</td>\n",
              "      <td>BA</td>\n",
              "      <td>1</td>\n",
              "      <td>6</td>\n",
              "      <td>1</td>\n",
              "      <td>1.0</td>\n",
              "      <td>0</td>\n",
              "      <td>NaN</td>\n",
              "      <td>NaN</td>\n",
              "      <td>NaN</td>\n",
              "      <td>NaN</td>\n",
              "      <td>NaN</td>\n",
              "      <td>NaN</td>\n",
              "      <td>NaN</td>\n",
              "      <td>NaN</td>\n",
              "      <td>0</td>\n",
              "      <td>0</td>\n",
              "      <td>0</td>\n",
              "      <td>0</td>\n",
              "      <td>0</td>\n",
              "      <td>0</td>\n",
              "      <td>0</td>\n",
              "      <td>0</td>\n",
              "      <td>0</td>\n",
              "      <td>0</td>\n",
              "      <td>0</td>\n",
              "      <td>0</td>\n",
              "      <td>...</td>\n",
              "      <td>AEEECEDBBCCDDEEAABBCCDDEEABCDEAABBCCDD*AACCDE</td>\n",
              "      <td>99999AEACDABCCACCAEEDDDCDDADDAEAADCECABEBAEAEA...</td>\n",
              "      <td>AEBCAECDADEADDAECACACCECAECEEDACDBBDDAABBCCDE</td>\n",
              "      <td>1</td>\n",
              "      <td>DADCCEBBCCACBEEBEEBACBCDDDDADBCBBCEAEADEADAAE</td>\n",
              "      <td>EEBCEEDBADBBCBABCCADCEBACDBBACCACACBEADBBADCB</td>\n",
              "      <td>ADBBEDCABAABBCBCDAAECDDDBAAAECADECDCEBDEEAECBD...</td>\n",
              "      <td>DBEBACABCDBABECEEEDCBDCCEDCDABEDAADDDECACAECB</td>\n",
              "      <td>1.0</td>\n",
              "      <td>100.0</td>\n",
              "      <td>120.0</td>\n",
              "      <td>120.0</td>\n",
              "      <td>120.0</td>\n",
              "      <td>160.0</td>\n",
              "      <td>620.0</td>\n",
              "      <td>E</td>\n",
              "      <td>E</td>\n",
              "      <td>C</td>\n",
              "      <td>B</td>\n",
              "      <td>2</td>\n",
              "      <td>C</td>\n",
              "      <td>A</td>\n",
              "      <td>B</td>\n",
              "      <td>B</td>\n",
              "      <td>A</td>\n",
              "      <td>A</td>\n",
              "      <td>B</td>\n",
              "      <td>A</td>\n",
              "      <td>A</td>\n",
              "      <td>A</td>\n",
              "      <td>A</td>\n",
              "      <td>A</td>\n",
              "      <td>A</td>\n",
              "      <td>B</td>\n",
              "      <td>A</td>\n",
              "      <td>A</td>\n",
              "      <td>C</td>\n",
              "      <td>A</td>\n",
              "      <td>A</td>\n",
              "      <td>A</td>\n",
              "    </tr>\n",
              "    <tr>\n",
              "      <th>127379</th>\n",
              "      <td>190006120170</td>\n",
              "      <td>2019</td>\n",
              "      <td>3106200</td>\n",
              "      <td>Belo Horizonte</td>\n",
              "      <td>31</td>\n",
              "      <td>MG</td>\n",
              "      <td>19</td>\n",
              "      <td>M</td>\n",
              "      <td>1</td>\n",
              "      <td>2</td>\n",
              "      <td>1</td>\n",
              "      <td>3106200.0</td>\n",
              "      <td>Belo Horizonte</td>\n",
              "      <td>31.0</td>\n",
              "      <td>MG</td>\n",
              "      <td>2</td>\n",
              "      <td>0</td>\n",
              "      <td>2</td>\n",
              "      <td>1.0</td>\n",
              "      <td>0</td>\n",
              "      <td>NaN</td>\n",
              "      <td>NaN</td>\n",
              "      <td>NaN</td>\n",
              "      <td>NaN</td>\n",
              "      <td>NaN</td>\n",
              "      <td>NaN</td>\n",
              "      <td>NaN</td>\n",
              "      <td>NaN</td>\n",
              "      <td>0</td>\n",
              "      <td>0</td>\n",
              "      <td>0</td>\n",
              "      <td>0</td>\n",
              "      <td>0</td>\n",
              "      <td>0</td>\n",
              "      <td>0</td>\n",
              "      <td>0</td>\n",
              "      <td>0</td>\n",
              "      <td>0</td>\n",
              "      <td>0</td>\n",
              "      <td>0</td>\n",
              "      <td>...</td>\n",
              "      <td>DCABECACDDBDBEBACEAECADBEDDBEBCBC*EDABBDACABE</td>\n",
              "      <td>AEBDB99999BBEDBEAACEBADABCAADECAABBADBBBBACBAA...</td>\n",
              "      <td>EDBECCBCBCABABEBBDBCAAABCCBEBABDBACABCBAEEBAB</td>\n",
              "      <td>0</td>\n",
              "      <td>AAECACDEADCBCDDDBCBDADAEABCEBABEEBCBEECEBDADC</td>\n",
              "      <td>EEBCEEDBADBBCBABCCADCEBACDBBACCACACBEADBBADCB</td>\n",
              "      <td>ADBBEDCABAABBCBCDAAECDDDBAAAECADECDCEBDEEAECBD...</td>\n",
              "      <td>EEEADBEBACABCDBABECECACDCBDCCEDCDABEDECDDDBAA</td>\n",
              "      <td>1.0</td>\n",
              "      <td>120.0</td>\n",
              "      <td>120.0</td>\n",
              "      <td>80.0</td>\n",
              "      <td>80.0</td>\n",
              "      <td>80.0</td>\n",
              "      <td>480.0</td>\n",
              "      <td>E</td>\n",
              "      <td>E</td>\n",
              "      <td>B</td>\n",
              "      <td>F</td>\n",
              "      <td>4</td>\n",
              "      <td>C</td>\n",
              "      <td>A</td>\n",
              "      <td>B</td>\n",
              "      <td>C</td>\n",
              "      <td>B</td>\n",
              "      <td>A</td>\n",
              "      <td>B</td>\n",
              "      <td>B</td>\n",
              "      <td>B</td>\n",
              "      <td>B</td>\n",
              "      <td>A</td>\n",
              "      <td>A</td>\n",
              "      <td>A</td>\n",
              "      <td>B</td>\n",
              "      <td>A</td>\n",
              "      <td>A</td>\n",
              "      <td>B</td>\n",
              "      <td>B</td>\n",
              "      <td>A</td>\n",
              "      <td>B</td>\n",
              "    </tr>\n",
              "  </tbody>\n",
              "</table>\n",
              "<p>5 rows × 136 columns</p>\n",
              "</div>"
            ],
            "text/plain": [
              "        NU_INSCRICAO  NU_ANO  CO_MUNICIPIO_RESIDENCIA  ... Q023  Q024 Q025\n",
              "127375  190006120035    2019                  3142700  ...    A     B    B\n",
              "127376  190006120036    2019                  2902807  ...    A     B    B\n",
              "127377  190006120037    2019                  2927408  ...    A     A    B\n",
              "127378  190006120060    2019                  2930709  ...    A     A    A\n",
              "127379  190006120170    2019                  3106200  ...    B     A    B\n",
              "\n",
              "[5 rows x 136 columns]"
            ]
          },
          "metadata": {
            "tags": []
          },
          "execution_count": 382
        }
      ]
    },
    {
      "cell_type": "code",
      "metadata": {
        "id": "E6Wj-7H6vcwJ",
        "outputId": "68c4f9ee-c25d-46a2-adf9-265d865b5103",
        "colab": {
          "base_uri": "https://localhost:8080/",
          "height": 35
        }
      },
      "source": [
        "dados.shape"
      ],
      "execution_count": null,
      "outputs": [
        {
          "output_type": "execute_result",
          "data": {
            "text/plain": [
              "(127380, 136)"
            ]
          },
          "metadata": {
            "tags": []
          },
          "execution_count": 383
        }
      ]
    },
    {
      "cell_type": "code",
      "metadata": {
        "id": "qxKlwp05HQsC",
        "outputId": "3f839016-6942-4af0-dd6e-858cc9e2fcd1",
        "colab": {
          "base_uri": "https://localhost:8080/",
          "height": 104
        }
      },
      "source": [
        "# Inclui info\n",
        "dados.info()"
      ],
      "execution_count": null,
      "outputs": [
        {
          "output_type": "stream",
          "text": [
            "<class 'pandas.core.frame.DataFrame'>\n",
            "RangeIndex: 127380 entries, 0 to 127379\n",
            "Columns: 136 entries, NU_INSCRICAO to Q025\n",
            "dtypes: float64(24), int64(71), object(41)\n",
            "memory usage: 132.2+ MB\n"
          ],
          "name": "stdout"
        }
      ]
    },
    {
      "cell_type": "code",
      "metadata": {
        "id": "udBrXQZHJ-DD",
        "outputId": "abc93468-112c-4380-df96-7632a5e019d0",
        "colab": {
          "base_uri": "https://localhost:8080/",
          "height": 225
        }
      },
      "source": [
        "# inclui sum null values\n",
        "dados.isnull().sum()"
      ],
      "execution_count": null,
      "outputs": [
        {
          "output_type": "execute_result",
          "data": {
            "text/plain": [
              "NU_INSCRICAO               0\n",
              "NU_ANO                     0\n",
              "CO_MUNICIPIO_RESIDENCIA    0\n",
              "NO_MUNICIPIO_RESIDENCIA    0\n",
              "CO_UF_RESIDENCIA           0\n",
              "                          ..\n",
              "Q021                       0\n",
              "Q022                       0\n",
              "Q023                       0\n",
              "Q024                       0\n",
              "Q025                       0\n",
              "Length: 136, dtype: int64"
            ]
          },
          "metadata": {
            "tags": []
          },
          "execution_count": 385
        }
      ]
    },
    {
      "cell_type": "code",
      "metadata": {
        "id": "bcMWakoQvcy2"
      },
      "source": [
        "# script pra selecionar amostra (pegar)"
      ],
      "execution_count": null,
      "outputs": []
    },
    {
      "cell_type": "code",
      "metadata": {
        "id": "gGEoHcdZvc1n",
        "outputId": "212eea27-25cc-49b5-c8e6-aab93d4d19a3",
        "colab": {
          "base_uri": "https://localhost:8080/",
          "height": 407
        }
      },
      "source": [
        "# dados['SG_UF_RESIDENCIA'] # serie do pandas (coluna)\n",
        "dados[['SG_UF_RESIDENCIA', 'Q025']] #+[] cria uma lista com elementos"
      ],
      "execution_count": null,
      "outputs": [
        {
          "output_type": "execute_result",
          "data": {
            "text/html": [
              "<div>\n",
              "<style scoped>\n",
              "    .dataframe tbody tr th:only-of-type {\n",
              "        vertical-align: middle;\n",
              "    }\n",
              "\n",
              "    .dataframe tbody tr th {\n",
              "        vertical-align: top;\n",
              "    }\n",
              "\n",
              "    .dataframe thead th {\n",
              "        text-align: right;\n",
              "    }\n",
              "</style>\n",
              "<table border=\"1\" class=\"dataframe\">\n",
              "  <thead>\n",
              "    <tr style=\"text-align: right;\">\n",
              "      <th></th>\n",
              "      <th>SG_UF_RESIDENCIA</th>\n",
              "      <th>Q025</th>\n",
              "    </tr>\n",
              "  </thead>\n",
              "  <tbody>\n",
              "    <tr>\n",
              "      <th>0</th>\n",
              "      <td>PA</td>\n",
              "      <td>B</td>\n",
              "    </tr>\n",
              "    <tr>\n",
              "      <th>1</th>\n",
              "      <td>PA</td>\n",
              "      <td>B</td>\n",
              "    </tr>\n",
              "    <tr>\n",
              "      <th>2</th>\n",
              "      <td>PA</td>\n",
              "      <td>B</td>\n",
              "    </tr>\n",
              "    <tr>\n",
              "      <th>3</th>\n",
              "      <td>PA</td>\n",
              "      <td>B</td>\n",
              "    </tr>\n",
              "    <tr>\n",
              "      <th>4</th>\n",
              "      <td>PA</td>\n",
              "      <td>B</td>\n",
              "    </tr>\n",
              "    <tr>\n",
              "      <th>...</th>\n",
              "      <td>...</td>\n",
              "      <td>...</td>\n",
              "    </tr>\n",
              "    <tr>\n",
              "      <th>127375</th>\n",
              "      <td>MG</td>\n",
              "      <td>B</td>\n",
              "    </tr>\n",
              "    <tr>\n",
              "      <th>127376</th>\n",
              "      <td>BA</td>\n",
              "      <td>B</td>\n",
              "    </tr>\n",
              "    <tr>\n",
              "      <th>127377</th>\n",
              "      <td>BA</td>\n",
              "      <td>B</td>\n",
              "    </tr>\n",
              "    <tr>\n",
              "      <th>127378</th>\n",
              "      <td>BA</td>\n",
              "      <td>A</td>\n",
              "    </tr>\n",
              "    <tr>\n",
              "      <th>127379</th>\n",
              "      <td>MG</td>\n",
              "      <td>B</td>\n",
              "    </tr>\n",
              "  </tbody>\n",
              "</table>\n",
              "<p>127380 rows × 2 columns</p>\n",
              "</div>"
            ],
            "text/plain": [
              "       SG_UF_RESIDENCIA Q025\n",
              "0                    PA    B\n",
              "1                    PA    B\n",
              "2                    PA    B\n",
              "3                    PA    B\n",
              "4                    PA    B\n",
              "...                 ...  ...\n",
              "127375               MG    B\n",
              "127376               BA    B\n",
              "127377               BA    B\n",
              "127378               BA    A\n",
              "127379               MG    B\n",
              "\n",
              "[127380 rows x 2 columns]"
            ]
          },
          "metadata": {
            "tags": []
          },
          "execution_count": 387
        }
      ]
    },
    {
      "cell_type": "code",
      "metadata": {
        "id": "HwhwuKEtxrfd",
        "outputId": "86f1b979-62e3-41c2-b611-ca0b357ed29a",
        "colab": {
          "base_uri": "https://localhost:8080/",
          "height": 691
        }
      },
      "source": [
        "dados.columns.values"
      ],
      "execution_count": null,
      "outputs": [
        {
          "output_type": "execute_result",
          "data": {
            "text/plain": [
              "array(['NU_INSCRICAO', 'NU_ANO', 'CO_MUNICIPIO_RESIDENCIA',\n",
              "       'NO_MUNICIPIO_RESIDENCIA', 'CO_UF_RESIDENCIA', 'SG_UF_RESIDENCIA',\n",
              "       'NU_IDADE', 'TP_SEXO', 'TP_ESTADO_CIVIL', 'TP_COR_RACA',\n",
              "       'TP_NACIONALIDADE', 'CO_MUNICIPIO_NASCIMENTO',\n",
              "       'NO_MUNICIPIO_NASCIMENTO', 'CO_UF_NASCIMENTO', 'SG_UF_NASCIMENTO',\n",
              "       'TP_ST_CONCLUSAO', 'TP_ANO_CONCLUIU', 'TP_ESCOLA', 'TP_ENSINO',\n",
              "       'IN_TREINEIRO', 'CO_ESCOLA', 'CO_MUNICIPIO_ESC',\n",
              "       'NO_MUNICIPIO_ESC', 'CO_UF_ESC', 'SG_UF_ESC',\n",
              "       'TP_DEPENDENCIA_ADM_ESC', 'TP_LOCALIZACAO_ESC', 'TP_SIT_FUNC_ESC',\n",
              "       'IN_BAIXA_VISAO', 'IN_CEGUEIRA', 'IN_SURDEZ',\n",
              "       'IN_DEFICIENCIA_AUDITIVA', 'IN_SURDO_CEGUEIRA',\n",
              "       'IN_DEFICIENCIA_FISICA', 'IN_DEFICIENCIA_MENTAL',\n",
              "       'IN_DEFICIT_ATENCAO', 'IN_DISLEXIA', 'IN_DISCALCULIA',\n",
              "       'IN_AUTISMO', 'IN_VISAO_MONOCULAR', 'IN_OUTRA_DEF', 'IN_GESTANTE',\n",
              "       'IN_LACTANTE', 'IN_IDOSO', 'IN_ESTUDA_CLASSE_HOSPITALAR',\n",
              "       'IN_SEM_RECURSO', 'IN_BRAILLE', 'IN_AMPLIADA_24', 'IN_AMPLIADA_18',\n",
              "       'IN_LEDOR', 'IN_ACESSO', 'IN_TRANSCRICAO', 'IN_LIBRAS',\n",
              "       'IN_TEMPO_ADICIONAL', 'IN_LEITURA_LABIAL', 'IN_MESA_CADEIRA_RODAS',\n",
              "       'IN_MESA_CADEIRA_SEPARADA', 'IN_APOIO_PERNA', 'IN_GUIA_INTERPRETE',\n",
              "       'IN_COMPUTADOR', 'IN_CADEIRA_ESPECIAL', 'IN_CADEIRA_CANHOTO',\n",
              "       'IN_CADEIRA_ACOLCHOADA', 'IN_PROVA_DEITADO', 'IN_MOBILIARIO_OBESO',\n",
              "       'IN_LAMINA_OVERLAY', 'IN_PROTETOR_AURICULAR', 'IN_MEDIDOR_GLICOSE',\n",
              "       'IN_MAQUINA_BRAILE', 'IN_SOROBAN', 'IN_MARCA_PASSO', 'IN_SONDA',\n",
              "       'IN_MEDICAMENTOS', 'IN_SALA_INDIVIDUAL', 'IN_SALA_ESPECIAL',\n",
              "       'IN_SALA_ACOMPANHANTE', 'IN_MOBILIARIO_ESPECIFICO',\n",
              "       'IN_MATERIAL_ESPECIFICO', 'IN_NOME_SOCIAL', 'CO_MUNICIPIO_PROVA',\n",
              "       'NO_MUNICIPIO_PROVA', 'CO_UF_PROVA', 'SG_UF_PROVA',\n",
              "       'TP_PRESENCA_CN', 'TP_PRESENCA_CH', 'TP_PRESENCA_LC',\n",
              "       'TP_PRESENCA_MT', 'CO_PROVA_CN', 'CO_PROVA_CH', 'CO_PROVA_LC',\n",
              "       'CO_PROVA_MT', 'NU_NOTA_CN', 'NU_NOTA_CH', 'NU_NOTA_LC',\n",
              "       'NU_NOTA_MT', 'TX_RESPOSTAS_CN', 'TX_RESPOSTAS_CH',\n",
              "       'TX_RESPOSTAS_LC', 'TX_RESPOSTAS_MT', 'TP_LINGUA',\n",
              "       'TX_GABARITO_CN', 'TX_GABARITO_CH', 'TX_GABARITO_LC',\n",
              "       'TX_GABARITO_MT', 'TP_STATUS_REDACAO', 'NU_NOTA_COMP1',\n",
              "       'NU_NOTA_COMP2', 'NU_NOTA_COMP3', 'NU_NOTA_COMP4', 'NU_NOTA_COMP5',\n",
              "       'NU_NOTA_REDACAO', 'Q001', 'Q002', 'Q003', 'Q004', 'Q005', 'Q006',\n",
              "       'Q007', 'Q008', 'Q009', 'Q010', 'Q011', 'Q012', 'Q013', 'Q014',\n",
              "       'Q015', 'Q016', 'Q017', 'Q018', 'Q019', 'Q020', 'Q021', 'Q022',\n",
              "       'Q023', 'Q024', 'Q025'], dtype=object)"
            ]
          },
          "metadata": {
            "tags": []
          },
          "execution_count": 388
        }
      ]
    },
    {
      "cell_type": "code",
      "metadata": {
        "id": "o_BZl57WxriL",
        "outputId": "0bf07571-9ca2-491a-d834-4d3726b8df95",
        "colab": {
          "base_uri": "https://localhost:8080/",
          "height": 69
        }
      },
      "source": [
        "dados['SG_UF_RESIDENCIA'].unique()"
      ],
      "execution_count": null,
      "outputs": [
        {
          "output_type": "execute_result",
          "data": {
            "text/plain": [
              "array(['PA', 'RO', 'MT', 'AC', 'AM', 'RR', 'MA', 'PR', 'BA', 'PI', 'CE',\n",
              "       'PE', 'AP', 'TO', 'SC', 'GO', 'MG', 'SP', 'SE', 'RJ', 'PB', 'AL',\n",
              "       'RN', 'ES', 'DF', 'RS', 'MS'], dtype=object)"
            ]
          },
          "metadata": {
            "tags": []
          },
          "execution_count": 389
        }
      ]
    },
    {
      "cell_type": "code",
      "metadata": {
        "id": "zfNn4xN1xrky",
        "outputId": "353de1f9-f5a6-4cb0-9914-ce177aa44dbf",
        "colab": {
          "base_uri": "https://localhost:8080/",
          "height": 35
        }
      },
      "source": [
        "len(dados['SG_UF_RESIDENCIA'].unique())"
      ],
      "execution_count": null,
      "outputs": [
        {
          "output_type": "execute_result",
          "data": {
            "text/plain": [
              "27"
            ]
          },
          "metadata": {
            "tags": []
          },
          "execution_count": 390
        }
      ]
    },
    {
      "cell_type": "code",
      "metadata": {
        "id": "EyEcLWvy0RPt",
        "outputId": "9a1a934b-fb75-4349-9db1-4f41bcc786fe",
        "colab": {
          "base_uri": "https://localhost:8080/",
          "height": 501
        }
      },
      "source": [
        "dados['SG_UF_RESIDENCIA'].value_counts()"
      ],
      "execution_count": null,
      "outputs": [
        {
          "output_type": "execute_result",
          "data": {
            "text/plain": [
              "SP    20264\n",
              "MG    13547\n",
              "BA    10040\n",
              "RJ     8467\n",
              "CE     7381\n",
              "PA     7170\n",
              "PE     6941\n",
              "MA     5543\n",
              "RS     5466\n",
              "PR     5259\n",
              "GO     4268\n",
              "PB     3690\n",
              "PI     3034\n",
              "RN     2959\n",
              "AM     2820\n",
              "SC     2673\n",
              "ES     2550\n",
              "DF     2408\n",
              "AL     2263\n",
              "MT     2230\n",
              "SE     1815\n",
              "MS     1655\n",
              "RO     1400\n",
              "TO     1178\n",
              "AP     1047\n",
              "AC      946\n",
              "RR      366\n",
              "Name: SG_UF_RESIDENCIA, dtype: int64"
            ]
          },
          "metadata": {
            "tags": []
          },
          "execution_count": 391
        }
      ]
    },
    {
      "cell_type": "code",
      "metadata": {
        "id": "1y_aRkgmAw-U",
        "outputId": "38d98bab-fd8b-4f9c-c986-7d8230534dbf",
        "colab": {
          "base_uri": "https://localhost:8080/",
          "height": 501
        }
      },
      "source": [
        "# inclui  proporcao de inscritos por Estado.\n",
        "dados['SG_UF_RESIDENCIA'].value_counts(normalize=True)"
      ],
      "execution_count": null,
      "outputs": [
        {
          "output_type": "execute_result",
          "data": {
            "text/plain": [
              "SP    0.159083\n",
              "MG    0.106351\n",
              "BA    0.078819\n",
              "RJ    0.066470\n",
              "CE    0.057945\n",
              "PA    0.056288\n",
              "PE    0.054491\n",
              "MA    0.043515\n",
              "RS    0.042911\n",
              "PR    0.041286\n",
              "GO    0.033506\n",
              "PB    0.028968\n",
              "PI    0.023818\n",
              "RN    0.023230\n",
              "AM    0.022138\n",
              "SC    0.020984\n",
              "ES    0.020019\n",
              "DF    0.018904\n",
              "AL    0.017766\n",
              "MT    0.017507\n",
              "SE    0.014249\n",
              "MS    0.012993\n",
              "RO    0.010991\n",
              "TO    0.009248\n",
              "AP    0.008220\n",
              "AC    0.007427\n",
              "RR    0.002873\n",
              "Name: SG_UF_RESIDENCIA, dtype: float64"
            ]
          },
          "metadata": {
            "tags": []
          },
          "execution_count": 392
        }
      ]
    },
    {
      "cell_type": "code",
      "metadata": {
        "id": "0wIPPQMIDKB_",
        "outputId": "57e34241-a3ac-47cb-8d04-e21f2cb8ed32",
        "colab": {
          "base_uri": "https://localhost:8080/",
          "height": 35
        }
      },
      "source": [
        "# inclui checking proportion\n",
        "dados['SG_UF_RESIDENCIA'].value_counts(normalize=True).sum()"
      ],
      "execution_count": null,
      "outputs": [
        {
          "output_type": "execute_result",
          "data": {
            "text/plain": [
              "1.0"
            ]
          },
          "metadata": {
            "tags": []
          },
          "execution_count": 393
        }
      ]
    },
    {
      "cell_type": "code",
      "metadata": {
        "id": "r6OitrP2oN1y",
        "outputId": "83408ee4-ad4f-4935-9d60-9836fc0ee544",
        "colab": {
          "base_uri": "https://localhost:8080/",
          "height": 225
        }
      },
      "source": [
        "# Desafio01: proporcao de inscritos por idade.\n",
        "dados['NU_IDADE'].value_counts(normalize=True)\n",
        "# dados['NU_IDADE'].value_counts(normalize=True).sum() # checando"
      ],
      "execution_count": null,
      "outputs": [
        {
          "output_type": "execute_result",
          "data": {
            "text/plain": [
              "18    0.168409\n",
              "17    0.166871\n",
              "19    0.113189\n",
              "20    0.081748\n",
              "16    0.061470\n",
              "        ...   \n",
              "75    0.000016\n",
              "73    0.000016\n",
              "82    0.000008\n",
              "77    0.000008\n",
              "76    0.000008\n",
              "Name: NU_IDADE, Length: 65, dtype: float64"
            ]
          },
          "metadata": {
            "tags": []
          },
          "execution_count": 394
        }
      ]
    },
    {
      "cell_type": "code",
      "metadata": {
        "id": "yY8MsRmToeHS",
        "outputId": "ddea1518-31e0-4058-8492-d6cecbddf678",
        "colab": {
          "base_uri": "https://localhost:8080/",
          "height": 173
        }
      },
      "source": [
        "dados['NU_IDADE'].describe()"
      ],
      "execution_count": null,
      "outputs": [
        {
          "output_type": "execute_result",
          "data": {
            "text/plain": [
              "count    127380.000000\n",
              "mean         22.094355\n",
              "std           7.498707\n",
              "min          13.000000\n",
              "25%          18.000000\n",
              "50%          19.000000\n",
              "75%          24.000000\n",
              "max          82.000000\n",
              "Name: NU_IDADE, dtype: float64"
            ]
          },
          "metadata": {
            "tags": []
          },
          "execution_count": 395
        }
      ]
    },
    {
      "cell_type": "code",
      "metadata": {
        "id": "0uz_0WtB0RSg",
        "outputId": "e2833515-e6d0-423f-911b-497e8963c195",
        "colab": {
          "base_uri": "https://localhost:8080/",
          "height": 225
        }
      },
      "source": [
        "dados['NU_IDADE'].value_counts()"
      ],
      "execution_count": null,
      "outputs": [
        {
          "output_type": "execute_result",
          "data": {
            "text/plain": [
              "18    21452\n",
              "17    21256\n",
              "19    14418\n",
              "20    10413\n",
              "16     7830\n",
              "      ...  \n",
              "75        2\n",
              "73        2\n",
              "82        1\n",
              "77        1\n",
              "76        1\n",
              "Name: NU_IDADE, Length: 65, dtype: int64"
            ]
          },
          "metadata": {
            "tags": []
          },
          "execution_count": 396
        }
      ]
    },
    {
      "cell_type": "code",
      "metadata": {
        "id": "q2oPEl8-0RVQ",
        "outputId": "ab613981-aabf-4e58-fb76-f8c4f55cd05d",
        "colab": {
          "base_uri": "https://localhost:8080/",
          "height": 225
        }
      },
      "source": [
        "dados['NU_IDADE'].value_counts().sort_index() # ordena pelo index"
      ],
      "execution_count": null,
      "outputs": [
        {
          "output_type": "execute_result",
          "data": {
            "text/plain": [
              "13        4\n",
              "14      141\n",
              "15     2009\n",
              "16     7830\n",
              "17    21256\n",
              "      ...  \n",
              "73        2\n",
              "75        2\n",
              "76        1\n",
              "77        1\n",
              "82        1\n",
              "Name: NU_IDADE, Length: 65, dtype: int64"
            ]
          },
          "metadata": {
            "tags": []
          },
          "execution_count": 397
        }
      ]
    },
    {
      "cell_type": "code",
      "metadata": {
        "id": "DglW4ust0RYG",
        "outputId": "8abb9747-32f2-41c5-8a5d-6931e5f78980",
        "colab": {
          "base_uri": "https://localhost:8080/",
          "height": 173
        }
      },
      "source": [
        "# distribuicao estatistica\n",
        "dados['NU_IDADE'].describe()"
      ],
      "execution_count": null,
      "outputs": [
        {
          "output_type": "execute_result",
          "data": {
            "text/plain": [
              "count    127380.000000\n",
              "mean         22.094355\n",
              "std           7.498707\n",
              "min          13.000000\n",
              "25%          18.000000\n",
              "50%          19.000000\n",
              "75%          24.000000\n",
              "max          82.000000\n",
              "Name: NU_IDADE, dtype: float64"
            ]
          },
          "metadata": {
            "tags": []
          },
          "execution_count": 398
        }
      ]
    },
    {
      "cell_type": "markdown",
      "metadata": {
        "id": "hyPfQhja40fa"
      },
      "source": [
        ""
      ]
    },
    {
      "cell_type": "code",
      "metadata": {
        "id": "DQvxILFD0RgQ",
        "outputId": "051df729-aa2d-4dc1-bac6-e327ec9cb5e0",
        "colab": {
          "base_uri": "https://localhost:8080/",
          "height": 285
        }
      },
      "source": [
        "dados['NU_IDADE'].hist()"
      ],
      "execution_count": null,
      "outputs": [
        {
          "output_type": "execute_result",
          "data": {
            "text/plain": [
              "<matplotlib.axes._subplots.AxesSubplot at 0x7fcf4bb50710>"
            ]
          },
          "metadata": {
            "tags": []
          },
          "execution_count": 399
        },
        {
          "output_type": "display_data",
          "data": {
            "image/png": "[encoded data removed]",
            "text/plain": [
              "<Figure size 432x288 with 1 Axes>"
            ]
          },
          "metadata": {
            "tags": [],
            "needs_background": "light"
          }
        }
      ]
    },
    {
      "cell_type": "code",
      "metadata": {
        "id": "MJvl6a2O0Rdd",
        "outputId": "4e4f0c0d-bae7-4975-8648-18b924860787",
        "colab": {
          "base_uri": "https://localhost:8080/",
          "height": 500
        }
      },
      "source": [
        "dados['NU_IDADE'].hist(bins=20, figsize=(10,8))"
      ],
      "execution_count": null,
      "outputs": [
        {
          "output_type": "execute_result",
          "data": {
            "text/plain": [
              "<matplotlib.axes._subplots.AxesSubplot at 0x7fcf45190b38>"
            ]
          },
          "metadata": {
            "tags": []
          },
          "execution_count": 400
        },
        {
          "output_type": "display_data",
          "data": {
            "image/png": "[encoded data removed]",
            "text/plain": [
              "<Figure size 720x576 with 1 Axes>"
            ]
          },
          "metadata": {
            "tags": [],
            "needs_background": "light"
          }
        }
      ]
    },
    {
      "cell_type": "code",
      "metadata": {
        "id": "ZXCFwa7KCTzQ",
        "outputId": "9e8c1849-4670-46c4-dff3-5bd1ed76122e",
        "colab": {
          "base_uri": "https://localhost:8080/",
          "height": 69
        }
      },
      "source": [
        "dados['IN_TREINEIRO'].value_counts()"
      ],
      "execution_count": null,
      "outputs": [
        {
          "output_type": "execute_result",
          "data": {
            "text/plain": [
              "0    111979\n",
              "1     15401\n",
              "Name: IN_TREINEIRO, dtype: int64"
            ]
          },
          "metadata": {
            "tags": []
          },
          "execution_count": 401
        }
      ]
    },
    {
      "cell_type": "code",
      "metadata": {
        "id": "7Zxln5nhCkBp",
        "outputId": "3679ad62-9ce3-4c32-9db5-19cb5e977a68",
        "colab": {
          "base_uri": "https://localhost:8080/",
          "height": 371
        }
      },
      "source": [
        "# pie = dados['IN_TREINEIRO'].value_counts().plot(kind=\"pie\",title='IN_TREINEIRO Distribution',legend=True,autopct='%1.1f%%')\n",
        "# comentei o gráfico pie porque acho ele impreciso, de difícil visualização\n",
        "\n",
        "#Using Pandas\n",
        "ax = dados['IN_TREINEIRO'].value_counts().plot(kind='bar', figsize=(8,5), width=.35, color=['gray', 'orange']) \n",
        "degrees = 0 \n",
        "\n",
        "ax.set_title(\"Frequência de treineiros\", fontname='Arial', fontsize=25, y=1.01)\n",
        "ax.set_ylabel(\"Frequência\", fontname=\"Arial\", fontsize=20)\n",
        "plt.gca().xaxis.set_major_formatter(EngFormatter())\n",
        "plt.gca().yaxis.set_major_formatter(EngFormatter()) \n",
        "for tick in ax.xaxis.get_major_ticks():\n",
        "    tick.label.set_fontsize(15) \n",
        "for tick in ax.yaxis.get_major_ticks():\n",
        "    tick.label.set_fontsize(15)\n",
        "\n",
        "plt.xticks(rotation=degrees)\n",
        "ax.set_xticklabels( ('não treineiros', 'treineiros') )\n"
      ],
      "execution_count": null,
      "outputs": [
        {
          "output_type": "execute_result",
          "data": {
            "text/plain": [
              "[Text(0, 0, 'não treineiros'), Text(0, 0, 'treineiros')]"
            ]
          },
          "metadata": {
            "tags": []
          },
          "execution_count": 402
        },
        {
          "output_type": "display_data",
          "data": {
            "image/png": "[encoded data removed]",
            "text/plain": [
              "<Figure size 576x360 with 1 Axes>"
            ]
          },
          "metadata": {
            "tags": [],
            "needs_background": "light"
          }
        }
      ]
    },
    {
      "cell_type": "code",
      "metadata": {
        "id": "PaLiUCIhBdcL",
        "outputId": "e4346ccb-9583-4c62-fe28-dfeafb31ecf8",
        "colab": {
          "base_uri": "https://localhost:8080/",
          "height": 104
        }
      },
      "source": [
        "# Desafio02: descobrir de quais Estados sao os inscritos com 13 anos.\n",
        "dados.query('NU_IDADE == 13')['SG_UF_RESIDENCIA']"
      ],
      "execution_count": null,
      "outputs": [
        {
          "output_type": "execute_result",
          "data": {
            "text/plain": [
              "57359     SP\n",
              "95630     MT\n",
              "98197     AP\n",
              "116501    BA\n",
              "Name: SG_UF_RESIDENCIA, dtype: object"
            ]
          },
          "metadata": {
            "tags": []
          },
          "execution_count": 403
        }
      ]
    },
    {
      "cell_type": "code",
      "metadata": {
        "id": "rC-5CDHP6VAv",
        "outputId": "d05b2132-5038-41bb-90b5-805e9e17f71c",
        "colab": {
          "base_uri": "https://localhost:8080/",
          "height": 412
        }
      },
      "source": [
        "# Desafio03: colocar títulos no histograma.\n",
        "ax = dados['NU_NOTA_REDACAO'].hist(bins=20, figsize=(8,6))\n",
        "ax.set_title(\"Notas de Redação\", fontname='Arial', fontsize=15, y=1.01)"
      ],
      "execution_count": null,
      "outputs": [
        {
          "output_type": "execute_result",
          "data": {
            "text/plain": [
              "Text(0.5, 1.01, 'Notas de Redação')"
            ]
          },
          "metadata": {
            "tags": []
          },
          "execution_count": 404
        },
        {
          "output_type": "display_data",
          "data": {
            "image/png": "[encoded data removed]",
            "text/plain": [
              "<Figure size 576x432 with 1 Axes>"
            ]
          },
          "metadata": {
            "tags": [],
            "needs_background": "light"
          }
        }
      ]
    },
    {
      "cell_type": "code",
      "metadata": {
        "id": "MTonnH1_DKMR",
        "outputId": "f7546e89-9fd4-4825-8523-a8875f2ea3a5",
        "colab": {
          "base_uri": "https://localhost:8080/",
          "height": 435
        }
      },
      "source": [
        "# Desafio03: colocar títulos no histograma.\n",
        "import pylab as pl\n",
        "# using pylab\n",
        "axes = dados['NU_NOTA_REDACAO'].hist(bins=20, figsize=(8,6))\n",
        "pl.suptitle(\"Nota da Redação - pylab\")\n",
        "\n"
      ],
      "execution_count": null,
      "outputs": [
        {
          "output_type": "execute_result",
          "data": {
            "text/plain": [
              "Text(0.5, 0.98, 'Nota da Redação - pylab')"
            ]
          },
          "metadata": {
            "tags": []
          },
          "execution_count": 405
        },
        {
          "output_type": "display_data",
          "data": {
            "image/png": "[encoded data removed]",
            "text/plain": [
              "<Figure size 576x432 with 1 Axes>"
            ]
          },
          "metadata": {
            "tags": [],
            "needs_background": "light"
          }
        }
      ]
    },
    {
      "cell_type": "code",
      "metadata": {
        "id": "lg2PI8V06VEx",
        "outputId": "81477eb8-9c6e-4b0c-c149-0ed5e9980136",
        "colab": {
          "base_uri": "https://localhost:8080/",
          "height": 391
        }
      },
      "source": [
        "dados['NU_NOTA_LC'].hist(bins=20, figsize=(8,6))"
      ],
      "execution_count": null,
      "outputs": [
        {
          "output_type": "execute_result",
          "data": {
            "text/plain": [
              "<matplotlib.axes._subplots.AxesSubplot at 0x7fcf42268f98>"
            ]
          },
          "metadata": {
            "tags": []
          },
          "execution_count": 406
        },
        {
          "output_type": "display_data",
          "data": {
            "image/png": "[encoded data removed]",
            "text/plain": [
              "<Figure size 576x432 with 1 Axes>"
            ]
          },
          "metadata": {
            "tags": [],
            "needs_background": "light"
          }
        }
      ]
    },
    {
      "cell_type": "code",
      "metadata": {
        "id": "x7bqJLZ26VHZ",
        "outputId": "34aad2c4-e847-4c78-d31d-8f192c8096e9",
        "colab": {
          "base_uri": "https://localhost:8080/",
          "height": 35
        }
      },
      "source": [
        "dados['NU_NOTA_REDACAO'].mean()"
      ],
      "execution_count": null,
      "outputs": [
        {
          "output_type": "execute_result",
          "data": {
            "text/plain": [
              "571.5700253970197"
            ]
          },
          "metadata": {
            "tags": []
          },
          "execution_count": 407
        }
      ]
    },
    {
      "cell_type": "code",
      "metadata": {
        "id": "yIDC5zf-6VKO",
        "outputId": "794f7cc4-47f2-4c75-a4b3-e2e3e57f1b88",
        "colab": {
          "base_uri": "https://localhost:8080/",
          "height": 35
        }
      },
      "source": [
        "dados['NU_NOTA_REDACAO'].std()"
      ],
      "execution_count": null,
      "outputs": [
        {
          "output_type": "execute_result",
          "data": {
            "text/plain": [
              "188.07645455749753"
            ]
          },
          "metadata": {
            "tags": []
          },
          "execution_count": 408
        }
      ]
    },
    {
      "cell_type": "code",
      "metadata": {
        "id": "WZ5sro946VNB",
        "outputId": "4bc52c91-eb8f-4542-ebea-e85087f17dca",
        "colab": {
          "base_uri": "https://localhost:8080/",
          "height": 288
        }
      },
      "source": [
        "provas = ['NU_NOTA_CN', 'NU_NOTA_CH', 'NU_NOTA_MT', 'NU_NOTA_LC', 'NU_NOTA_REDACAO']\n",
        "dados[provas].describe()"
      ],
      "execution_count": null,
      "outputs": [
        {
          "output_type": "execute_result",
          "data": {
            "text/html": [
              "<div>\n",
              "<style scoped>\n",
              "    .dataframe tbody tr th:only-of-type {\n",
              "        vertical-align: middle;\n",
              "    }\n",
              "\n",
              "    .dataframe tbody tr th {\n",
              "        vertical-align: top;\n",
              "    }\n",
              "\n",
              "    .dataframe thead th {\n",
              "        text-align: right;\n",
              "    }\n",
              "</style>\n",
              "<table border=\"1\" class=\"dataframe\">\n",
              "  <thead>\n",
              "    <tr style=\"text-align: right;\">\n",
              "      <th></th>\n",
              "      <th>NU_NOTA_CN</th>\n",
              "      <th>NU_NOTA_CH</th>\n",
              "      <th>NU_NOTA_MT</th>\n",
              "      <th>NU_NOTA_LC</th>\n",
              "      <th>NU_NOTA_REDACAO</th>\n",
              "    </tr>\n",
              "  </thead>\n",
              "  <tbody>\n",
              "    <tr>\n",
              "      <th>count</th>\n",
              "      <td>92758.000000</td>\n",
              "      <td>98043.000000</td>\n",
              "      <td>92758.000000</td>\n",
              "      <td>98043.000000</td>\n",
              "      <td>98043.000000</td>\n",
              "    </tr>\n",
              "    <tr>\n",
              "      <th>mean</th>\n",
              "      <td>477.964015</td>\n",
              "      <td>507.365912</td>\n",
              "      <td>523.555206</td>\n",
              "      <td>520.463928</td>\n",
              "      <td>571.570025</td>\n",
              "    </tr>\n",
              "    <tr>\n",
              "      <th>std</th>\n",
              "      <td>76.296099</td>\n",
              "      <td>82.972839</td>\n",
              "      <td>109.416939</td>\n",
              "      <td>64.556578</td>\n",
              "      <td>188.076455</td>\n",
              "    </tr>\n",
              "    <tr>\n",
              "      <th>min</th>\n",
              "      <td>0.000000</td>\n",
              "      <td>0.000000</td>\n",
              "      <td>0.000000</td>\n",
              "      <td>0.000000</td>\n",
              "      <td>0.000000</td>\n",
              "    </tr>\n",
              "    <tr>\n",
              "      <th>25%</th>\n",
              "      <td>418.000000</td>\n",
              "      <td>447.900000</td>\n",
              "      <td>435.300000</td>\n",
              "      <td>483.700000</td>\n",
              "      <td>480.000000</td>\n",
              "    </tr>\n",
              "    <tr>\n",
              "      <th>50%</th>\n",
              "      <td>470.200000</td>\n",
              "      <td>510.900000</td>\n",
              "      <td>501.600000</td>\n",
              "      <td>526.100000</td>\n",
              "      <td>580.000000</td>\n",
              "    </tr>\n",
              "    <tr>\n",
              "      <th>75%</th>\n",
              "      <td>533.300000</td>\n",
              "      <td>567.100000</td>\n",
              "      <td>598.200000</td>\n",
              "      <td>565.100000</td>\n",
              "      <td>680.000000</td>\n",
              "    </tr>\n",
              "    <tr>\n",
              "      <th>max</th>\n",
              "      <td>797.300000</td>\n",
              "      <td>809.400000</td>\n",
              "      <td>985.000000</td>\n",
              "      <td>801.700000</td>\n",
              "      <td>1000.000000</td>\n",
              "    </tr>\n",
              "  </tbody>\n",
              "</table>\n",
              "</div>"
            ],
            "text/plain": [
              "         NU_NOTA_CN    NU_NOTA_CH    NU_NOTA_MT    NU_NOTA_LC  NU_NOTA_REDACAO\n",
              "count  92758.000000  98043.000000  92758.000000  98043.000000     98043.000000\n",
              "mean     477.964015    507.365912    523.555206    520.463928       571.570025\n",
              "std       76.296099     82.972839    109.416939     64.556578       188.076455\n",
              "min        0.000000      0.000000      0.000000      0.000000         0.000000\n",
              "25%      418.000000    447.900000    435.300000    483.700000       480.000000\n",
              "50%      470.200000    510.900000    501.600000    526.100000       580.000000\n",
              "75%      533.300000    567.100000    598.200000    565.100000       680.000000\n",
              "max      797.300000    809.400000    985.000000    801.700000      1000.000000"
            ]
          },
          "metadata": {
            "tags": []
          },
          "execution_count": 409
        }
      ]
    },
    {
      "cell_type": "code",
      "metadata": {
        "id": "RQFV0Bb46VP0"
      },
      "source": [
        "# pandas.DataFrame.quantile(0.1)"
      ],
      "execution_count": null,
      "outputs": []
    },
    {
      "cell_type": "code",
      "metadata": {
        "id": "dGjYwOJHADuX",
        "outputId": "a85f3131-8ec6-4d25-be03-e5dc7759ce3d",
        "colab": {
          "base_uri": "https://localhost:8080/",
          "height": 392
        }
      },
      "source": [
        "dados['NU_NOTA_LC'].plot.box(grid = True, figsize = (8,6))"
      ],
      "execution_count": null,
      "outputs": [
        {
          "output_type": "execute_result",
          "data": {
            "text/plain": [
              "<matplotlib.axes._subplots.AxesSubplot at 0x7fcf4218d860>"
            ]
          },
          "metadata": {
            "tags": []
          },
          "execution_count": 411
        },
        {
          "output_type": "display_data",
          "data": {
            "image/png": "[encoded data removed]",
            "text/plain": [
              "<Figure size 576x432 with 1 Axes>"
            ]
          },
          "metadata": {
            "tags": [],
            "needs_background": "light"
          }
        }
      ]
    },
    {
      "cell_type": "code",
      "metadata": {
        "id": "gJ5klJSnADxM",
        "outputId": "11e19173-2ad7-434d-9f5f-0c0f0ab631d4",
        "colab": {
          "base_uri": "https://localhost:8080/",
          "height": 392
        }
      },
      "source": [
        "# Desafio06: explorar a documentacao e visualizações com matplotlib ou pandas e gerar novas visualizações\n",
        "dados[provas].plot.box(grid = True, figsize = (8,6))"
      ],
      "execution_count": null,
      "outputs": [
        {
          "output_type": "execute_result",
          "data": {
            "text/plain": [
              "<matplotlib.axes._subplots.AxesSubplot at 0x7fcf42141ef0>"
            ]
          },
          "metadata": {
            "tags": []
          },
          "execution_count": 412
        },
        {
          "output_type": "display_data",
          "data": {
            "image/png": "[encoded data removed]",
            "text/plain": [
              "<Figure size 576x432 with 1 Axes>"
            ]
          },
          "metadata": {
            "tags": [],
            "needs_background": "light"
          }
        }
      ]
    },
    {
      "cell_type": "code",
      "metadata": {
        "id": "DxOORXx3AD2Q",
        "outputId": "ea961079-cb31-47c2-a6c9-577162d9c454",
        "colab": {
          "base_uri": "https://localhost:8080/",
          "height": 321
        }
      },
      "source": [
        "# Desafio06: explorar a documentacao e visualizações com matplotlib ou pandas e gerar novas visualizações\n",
        "# explorando os dados por  visualizacao using boxplot\n",
        "boxplot = dados[provas].plot.box(grid = False, figsize=(10,5),layout=(3,3))"
      ],
      "execution_count": null,
      "outputs": [
        {
          "output_type": "display_data",
          "data": {
            "image/png": "[encoded data removed]",
            "text/plain": [
              "<Figure size 720x360 with 1 Axes>"
            ]
          },
          "metadata": {
            "tags": [],
            "needs_background": "light"
          }
        }
      ]
    },
    {
      "cell_type": "code",
      "metadata": {
        "id": "R9Sx9ujtAD5s",
        "outputId": "0b94f2a3-cd05-4ace-8800-76888976e5c5",
        "colab": {
          "base_uri": "https://localhost:8080/",
          "height": 342
        }
      },
      "source": [
        "# Desafio06: explorar a documentacao e visualizações com matplotlib ou pandas e gerar novas visualizações\n",
        "# explorando os dados por  visualizacao using histogram\n",
        "hist = dados[provas].hist(grid=False,figsize=(10,8),layout=(3,3))\n",
        "plt.show()"
      ],
      "execution_count": null,
      "outputs": [
        {
          "output_type": "display_data",
          "data": {
            "image/png": "[encoded data removed]",
            "text/plain": [
              "<Figure size 720x576 with 9 Axes>"
            ]
          },
          "metadata": {
            "tags": [],
            "needs_background": "light"
          }
        }
      ]
    },
    {
      "cell_type": "markdown",
      "metadata": {
        "id": "zz_8mUvHlhQF"
      },
      "source": [
        "Consideracoes:\n",
        "- Como esperado, as notas de redacao tem mais variacoes. Isso é demonstrado pelos outliers no grafico boxplot e pela amplitude da normal no histograma.\n",
        "- As piores notas foram em Ciencias da Natureza e as melhores foram em Redacao"
      ]
    },
    {
      "cell_type": "code",
      "metadata": {
        "id": "a2BiOUj9dI2i"
      },
      "source": [
        "# definindo variaveis para explorar\n",
        "exploracao1 = ['NU_NOTA_CN', 'NU_NOTA_CH', 'NU_NOTA_MT', 'NU_NOTA_LC', 'NU_NOTA_REDACAO']\n",
        "#  'SG_UF_RESIDENCIA', 'Q025', 'CO_UF_PROVA', 'TP_ESCOLA, "
      ],
      "execution_count": null,
      "outputs": []
    },
    {
      "cell_type": "code",
      "metadata": {
        "id": "-eivxCd2dJPZ",
        "outputId": "abdc39f9-b654-4915-b710-55677275d93e",
        "colab": {
          "base_uri": "https://localhost:8080/",
          "height": 145
        }
      },
      "source": [
        "# checando correlacoes entre os tipos de escola com as notas nas diferentes áreas\n",
        "corr = dados[exploracao1].corr()\n",
        "corr.style.background_gradient(cmap='coolwarm')"
      ],
      "execution_count": null,
      "outputs": [
        {
          "output_type": "execute_result",
          "data": {
            "text/html": [
              "<style  type=\"text/css\" >\n",
              "#T_31cd79be_12d8_11eb_aaa5_0242ac1c0002row0_col0,#T_31cd79be_12d8_11eb_aaa5_0242ac1c0002row1_col1,#T_31cd79be_12d8_11eb_aaa5_0242ac1c0002row2_col2,#T_31cd79be_12d8_11eb_aaa5_0242ac1c0002row3_col3,#T_31cd79be_12d8_11eb_aaa5_0242ac1c0002row4_col4{\n",
              "            background-color:  #b40426;\n",
              "            color:  #f1f1f1;\n",
              "        }#T_31cd79be_12d8_11eb_aaa5_0242ac1c0002row0_col1,#T_31cd79be_12d8_11eb_aaa5_0242ac1c0002row2_col0{\n",
              "            background-color:  #9dbdff;\n",
              "            color:  #000000;\n",
              "        }#T_31cd79be_12d8_11eb_aaa5_0242ac1c0002row0_col2{\n",
              "            background-color:  #a2c1ff;\n",
              "            color:  #000000;\n",
              "        }#T_31cd79be_12d8_11eb_aaa5_0242ac1c0002row0_col3{\n",
              "            background-color:  #84a7fc;\n",
              "            color:  #000000;\n",
              "        }#T_31cd79be_12d8_11eb_aaa5_0242ac1c0002row0_col4{\n",
              "            background-color:  #4055c8;\n",
              "            color:  #f1f1f1;\n",
              "        }#T_31cd79be_12d8_11eb_aaa5_0242ac1c0002row1_col0{\n",
              "            background-color:  #a9c6fd;\n",
              "            color:  #000000;\n",
              "        }#T_31cd79be_12d8_11eb_aaa5_0242ac1c0002row1_col2{\n",
              "            background-color:  #86a9fc;\n",
              "            color:  #000000;\n",
              "        }#T_31cd79be_12d8_11eb_aaa5_0242ac1c0002row1_col3{\n",
              "            background-color:  #d1dae9;\n",
              "            color:  #000000;\n",
              "        }#T_31cd79be_12d8_11eb_aaa5_0242ac1c0002row1_col4{\n",
              "            background-color:  #516ddb;\n",
              "            color:  #000000;\n",
              "        }#T_31cd79be_12d8_11eb_aaa5_0242ac1c0002row2_col1{\n",
              "            background-color:  #7093f3;\n",
              "            color:  #000000;\n",
              "        }#T_31cd79be_12d8_11eb_aaa5_0242ac1c0002row2_col3{\n",
              "            background-color:  #5b7ae5;\n",
              "            color:  #000000;\n",
              "        }#T_31cd79be_12d8_11eb_aaa5_0242ac1c0002row2_col4,#T_31cd79be_12d8_11eb_aaa5_0242ac1c0002row4_col0,#T_31cd79be_12d8_11eb_aaa5_0242ac1c0002row4_col1,#T_31cd79be_12d8_11eb_aaa5_0242ac1c0002row4_col2,#T_31cd79be_12d8_11eb_aaa5_0242ac1c0002row4_col3{\n",
              "            background-color:  #3b4cc0;\n",
              "            color:  #f1f1f1;\n",
              "        }#T_31cd79be_12d8_11eb_aaa5_0242ac1c0002row3_col0{\n",
              "            background-color:  #96b7ff;\n",
              "            color:  #000000;\n",
              "        }#T_31cd79be_12d8_11eb_aaa5_0242ac1c0002row3_col1{\n",
              "            background-color:  #d3dbe7;\n",
              "            color:  #000000;\n",
              "        }#T_31cd79be_12d8_11eb_aaa5_0242ac1c0002row3_col2{\n",
              "            background-color:  #7699f6;\n",
              "            color:  #000000;\n",
              "        }#T_31cd79be_12d8_11eb_aaa5_0242ac1c0002row3_col4{\n",
              "            background-color:  #5572df;\n",
              "            color:  #000000;\n",
              "        }</style><table id=\"T_31cd79be_12d8_11eb_aaa5_0242ac1c0002\" ><thead>    <tr>        <th class=\"blank level0\" ></th>        <th class=\"col_heading level0 col0\" >NU_NOTA_CN</th>        <th class=\"col_heading level0 col1\" >NU_NOTA_CH</th>        <th class=\"col_heading level0 col2\" >NU_NOTA_MT</th>        <th class=\"col_heading level0 col3\" >NU_NOTA_LC</th>        <th class=\"col_heading level0 col4\" >NU_NOTA_REDACAO</th>    </tr></thead><tbody>\n",
              "                <tr>\n",
              "                        <th id=\"T_31cd79be_12d8_11eb_aaa5_0242ac1c0002level0_row0\" class=\"row_heading level0 row0\" >NU_NOTA_CN</th>\n",
              "                        <td id=\"T_31cd79be_12d8_11eb_aaa5_0242ac1c0002row0_col0\" class=\"data row0 col0\" >1.000000</td>\n",
              "                        <td id=\"T_31cd79be_12d8_11eb_aaa5_0242ac1c0002row0_col1\" class=\"data row0 col1\" >0.669259</td>\n",
              "                        <td id=\"T_31cd79be_12d8_11eb_aaa5_0242ac1c0002row0_col2\" class=\"data row0 col2\" >0.650055</td>\n",
              "                        <td id=\"T_31cd79be_12d8_11eb_aaa5_0242ac1c0002row0_col3\" class=\"data row0 col3\" >0.641998</td>\n",
              "                        <td id=\"T_31cd79be_12d8_11eb_aaa5_0242ac1c0002row0_col4\" class=\"data row0 col4\" >0.504903</td>\n",
              "            </tr>\n",
              "            <tr>\n",
              "                        <th id=\"T_31cd79be_12d8_11eb_aaa5_0242ac1c0002level0_row1\" class=\"row_heading level0 row1\" >NU_NOTA_CH</th>\n",
              "                        <td id=\"T_31cd79be_12d8_11eb_aaa5_0242ac1c0002row1_col0\" class=\"data row1 col0\" >0.669259</td>\n",
              "                        <td id=\"T_31cd79be_12d8_11eb_aaa5_0242ac1c0002row1_col1\" class=\"data row1 col1\" >1.000000</td>\n",
              "                        <td id=\"T_31cd79be_12d8_11eb_aaa5_0242ac1c0002row1_col2\" class=\"data row1 col2\" >0.610570</td>\n",
              "                        <td id=\"T_31cd79be_12d8_11eb_aaa5_0242ac1c0002row1_col3\" class=\"data row1 col3\" >0.748844</td>\n",
              "                        <td id=\"T_31cd79be_12d8_11eb_aaa5_0242ac1c0002row1_col4\" class=\"data row1 col4\" >0.530950</td>\n",
              "            </tr>\n",
              "            <tr>\n",
              "                        <th id=\"T_31cd79be_12d8_11eb_aaa5_0242ac1c0002level0_row2\" class=\"row_heading level0 row2\" >NU_NOTA_MT</th>\n",
              "                        <td id=\"T_31cd79be_12d8_11eb_aaa5_0242ac1c0002row2_col0\" class=\"data row2 col0\" >0.650055</td>\n",
              "                        <td id=\"T_31cd79be_12d8_11eb_aaa5_0242ac1c0002row2_col1\" class=\"data row2 col1\" >0.610570</td>\n",
              "                        <td id=\"T_31cd79be_12d8_11eb_aaa5_0242ac1c0002row2_col2\" class=\"data row2 col2\" >1.000000</td>\n",
              "                        <td id=\"T_31cd79be_12d8_11eb_aaa5_0242ac1c0002row2_col3\" class=\"data row2 col3\" >0.587986</td>\n",
              "                        <td id=\"T_31cd79be_12d8_11eb_aaa5_0242ac1c0002row2_col4\" class=\"data row2 col4\" >0.493200</td>\n",
              "            </tr>\n",
              "            <tr>\n",
              "                        <th id=\"T_31cd79be_12d8_11eb_aaa5_0242ac1c0002level0_row3\" class=\"row_heading level0 row3\" >NU_NOTA_LC</th>\n",
              "                        <td id=\"T_31cd79be_12d8_11eb_aaa5_0242ac1c0002row3_col0\" class=\"data row3 col0\" >0.641998</td>\n",
              "                        <td id=\"T_31cd79be_12d8_11eb_aaa5_0242ac1c0002row3_col1\" class=\"data row3 col1\" >0.748844</td>\n",
              "                        <td id=\"T_31cd79be_12d8_11eb_aaa5_0242ac1c0002row3_col2\" class=\"data row3 col2\" >0.587986</td>\n",
              "                        <td id=\"T_31cd79be_12d8_11eb_aaa5_0242ac1c0002row3_col3\" class=\"data row3 col3\" >1.000000</td>\n",
              "                        <td id=\"T_31cd79be_12d8_11eb_aaa5_0242ac1c0002row3_col4\" class=\"data row3 col4\" >0.537690</td>\n",
              "            </tr>\n",
              "            <tr>\n",
              "                        <th id=\"T_31cd79be_12d8_11eb_aaa5_0242ac1c0002level0_row4\" class=\"row_heading level0 row4\" >NU_NOTA_REDACAO</th>\n",
              "                        <td id=\"T_31cd79be_12d8_11eb_aaa5_0242ac1c0002row4_col0\" class=\"data row4 col0\" >0.504903</td>\n",
              "                        <td id=\"T_31cd79be_12d8_11eb_aaa5_0242ac1c0002row4_col1\" class=\"data row4 col1\" >0.530950</td>\n",
              "                        <td id=\"T_31cd79be_12d8_11eb_aaa5_0242ac1c0002row4_col2\" class=\"data row4 col2\" >0.493200</td>\n",
              "                        <td id=\"T_31cd79be_12d8_11eb_aaa5_0242ac1c0002row4_col3\" class=\"data row4 col3\" >0.537690</td>\n",
              "                        <td id=\"T_31cd79be_12d8_11eb_aaa5_0242ac1c0002row4_col4\" class=\"data row4 col4\" >1.000000</td>\n",
              "            </tr>\n",
              "    </tbody></table>"
            ],
            "text/plain": [
              "<pandas.io.formats.style.Styler at 0x7fcf41d39a90>"
            ]
          },
          "metadata": {
            "tags": []
          },
          "execution_count": 416
        }
      ]
    },
    {
      "cell_type": "markdown",
      "metadata": {
        "id": "GjUqifTIioDT"
      },
      "source": [
        "Uma observação curiosa é que as notas de redação nao tem forte correlação com as notas em ciências humanas e nem em linguagens e códigos."
      ]
    },
    {
      "cell_type": "code",
      "metadata": {
        "id": "Bp5lyWK5lKuj",
        "outputId": "cdfa4749-cfaa-4077-e7df-74073abe7408",
        "colab": {
          "base_uri": "https://localhost:8080/",
          "height": 121
        }
      },
      "source": [
        "# removendo dados que nao quero analizar\n",
        "dados_escolhidos1 = dados.drop(['NU_INSCRICAO', 'NU_ANO', 'CO_MUNICIPIO_RESIDENCIA',\n",
        "       'NO_MUNICIPIO_RESIDENCIA', 'CO_UF_RESIDENCIA', 'TP_ESTADO_CIVIL',\n",
        "       'TP_NACIONALIDADE', 'CO_MUNICIPIO_NASCIMENTO',\n",
        "       'NO_MUNICIPIO_NASCIMENTO', 'CO_UF_NASCIMENTO', 'SG_UF_NASCIMENTO',\n",
        "       'TP_ST_CONCLUSAO', 'TP_ANO_CONCLUIU', 'CO_ESCOLA', 'CO_MUNICIPIO_ESC',\n",
        "       'NO_MUNICIPIO_ESC', 'CO_UF_ESC', 'SG_UF_ESC',\n",
        "       'TP_DEPENDENCIA_ADM_ESC', 'TP_SIT_FUNC_ESC',\n",
        "       'IN_BAIXA_VISAO', 'IN_CEGUEIRA', 'IN_SURDEZ',\n",
        "       'IN_DEFICIENCIA_AUDITIVA', 'IN_SURDO_CEGUEIRA',\n",
        "       'IN_DEFICIENCIA_FISICA', 'IN_DEFICIENCIA_MENTAL',\n",
        "       'IN_DEFICIT_ATENCAO', 'IN_DISLEXIA', 'IN_DISCALCULIA',\n",
        "       'IN_AUTISMO', 'IN_VISAO_MONOCULAR', 'IN_OUTRA_DEF', 'IN_GESTANTE',\n",
        "       'IN_LACTANTE', 'IN_IDOSO', 'IN_ESTUDA_CLASSE_HOSPITALAR',\n",
        "       'IN_SEM_RECURSO', 'IN_BRAILLE', 'IN_AMPLIADA_24', 'IN_AMPLIADA_18',\n",
        "       'IN_LEDOR', 'IN_ACESSO', 'IN_TRANSCRICAO', 'IN_LIBRAS',\n",
        "       'IN_TEMPO_ADICIONAL', 'IN_LEITURA_LABIAL', 'IN_MESA_CADEIRA_RODAS',\n",
        "       'IN_MESA_CADEIRA_SEPARADA', 'IN_APOIO_PERNA', 'IN_GUIA_INTERPRETE',\n",
        "       'IN_COMPUTADOR', 'IN_CADEIRA_ESPECIAL',\n",
        "       'IN_CADEIRA_ACOLCHOADA', 'IN_PROVA_DEITADO', 'IN_MOBILIARIO_OBESO',\n",
        "       'IN_LAMINA_OVERLAY', 'IN_PROTETOR_AURICULAR', 'IN_MEDIDOR_GLICOSE',\n",
        "       'IN_MAQUINA_BRAILE', 'IN_SOROBAN', 'IN_MARCA_PASSO', 'IN_SONDA',\n",
        "       'IN_MEDICAMENTOS', 'IN_SALA_INDIVIDUAL', 'IN_SALA_ESPECIAL',\n",
        "       'IN_SALA_ACOMPANHANTE', 'IN_MOBILIARIO_ESPECIFICO',\n",
        "       'IN_MATERIAL_ESPECIFICO', 'IN_NOME_SOCIAL', 'CO_MUNICIPIO_PROVA',\n",
        "       'NO_MUNICIPIO_PROVA', 'CO_UF_PROVA', 'SG_UF_PROVA',\n",
        "       'TP_PRESENCA_CN', 'TP_PRESENCA_CH', 'TP_PRESENCA_LC',\n",
        "       'TP_PRESENCA_MT', 'CO_PROVA_CN', 'CO_PROVA_CH', 'CO_PROVA_LC',\n",
        "       'CO_PROVA_MT', 'TX_RESPOSTAS_CN', 'TX_RESPOSTAS_CH',\n",
        "       'TX_RESPOSTAS_LC', 'TX_RESPOSTAS_MT', 'TP_LINGUA',\n",
        "       'TX_GABARITO_CN', 'TX_GABARITO_CH', 'TX_GABARITO_LC',\n",
        "       'TX_GABARITO_MT', 'Q001', 'Q002', 'Q003', 'Q004',\n",
        "       'Q007', 'Q008', 'Q009', 'Q010', 'Q011', 'Q012', 'Q013', 'Q014',\n",
        "       'Q015', 'Q016', 'Q017', 'Q018', 'Q019', 'Q020', 'Q021', 'Q022',\n",
        "       'Q023','IN_TREINEIRO'], axis=1)\n",
        "\n",
        "dados_escolhidos1.columns.values"
      ],
      "execution_count": null,
      "outputs": [
        {
          "output_type": "execute_result",
          "data": {
            "text/plain": [
              "array(['SG_UF_RESIDENCIA', 'NU_IDADE', 'TP_SEXO', 'TP_COR_RACA',\n",
              "       'TP_ESCOLA', 'TP_ENSINO', 'TP_LOCALIZACAO_ESC',\n",
              "       'IN_CADEIRA_CANHOTO', 'NU_NOTA_CN', 'NU_NOTA_CH', 'NU_NOTA_LC',\n",
              "       'NU_NOTA_MT', 'TP_STATUS_REDACAO', 'NU_NOTA_COMP1',\n",
              "       'NU_NOTA_COMP2', 'NU_NOTA_COMP3', 'NU_NOTA_COMP4', 'NU_NOTA_COMP5',\n",
              "       'NU_NOTA_REDACAO', 'Q005', 'Q006', 'Q024', 'Q025'], dtype=object)"
            ]
          },
          "metadata": {
            "tags": []
          },
          "execution_count": 417
        }
      ]
    },
    {
      "cell_type": "code",
      "metadata": {
        "id": "k1Wmm__GAECQ",
        "outputId": "90a02ec1-8658-4f84-94f7-f4bc977ab3a7",
        "colab": {
          "base_uri": "https://localhost:8080/",
          "height": 436
        }
      },
      "source": [
        "# Desafio06: explorar a documentacao e visualizações com matplotlib ou pandas e gerar novas visualizações\n",
        "# check correlations\n",
        "corr = dados_escolhidos1.corr()\n",
        "corr.style.background_gradient(cmap='coolwarm')"
      ],
      "execution_count": null,
      "outputs": [
        {
          "output_type": "execute_result",
          "data": {
            "text/html": [
              "<style  type=\"text/css\" >\n",
              "#T_3200f974_12d8_11eb_aaa5_0242ac1c0002row0_col0,#T_3200f974_12d8_11eb_aaa5_0242ac1c0002row1_col1,#T_3200f974_12d8_11eb_aaa5_0242ac1c0002row2_col2,#T_3200f974_12d8_11eb_aaa5_0242ac1c0002row3_col3,#T_3200f974_12d8_11eb_aaa5_0242ac1c0002row4_col4,#T_3200f974_12d8_11eb_aaa5_0242ac1c0002row5_col5,#T_3200f974_12d8_11eb_aaa5_0242ac1c0002row6_col6,#T_3200f974_12d8_11eb_aaa5_0242ac1c0002row7_col7,#T_3200f974_12d8_11eb_aaa5_0242ac1c0002row8_col8,#T_3200f974_12d8_11eb_aaa5_0242ac1c0002row9_col9,#T_3200f974_12d8_11eb_aaa5_0242ac1c0002row10_col10,#T_3200f974_12d8_11eb_aaa5_0242ac1c0002row11_col11,#T_3200f974_12d8_11eb_aaa5_0242ac1c0002row12_col12,#T_3200f974_12d8_11eb_aaa5_0242ac1c0002row13_col13,#T_3200f974_12d8_11eb_aaa5_0242ac1c0002row14_col14,#T_3200f974_12d8_11eb_aaa5_0242ac1c0002row15_col15,#T_3200f974_12d8_11eb_aaa5_0242ac1c0002row16_col16,#T_3200f974_12d8_11eb_aaa5_0242ac1c0002row17_col17{\n",
              "            background-color:  #b40426;\n",
              "            color:  #f1f1f1;\n",
              "        }#T_3200f974_12d8_11eb_aaa5_0242ac1c0002row0_col1{\n",
              "            background-color:  #80a3fa;\n",
              "            color:  #000000;\n",
              "        }#T_3200f974_12d8_11eb_aaa5_0242ac1c0002row0_col2,#T_3200f974_12d8_11eb_aaa5_0242ac1c0002row0_col17,#T_3200f974_12d8_11eb_aaa5_0242ac1c0002row1_col5,#T_3200f974_12d8_11eb_aaa5_0242ac1c0002row1_col6,#T_3200f974_12d8_11eb_aaa5_0242ac1c0002row1_col7,#T_3200f974_12d8_11eb_aaa5_0242ac1c0002row1_col8,#T_3200f974_12d8_11eb_aaa5_0242ac1c0002row1_col9,#T_3200f974_12d8_11eb_aaa5_0242ac1c0002row2_col0,#T_3200f974_12d8_11eb_aaa5_0242ac1c0002row2_col5,#T_3200f974_12d8_11eb_aaa5_0242ac1c0002row8_col4,#T_3200f974_12d8_11eb_aaa5_0242ac1c0002row9_col1,#T_3200f974_12d8_11eb_aaa5_0242ac1c0002row10_col11,#T_3200f974_12d8_11eb_aaa5_0242ac1c0002row10_col12,#T_3200f974_12d8_11eb_aaa5_0242ac1c0002row10_col13,#T_3200f974_12d8_11eb_aaa5_0242ac1c0002row10_col14,#T_3200f974_12d8_11eb_aaa5_0242ac1c0002row10_col15,#T_3200f974_12d8_11eb_aaa5_0242ac1c0002row10_col16,#T_3200f974_12d8_11eb_aaa5_0242ac1c0002row11_col10,#T_3200f974_12d8_11eb_aaa5_0242ac1c0002row14_col3,#T_3200f974_12d8_11eb_aaa5_0242ac1c0002row16_col3,#T_3200f974_12d8_11eb_aaa5_0242ac1c0002row17_col5{\n",
              "            background-color:  #3b4cc0;\n",
              "            color:  #f1f1f1;\n",
              "        }#T_3200f974_12d8_11eb_aaa5_0242ac1c0002row0_col3,#T_3200f974_12d8_11eb_aaa5_0242ac1c0002row3_col4,#T_3200f974_12d8_11eb_aaa5_0242ac1c0002row10_col6,#T_3200f974_12d8_11eb_aaa5_0242ac1c0002row13_col1,#T_3200f974_12d8_11eb_aaa5_0242ac1c0002row13_col17,#T_3200f974_12d8_11eb_aaa5_0242ac1c0002row15_col1{\n",
              "            background-color:  #506bda;\n",
              "            color:  #000000;\n",
              "        }#T_3200f974_12d8_11eb_aaa5_0242ac1c0002row0_col4,#T_3200f974_12d8_11eb_aaa5_0242ac1c0002row16_col17,#T_3200f974_12d8_11eb_aaa5_0242ac1c0002row17_col7,#T_3200f974_12d8_11eb_aaa5_0242ac1c0002row17_col8{\n",
              "            background-color:  #4f69d9;\n",
              "            color:  #000000;\n",
              "        }#T_3200f974_12d8_11eb_aaa5_0242ac1c0002row0_col5,#T_3200f974_12d8_11eb_aaa5_0242ac1c0002row6_col1,#T_3200f974_12d8_11eb_aaa5_0242ac1c0002row8_col1,#T_3200f974_12d8_11eb_aaa5_0242ac1c0002row10_col8,#T_3200f974_12d8_11eb_aaa5_0242ac1c0002row11_col3,#T_3200f974_12d8_11eb_aaa5_0242ac1c0002row15_col3{\n",
              "            background-color:  #3c4ec2;\n",
              "            color:  #f1f1f1;\n",
              "        }#T_3200f974_12d8_11eb_aaa5_0242ac1c0002row0_col6,#T_3200f974_12d8_11eb_aaa5_0242ac1c0002row2_col1,#T_3200f974_12d8_11eb_aaa5_0242ac1c0002row4_col6,#T_3200f974_12d8_11eb_aaa5_0242ac1c0002row5_col17{\n",
              "            background-color:  #5e7de7;\n",
              "            color:  #000000;\n",
              "        }#T_3200f974_12d8_11eb_aaa5_0242ac1c0002row0_col7,#T_3200f974_12d8_11eb_aaa5_0242ac1c0002row4_col9,#T_3200f974_12d8_11eb_aaa5_0242ac1c0002row11_col0,#T_3200f974_12d8_11eb_aaa5_0242ac1c0002row13_col0{\n",
              "            background-color:  #6384eb;\n",
              "            color:  #000000;\n",
              "        }#T_3200f974_12d8_11eb_aaa5_0242ac1c0002row0_col8,#T_3200f974_12d8_11eb_aaa5_0242ac1c0002row10_col4{\n",
              "            background-color:  #5673e0;\n",
              "            color:  #000000;\n",
              "        }#T_3200f974_12d8_11eb_aaa5_0242ac1c0002row0_col9,#T_3200f974_12d8_11eb_aaa5_0242ac1c0002row9_col17{\n",
              "            background-color:  #4a63d3;\n",
              "            color:  #f1f1f1;\n",
              "        }#T_3200f974_12d8_11eb_aaa5_0242ac1c0002row0_col10{\n",
              "            background-color:  #c7d7f0;\n",
              "            color:  #000000;\n",
              "        }#T_3200f974_12d8_11eb_aaa5_0242ac1c0002row0_col11,#T_3200f974_12d8_11eb_aaa5_0242ac1c0002row4_col13,#T_3200f974_12d8_11eb_aaa5_0242ac1c0002row9_col2,#T_3200f974_12d8_11eb_aaa5_0242ac1c0002row15_col2,#T_3200f974_12d8_11eb_aaa5_0242ac1c0002row17_col12{\n",
              "            background-color:  #9fbfff;\n",
              "            color:  #000000;\n",
              "        }#T_3200f974_12d8_11eb_aaa5_0242ac1c0002row0_col12,#T_3200f974_12d8_11eb_aaa5_0242ac1c0002row0_col14{\n",
              "            background-color:  #8caffe;\n",
              "            color:  #000000;\n",
              "        }#T_3200f974_12d8_11eb_aaa5_0242ac1c0002row0_col13,#T_3200f974_12d8_11eb_aaa5_0242ac1c0002row0_col16,#T_3200f974_12d8_11eb_aaa5_0242ac1c0002row2_col9,#T_3200f974_12d8_11eb_aaa5_0242ac1c0002row4_col0,#T_3200f974_12d8_11eb_aaa5_0242ac1c0002row5_col0,#T_3200f974_12d8_11eb_aaa5_0242ac1c0002row17_col1{\n",
              "            background-color:  #89acfd;\n",
              "            color:  #000000;\n",
              "        }#T_3200f974_12d8_11eb_aaa5_0242ac1c0002row0_col15,#T_3200f974_12d8_11eb_aaa5_0242ac1c0002row1_col4{\n",
              "            background-color:  #5875e1;\n",
              "            color:  #000000;\n",
              "        }#T_3200f974_12d8_11eb_aaa5_0242ac1c0002row1_col0,#T_3200f974_12d8_11eb_aaa5_0242ac1c0002row2_col15,#T_3200f974_12d8_11eb_aaa5_0242ac1c0002row10_col0{\n",
              "            background-color:  #97b8ff;\n",
              "            color:  #000000;\n",
              "        }#T_3200f974_12d8_11eb_aaa5_0242ac1c0002row1_col2,#T_3200f974_12d8_11eb_aaa5_0242ac1c0002row2_col8,#T_3200f974_12d8_11eb_aaa5_0242ac1c0002row4_col1{\n",
              "            background-color:  #779af7;\n",
              "            color:  #000000;\n",
              "        }#T_3200f974_12d8_11eb_aaa5_0242ac1c0002row1_col3,#T_3200f974_12d8_11eb_aaa5_0242ac1c0002row7_col17,#T_3200f974_12d8_11eb_aaa5_0242ac1c0002row9_col4,#T_3200f974_12d8_11eb_aaa5_0242ac1c0002row12_col4{\n",
              "            background-color:  #4257c9;\n",
              "            color:  #f1f1f1;\n",
              "        }#T_3200f974_12d8_11eb_aaa5_0242ac1c0002row1_col10{\n",
              "            background-color:  #c4d5f3;\n",
              "            color:  #000000;\n",
              "        }#T_3200f974_12d8_11eb_aaa5_0242ac1c0002row1_col11,#T_3200f974_12d8_11eb_aaa5_0242ac1c0002row4_col16{\n",
              "            background-color:  #a3c2fe;\n",
              "            color:  #000000;\n",
              "        }#T_3200f974_12d8_11eb_aaa5_0242ac1c0002row1_col12{\n",
              "            background-color:  #94b6ff;\n",
              "            color:  #000000;\n",
              "        }#T_3200f974_12d8_11eb_aaa5_0242ac1c0002row1_col13{\n",
              "            background-color:  #90b2fe;\n",
              "            color:  #000000;\n",
              "        }#T_3200f974_12d8_11eb_aaa5_0242ac1c0002row1_col14{\n",
              "            background-color:  #9bbcff;\n",
              "            color:  #000000;\n",
              "        }#T_3200f974_12d8_11eb_aaa5_0242ac1c0002row1_col15,#T_3200f974_12d8_11eb_aaa5_0242ac1c0002row15_col0{\n",
              "            background-color:  #6180e9;\n",
              "            color:  #000000;\n",
              "        }#T_3200f974_12d8_11eb_aaa5_0242ac1c0002row1_col16,#T_3200f974_12d8_11eb_aaa5_0242ac1c0002row7_col2{\n",
              "            background-color:  #93b5fe;\n",
              "            color:  #000000;\n",
              "        }#T_3200f974_12d8_11eb_aaa5_0242ac1c0002row1_col17,#T_3200f974_12d8_11eb_aaa5_0242ac1c0002row6_col0,#T_3200f974_12d8_11eb_aaa5_0242ac1c0002row10_col1{\n",
              "            background-color:  #7a9df8;\n",
              "            color:  #000000;\n",
              "        }#T_3200f974_12d8_11eb_aaa5_0242ac1c0002row2_col3,#T_3200f974_12d8_11eb_aaa5_0242ac1c0002row6_col3,#T_3200f974_12d8_11eb_aaa5_0242ac1c0002row12_col3,#T_3200f974_12d8_11eb_aaa5_0242ac1c0002row13_col3{\n",
              "            background-color:  #3d50c3;\n",
              "            color:  #f1f1f1;\n",
              "        }#T_3200f974_12d8_11eb_aaa5_0242ac1c0002row2_col4,#T_3200f974_12d8_11eb_aaa5_0242ac1c0002row6_col4,#T_3200f974_12d8_11eb_aaa5_0242ac1c0002row7_col1,#T_3200f974_12d8_11eb_aaa5_0242ac1c0002row7_col3,#T_3200f974_12d8_11eb_aaa5_0242ac1c0002row7_col4,#T_3200f974_12d8_11eb_aaa5_0242ac1c0002row8_col3,#T_3200f974_12d8_11eb_aaa5_0242ac1c0002row9_col3,#T_3200f974_12d8_11eb_aaa5_0242ac1c0002row17_col3{\n",
              "            background-color:  #3e51c5;\n",
              "            color:  #f1f1f1;\n",
              "        }#T_3200f974_12d8_11eb_aaa5_0242ac1c0002row2_col6{\n",
              "            background-color:  #7da0f9;\n",
              "            color:  #000000;\n",
              "        }#T_3200f974_12d8_11eb_aaa5_0242ac1c0002row2_col7{\n",
              "            background-color:  #7699f6;\n",
              "            color:  #000000;\n",
              "        }#T_3200f974_12d8_11eb_aaa5_0242ac1c0002row2_col10{\n",
              "            background-color:  #bcd2f7;\n",
              "            color:  #000000;\n",
              "        }#T_3200f974_12d8_11eb_aaa5_0242ac1c0002row2_col11{\n",
              "            background-color:  #c6d6f1;\n",
              "            color:  #000000;\n",
              "        }#T_3200f974_12d8_11eb_aaa5_0242ac1c0002row2_col12,#T_3200f974_12d8_11eb_aaa5_0242ac1c0002row3_col11{\n",
              "            background-color:  #b9d0f9;\n",
              "            color:  #000000;\n",
              "        }#T_3200f974_12d8_11eb_aaa5_0242ac1c0002row2_col13{\n",
              "            background-color:  #b7cff9;\n",
              "            color:  #000000;\n",
              "        }#T_3200f974_12d8_11eb_aaa5_0242ac1c0002row2_col14{\n",
              "            background-color:  #c3d5f4;\n",
              "            color:  #000000;\n",
              "        }#T_3200f974_12d8_11eb_aaa5_0242ac1c0002row2_col16,#T_3200f974_12d8_11eb_aaa5_0242ac1c0002row17_col10{\n",
              "            background-color:  #c0d4f5;\n",
              "            color:  #000000;\n",
              "        }#T_3200f974_12d8_11eb_aaa5_0242ac1c0002row2_col17,#T_3200f974_12d8_11eb_aaa5_0242ac1c0002row3_col1{\n",
              "            background-color:  #7093f3;\n",
              "            color:  #000000;\n",
              "        }#T_3200f974_12d8_11eb_aaa5_0242ac1c0002row3_col0,#T_3200f974_12d8_11eb_aaa5_0242ac1c0002row6_col2,#T_3200f974_12d8_11eb_aaa5_0242ac1c0002row8_col10,#T_3200f974_12d8_11eb_aaa5_0242ac1c0002row11_col2{\n",
              "            background-color:  #96b7ff;\n",
              "            color:  #000000;\n",
              "        }#T_3200f974_12d8_11eb_aaa5_0242ac1c0002row3_col2{\n",
              "            background-color:  #85a8fc;\n",
              "            color:  #000000;\n",
              "        }#T_3200f974_12d8_11eb_aaa5_0242ac1c0002row3_col5,#T_3200f974_12d8_11eb_aaa5_0242ac1c0002row4_col5,#T_3200f974_12d8_11eb_aaa5_0242ac1c0002row5_col3,#T_3200f974_12d8_11eb_aaa5_0242ac1c0002row5_col4,#T_3200f974_12d8_11eb_aaa5_0242ac1c0002row5_col6,#T_3200f974_12d8_11eb_aaa5_0242ac1c0002row5_col7,#T_3200f974_12d8_11eb_aaa5_0242ac1c0002row5_col8,#T_3200f974_12d8_11eb_aaa5_0242ac1c0002row5_col9,#T_3200f974_12d8_11eb_aaa5_0242ac1c0002row5_col10,#T_3200f974_12d8_11eb_aaa5_0242ac1c0002row5_col11,#T_3200f974_12d8_11eb_aaa5_0242ac1c0002row5_col12,#T_3200f974_12d8_11eb_aaa5_0242ac1c0002row5_col13,#T_3200f974_12d8_11eb_aaa5_0242ac1c0002row5_col14,#T_3200f974_12d8_11eb_aaa5_0242ac1c0002row5_col15,#T_3200f974_12d8_11eb_aaa5_0242ac1c0002row5_col16,#T_3200f974_12d8_11eb_aaa5_0242ac1c0002row6_col5,#T_3200f974_12d8_11eb_aaa5_0242ac1c0002row7_col5,#T_3200f974_12d8_11eb_aaa5_0242ac1c0002row8_col5,#T_3200f974_12d8_11eb_aaa5_0242ac1c0002row9_col5,#T_3200f974_12d8_11eb_aaa5_0242ac1c0002row10_col5,#T_3200f974_12d8_11eb_aaa5_0242ac1c0002row11_col5,#T_3200f974_12d8_11eb_aaa5_0242ac1c0002row12_col5,#T_3200f974_12d8_11eb_aaa5_0242ac1c0002row13_col5,#T_3200f974_12d8_11eb_aaa5_0242ac1c0002row14_col5,#T_3200f974_12d8_11eb_aaa5_0242ac1c0002row15_col5,#T_3200f974_12d8_11eb_aaa5_0242ac1c0002row16_col5{\n",
              "            background-color:  #000000;\n",
              "            color:  #f1f1f1;\n",
              "        }#T_3200f974_12d8_11eb_aaa5_0242ac1c0002row3_col6{\n",
              "            background-color:  #6a8bef;\n",
              "            color:  #000000;\n",
              "        }#T_3200f974_12d8_11eb_aaa5_0242ac1c0002row3_col7{\n",
              "            background-color:  #688aef;\n",
              "            color:  #000000;\n",
              "        }#T_3200f974_12d8_11eb_aaa5_0242ac1c0002row3_col8,#T_3200f974_12d8_11eb_aaa5_0242ac1c0002row4_col17{\n",
              "            background-color:  #6b8df0;\n",
              "            color:  #000000;\n",
              "        }#T_3200f974_12d8_11eb_aaa5_0242ac1c0002row3_col9{\n",
              "            background-color:  #6c8ff1;\n",
              "            color:  #000000;\n",
              "        }#T_3200f974_12d8_11eb_aaa5_0242ac1c0002row3_col10{\n",
              "            background-color:  #bed2f6;\n",
              "            color:  #000000;\n",
              "        }#T_3200f974_12d8_11eb_aaa5_0242ac1c0002row3_col12,#T_3200f974_12d8_11eb_aaa5_0242ac1c0002row3_col13,#T_3200f974_12d8_11eb_aaa5_0242ac1c0002row9_col10{\n",
              "            background-color:  #a7c5fe;\n",
              "            color:  #000000;\n",
              "        }#T_3200f974_12d8_11eb_aaa5_0242ac1c0002row3_col14{\n",
              "            background-color:  #aec9fc;\n",
              "            color:  #000000;\n",
              "        }#T_3200f974_12d8_11eb_aaa5_0242ac1c0002row3_col15{\n",
              "            background-color:  #7b9ff9;\n",
              "            color:  #000000;\n",
              "        }#T_3200f974_12d8_11eb_aaa5_0242ac1c0002row3_col16,#T_3200f974_12d8_11eb_aaa5_0242ac1c0002row4_col14,#T_3200f974_12d8_11eb_aaa5_0242ac1c0002row17_col14{\n",
              "            background-color:  #aac7fd;\n",
              "            color:  #000000;\n",
              "        }#T_3200f974_12d8_11eb_aaa5_0242ac1c0002row3_col17,#T_3200f974_12d8_11eb_aaa5_0242ac1c0002row14_col0{\n",
              "            background-color:  #5b7ae5;\n",
              "            color:  #000000;\n",
              "        }#T_3200f974_12d8_11eb_aaa5_0242ac1c0002row4_col2{\n",
              "            background-color:  #799cf8;\n",
              "            color:  #000000;\n",
              "        }#T_3200f974_12d8_11eb_aaa5_0242ac1c0002row4_col3,#T_3200f974_12d8_11eb_aaa5_0242ac1c0002row10_col3,#T_3200f974_12d8_11eb_aaa5_0242ac1c0002row14_col4,#T_3200f974_12d8_11eb_aaa5_0242ac1c0002row15_col4{\n",
              "            background-color:  #4358cb;\n",
              "            color:  #f1f1f1;\n",
              "        }#T_3200f974_12d8_11eb_aaa5_0242ac1c0002row4_col7,#T_3200f974_12d8_11eb_aaa5_0242ac1c0002row17_col4,#T_3200f974_12d8_11eb_aaa5_0242ac1c0002row17_col9{\n",
              "            background-color:  #5a78e4;\n",
              "            color:  #000000;\n",
              "        }#T_3200f974_12d8_11eb_aaa5_0242ac1c0002row4_col8{\n",
              "            background-color:  #5977e3;\n",
              "            color:  #000000;\n",
              "        }#T_3200f974_12d8_11eb_aaa5_0242ac1c0002row4_col10{\n",
              "            background-color:  #c1d4f4;\n",
              "            color:  #000000;\n",
              "        }#T_3200f974_12d8_11eb_aaa5_0242ac1c0002row4_col11{\n",
              "            background-color:  #b2ccfb;\n",
              "            color:  #000000;\n",
              "        }#T_3200f974_12d8_11eb_aaa5_0242ac1c0002row4_col12{\n",
              "            background-color:  #a1c0ff;\n",
              "            color:  #000000;\n",
              "        }#T_3200f974_12d8_11eb_aaa5_0242ac1c0002row4_col15{\n",
              "            background-color:  #7597f6;\n",
              "            color:  #000000;\n",
              "        }#T_3200f974_12d8_11eb_aaa5_0242ac1c0002row5_col1{\n",
              "            background-color:  #6f92f3;\n",
              "            color:  #000000;\n",
              "        }#T_3200f974_12d8_11eb_aaa5_0242ac1c0002row5_col2,#T_3200f974_12d8_11eb_aaa5_0242ac1c0002row10_col2{\n",
              "            background-color:  #88abfd;\n",
              "            color:  #000000;\n",
              "        }#T_3200f974_12d8_11eb_aaa5_0242ac1c0002row6_col7{\n",
              "            background-color:  #f6a586;\n",
              "            color:  #000000;\n",
              "        }#T_3200f974_12d8_11eb_aaa5_0242ac1c0002row6_col8,#T_3200f974_12d8_11eb_aaa5_0242ac1c0002row8_col6{\n",
              "            background-color:  #f7ac8e;\n",
              "            color:  #000000;\n",
              "        }#T_3200f974_12d8_11eb_aaa5_0242ac1c0002row6_col9{\n",
              "            background-color:  #f7a98b;\n",
              "            color:  #000000;\n",
              "        }#T_3200f974_12d8_11eb_aaa5_0242ac1c0002row6_col10{\n",
              "            background-color:  #a6c4fe;\n",
              "            color:  #000000;\n",
              "        }#T_3200f974_12d8_11eb_aaa5_0242ac1c0002row6_col11,#T_3200f974_12d8_11eb_aaa5_0242ac1c0002row9_col11{\n",
              "            background-color:  #f6bda2;\n",
              "            color:  #000000;\n",
              "        }#T_3200f974_12d8_11eb_aaa5_0242ac1c0002row6_col12{\n",
              "            background-color:  #f2c9b4;\n",
              "            color:  #000000;\n",
              "        }#T_3200f974_12d8_11eb_aaa5_0242ac1c0002row6_col13,#T_3200f974_12d8_11eb_aaa5_0242ac1c0002row6_col14{\n",
              "            background-color:  #f6bfa6;\n",
              "            color:  #000000;\n",
              "        }#T_3200f974_12d8_11eb_aaa5_0242ac1c0002row6_col15,#T_3200f974_12d8_11eb_aaa5_0242ac1c0002row11_col8{\n",
              "            background-color:  #edd1c2;\n",
              "            color:  #000000;\n",
              "        }#T_3200f974_12d8_11eb_aaa5_0242ac1c0002row6_col16{\n",
              "            background-color:  #f7b497;\n",
              "            color:  #000000;\n",
              "        }#T_3200f974_12d8_11eb_aaa5_0242ac1c0002row6_col17{\n",
              "            background-color:  #445acc;\n",
              "            color:  #f1f1f1;\n",
              "        }#T_3200f974_12d8_11eb_aaa5_0242ac1c0002row7_col0{\n",
              "            background-color:  #81a4fb;\n",
              "            color:  #000000;\n",
              "        }#T_3200f974_12d8_11eb_aaa5_0242ac1c0002row7_col6{\n",
              "            background-color:  #f6a385;\n",
              "            color:  #000000;\n",
              "        }#T_3200f974_12d8_11eb_aaa5_0242ac1c0002row7_col8,#T_3200f974_12d8_11eb_aaa5_0242ac1c0002row8_col7{\n",
              "            background-color:  #f08a6c;\n",
              "            color:  #000000;\n",
              "        }#T_3200f974_12d8_11eb_aaa5_0242ac1c0002row7_col9,#T_3200f974_12d8_11eb_aaa5_0242ac1c0002row7_col11{\n",
              "            background-color:  #f7b599;\n",
              "            color:  #000000;\n",
              "        }#T_3200f974_12d8_11eb_aaa5_0242ac1c0002row7_col10,#T_3200f974_12d8_11eb_aaa5_0242ac1c0002row12_col2{\n",
              "            background-color:  #9abbff;\n",
              "            color:  #000000;\n",
              "        }#T_3200f974_12d8_11eb_aaa5_0242ac1c0002row7_col12,#T_3200f974_12d8_11eb_aaa5_0242ac1c0002row8_col12{\n",
              "            background-color:  #f5c4ac;\n",
              "            color:  #000000;\n",
              "        }#T_3200f974_12d8_11eb_aaa5_0242ac1c0002row7_col13,#T_3200f974_12d8_11eb_aaa5_0242ac1c0002row11_col15{\n",
              "            background-color:  #f7b99e;\n",
              "            color:  #000000;\n",
              "        }#T_3200f974_12d8_11eb_aaa5_0242ac1c0002row7_col14,#T_3200f974_12d8_11eb_aaa5_0242ac1c0002row9_col8{\n",
              "            background-color:  #f7bca1;\n",
              "            color:  #000000;\n",
              "        }#T_3200f974_12d8_11eb_aaa5_0242ac1c0002row7_col15{\n",
              "            background-color:  #f0cdbb;\n",
              "            color:  #000000;\n",
              "        }#T_3200f974_12d8_11eb_aaa5_0242ac1c0002row7_col16{\n",
              "            background-color:  #f7af91;\n",
              "            color:  #000000;\n",
              "        }#T_3200f974_12d8_11eb_aaa5_0242ac1c0002row8_col0,#T_3200f974_12d8_11eb_aaa5_0242ac1c0002row17_col15{\n",
              "            background-color:  #7295f4;\n",
              "            color:  #000000;\n",
              "        }#T_3200f974_12d8_11eb_aaa5_0242ac1c0002row8_col2{\n",
              "            background-color:  #92b4fe;\n",
              "            color:  #000000;\n",
              "        }#T_3200f974_12d8_11eb_aaa5_0242ac1c0002row8_col9,#T_3200f974_12d8_11eb_aaa5_0242ac1c0002row8_col14{\n",
              "            background-color:  #f7ba9f;\n",
              "            color:  #000000;\n",
              "        }#T_3200f974_12d8_11eb_aaa5_0242ac1c0002row8_col11{\n",
              "            background-color:  #f7b093;\n",
              "            color:  #000000;\n",
              "        }#T_3200f974_12d8_11eb_aaa5_0242ac1c0002row8_col13{\n",
              "            background-color:  #f7b89c;\n",
              "            color:  #000000;\n",
              "        }#T_3200f974_12d8_11eb_aaa5_0242ac1c0002row8_col15{\n",
              "            background-color:  #f1cdba;\n",
              "            color:  #000000;\n",
              "        }#T_3200f974_12d8_11eb_aaa5_0242ac1c0002row8_col16{\n",
              "            background-color:  #f7ad90;\n",
              "            color:  #000000;\n",
              "        }#T_3200f974_12d8_11eb_aaa5_0242ac1c0002row8_col17,#T_3200f974_12d8_11eb_aaa5_0242ac1c0002row13_col4,#T_3200f974_12d8_11eb_aaa5_0242ac1c0002row16_col4{\n",
              "            background-color:  #4055c8;\n",
              "            color:  #f1f1f1;\n",
              "        }#T_3200f974_12d8_11eb_aaa5_0242ac1c0002row9_col0,#T_3200f974_12d8_11eb_aaa5_0242ac1c0002row10_col17,#T_3200f974_12d8_11eb_aaa5_0242ac1c0002row17_col0{\n",
              "            background-color:  #6485ec;\n",
              "            color:  #000000;\n",
              "        }#T_3200f974_12d8_11eb_aaa5_0242ac1c0002row9_col6{\n",
              "            background-color:  #f7aa8c;\n",
              "            color:  #000000;\n",
              "        }#T_3200f974_12d8_11eb_aaa5_0242ac1c0002row9_col7,#T_3200f974_12d8_11eb_aaa5_0242ac1c0002row9_col16{\n",
              "            background-color:  #f7b79b;\n",
              "            color:  #000000;\n",
              "        }#T_3200f974_12d8_11eb_aaa5_0242ac1c0002row9_col12{\n",
              "            background-color:  #f2cbb7;\n",
              "            color:  #000000;\n",
              "        }#T_3200f974_12d8_11eb_aaa5_0242ac1c0002row9_col13{\n",
              "            background-color:  #f5c1a9;\n",
              "            color:  #000000;\n",
              "        }#T_3200f974_12d8_11eb_aaa5_0242ac1c0002row9_col14{\n",
              "            background-color:  #f5c0a7;\n",
              "            color:  #000000;\n",
              "        }#T_3200f974_12d8_11eb_aaa5_0242ac1c0002row9_col15,#T_3200f974_12d8_11eb_aaa5_0242ac1c0002row15_col7{\n",
              "            background-color:  #ebd3c6;\n",
              "            color:  #000000;\n",
              "        }#T_3200f974_12d8_11eb_aaa5_0242ac1c0002row10_col7,#T_3200f974_12d8_11eb_aaa5_0242ac1c0002row11_col4{\n",
              "            background-color:  #3f53c6;\n",
              "            color:  #f1f1f1;\n",
              "        }#T_3200f974_12d8_11eb_aaa5_0242ac1c0002row10_col9,#T_3200f974_12d8_11eb_aaa5_0242ac1c0002row12_col10,#T_3200f974_12d8_11eb_aaa5_0242ac1c0002row13_col10,#T_3200f974_12d8_11eb_aaa5_0242ac1c0002row14_col17,#T_3200f974_12d8_11eb_aaa5_0242ac1c0002row17_col6{\n",
              "            background-color:  #536edd;\n",
              "            color:  #000000;\n",
              "        }#T_3200f974_12d8_11eb_aaa5_0242ac1c0002row11_col1,#T_3200f974_12d8_11eb_aaa5_0242ac1c0002row11_col17,#T_3200f974_12d8_11eb_aaa5_0242ac1c0002row16_col10{\n",
              "            background-color:  #4e68d8;\n",
              "            color:  #000000;\n",
              "        }#T_3200f974_12d8_11eb_aaa5_0242ac1c0002row11_col6,#T_3200f974_12d8_11eb_aaa5_0242ac1c0002row11_col9{\n",
              "            background-color:  #e2dad5;\n",
              "            color:  #000000;\n",
              "        }#T_3200f974_12d8_11eb_aaa5_0242ac1c0002row11_col7,#T_3200f974_12d8_11eb_aaa5_0242ac1c0002row13_col6{\n",
              "            background-color:  #ead5c9;\n",
              "            color:  #000000;\n",
              "        }#T_3200f974_12d8_11eb_aaa5_0242ac1c0002row11_col12{\n",
              "            background-color:  #ed8366;\n",
              "            color:  #000000;\n",
              "        }#T_3200f974_12d8_11eb_aaa5_0242ac1c0002row11_col13{\n",
              "            background-color:  #e26952;\n",
              "            color:  #000000;\n",
              "        }#T_3200f974_12d8_11eb_aaa5_0242ac1c0002row11_col14{\n",
              "            background-color:  #d95847;\n",
              "            color:  #000000;\n",
              "        }#T_3200f974_12d8_11eb_aaa5_0242ac1c0002row11_col16{\n",
              "            background-color:  #d55042;\n",
              "            color:  #000000;\n",
              "        }#T_3200f974_12d8_11eb_aaa5_0242ac1c0002row12_col0{\n",
              "            background-color:  #6687ed;\n",
              "            color:  #000000;\n",
              "        }#T_3200f974_12d8_11eb_aaa5_0242ac1c0002row12_col1{\n",
              "            background-color:  #5470de;\n",
              "            color:  #000000;\n",
              "        }#T_3200f974_12d8_11eb_aaa5_0242ac1c0002row12_col6{\n",
              "            background-color:  #dedcdb;\n",
              "            color:  #000000;\n",
              "        }#T_3200f974_12d8_11eb_aaa5_0242ac1c0002row12_col7{\n",
              "            background-color:  #e3d9d3;\n",
              "            color:  #000000;\n",
              "        }#T_3200f974_12d8_11eb_aaa5_0242ac1c0002row12_col8,#T_3200f974_12d8_11eb_aaa5_0242ac1c0002row14_col6,#T_3200f974_12d8_11eb_aaa5_0242ac1c0002row14_col9{\n",
              "            background-color:  #e4d9d2;\n",
              "            color:  #000000;\n",
              "        }#T_3200f974_12d8_11eb_aaa5_0242ac1c0002row12_col9{\n",
              "            background-color:  #dcdddd;\n",
              "            color:  #000000;\n",
              "        }#T_3200f974_12d8_11eb_aaa5_0242ac1c0002row12_col11{\n",
              "            background-color:  #ea7b60;\n",
              "            color:  #000000;\n",
              "        }#T_3200f974_12d8_11eb_aaa5_0242ac1c0002row12_col13,#T_3200f974_12d8_11eb_aaa5_0242ac1c0002row13_col12,#T_3200f974_12d8_11eb_aaa5_0242ac1c0002row16_col11{\n",
              "            background-color:  #d44e41;\n",
              "            color:  #000000;\n",
              "        }#T_3200f974_12d8_11eb_aaa5_0242ac1c0002row12_col14{\n",
              "            background-color:  #e7745b;\n",
              "            color:  #000000;\n",
              "        }#T_3200f974_12d8_11eb_aaa5_0242ac1c0002row12_col15{\n",
              "            background-color:  #f6a283;\n",
              "            color:  #000000;\n",
              "        }#T_3200f974_12d8_11eb_aaa5_0242ac1c0002row12_col16,#T_3200f974_12d8_11eb_aaa5_0242ac1c0002row16_col14{\n",
              "            background-color:  #cc403a;\n",
              "            color:  #f1f1f1;\n",
              "        }#T_3200f974_12d8_11eb_aaa5_0242ac1c0002row12_col17,#T_3200f974_12d8_11eb_aaa5_0242ac1c0002row14_col1,#T_3200f974_12d8_11eb_aaa5_0242ac1c0002row15_col17{\n",
              "            background-color:  #516ddb;\n",
              "            color:  #000000;\n",
              "        }#T_3200f974_12d8_11eb_aaa5_0242ac1c0002row13_col2,#T_3200f974_12d8_11eb_aaa5_0242ac1c0002row17_col2{\n",
              "            background-color:  #98b9ff;\n",
              "            color:  #000000;\n",
              "        }#T_3200f974_12d8_11eb_aaa5_0242ac1c0002row13_col7{\n",
              "            background-color:  #edd2c3;\n",
              "            color:  #000000;\n",
              "        }#T_3200f974_12d8_11eb_aaa5_0242ac1c0002row13_col8,#T_3200f974_12d8_11eb_aaa5_0242ac1c0002row16_col9{\n",
              "            background-color:  #eed0c0;\n",
              "            color:  #000000;\n",
              "        }#T_3200f974_12d8_11eb_aaa5_0242ac1c0002row13_col9{\n",
              "            background-color:  #e7d7ce;\n",
              "            color:  #000000;\n",
              "        }#T_3200f974_12d8_11eb_aaa5_0242ac1c0002row13_col11{\n",
              "            background-color:  #df634e;\n",
              "            color:  #000000;\n",
              "        }#T_3200f974_12d8_11eb_aaa5_0242ac1c0002row13_col14,#T_3200f974_12d8_11eb_aaa5_0242ac1c0002row16_col15{\n",
              "            background-color:  #dc5d4a;\n",
              "            color:  #000000;\n",
              "        }#T_3200f974_12d8_11eb_aaa5_0242ac1c0002row13_col15,#T_3200f974_12d8_11eb_aaa5_0242ac1c0002row15_col12,#T_3200f974_12d8_11eb_aaa5_0242ac1c0002row15_col14{\n",
              "            background-color:  #f29072;\n",
              "            color:  #000000;\n",
              "        }#T_3200f974_12d8_11eb_aaa5_0242ac1c0002row13_col16{\n",
              "            background-color:  #c32e31;\n",
              "            color:  #f1f1f1;\n",
              "        }#T_3200f974_12d8_11eb_aaa5_0242ac1c0002row14_col2,#T_3200f974_12d8_11eb_aaa5_0242ac1c0002row16_col2,#T_3200f974_12d8_11eb_aaa5_0242ac1c0002row17_col13{\n",
              "            background-color:  #9ebeff;\n",
              "            color:  #000000;\n",
              "        }#T_3200f974_12d8_11eb_aaa5_0242ac1c0002row14_col7,#T_3200f974_12d8_11eb_aaa5_0242ac1c0002row15_col6{\n",
              "            background-color:  #e8d6cc;\n",
              "            color:  #000000;\n",
              "        }#T_3200f974_12d8_11eb_aaa5_0242ac1c0002row14_col8{\n",
              "            background-color:  #e9d5cb;\n",
              "            color:  #000000;\n",
              "        }#T_3200f974_12d8_11eb_aaa5_0242ac1c0002row14_col10{\n",
              "            background-color:  #485fd1;\n",
              "            color:  #f1f1f1;\n",
              "        }#T_3200f974_12d8_11eb_aaa5_0242ac1c0002row14_col11{\n",
              "            background-color:  #d85646;\n",
              "            color:  #000000;\n",
              "        }#T_3200f974_12d8_11eb_aaa5_0242ac1c0002row14_col12{\n",
              "            background-color:  #e9785d;\n",
              "            color:  #000000;\n",
              "        }#T_3200f974_12d8_11eb_aaa5_0242ac1c0002row14_col13{\n",
              "            background-color:  #de614d;\n",
              "            color:  #000000;\n",
              "        }#T_3200f974_12d8_11eb_aaa5_0242ac1c0002row14_col15{\n",
              "            background-color:  #f7a688;\n",
              "            color:  #000000;\n",
              "        }#T_3200f974_12d8_11eb_aaa5_0242ac1c0002row14_col16,#T_3200f974_12d8_11eb_aaa5_0242ac1c0002row16_col12{\n",
              "            background-color:  #cd423b;\n",
              "            color:  #f1f1f1;\n",
              "        }#T_3200f974_12d8_11eb_aaa5_0242ac1c0002row15_col8{\n",
              "            background-color:  #ecd3c5;\n",
              "            color:  #000000;\n",
              "        }#T_3200f974_12d8_11eb_aaa5_0242ac1c0002row15_col9{\n",
              "            background-color:  #e6d7cf;\n",
              "            color:  #000000;\n",
              "        }#T_3200f974_12d8_11eb_aaa5_0242ac1c0002row15_col10{\n",
              "            background-color:  #84a7fc;\n",
              "            color:  #000000;\n",
              "        }#T_3200f974_12d8_11eb_aaa5_0242ac1c0002row15_col11{\n",
              "            background-color:  #f59d7e;\n",
              "            color:  #000000;\n",
              "        }#T_3200f974_12d8_11eb_aaa5_0242ac1c0002row15_col13{\n",
              "            background-color:  #ec8165;\n",
              "            color:  #000000;\n",
              "        }#T_3200f974_12d8_11eb_aaa5_0242ac1c0002row15_col16{\n",
              "            background-color:  #d65244;\n",
              "            color:  #000000;\n",
              "        }#T_3200f974_12d8_11eb_aaa5_0242ac1c0002row16_col0{\n",
              "            background-color:  #5d7ce6;\n",
              "            color:  #000000;\n",
              "        }#T_3200f974_12d8_11eb_aaa5_0242ac1c0002row16_col1{\n",
              "            background-color:  #4c66d6;\n",
              "            color:  #000000;\n",
              "        }#T_3200f974_12d8_11eb_aaa5_0242ac1c0002row16_col6{\n",
              "            background-color:  #efcebd;\n",
              "            color:  #000000;\n",
              "        }#T_3200f974_12d8_11eb_aaa5_0242ac1c0002row16_col7{\n",
              "            background-color:  #f2cab5;\n",
              "            color:  #000000;\n",
              "        }#T_3200f974_12d8_11eb_aaa5_0242ac1c0002row16_col8{\n",
              "            background-color:  #f3c8b2;\n",
              "            color:  #000000;\n",
              "        }#T_3200f974_12d8_11eb_aaa5_0242ac1c0002row16_col13{\n",
              "            background-color:  #c43032;\n",
              "            color:  #f1f1f1;\n",
              "        }#T_3200f974_12d8_11eb_aaa5_0242ac1c0002row17_col11{\n",
              "            background-color:  #afcafc;\n",
              "            color:  #000000;\n",
              "        }#T_3200f974_12d8_11eb_aaa5_0242ac1c0002row17_col16{\n",
              "            background-color:  #a2c1ff;\n",
              "            color:  #000000;\n",
              "        }</style><table id=\"T_3200f974_12d8_11eb_aaa5_0242ac1c0002\" ><thead>    <tr>        <th class=\"blank level0\" ></th>        <th class=\"col_heading level0 col0\" >NU_IDADE</th>        <th class=\"col_heading level0 col1\" >TP_COR_RACA</th>        <th class=\"col_heading level0 col2\" >TP_ESCOLA</th>        <th class=\"col_heading level0 col3\" >TP_ENSINO</th>        <th class=\"col_heading level0 col4\" >TP_LOCALIZACAO_ESC</th>        <th class=\"col_heading level0 col5\" >IN_CADEIRA_CANHOTO</th>        <th class=\"col_heading level0 col6\" >NU_NOTA_CN</th>        <th class=\"col_heading level0 col7\" >NU_NOTA_CH</th>        <th class=\"col_heading level0 col8\" >NU_NOTA_LC</th>        <th class=\"col_heading level0 col9\" >NU_NOTA_MT</th>        <th class=\"col_heading level0 col10\" >TP_STATUS_REDACAO</th>        <th class=\"col_heading level0 col11\" >NU_NOTA_COMP1</th>        <th class=\"col_heading level0 col12\" >NU_NOTA_COMP2</th>        <th class=\"col_heading level0 col13\" >NU_NOTA_COMP3</th>        <th class=\"col_heading level0 col14\" >NU_NOTA_COMP4</th>        <th class=\"col_heading level0 col15\" >NU_NOTA_COMP5</th>        <th class=\"col_heading level0 col16\" >NU_NOTA_REDACAO</th>        <th class=\"col_heading level0 col17\" >Q005</th>    </tr></thead><tbody>\n",
              "                <tr>\n",
              "                        <th id=\"T_3200f974_12d8_11eb_aaa5_0242ac1c0002level0_row0\" class=\"row_heading level0 row0\" >NU_IDADE</th>\n",
              "                        <td id=\"T_3200f974_12d8_11eb_aaa5_0242ac1c0002row0_col0\" class=\"data row0 col0\" >1.000000</td>\n",
              "                        <td id=\"T_3200f974_12d8_11eb_aaa5_0242ac1c0002row0_col1\" class=\"data row0 col1\" >0.056299</td>\n",
              "                        <td id=\"T_3200f974_12d8_11eb_aaa5_0242ac1c0002row0_col2\" class=\"data row0 col2\" >-0.312013</td>\n",
              "                        <td id=\"T_3200f974_12d8_11eb_aaa5_0242ac1c0002row0_col3\" class=\"data row0 col3\" >0.050912</td>\n",
              "                        <td id=\"T_3200f974_12d8_11eb_aaa5_0242ac1c0002row0_col4\" class=\"data row0 col4\" >0.002191</td>\n",
              "                        <td id=\"T_3200f974_12d8_11eb_aaa5_0242ac1c0002row0_col5\" class=\"data row0 col5\" >0.004075</td>\n",
              "                        <td id=\"T_3200f974_12d8_11eb_aaa5_0242ac1c0002row0_col6\" class=\"data row0 col6\" >-0.054437</td>\n",
              "                        <td id=\"T_3200f974_12d8_11eb_aaa5_0242ac1c0002row0_col7\" class=\"data row0 col7\" >-0.028107</td>\n",
              "                        <td id=\"T_3200f974_12d8_11eb_aaa5_0242ac1c0002row0_col8\" class=\"data row0 col8\" >-0.081902</td>\n",
              "                        <td id=\"T_3200f974_12d8_11eb_aaa5_0242ac1c0002row0_col9\" class=\"data row0 col9\" >-0.137160</td>\n",
              "                        <td id=\"T_3200f974_12d8_11eb_aaa5_0242ac1c0002row0_col10\" class=\"data row0 col10\" >0.056812</td>\n",
              "                        <td id=\"T_3200f974_12d8_11eb_aaa5_0242ac1c0002row0_col11\" class=\"data row0 col11\" >-0.137924</td>\n",
              "                        <td id=\"T_3200f974_12d8_11eb_aaa5_0242ac1c0002row0_col12\" class=\"data row0 col12\" >-0.130468</td>\n",
              "                        <td id=\"T_3200f974_12d8_11eb_aaa5_0242ac1c0002row0_col13\" class=\"data row0 col13\" >-0.142799</td>\n",
              "                        <td id=\"T_3200f974_12d8_11eb_aaa5_0242ac1c0002row0_col14\" class=\"data row0 col14\" >-0.171216</td>\n",
              "                        <td id=\"T_3200f974_12d8_11eb_aaa5_0242ac1c0002row0_col15\" class=\"data row0 col15\" >-0.149503</td>\n",
              "                        <td id=\"T_3200f974_12d8_11eb_aaa5_0242ac1c0002row0_col16\" class=\"data row0 col16\" >-0.166211</td>\n",
              "                        <td id=\"T_3200f974_12d8_11eb_aaa5_0242ac1c0002row0_col17\" class=\"data row0 col17\" >-0.133107</td>\n",
              "            </tr>\n",
              "            <tr>\n",
              "                        <th id=\"T_3200f974_12d8_11eb_aaa5_0242ac1c0002level0_row1\" class=\"row_heading level0 row1\" >TP_COR_RACA</th>\n",
              "                        <td id=\"T_3200f974_12d8_11eb_aaa5_0242ac1c0002row1_col0\" class=\"data row1 col0\" >0.056299</td>\n",
              "                        <td id=\"T_3200f974_12d8_11eb_aaa5_0242ac1c0002row1_col1\" class=\"data row1 col1\" >1.000000</td>\n",
              "                        <td id=\"T_3200f974_12d8_11eb_aaa5_0242ac1c0002row1_col2\" class=\"data row1 col2\" >-0.061916</td>\n",
              "                        <td id=\"T_3200f974_12d8_11eb_aaa5_0242ac1c0002row1_col3\" class=\"data row1 col3\" >0.003441</td>\n",
              "                        <td id=\"T_3200f974_12d8_11eb_aaa5_0242ac1c0002row1_col4\" class=\"data row1 col4\" >0.029767</td>\n",
              "                        <td id=\"T_3200f974_12d8_11eb_aaa5_0242ac1c0002row1_col5\" class=\"data row1 col5\" >-0.000361</td>\n",
              "                        <td id=\"T_3200f974_12d8_11eb_aaa5_0242ac1c0002row1_col6\" class=\"data row1 col6\" >-0.192881</td>\n",
              "                        <td id=\"T_3200f974_12d8_11eb_aaa5_0242ac1c0002row1_col7\" class=\"data row1 col7\" >-0.182989</td>\n",
              "                        <td id=\"T_3200f974_12d8_11eb_aaa5_0242ac1c0002row1_col8\" class=\"data row1 col8\" >-0.190353</td>\n",
              "                        <td id=\"T_3200f974_12d8_11eb_aaa5_0242ac1c0002row1_col9\" class=\"data row1 col9\" >-0.199233</td>\n",
              "                        <td id=\"T_3200f974_12d8_11eb_aaa5_0242ac1c0002row1_col10\" class=\"data row1 col10\" >0.035785</td>\n",
              "                        <td id=\"T_3200f974_12d8_11eb_aaa5_0242ac1c0002row1_col11\" class=\"data row1 col11\" >-0.123291</td>\n",
              "                        <td id=\"T_3200f974_12d8_11eb_aaa5_0242ac1c0002row1_col12\" class=\"data row1 col12\" >-0.097602</td>\n",
              "                        <td id=\"T_3200f974_12d8_11eb_aaa5_0242ac1c0002row1_col13\" class=\"data row1 col13\" >-0.113816</td>\n",
              "                        <td id=\"T_3200f974_12d8_11eb_aaa5_0242ac1c0002row1_col14\" class=\"data row1 col14\" >-0.107194</td>\n",
              "                        <td id=\"T_3200f974_12d8_11eb_aaa5_0242ac1c0002row1_col15\" class=\"data row1 col15\" >-0.111893</td>\n",
              "                        <td id=\"T_3200f974_12d8_11eb_aaa5_0242ac1c0002row1_col16\" class=\"data row1 col16\" >-0.125184</td>\n",
              "                        <td id=\"T_3200f974_12d8_11eb_aaa5_0242ac1c0002row1_col17\" class=\"data row1 col17\" >0.090262</td>\n",
              "            </tr>\n",
              "            <tr>\n",
              "                        <th id=\"T_3200f974_12d8_11eb_aaa5_0242ac1c0002level0_row2\" class=\"row_heading level0 row2\" >TP_ESCOLA</th>\n",
              "                        <td id=\"T_3200f974_12d8_11eb_aaa5_0242ac1c0002row2_col0\" class=\"data row2 col0\" >-0.312013</td>\n",
              "                        <td id=\"T_3200f974_12d8_11eb_aaa5_0242ac1c0002row2_col1\" class=\"data row2 col1\" >-0.061916</td>\n",
              "                        <td id=\"T_3200f974_12d8_11eb_aaa5_0242ac1c0002row2_col2\" class=\"data row2 col2\" >1.000000</td>\n",
              "                        <td id=\"T_3200f974_12d8_11eb_aaa5_0242ac1c0002row2_col3\" class=\"data row2 col3\" >-0.014592</td>\n",
              "                        <td id=\"T_3200f974_12d8_11eb_aaa5_0242ac1c0002row2_col4\" class=\"data row2 col4\" >-0.056233</td>\n",
              "                        <td id=\"T_3200f974_12d8_11eb_aaa5_0242ac1c0002row2_col5\" class=\"data row2 col5\" >-0.001668</td>\n",
              "                        <td id=\"T_3200f974_12d8_11eb_aaa5_0242ac1c0002row2_col6\" class=\"data row2 col6\" >0.051758</td>\n",
              "                        <td id=\"T_3200f974_12d8_11eb_aaa5_0242ac1c0002row2_col7\" class=\"data row2 col7\" >0.037647</td>\n",
              "                        <td id=\"T_3200f974_12d8_11eb_aaa5_0242ac1c0002row2_col8\" class=\"data row2 col8\" >0.032995</td>\n",
              "                        <td id=\"T_3200f974_12d8_11eb_aaa5_0242ac1c0002row2_col9\" class=\"data row2 col9\" >0.087477</td>\n",
              "                        <td id=\"T_3200f974_12d8_11eb_aaa5_0242ac1c0002row2_col10\" class=\"data row2 col10\" >-0.001214</td>\n",
              "                        <td id=\"T_3200f974_12d8_11eb_aaa5_0242ac1c0002row2_col11\" class=\"data row2 col11\" >0.050922</td>\n",
              "                        <td id=\"T_3200f974_12d8_11eb_aaa5_0242ac1c0002row2_col12\" class=\"data row2 col12\" >0.063593</td>\n",
              "                        <td id=\"T_3200f974_12d8_11eb_aaa5_0242ac1c0002row2_col13\" class=\"data row2 col13\" >0.060388</td>\n",
              "                        <td id=\"T_3200f974_12d8_11eb_aaa5_0242ac1c0002row2_col14\" class=\"data row2 col14\" >0.078487</td>\n",
              "                        <td id=\"T_3200f974_12d8_11eb_aaa5_0242ac1c0002row2_col15\" class=\"data row2 col15\" >0.085110</td>\n",
              "                        <td id=\"T_3200f974_12d8_11eb_aaa5_0242ac1c0002row2_col16\" class=\"data row2 col16\" >0.079033</td>\n",
              "                        <td id=\"T_3200f974_12d8_11eb_aaa5_0242ac1c0002row2_col17\" class=\"data row2 col17\" >0.060295</td>\n",
              "            </tr>\n",
              "            <tr>\n",
              "                        <th id=\"T_3200f974_12d8_11eb_aaa5_0242ac1c0002level0_row3\" class=\"row_heading level0 row3\" >TP_ENSINO</th>\n",
              "                        <td id=\"T_3200f974_12d8_11eb_aaa5_0242ac1c0002row3_col0\" class=\"data row3 col0\" >0.050912</td>\n",
              "                        <td id=\"T_3200f974_12d8_11eb_aaa5_0242ac1c0002row3_col1\" class=\"data row3 col1\" >0.003441</td>\n",
              "                        <td id=\"T_3200f974_12d8_11eb_aaa5_0242ac1c0002row3_col2\" class=\"data row3 col2\" >-0.014592</td>\n",
              "                        <td id=\"T_3200f974_12d8_11eb_aaa5_0242ac1c0002row3_col3\" class=\"data row3 col3\" >1.000000</td>\n",
              "                        <td id=\"T_3200f974_12d8_11eb_aaa5_0242ac1c0002row3_col4\" class=\"data row3 col4\" >0.006975</td>\n",
              "                        <td id=\"T_3200f974_12d8_11eb_aaa5_0242ac1c0002row3_col5\" class=\"data row3 col5\" >nan</td>\n",
              "                        <td id=\"T_3200f974_12d8_11eb_aaa5_0242ac1c0002row3_col6\" class=\"data row3 col6\" >-0.012364</td>\n",
              "                        <td id=\"T_3200f974_12d8_11eb_aaa5_0242ac1c0002row3_col7\" class=\"data row3 col7\" >-0.007841</td>\n",
              "                        <td id=\"T_3200f974_12d8_11eb_aaa5_0242ac1c0002row3_col8\" class=\"data row3 col8\" >-0.007816</td>\n",
              "                        <td id=\"T_3200f974_12d8_11eb_aaa5_0242ac1c0002row3_col9\" class=\"data row3 col9\" >-0.009408</td>\n",
              "                        <td id=\"T_3200f974_12d8_11eb_aaa5_0242ac1c0002row3_col10\" class=\"data row3 col10\" >0.006957</td>\n",
              "                        <td id=\"T_3200f974_12d8_11eb_aaa5_0242ac1c0002row3_col11\" class=\"data row3 col11\" >-0.017712</td>\n",
              "                        <td id=\"T_3200f974_12d8_11eb_aaa5_0242ac1c0002row3_col12\" class=\"data row3 col12\" >-0.012921</td>\n",
              "                        <td id=\"T_3200f974_12d8_11eb_aaa5_0242ac1c0002row3_col13\" class=\"data row3 col13\" >-0.014108</td>\n",
              "                        <td id=\"T_3200f974_12d8_11eb_aaa5_0242ac1c0002row3_col14\" class=\"data row3 col14\" >-0.022786</td>\n",
              "                        <td id=\"T_3200f974_12d8_11eb_aaa5_0242ac1c0002row3_col15\" class=\"data row3 col15\" >-0.016316</td>\n",
              "                        <td id=\"T_3200f974_12d8_11eb_aaa5_0242ac1c0002row3_col16\" class=\"data row3 col16\" >-0.018907</td>\n",
              "                        <td id=\"T_3200f974_12d8_11eb_aaa5_0242ac1c0002row3_col17\" class=\"data row3 col17\" >-0.009886</td>\n",
              "            </tr>\n",
              "            <tr>\n",
              "                        <th id=\"T_3200f974_12d8_11eb_aaa5_0242ac1c0002level0_row4\" class=\"row_heading level0 row4\" >TP_LOCALIZACAO_ESC</th>\n",
              "                        <td id=\"T_3200f974_12d8_11eb_aaa5_0242ac1c0002row4_col0\" class=\"data row4 col0\" >0.002191</td>\n",
              "                        <td id=\"T_3200f974_12d8_11eb_aaa5_0242ac1c0002row4_col1\" class=\"data row4 col1\" >0.029767</td>\n",
              "                        <td id=\"T_3200f974_12d8_11eb_aaa5_0242ac1c0002row4_col2\" class=\"data row4 col2\" >-0.056233</td>\n",
              "                        <td id=\"T_3200f974_12d8_11eb_aaa5_0242ac1c0002row4_col3\" class=\"data row4 col3\" >0.006975</td>\n",
              "                        <td id=\"T_3200f974_12d8_11eb_aaa5_0242ac1c0002row4_col4\" class=\"data row4 col4\" >1.000000</td>\n",
              "                        <td id=\"T_3200f974_12d8_11eb_aaa5_0242ac1c0002row4_col5\" class=\"data row4 col5\" >nan</td>\n",
              "                        <td id=\"T_3200f974_12d8_11eb_aaa5_0242ac1c0002row4_col6\" class=\"data row4 col6\" >-0.055524</td>\n",
              "                        <td id=\"T_3200f974_12d8_11eb_aaa5_0242ac1c0002row4_col7\" class=\"data row4 col7\" >-0.058897</td>\n",
              "                        <td id=\"T_3200f974_12d8_11eb_aaa5_0242ac1c0002row4_col8\" class=\"data row4 col8\" >-0.071608</td>\n",
              "                        <td id=\"T_3200f974_12d8_11eb_aaa5_0242ac1c0002row4_col9\" class=\"data row4 col9\" >-0.043341</td>\n",
              "                        <td id=\"T_3200f974_12d8_11eb_aaa5_0242ac1c0002row4_col10\" class=\"data row4 col10\" >0.027657</td>\n",
              "                        <td id=\"T_3200f974_12d8_11eb_aaa5_0242ac1c0002row4_col11\" class=\"data row4 col11\" >-0.052301</td>\n",
              "                        <td id=\"T_3200f974_12d8_11eb_aaa5_0242ac1c0002row4_col12\" class=\"data row4 col12\" >-0.044225</td>\n",
              "                        <td id=\"T_3200f974_12d8_11eb_aaa5_0242ac1c0002row4_col13\" class=\"data row4 col13\" >-0.048228</td>\n",
              "                        <td id=\"T_3200f974_12d8_11eb_aaa5_0242ac1c0002row4_col14\" class=\"data row4 col14\" >-0.042270</td>\n",
              "                        <td id=\"T_3200f974_12d8_11eb_aaa5_0242ac1c0002row4_col15\" class=\"data row4 col15\" >-0.041309</td>\n",
              "                        <td id=\"T_3200f974_12d8_11eb_aaa5_0242ac1c0002row4_col16\" class=\"data row4 col16\" >-0.050629</td>\n",
              "                        <td id=\"T_3200f974_12d8_11eb_aaa5_0242ac1c0002row4_col17\" class=\"data row4 col17\" >0.040050</td>\n",
              "            </tr>\n",
              "            <tr>\n",
              "                        <th id=\"T_3200f974_12d8_11eb_aaa5_0242ac1c0002level0_row5\" class=\"row_heading level0 row5\" >IN_CADEIRA_CANHOTO</th>\n",
              "                        <td id=\"T_3200f974_12d8_11eb_aaa5_0242ac1c0002row5_col0\" class=\"data row5 col0\" >0.004075</td>\n",
              "                        <td id=\"T_3200f974_12d8_11eb_aaa5_0242ac1c0002row5_col1\" class=\"data row5 col1\" >-0.000361</td>\n",
              "                        <td id=\"T_3200f974_12d8_11eb_aaa5_0242ac1c0002row5_col2\" class=\"data row5 col2\" >-0.001668</td>\n",
              "                        <td id=\"T_3200f974_12d8_11eb_aaa5_0242ac1c0002row5_col3\" class=\"data row5 col3\" >nan</td>\n",
              "                        <td id=\"T_3200f974_12d8_11eb_aaa5_0242ac1c0002row5_col4\" class=\"data row5 col4\" >nan</td>\n",
              "                        <td id=\"T_3200f974_12d8_11eb_aaa5_0242ac1c0002row5_col5\" class=\"data row5 col5\" >1.000000</td>\n",
              "                        <td id=\"T_3200f974_12d8_11eb_aaa5_0242ac1c0002row5_col6\" class=\"data row5 col6\" >nan</td>\n",
              "                        <td id=\"T_3200f974_12d8_11eb_aaa5_0242ac1c0002row5_col7\" class=\"data row5 col7\" >nan</td>\n",
              "                        <td id=\"T_3200f974_12d8_11eb_aaa5_0242ac1c0002row5_col8\" class=\"data row5 col8\" >nan</td>\n",
              "                        <td id=\"T_3200f974_12d8_11eb_aaa5_0242ac1c0002row5_col9\" class=\"data row5 col9\" >nan</td>\n",
              "                        <td id=\"T_3200f974_12d8_11eb_aaa5_0242ac1c0002row5_col10\" class=\"data row5 col10\" >nan</td>\n",
              "                        <td id=\"T_3200f974_12d8_11eb_aaa5_0242ac1c0002row5_col11\" class=\"data row5 col11\" >nan</td>\n",
              "                        <td id=\"T_3200f974_12d8_11eb_aaa5_0242ac1c0002row5_col12\" class=\"data row5 col12\" >nan</td>\n",
              "                        <td id=\"T_3200f974_12d8_11eb_aaa5_0242ac1c0002row5_col13\" class=\"data row5 col13\" >nan</td>\n",
              "                        <td id=\"T_3200f974_12d8_11eb_aaa5_0242ac1c0002row5_col14\" class=\"data row5 col14\" >nan</td>\n",
              "                        <td id=\"T_3200f974_12d8_11eb_aaa5_0242ac1c0002row5_col15\" class=\"data row5 col15\" >nan</td>\n",
              "                        <td id=\"T_3200f974_12d8_11eb_aaa5_0242ac1c0002row5_col16\" class=\"data row5 col16\" >nan</td>\n",
              "                        <td id=\"T_3200f974_12d8_11eb_aaa5_0242ac1c0002row5_col17\" class=\"data row5 col17\" >-0.003539</td>\n",
              "            </tr>\n",
              "            <tr>\n",
              "                        <th id=\"T_3200f974_12d8_11eb_aaa5_0242ac1c0002level0_row6\" class=\"row_heading level0 row6\" >NU_NOTA_CN</th>\n",
              "                        <td id=\"T_3200f974_12d8_11eb_aaa5_0242ac1c0002row6_col0\" class=\"data row6 col0\" >-0.054437</td>\n",
              "                        <td id=\"T_3200f974_12d8_11eb_aaa5_0242ac1c0002row6_col1\" class=\"data row6 col1\" >-0.192881</td>\n",
              "                        <td id=\"T_3200f974_12d8_11eb_aaa5_0242ac1c0002row6_col2\" class=\"data row6 col2\" >0.051758</td>\n",
              "                        <td id=\"T_3200f974_12d8_11eb_aaa5_0242ac1c0002row6_col3\" class=\"data row6 col3\" >-0.012364</td>\n",
              "                        <td id=\"T_3200f974_12d8_11eb_aaa5_0242ac1c0002row6_col4\" class=\"data row6 col4\" >-0.055524</td>\n",
              "                        <td id=\"T_3200f974_12d8_11eb_aaa5_0242ac1c0002row6_col5\" class=\"data row6 col5\" >nan</td>\n",
              "                        <td id=\"T_3200f974_12d8_11eb_aaa5_0242ac1c0002row6_col6\" class=\"data row6 col6\" >1.000000</td>\n",
              "                        <td id=\"T_3200f974_12d8_11eb_aaa5_0242ac1c0002row6_col7\" class=\"data row6 col7\" >0.669259</td>\n",
              "                        <td id=\"T_3200f974_12d8_11eb_aaa5_0242ac1c0002row6_col8\" class=\"data row6 col8\" >0.641998</td>\n",
              "                        <td id=\"T_3200f974_12d8_11eb_aaa5_0242ac1c0002row6_col9\" class=\"data row6 col9\" >0.650055</td>\n",
              "                        <td id=\"T_3200f974_12d8_11eb_aaa5_0242ac1c0002row6_col10\" class=\"data row6 col10\" >-0.105392</td>\n",
              "                        <td id=\"T_3200f974_12d8_11eb_aaa5_0242ac1c0002row6_col11\" class=\"data row6 col11\" >0.430355</td>\n",
              "                        <td id=\"T_3200f974_12d8_11eb_aaa5_0242ac1c0002row6_col12\" class=\"data row6 col12\" >0.411399</td>\n",
              "                        <td id=\"T_3200f974_12d8_11eb_aaa5_0242ac1c0002row6_col13\" class=\"data row6 col13\" >0.465166</td>\n",
              "                        <td id=\"T_3200f974_12d8_11eb_aaa5_0242ac1c0002row6_col14\" class=\"data row6 col14\" >0.440447</td>\n",
              "                        <td id=\"T_3200f974_12d8_11eb_aaa5_0242ac1c0002row6_col15\" class=\"data row6 col15\" >0.457013</td>\n",
              "                        <td id=\"T_3200f974_12d8_11eb_aaa5_0242ac1c0002row6_col16\" class=\"data row6 col16\" >0.504903</td>\n",
              "                        <td id=\"T_3200f974_12d8_11eb_aaa5_0242ac1c0002row6_col17\" class=\"data row6 col17\" >-0.096046</td>\n",
              "            </tr>\n",
              "            <tr>\n",
              "                        <th id=\"T_3200f974_12d8_11eb_aaa5_0242ac1c0002level0_row7\" class=\"row_heading level0 row7\" >NU_NOTA_CH</th>\n",
              "                        <td id=\"T_3200f974_12d8_11eb_aaa5_0242ac1c0002row7_col0\" class=\"data row7 col0\" >-0.028107</td>\n",
              "                        <td id=\"T_3200f974_12d8_11eb_aaa5_0242ac1c0002row7_col1\" class=\"data row7 col1\" >-0.182989</td>\n",
              "                        <td id=\"T_3200f974_12d8_11eb_aaa5_0242ac1c0002row7_col2\" class=\"data row7 col2\" >0.037647</td>\n",
              "                        <td id=\"T_3200f974_12d8_11eb_aaa5_0242ac1c0002row7_col3\" class=\"data row7 col3\" >-0.007841</td>\n",
              "                        <td id=\"T_3200f974_12d8_11eb_aaa5_0242ac1c0002row7_col4\" class=\"data row7 col4\" >-0.058897</td>\n",
              "                        <td id=\"T_3200f974_12d8_11eb_aaa5_0242ac1c0002row7_col5\" class=\"data row7 col5\" >nan</td>\n",
              "                        <td id=\"T_3200f974_12d8_11eb_aaa5_0242ac1c0002row7_col6\" class=\"data row7 col6\" >0.669259</td>\n",
              "                        <td id=\"T_3200f974_12d8_11eb_aaa5_0242ac1c0002row7_col7\" class=\"data row7 col7\" >1.000000</td>\n",
              "                        <td id=\"T_3200f974_12d8_11eb_aaa5_0242ac1c0002row7_col8\" class=\"data row7 col8\" >0.748844</td>\n",
              "                        <td id=\"T_3200f974_12d8_11eb_aaa5_0242ac1c0002row7_col9\" class=\"data row7 col9\" >0.610570</td>\n",
              "                        <td id=\"T_3200f974_12d8_11eb_aaa5_0242ac1c0002row7_col10\" class=\"data row7 col10\" >-0.162885</td>\n",
              "                        <td id=\"T_3200f974_12d8_11eb_aaa5_0242ac1c0002row7_col11\" class=\"data row7 col11\" >0.468723</td>\n",
              "                        <td id=\"T_3200f974_12d8_11eb_aaa5_0242ac1c0002row7_col12\" class=\"data row7 col12\" >0.437303</td>\n",
              "                        <td id=\"T_3200f974_12d8_11eb_aaa5_0242ac1c0002row7_col13\" class=\"data row7 col13\" >0.491154</td>\n",
              "                        <td id=\"T_3200f974_12d8_11eb_aaa5_0242ac1c0002row7_col14\" class=\"data row7 col14\" >0.460272</td>\n",
              "                        <td id=\"T_3200f974_12d8_11eb_aaa5_0242ac1c0002row7_col15\" class=\"data row7 col15\" >0.478832</td>\n",
              "                        <td id=\"T_3200f974_12d8_11eb_aaa5_0242ac1c0002row7_col16\" class=\"data row7 col16\" >0.530950</td>\n",
              "                        <td id=\"T_3200f974_12d8_11eb_aaa5_0242ac1c0002row7_col17\" class=\"data row7 col17\" >-0.104263</td>\n",
              "            </tr>\n",
              "            <tr>\n",
              "                        <th id=\"T_3200f974_12d8_11eb_aaa5_0242ac1c0002level0_row8\" class=\"row_heading level0 row8\" >NU_NOTA_LC</th>\n",
              "                        <td id=\"T_3200f974_12d8_11eb_aaa5_0242ac1c0002row8_col0\" class=\"data row8 col0\" >-0.081902</td>\n",
              "                        <td id=\"T_3200f974_12d8_11eb_aaa5_0242ac1c0002row8_col1\" class=\"data row8 col1\" >-0.190353</td>\n",
              "                        <td id=\"T_3200f974_12d8_11eb_aaa5_0242ac1c0002row8_col2\" class=\"data row8 col2\" >0.032995</td>\n",
              "                        <td id=\"T_3200f974_12d8_11eb_aaa5_0242ac1c0002row8_col3\" class=\"data row8 col3\" >-0.007816</td>\n",
              "                        <td id=\"T_3200f974_12d8_11eb_aaa5_0242ac1c0002row8_col4\" class=\"data row8 col4\" >-0.071608</td>\n",
              "                        <td id=\"T_3200f974_12d8_11eb_aaa5_0242ac1c0002row8_col5\" class=\"data row8 col5\" >nan</td>\n",
              "                        <td id=\"T_3200f974_12d8_11eb_aaa5_0242ac1c0002row8_col6\" class=\"data row8 col6\" >0.641998</td>\n",
              "                        <td id=\"T_3200f974_12d8_11eb_aaa5_0242ac1c0002row8_col7\" class=\"data row8 col7\" >0.748844</td>\n",
              "                        <td id=\"T_3200f974_12d8_11eb_aaa5_0242ac1c0002row8_col8\" class=\"data row8 col8\" >1.000000</td>\n",
              "                        <td id=\"T_3200f974_12d8_11eb_aaa5_0242ac1c0002row8_col9\" class=\"data row8 col9\" >0.587986</td>\n",
              "                        <td id=\"T_3200f974_12d8_11eb_aaa5_0242ac1c0002row8_col10\" class=\"data row8 col10\" >-0.181848</td>\n",
              "                        <td id=\"T_3200f974_12d8_11eb_aaa5_0242ac1c0002row8_col11\" class=\"data row8 col11\" >0.492001</td>\n",
              "                        <td id=\"T_3200f974_12d8_11eb_aaa5_0242ac1c0002row8_col12\" class=\"data row8 col12\" >0.438303</td>\n",
              "                        <td id=\"T_3200f974_12d8_11eb_aaa5_0242ac1c0002row8_col13\" class=\"data row8 col13\" >0.497266</td>\n",
              "                        <td id=\"T_3200f974_12d8_11eb_aaa5_0242ac1c0002row8_col14\" class=\"data row8 col14\" >0.464610</td>\n",
              "                        <td id=\"T_3200f974_12d8_11eb_aaa5_0242ac1c0002row8_col15\" class=\"data row8 col15\" >0.479532</td>\n",
              "                        <td id=\"T_3200f974_12d8_11eb_aaa5_0242ac1c0002row8_col16\" class=\"data row8 col16\" >0.537690</td>\n",
              "                        <td id=\"T_3200f974_12d8_11eb_aaa5_0242ac1c0002row8_col17\" class=\"data row8 col17\" >-0.109597</td>\n",
              "            </tr>\n",
              "            <tr>\n",
              "                        <th id=\"T_3200f974_12d8_11eb_aaa5_0242ac1c0002level0_row9\" class=\"row_heading level0 row9\" >NU_NOTA_MT</th>\n",
              "                        <td id=\"T_3200f974_12d8_11eb_aaa5_0242ac1c0002row9_col0\" class=\"data row9 col0\" >-0.137160</td>\n",
              "                        <td id=\"T_3200f974_12d8_11eb_aaa5_0242ac1c0002row9_col1\" class=\"data row9 col1\" >-0.199233</td>\n",
              "                        <td id=\"T_3200f974_12d8_11eb_aaa5_0242ac1c0002row9_col2\" class=\"data row9 col2\" >0.087477</td>\n",
              "                        <td id=\"T_3200f974_12d8_11eb_aaa5_0242ac1c0002row9_col3\" class=\"data row9 col3\" >-0.009408</td>\n",
              "                        <td id=\"T_3200f974_12d8_11eb_aaa5_0242ac1c0002row9_col4\" class=\"data row9 col4\" >-0.043341</td>\n",
              "                        <td id=\"T_3200f974_12d8_11eb_aaa5_0242ac1c0002row9_col5\" class=\"data row9 col5\" >nan</td>\n",
              "                        <td id=\"T_3200f974_12d8_11eb_aaa5_0242ac1c0002row9_col6\" class=\"data row9 col6\" >0.650055</td>\n",
              "                        <td id=\"T_3200f974_12d8_11eb_aaa5_0242ac1c0002row9_col7\" class=\"data row9 col7\" >0.610570</td>\n",
              "                        <td id=\"T_3200f974_12d8_11eb_aaa5_0242ac1c0002row9_col8\" class=\"data row9 col8\" >0.587986</td>\n",
              "                        <td id=\"T_3200f974_12d8_11eb_aaa5_0242ac1c0002row9_col9\" class=\"data row9 col9\" >1.000000</td>\n",
              "                        <td id=\"T_3200f974_12d8_11eb_aaa5_0242ac1c0002row9_col10\" class=\"data row9 col10\" >-0.101937</td>\n",
              "                        <td id=\"T_3200f974_12d8_11eb_aaa5_0242ac1c0002row9_col11\" class=\"data row9 col11\" >0.425793</td>\n",
              "                        <td id=\"T_3200f974_12d8_11eb_aaa5_0242ac1c0002row9_col12\" class=\"data row9 col12\" >0.398999</td>\n",
              "                        <td id=\"T_3200f974_12d8_11eb_aaa5_0242ac1c0002row9_col13\" class=\"data row9 col13\" >0.451353</td>\n",
              "                        <td id=\"T_3200f974_12d8_11eb_aaa5_0242ac1c0002row9_col14\" class=\"data row9 col14\" >0.436736</td>\n",
              "                        <td id=\"T_3200f974_12d8_11eb_aaa5_0242ac1c0002row9_col15\" class=\"data row9 col15\" >0.443501</td>\n",
              "                        <td id=\"T_3200f974_12d8_11eb_aaa5_0242ac1c0002row9_col16\" class=\"data row9 col16\" >0.493200</td>\n",
              "                        <td id=\"T_3200f974_12d8_11eb_aaa5_0242ac1c0002row9_col17\" class=\"data row9 col17\" >-0.074493</td>\n",
              "            </tr>\n",
              "            <tr>\n",
              "                        <th id=\"T_3200f974_12d8_11eb_aaa5_0242ac1c0002level0_row10\" class=\"row_heading level0 row10\" >TP_STATUS_REDACAO</th>\n",
              "                        <td id=\"T_3200f974_12d8_11eb_aaa5_0242ac1c0002row10_col0\" class=\"data row10 col0\" >0.056812</td>\n",
              "                        <td id=\"T_3200f974_12d8_11eb_aaa5_0242ac1c0002row10_col1\" class=\"data row10 col1\" >0.035785</td>\n",
              "                        <td id=\"T_3200f974_12d8_11eb_aaa5_0242ac1c0002row10_col2\" class=\"data row10 col2\" >-0.001214</td>\n",
              "                        <td id=\"T_3200f974_12d8_11eb_aaa5_0242ac1c0002row10_col3\" class=\"data row10 col3\" >0.006957</td>\n",
              "                        <td id=\"T_3200f974_12d8_11eb_aaa5_0242ac1c0002row10_col4\" class=\"data row10 col4\" >0.027657</td>\n",
              "                        <td id=\"T_3200f974_12d8_11eb_aaa5_0242ac1c0002row10_col5\" class=\"data row10 col5\" >nan</td>\n",
              "                        <td id=\"T_3200f974_12d8_11eb_aaa5_0242ac1c0002row10_col6\" class=\"data row10 col6\" >-0.105392</td>\n",
              "                        <td id=\"T_3200f974_12d8_11eb_aaa5_0242ac1c0002row10_col7\" class=\"data row10 col7\" >-0.162885</td>\n",
              "                        <td id=\"T_3200f974_12d8_11eb_aaa5_0242ac1c0002row10_col8\" class=\"data row10 col8\" >-0.181848</td>\n",
              "                        <td id=\"T_3200f974_12d8_11eb_aaa5_0242ac1c0002row10_col9\" class=\"data row10 col9\" >-0.101937</td>\n",
              "                        <td id=\"T_3200f974_12d8_11eb_aaa5_0242ac1c0002row10_col10\" class=\"data row10 col10\" >1.000000</td>\n",
              "                        <td id=\"T_3200f974_12d8_11eb_aaa5_0242ac1c0002row10_col11\" class=\"data row10 col11\" >-0.635001</td>\n",
              "                        <td id=\"T_3200f974_12d8_11eb_aaa5_0242ac1c0002row10_col12\" class=\"data row10 col12\" >-0.503121</td>\n",
              "                        <td id=\"T_3200f974_12d8_11eb_aaa5_0242ac1c0002row10_col13\" class=\"data row10 col13\" >-0.502713</td>\n",
              "                        <td id=\"T_3200f974_12d8_11eb_aaa5_0242ac1c0002row10_col14\" class=\"data row10 col14\" >-0.561519</td>\n",
              "                        <td id=\"T_3200f974_12d8_11eb_aaa5_0242ac1c0002row10_col15\" class=\"data row10 col15\" >-0.269932</td>\n",
              "                        <td id=\"T_3200f974_12d8_11eb_aaa5_0242ac1c0002row10_col16\" class=\"data row10 col16\" >-0.532256</td>\n",
              "                        <td id=\"T_3200f974_12d8_11eb_aaa5_0242ac1c0002row10_col17\" class=\"data row10 col17\" >0.018196</td>\n",
              "            </tr>\n",
              "            <tr>\n",
              "                        <th id=\"T_3200f974_12d8_11eb_aaa5_0242ac1c0002level0_row11\" class=\"row_heading level0 row11\" >NU_NOTA_COMP1</th>\n",
              "                        <td id=\"T_3200f974_12d8_11eb_aaa5_0242ac1c0002row11_col0\" class=\"data row11 col0\" >-0.137924</td>\n",
              "                        <td id=\"T_3200f974_12d8_11eb_aaa5_0242ac1c0002row11_col1\" class=\"data row11 col1\" >-0.123291</td>\n",
              "                        <td id=\"T_3200f974_12d8_11eb_aaa5_0242ac1c0002row11_col2\" class=\"data row11 col2\" >0.050922</td>\n",
              "                        <td id=\"T_3200f974_12d8_11eb_aaa5_0242ac1c0002row11_col3\" class=\"data row11 col3\" >-0.017712</td>\n",
              "                        <td id=\"T_3200f974_12d8_11eb_aaa5_0242ac1c0002row11_col4\" class=\"data row11 col4\" >-0.052301</td>\n",
              "                        <td id=\"T_3200f974_12d8_11eb_aaa5_0242ac1c0002row11_col5\" class=\"data row11 col5\" >nan</td>\n",
              "                        <td id=\"T_3200f974_12d8_11eb_aaa5_0242ac1c0002row11_col6\" class=\"data row11 col6\" >0.430355</td>\n",
              "                        <td id=\"T_3200f974_12d8_11eb_aaa5_0242ac1c0002row11_col7\" class=\"data row11 col7\" >0.468723</td>\n",
              "                        <td id=\"T_3200f974_12d8_11eb_aaa5_0242ac1c0002row11_col8\" class=\"data row11 col8\" >0.492001</td>\n",
              "                        <td id=\"T_3200f974_12d8_11eb_aaa5_0242ac1c0002row11_col9\" class=\"data row11 col9\" >0.425793</td>\n",
              "                        <td id=\"T_3200f974_12d8_11eb_aaa5_0242ac1c0002row11_col10\" class=\"data row11 col10\" >-0.635001</td>\n",
              "                        <td id=\"T_3200f974_12d8_11eb_aaa5_0242ac1c0002row11_col11\" class=\"data row11 col11\" >1.000000</td>\n",
              "                        <td id=\"T_3200f974_12d8_11eb_aaa5_0242ac1c0002row11_col12\" class=\"data row11 col12\" >0.705254</td>\n",
              "                        <td id=\"T_3200f974_12d8_11eb_aaa5_0242ac1c0002row11_col13\" class=\"data row11 col13\" >0.782854</td>\n",
              "                        <td id=\"T_3200f974_12d8_11eb_aaa5_0242ac1c0002row11_col14\" class=\"data row11 col14\" >0.826159</td>\n",
              "                        <td id=\"T_3200f974_12d8_11eb_aaa5_0242ac1c0002row11_col15\" class=\"data row11 col15\" >0.572142</td>\n",
              "                        <td id=\"T_3200f974_12d8_11eb_aaa5_0242ac1c0002row11_col16\" class=\"data row11 col16\" >0.851214</td>\n",
              "                        <td id=\"T_3200f974_12d8_11eb_aaa5_0242ac1c0002row11_col17\" class=\"data row11 col17\" >-0.060692</td>\n",
              "            </tr>\n",
              "            <tr>\n",
              "                        <th id=\"T_3200f974_12d8_11eb_aaa5_0242ac1c0002level0_row12\" class=\"row_heading level0 row12\" >NU_NOTA_COMP2</th>\n",
              "                        <td id=\"T_3200f974_12d8_11eb_aaa5_0242ac1c0002row12_col0\" class=\"data row12 col0\" >-0.130468</td>\n",
              "                        <td id=\"T_3200f974_12d8_11eb_aaa5_0242ac1c0002row12_col1\" class=\"data row12 col1\" >-0.097602</td>\n",
              "                        <td id=\"T_3200f974_12d8_11eb_aaa5_0242ac1c0002row12_col2\" class=\"data row12 col2\" >0.063593</td>\n",
              "                        <td id=\"T_3200f974_12d8_11eb_aaa5_0242ac1c0002row12_col3\" class=\"data row12 col3\" >-0.012921</td>\n",
              "                        <td id=\"T_3200f974_12d8_11eb_aaa5_0242ac1c0002row12_col4\" class=\"data row12 col4\" >-0.044225</td>\n",
              "                        <td id=\"T_3200f974_12d8_11eb_aaa5_0242ac1c0002row12_col5\" class=\"data row12 col5\" >nan</td>\n",
              "                        <td id=\"T_3200f974_12d8_11eb_aaa5_0242ac1c0002row12_col6\" class=\"data row12 col6\" >0.411399</td>\n",
              "                        <td id=\"T_3200f974_12d8_11eb_aaa5_0242ac1c0002row12_col7\" class=\"data row12 col7\" >0.437303</td>\n",
              "                        <td id=\"T_3200f974_12d8_11eb_aaa5_0242ac1c0002row12_col8\" class=\"data row12 col8\" >0.438303</td>\n",
              "                        <td id=\"T_3200f974_12d8_11eb_aaa5_0242ac1c0002row12_col9\" class=\"data row12 col9\" >0.398999</td>\n",
              "                        <td id=\"T_3200f974_12d8_11eb_aaa5_0242ac1c0002row12_col10\" class=\"data row12 col10\" >-0.503121</td>\n",
              "                        <td id=\"T_3200f974_12d8_11eb_aaa5_0242ac1c0002row12_col11\" class=\"data row12 col11\" >0.705254</td>\n",
              "                        <td id=\"T_3200f974_12d8_11eb_aaa5_0242ac1c0002row12_col12\" class=\"data row12 col12\" >1.000000</td>\n",
              "                        <td id=\"T_3200f974_12d8_11eb_aaa5_0242ac1c0002row12_col13\" class=\"data row12 col13\" >0.863526</td>\n",
              "                        <td id=\"T_3200f974_12d8_11eb_aaa5_0242ac1c0002row12_col14\" class=\"data row12 col14\" >0.739897</td>\n",
              "                        <td id=\"T_3200f974_12d8_11eb_aaa5_0242ac1c0002row12_col15\" class=\"data row12 col15\" >0.657280</td>\n",
              "                        <td id=\"T_3200f974_12d8_11eb_aaa5_0242ac1c0002row12_col16\" class=\"data row12 col16\" >0.892802</td>\n",
              "                        <td id=\"T_3200f974_12d8_11eb_aaa5_0242ac1c0002row12_col17\" class=\"data row12 col17\" >-0.045431</td>\n",
              "            </tr>\n",
              "            <tr>\n",
              "                        <th id=\"T_3200f974_12d8_11eb_aaa5_0242ac1c0002level0_row13\" class=\"row_heading level0 row13\" >NU_NOTA_COMP3</th>\n",
              "                        <td id=\"T_3200f974_12d8_11eb_aaa5_0242ac1c0002row13_col0\" class=\"data row13 col0\" >-0.142799</td>\n",
              "                        <td id=\"T_3200f974_12d8_11eb_aaa5_0242ac1c0002row13_col1\" class=\"data row13 col1\" >-0.113816</td>\n",
              "                        <td id=\"T_3200f974_12d8_11eb_aaa5_0242ac1c0002row13_col2\" class=\"data row13 col2\" >0.060388</td>\n",
              "                        <td id=\"T_3200f974_12d8_11eb_aaa5_0242ac1c0002row13_col3\" class=\"data row13 col3\" >-0.014108</td>\n",
              "                        <td id=\"T_3200f974_12d8_11eb_aaa5_0242ac1c0002row13_col4\" class=\"data row13 col4\" >-0.048228</td>\n",
              "                        <td id=\"T_3200f974_12d8_11eb_aaa5_0242ac1c0002row13_col5\" class=\"data row13 col5\" >nan</td>\n",
              "                        <td id=\"T_3200f974_12d8_11eb_aaa5_0242ac1c0002row13_col6\" class=\"data row13 col6\" >0.465166</td>\n",
              "                        <td id=\"T_3200f974_12d8_11eb_aaa5_0242ac1c0002row13_col7\" class=\"data row13 col7\" >0.491154</td>\n",
              "                        <td id=\"T_3200f974_12d8_11eb_aaa5_0242ac1c0002row13_col8\" class=\"data row13 col8\" >0.497266</td>\n",
              "                        <td id=\"T_3200f974_12d8_11eb_aaa5_0242ac1c0002row13_col9\" class=\"data row13 col9\" >0.451353</td>\n",
              "                        <td id=\"T_3200f974_12d8_11eb_aaa5_0242ac1c0002row13_col10\" class=\"data row13 col10\" >-0.502713</td>\n",
              "                        <td id=\"T_3200f974_12d8_11eb_aaa5_0242ac1c0002row13_col11\" class=\"data row13 col11\" >0.782854</td>\n",
              "                        <td id=\"T_3200f974_12d8_11eb_aaa5_0242ac1c0002row13_col12\" class=\"data row13 col12\" >0.863526</td>\n",
              "                        <td id=\"T_3200f974_12d8_11eb_aaa5_0242ac1c0002row13_col13\" class=\"data row13 col13\" >1.000000</td>\n",
              "                        <td id=\"T_3200f974_12d8_11eb_aaa5_0242ac1c0002row13_col14\" class=\"data row13 col14\" >0.811689</td>\n",
              "                        <td id=\"T_3200f974_12d8_11eb_aaa5_0242ac1c0002row13_col15\" class=\"data row13 col15\" >0.708674</td>\n",
              "                        <td id=\"T_3200f974_12d8_11eb_aaa5_0242ac1c0002row13_col16\" class=\"data row13 col16\" >0.935235</td>\n",
              "                        <td id=\"T_3200f974_12d8_11eb_aaa5_0242ac1c0002row13_col17\" class=\"data row13 col17\" >-0.053220</td>\n",
              "            </tr>\n",
              "            <tr>\n",
              "                        <th id=\"T_3200f974_12d8_11eb_aaa5_0242ac1c0002level0_row14\" class=\"row_heading level0 row14\" >NU_NOTA_COMP4</th>\n",
              "                        <td id=\"T_3200f974_12d8_11eb_aaa5_0242ac1c0002row14_col0\" class=\"data row14 col0\" >-0.171216</td>\n",
              "                        <td id=\"T_3200f974_12d8_11eb_aaa5_0242ac1c0002row14_col1\" class=\"data row14 col1\" >-0.107194</td>\n",
              "                        <td id=\"T_3200f974_12d8_11eb_aaa5_0242ac1c0002row14_col2\" class=\"data row14 col2\" >0.078487</td>\n",
              "                        <td id=\"T_3200f974_12d8_11eb_aaa5_0242ac1c0002row14_col3\" class=\"data row14 col3\" >-0.022786</td>\n",
              "                        <td id=\"T_3200f974_12d8_11eb_aaa5_0242ac1c0002row14_col4\" class=\"data row14 col4\" >-0.042270</td>\n",
              "                        <td id=\"T_3200f974_12d8_11eb_aaa5_0242ac1c0002row14_col5\" class=\"data row14 col5\" >nan</td>\n",
              "                        <td id=\"T_3200f974_12d8_11eb_aaa5_0242ac1c0002row14_col6\" class=\"data row14 col6\" >0.440447</td>\n",
              "                        <td id=\"T_3200f974_12d8_11eb_aaa5_0242ac1c0002row14_col7\" class=\"data row14 col7\" >0.460272</td>\n",
              "                        <td id=\"T_3200f974_12d8_11eb_aaa5_0242ac1c0002row14_col8\" class=\"data row14 col8\" >0.464610</td>\n",
              "                        <td id=\"T_3200f974_12d8_11eb_aaa5_0242ac1c0002row14_col9\" class=\"data row14 col9\" >0.436736</td>\n",
              "                        <td id=\"T_3200f974_12d8_11eb_aaa5_0242ac1c0002row14_col10\" class=\"data row14 col10\" >-0.561519</td>\n",
              "                        <td id=\"T_3200f974_12d8_11eb_aaa5_0242ac1c0002row14_col11\" class=\"data row14 col11\" >0.826159</td>\n",
              "                        <td id=\"T_3200f974_12d8_11eb_aaa5_0242ac1c0002row14_col12\" class=\"data row14 col12\" >0.739897</td>\n",
              "                        <td id=\"T_3200f974_12d8_11eb_aaa5_0242ac1c0002row14_col13\" class=\"data row14 col13\" >0.811689</td>\n",
              "                        <td id=\"T_3200f974_12d8_11eb_aaa5_0242ac1c0002row14_col14\" class=\"data row14 col14\" >1.000000</td>\n",
              "                        <td id=\"T_3200f974_12d8_11eb_aaa5_0242ac1c0002row14_col15\" class=\"data row14 col15\" >0.642501</td>\n",
              "                        <td id=\"T_3200f974_12d8_11eb_aaa5_0242ac1c0002row14_col16\" class=\"data row14 col16\" >0.891793</td>\n",
              "                        <td id=\"T_3200f974_12d8_11eb_aaa5_0242ac1c0002row14_col17\" class=\"data row14 col17\" >-0.041811</td>\n",
              "            </tr>\n",
              "            <tr>\n",
              "                        <th id=\"T_3200f974_12d8_11eb_aaa5_0242ac1c0002level0_row15\" class=\"row_heading level0 row15\" >NU_NOTA_COMP5</th>\n",
              "                        <td id=\"T_3200f974_12d8_11eb_aaa5_0242ac1c0002row15_col0\" class=\"data row15 col0\" >-0.149503</td>\n",
              "                        <td id=\"T_3200f974_12d8_11eb_aaa5_0242ac1c0002row15_col1\" class=\"data row15 col1\" >-0.111893</td>\n",
              "                        <td id=\"T_3200f974_12d8_11eb_aaa5_0242ac1c0002row15_col2\" class=\"data row15 col2\" >0.085110</td>\n",
              "                        <td id=\"T_3200f974_12d8_11eb_aaa5_0242ac1c0002row15_col3\" class=\"data row15 col3\" >-0.016316</td>\n",
              "                        <td id=\"T_3200f974_12d8_11eb_aaa5_0242ac1c0002row15_col4\" class=\"data row15 col4\" >-0.041309</td>\n",
              "                        <td id=\"T_3200f974_12d8_11eb_aaa5_0242ac1c0002row15_col5\" class=\"data row15 col5\" >nan</td>\n",
              "                        <td id=\"T_3200f974_12d8_11eb_aaa5_0242ac1c0002row15_col6\" class=\"data row15 col6\" >0.457013</td>\n",
              "                        <td id=\"T_3200f974_12d8_11eb_aaa5_0242ac1c0002row15_col7\" class=\"data row15 col7\" >0.478832</td>\n",
              "                        <td id=\"T_3200f974_12d8_11eb_aaa5_0242ac1c0002row15_col8\" class=\"data row15 col8\" >0.479532</td>\n",
              "                        <td id=\"T_3200f974_12d8_11eb_aaa5_0242ac1c0002row15_col9\" class=\"data row15 col9\" >0.443501</td>\n",
              "                        <td id=\"T_3200f974_12d8_11eb_aaa5_0242ac1c0002row15_col10\" class=\"data row15 col10\" >-0.269932</td>\n",
              "                        <td id=\"T_3200f974_12d8_11eb_aaa5_0242ac1c0002row15_col11\" class=\"data row15 col11\" >0.572142</td>\n",
              "                        <td id=\"T_3200f974_12d8_11eb_aaa5_0242ac1c0002row15_col12\" class=\"data row15 col12\" >0.657280</td>\n",
              "                        <td id=\"T_3200f974_12d8_11eb_aaa5_0242ac1c0002row15_col13\" class=\"data row15 col13\" >0.708674</td>\n",
              "                        <td id=\"T_3200f974_12d8_11eb_aaa5_0242ac1c0002row15_col14\" class=\"data row15 col14\" >0.642501</td>\n",
              "                        <td id=\"T_3200f974_12d8_11eb_aaa5_0242ac1c0002row15_col15\" class=\"data row15 col15\" >1.000000</td>\n",
              "                        <td id=\"T_3200f974_12d8_11eb_aaa5_0242ac1c0002row15_col16\" class=\"data row15 col16\" >0.846894</td>\n",
              "                        <td id=\"T_3200f974_12d8_11eb_aaa5_0242ac1c0002row15_col17\" class=\"data row15 col17\" >-0.046722</td>\n",
              "            </tr>\n",
              "            <tr>\n",
              "                        <th id=\"T_3200f974_12d8_11eb_aaa5_0242ac1c0002level0_row16\" class=\"row_heading level0 row16\" >NU_NOTA_REDACAO</th>\n",
              "                        <td id=\"T_3200f974_12d8_11eb_aaa5_0242ac1c0002row16_col0\" class=\"data row16 col0\" >-0.166211</td>\n",
              "                        <td id=\"T_3200f974_12d8_11eb_aaa5_0242ac1c0002row16_col1\" class=\"data row16 col1\" >-0.125184</td>\n",
              "                        <td id=\"T_3200f974_12d8_11eb_aaa5_0242ac1c0002row16_col2\" class=\"data row16 col2\" >0.079033</td>\n",
              "                        <td id=\"T_3200f974_12d8_11eb_aaa5_0242ac1c0002row16_col3\" class=\"data row16 col3\" >-0.018907</td>\n",
              "                        <td id=\"T_3200f974_12d8_11eb_aaa5_0242ac1c0002row16_col4\" class=\"data row16 col4\" >-0.050629</td>\n",
              "                        <td id=\"T_3200f974_12d8_11eb_aaa5_0242ac1c0002row16_col5\" class=\"data row16 col5\" >nan</td>\n",
              "                        <td id=\"T_3200f974_12d8_11eb_aaa5_0242ac1c0002row16_col6\" class=\"data row16 col6\" >0.504903</td>\n",
              "                        <td id=\"T_3200f974_12d8_11eb_aaa5_0242ac1c0002row16_col7\" class=\"data row16 col7\" >0.530950</td>\n",
              "                        <td id=\"T_3200f974_12d8_11eb_aaa5_0242ac1c0002row16_col8\" class=\"data row16 col8\" >0.537690</td>\n",
              "                        <td id=\"T_3200f974_12d8_11eb_aaa5_0242ac1c0002row16_col9\" class=\"data row16 col9\" >0.493200</td>\n",
              "                        <td id=\"T_3200f974_12d8_11eb_aaa5_0242ac1c0002row16_col10\" class=\"data row16 col10\" >-0.532256</td>\n",
              "                        <td id=\"T_3200f974_12d8_11eb_aaa5_0242ac1c0002row16_col11\" class=\"data row16 col11\" >0.851214</td>\n",
              "                        <td id=\"T_3200f974_12d8_11eb_aaa5_0242ac1c0002row16_col12\" class=\"data row16 col12\" >0.892802</td>\n",
              "                        <td id=\"T_3200f974_12d8_11eb_aaa5_0242ac1c0002row16_col13\" class=\"data row16 col13\" >0.935235</td>\n",
              "                        <td id=\"T_3200f974_12d8_11eb_aaa5_0242ac1c0002row16_col14\" class=\"data row16 col14\" >0.891793</td>\n",
              "                        <td id=\"T_3200f974_12d8_11eb_aaa5_0242ac1c0002row16_col15\" class=\"data row16 col15\" >0.846894</td>\n",
              "                        <td id=\"T_3200f974_12d8_11eb_aaa5_0242ac1c0002row16_col16\" class=\"data row16 col16\" >1.000000</td>\n",
              "                        <td id=\"T_3200f974_12d8_11eb_aaa5_0242ac1c0002row16_col17\" class=\"data row16 col17\" >-0.055581</td>\n",
              "            </tr>\n",
              "            <tr>\n",
              "                        <th id=\"T_3200f974_12d8_11eb_aaa5_0242ac1c0002level0_row17\" class=\"row_heading level0 row17\" >Q005</th>\n",
              "                        <td id=\"T_3200f974_12d8_11eb_aaa5_0242ac1c0002row17_col0\" class=\"data row17 col0\" >-0.133107</td>\n",
              "                        <td id=\"T_3200f974_12d8_11eb_aaa5_0242ac1c0002row17_col1\" class=\"data row17 col1\" >0.090262</td>\n",
              "                        <td id=\"T_3200f974_12d8_11eb_aaa5_0242ac1c0002row17_col2\" class=\"data row17 col2\" >0.060295</td>\n",
              "                        <td id=\"T_3200f974_12d8_11eb_aaa5_0242ac1c0002row17_col3\" class=\"data row17 col3\" >-0.009886</td>\n",
              "                        <td id=\"T_3200f974_12d8_11eb_aaa5_0242ac1c0002row17_col4\" class=\"data row17 col4\" >0.040050</td>\n",
              "                        <td id=\"T_3200f974_12d8_11eb_aaa5_0242ac1c0002row17_col5\" class=\"data row17 col5\" >-0.003539</td>\n",
              "                        <td id=\"T_3200f974_12d8_11eb_aaa5_0242ac1c0002row17_col6\" class=\"data row17 col6\" >-0.096046</td>\n",
              "                        <td id=\"T_3200f974_12d8_11eb_aaa5_0242ac1c0002row17_col7\" class=\"data row17 col7\" >-0.104263</td>\n",
              "                        <td id=\"T_3200f974_12d8_11eb_aaa5_0242ac1c0002row17_col8\" class=\"data row17 col8\" >-0.109597</td>\n",
              "                        <td id=\"T_3200f974_12d8_11eb_aaa5_0242ac1c0002row17_col9\" class=\"data row17 col9\" >-0.074493</td>\n",
              "                        <td id=\"T_3200f974_12d8_11eb_aaa5_0242ac1c0002row17_col10\" class=\"data row17 col10\" >0.018196</td>\n",
              "                        <td id=\"T_3200f974_12d8_11eb_aaa5_0242ac1c0002row17_col11\" class=\"data row17 col11\" >-0.060692</td>\n",
              "                        <td id=\"T_3200f974_12d8_11eb_aaa5_0242ac1c0002row17_col12\" class=\"data row17 col12\" >-0.045431</td>\n",
              "                        <td id=\"T_3200f974_12d8_11eb_aaa5_0242ac1c0002row17_col13\" class=\"data row17 col13\" >-0.053220</td>\n",
              "                        <td id=\"T_3200f974_12d8_11eb_aaa5_0242ac1c0002row17_col14\" class=\"data row17 col14\" >-0.041811</td>\n",
              "                        <td id=\"T_3200f974_12d8_11eb_aaa5_0242ac1c0002row17_col15\" class=\"data row17 col15\" >-0.046722</td>\n",
              "                        <td id=\"T_3200f974_12d8_11eb_aaa5_0242ac1c0002row17_col16\" class=\"data row17 col16\" >-0.055581</td>\n",
              "                        <td id=\"T_3200f974_12d8_11eb_aaa5_0242ac1c0002row17_col17\" class=\"data row17 col17\" >1.000000</td>\n",
              "            </tr>\n",
              "    </tbody></table>"
            ],
            "text/plain": [
              "<pandas.io.formats.style.Styler at 0x7fcf42443860>"
            ]
          },
          "metadata": {
            "tags": []
          },
          "execution_count": 418
        }
      ]
    },
    {
      "cell_type": "markdown",
      "metadata": {
        "id": "Kd1QfFelymdo"
      },
      "source": [
        "\n",
        "Não identifiquei nenhum assunto que tivesse forte relacao na nota da redação. \n",
        "Então vou removê-los.\n",
        "\n"
      ]
    },
    {
      "cell_type": "code",
      "metadata": {
        "id": "pHY29zRJzIlX"
      },
      "source": [
        "dados_escolhidos2 = dados_escolhidos1.drop(['NU_NOTA_COMP1', 'NU_NOTA_COMP2',\t'NU_NOTA_COMP3', 'NU_NOTA_COMP4',\t'NU_NOTA_COMP5'], axis=1)"
      ],
      "execution_count": null,
      "outputs": []
    },
    {
      "cell_type": "code",
      "metadata": {
        "id": "N_rnr_BC0I1D",
        "outputId": "a6369584-e4e0-44f1-9f46-b81c1cab8e38",
        "colab": {
          "base_uri": "https://localhost:8080/",
          "height": 173
        }
      },
      "source": [
        "status_redacao = pd.Series(dados_escolhidos2['TP_STATUS_REDACAO'])\n",
        "status_redacao.value_counts(normalize=True)"
      ],
      "execution_count": null,
      "outputs": [
        {
          "output_type": "execute_result",
          "data": {
            "text/plain": [
              "1.0    0.964250\n",
              "4.0    0.014728\n",
              "6.0    0.009322\n",
              "3.0    0.005610\n",
              "8.0    0.002213\n",
              "2.0    0.001469\n",
              "9.0    0.001367\n",
              "7.0    0.001040\n",
              "Name: TP_STATUS_REDACAO, dtype: float64"
            ]
          },
          "metadata": {
            "tags": []
          },
          "execution_count": 420
        }
      ]
    },
    {
      "cell_type": "markdown",
      "metadata": {
        "id": "5WddmoLx2_m8"
      },
      "source": [
        "O maior problemas encontrado nas redações foi que os alunos as deixaram em branco. Fuga ao tema é o segundo fator de problemas nas redações.\n",
        "\n",
        "1- sem problemas\n",
        "\n",
        "2- anulada\n",
        "\n",
        "3- cópia texto motivador\n",
        "\n",
        "4- em branco\n",
        "\n",
        "5- (N/A)\n",
        "\n",
        "6- fuga ao tema\n",
        "\n",
        "7- não atendimento ao tipo textual\n",
        "\n",
        "8- texto insuficiente\n",
        "\n",
        "9- parte desconectada"
      ]
    },
    {
      "cell_type": "code",
      "metadata": {
        "id": "cR6nuDMvdHkn",
        "outputId": "26ca1c30-2772-4e27-a853-3080b0293391",
        "colab": {
          "base_uri": "https://localhost:8080/",
          "height": 387
        }
      },
      "source": [
        "# Desafio06: explorar a documentacao e visualizações com matplotlib ou pandas e gerar novas visualizações\n",
        "\n",
        "# multivariable \n",
        "\n",
        "print('''\u001bTipos de escolas:\n",
        "1-desconhecida\n",
        "2-publica\n",
        "3-privada''')\n",
        "\n",
        "labels = ['desconhecida', 'publica','privada']\n",
        "x = sb.stripplot(data = dados_escolhidos2, x = 'TP_ESCOLA', y = 'NU_NOTA_REDACAO',\n",
        "           jitter = 0.35 , alpha =  1/3);\n",
        "plt.title('Tipo de escola vs. notas de redação', fontsize=14, y=1.015)\n"
      ],
      "execution_count": null,
      "outputs": [
        {
          "output_type": "stream",
          "text": [
            "\u001bTipos de escolas:\n",
            "1-desconhecida\n",
            "2-publica\n",
            "3-privada\n"
          ],
          "name": "stdout"
        },
        {
          "output_type": "execute_result",
          "data": {
            "text/plain": [
              "Text(0.5, 1.015, 'Tipo de escola vs. notas de redação')"
            ]
          },
          "metadata": {
            "tags": []
          },
          "execution_count": 421
        },
        {
          "output_type": "display_data",
          "data": {
            "image/png": "[encoded data removed]",
            "text/plain": [
              "<Figure size 432x288 with 1 Axes>"
            ]
          },
          "metadata": {
            "tags": [],
            "needs_background": "light"
          }
        }
      ]
    },
    {
      "cell_type": "markdown",
      "metadata": {
        "id": "YcjpJPEhB4YJ"
      },
      "source": [
        "Nas escolas privadas as notas tendem a ser menos notas baixas.\n",
        "\n",
        "A melhorar: inserir legenda, renomear lables e itens do eixo x."
      ]
    },
    {
      "cell_type": "code",
      "metadata": {
        "id": "w0Ed_T0sAD_1",
        "outputId": "2c954b0d-8cf1-4676-c0d6-884696ad9f5d",
        "colab": {
          "base_uri": "https://localhost:8080/",
          "height": 314
        }
      },
      "source": [
        "# Desafio06: explorar a documentacao e visualizações com matplotlib ou pandas e gerar novas visualizações\n",
        "base_color = sb.color_palette()[0]\n",
        "sb.violinplot(data = dados_escolhidos2, x = 'TP_SEXO', y = 'NU_NOTA_REDACAO', color=base_color)\n",
        "plt.title('Tipo de Sexo vs. Notas de Redacao')\n",
        "\n"
      ],
      "execution_count": null,
      "outputs": [
        {
          "output_type": "execute_result",
          "data": {
            "text/plain": [
              "Text(0.5, 1.0, 'Tipo de Sexo vs. Notas de Redacao')"
            ]
          },
          "metadata": {
            "tags": []
          },
          "execution_count": 422
        },
        {
          "output_type": "display_data",
          "data": {
            "image/png": "[encoded data removed]",
            "text/plain": [
              "<Figure size 432x288 with 1 Axes>"
            ]
          },
          "metadata": {
            "tags": [],
            "needs_background": "light"
          }
        }
      ]
    },
    {
      "cell_type": "markdown",
      "metadata": {
        "id": "9kNP7fHZI5LG"
      },
      "source": [
        "A nota de redacao nao variou muito se comparando sexos feminino e masculino."
      ]
    },
    {
      "cell_type": "markdown",
      "metadata": {
        "id": "SU_DHZUm49M3"
      },
      "source": [
        "Desafio01: proporcao de inscritos por idade.\n",
        "\n",
        "Desafio02: descobrir de quais Estados sao os inscritos com 13 anos.\n",
        "\n",
        "Desafio03: colocar títulos no histograma.\n",
        "\n",
        "Desafio04: fazer histograma de treineiros e nao-treineiros (um em cima do outro).\n",
        "\n",
        "Desafio05: comparar as distribuições (hist or boxplot)\n",
        "\n",
        "Desafio06: explorar a documentacao e visualizações com matplotlib ou pandas e gerar novas visualizações\n"
      ]
    },
    {
      "cell_type": "code",
      "metadata": {
        "id": "c9njAMqqAD9T"
      },
      "source": [
        ""
      ],
      "execution_count": null,
      "outputs": []
    },
    {
      "cell_type": "markdown",
      "metadata": {
        "id": "eCD4BYt7LQBz"
      },
      "source": [
        "## Aula 2"
      ]
    }
  ]
}