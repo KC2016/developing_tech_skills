{
 "cells": [
  {
   "cell_type": "markdown",
   "metadata": {
    "id": "IjvqbxPgOrKf"
   },
   "source": [
    "# KARINA CONDEIXA\n",
    "\n",
    "# Imersao dados - Alura\n"
   ]
  },
  {
   "cell_type": "markdown",
   "metadata": {
    "id": "mRlnSOCSV601"
   },
   "source": [
    "## AULA 1: Dados da educação\n",
    "video https://www.alura.com.br/imersao-dados/aula01-educacao-no-brasil"
   ]
  },
  {
   "cell_type": "code",
   "execution_count": 115,
   "metadata": {
    "id": "9_cRZY8wvAmc"
   },
   "outputs": [],
   "source": [
    "import pandas as pd\n",
    "\n",
    "import matplotlib.pyplot as plt\n",
    "from matplotlib.ticker import EngFormatter  \n",
    "from matplotlib.ticker import PercentFormatter\n",
    "%matplotlib inline\n",
    "import seaborn as sns"
   ]
  },
  {
   "cell_type": "code",
   "execution_count": 116,
   "metadata": {
    "id": "PdMH4iZHvcaU"
   },
   "outputs": [],
   "source": [
    "fonte = 'https://raw.githubusercontent.com/alura-cursos/imersao-dados-2-2020/master/MICRODADOS_ENEM_2019_SAMPLE_43278.csv'"
   ]
  },
  {
   "cell_type": "code",
   "execution_count": 117,
   "metadata": {
    "id": "LkQ2V0ECvcqp"
   },
   "outputs": [],
   "source": [
    "dados = pd.read_csv(fonte)"
   ]
  },
  {
   "cell_type": "code",
   "execution_count": 118,
   "metadata": {
    "colab": {
     "base_uri": "https://localhost:8080/",
     "height": 253
    },
    "id": "M9KCPTMFvctX",
    "outputId": "eef04cca-f18c-463b-f97c-e7824d09b137"
   },
   "outputs": [
    {
     "data": {
      "text/html": [
       "<div>\n",
       "<style scoped>\n",
       "    .dataframe tbody tr th:only-of-type {\n",
       "        vertical-align: middle;\n",
       "    }\n",
       "\n",
       "    .dataframe tbody tr th {\n",
       "        vertical-align: top;\n",
       "    }\n",
       "\n",
       "    .dataframe thead th {\n",
       "        text-align: right;\n",
       "    }\n",
       "</style>\n",
       "<table border=\"1\" class=\"dataframe\">\n",
       "  <thead>\n",
       "    <tr style=\"text-align: right;\">\n",
       "      <th></th>\n",
       "      <th>NU_INSCRICAO</th>\n",
       "      <th>NU_ANO</th>\n",
       "      <th>CO_MUNICIPIO_RESIDENCIA</th>\n",
       "      <th>NO_MUNICIPIO_RESIDENCIA</th>\n",
       "      <th>CO_UF_RESIDENCIA</th>\n",
       "      <th>SG_UF_RESIDENCIA</th>\n",
       "      <th>NU_IDADE</th>\n",
       "      <th>TP_SEXO</th>\n",
       "      <th>TP_ESTADO_CIVIL</th>\n",
       "      <th>TP_COR_RACA</th>\n",
       "      <th>...</th>\n",
       "      <th>Q016</th>\n",
       "      <th>Q017</th>\n",
       "      <th>Q018</th>\n",
       "      <th>Q019</th>\n",
       "      <th>Q020</th>\n",
       "      <th>Q021</th>\n",
       "      <th>Q022</th>\n",
       "      <th>Q023</th>\n",
       "      <th>Q024</th>\n",
       "      <th>Q025</th>\n",
       "    </tr>\n",
       "  </thead>\n",
       "  <tbody>\n",
       "    <tr>\n",
       "      <th>0</th>\n",
       "      <td>190001004661</td>\n",
       "      <td>2019</td>\n",
       "      <td>1506138</td>\n",
       "      <td>Redenção</td>\n",
       "      <td>15</td>\n",
       "      <td>PA</td>\n",
       "      <td>17</td>\n",
       "      <td>M</td>\n",
       "      <td>1</td>\n",
       "      <td>3</td>\n",
       "      <td>...</td>\n",
       "      <td>A</td>\n",
       "      <td>A</td>\n",
       "      <td>A</td>\n",
       "      <td>A</td>\n",
       "      <td>B</td>\n",
       "      <td>A</td>\n",
       "      <td>C</td>\n",
       "      <td>A</td>\n",
       "      <td>B</td>\n",
       "      <td>B</td>\n",
       "    </tr>\n",
       "    <tr>\n",
       "      <th>1</th>\n",
       "      <td>190001004674</td>\n",
       "      <td>2019</td>\n",
       "      <td>1504208</td>\n",
       "      <td>Marabá</td>\n",
       "      <td>15</td>\n",
       "      <td>PA</td>\n",
       "      <td>23</td>\n",
       "      <td>M</td>\n",
       "      <td>1</td>\n",
       "      <td>3</td>\n",
       "      <td>...</td>\n",
       "      <td>A</td>\n",
       "      <td>A</td>\n",
       "      <td>A</td>\n",
       "      <td>B</td>\n",
       "      <td>A</td>\n",
       "      <td>A</td>\n",
       "      <td>B</td>\n",
       "      <td>A</td>\n",
       "      <td>A</td>\n",
       "      <td>B</td>\n",
       "    </tr>\n",
       "    <tr>\n",
       "      <th>2</th>\n",
       "      <td>190001004722</td>\n",
       "      <td>2019</td>\n",
       "      <td>1501402</td>\n",
       "      <td>Belém</td>\n",
       "      <td>15</td>\n",
       "      <td>PA</td>\n",
       "      <td>35</td>\n",
       "      <td>F</td>\n",
       "      <td>2</td>\n",
       "      <td>1</td>\n",
       "      <td>...</td>\n",
       "      <td>A</td>\n",
       "      <td>A</td>\n",
       "      <td>A</td>\n",
       "      <td>B</td>\n",
       "      <td>A</td>\n",
       "      <td>B</td>\n",
       "      <td>B</td>\n",
       "      <td>A</td>\n",
       "      <td>A</td>\n",
       "      <td>B</td>\n",
       "    </tr>\n",
       "    <tr>\n",
       "      <th>3</th>\n",
       "      <td>190001004735</td>\n",
       "      <td>2019</td>\n",
       "      <td>1507300</td>\n",
       "      <td>São Félix do Xingu</td>\n",
       "      <td>15</td>\n",
       "      <td>PA</td>\n",
       "      <td>23</td>\n",
       "      <td>F</td>\n",
       "      <td>1</td>\n",
       "      <td>3</td>\n",
       "      <td>...</td>\n",
       "      <td>A</td>\n",
       "      <td>A</td>\n",
       "      <td>A</td>\n",
       "      <td>B</td>\n",
       "      <td>A</td>\n",
       "      <td>A</td>\n",
       "      <td>B</td>\n",
       "      <td>A</td>\n",
       "      <td>A</td>\n",
       "      <td>B</td>\n",
       "    </tr>\n",
       "    <tr>\n",
       "      <th>4</th>\n",
       "      <td>190001004776</td>\n",
       "      <td>2019</td>\n",
       "      <td>1500800</td>\n",
       "      <td>Ananindeua</td>\n",
       "      <td>15</td>\n",
       "      <td>PA</td>\n",
       "      <td>16</td>\n",
       "      <td>F</td>\n",
       "      <td>1</td>\n",
       "      <td>3</td>\n",
       "      <td>...</td>\n",
       "      <td>A</td>\n",
       "      <td>A</td>\n",
       "      <td>A</td>\n",
       "      <td>B</td>\n",
       "      <td>A</td>\n",
       "      <td>A</td>\n",
       "      <td>D</td>\n",
       "      <td>A</td>\n",
       "      <td>A</td>\n",
       "      <td>B</td>\n",
       "    </tr>\n",
       "  </tbody>\n",
       "</table>\n",
       "<p>5 rows × 136 columns</p>\n",
       "</div>"
      ],
      "text/plain": [
       "   NU_INSCRICAO  NU_ANO  CO_MUNICIPIO_RESIDENCIA NO_MUNICIPIO_RESIDENCIA  \\\n",
       "0  190001004661    2019                  1506138                Redenção   \n",
       "1  190001004674    2019                  1504208                  Marabá   \n",
       "2  190001004722    2019                  1501402                   Belém   \n",
       "3  190001004735    2019                  1507300      São Félix do Xingu   \n",
       "4  190001004776    2019                  1500800              Ananindeua   \n",
       "\n",
       "   CO_UF_RESIDENCIA SG_UF_RESIDENCIA  NU_IDADE TP_SEXO  TP_ESTADO_CIVIL  \\\n",
       "0                15               PA        17       M                1   \n",
       "1                15               PA        23       M                1   \n",
       "2                15               PA        35       F                2   \n",
       "3                15               PA        23       F                1   \n",
       "4                15               PA        16       F                1   \n",
       "\n",
       "   TP_COR_RACA  ...  Q016  Q017 Q018  Q019 Q020  Q021  Q022  Q023  Q024  Q025  \n",
       "0            3  ...     A     A    A     A    B     A     C     A     B     B  \n",
       "1            3  ...     A     A    A     B    A     A     B     A     A     B  \n",
       "2            1  ...     A     A    A     B    A     B     B     A     A     B  \n",
       "3            3  ...     A     A    A     B    A     A     B     A     A     B  \n",
       "4            3  ...     A     A    A     B    A     A     D     A     A     B  \n",
       "\n",
       "[5 rows x 136 columns]"
      ]
     },
     "execution_count": 118,
     "metadata": {},
     "output_type": "execute_result"
    }
   ],
   "source": [
    "dados.head()  # dataframe"
   ]
  },
  {
   "cell_type": "code",
   "execution_count": 119,
   "metadata": {
    "colab": {
     "base_uri": "https://localhost:8080/",
     "height": 253
    },
    "id": "H4OFbiMTQH75",
    "outputId": "b13cff91-ef42-4201-89cb-7f195d732c6a"
   },
   "outputs": [
    {
     "data": {
      "text/html": [
       "<div>\n",
       "<style scoped>\n",
       "    .dataframe tbody tr th:only-of-type {\n",
       "        vertical-align: middle;\n",
       "    }\n",
       "\n",
       "    .dataframe tbody tr th {\n",
       "        vertical-align: top;\n",
       "    }\n",
       "\n",
       "    .dataframe thead th {\n",
       "        text-align: right;\n",
       "    }\n",
       "</style>\n",
       "<table border=\"1\" class=\"dataframe\">\n",
       "  <thead>\n",
       "    <tr style=\"text-align: right;\">\n",
       "      <th></th>\n",
       "      <th>NU_INSCRICAO</th>\n",
       "      <th>NU_ANO</th>\n",
       "      <th>CO_MUNICIPIO_RESIDENCIA</th>\n",
       "      <th>NO_MUNICIPIO_RESIDENCIA</th>\n",
       "      <th>CO_UF_RESIDENCIA</th>\n",
       "      <th>SG_UF_RESIDENCIA</th>\n",
       "      <th>NU_IDADE</th>\n",
       "      <th>TP_SEXO</th>\n",
       "      <th>TP_ESTADO_CIVIL</th>\n",
       "      <th>TP_COR_RACA</th>\n",
       "      <th>...</th>\n",
       "      <th>Q016</th>\n",
       "      <th>Q017</th>\n",
       "      <th>Q018</th>\n",
       "      <th>Q019</th>\n",
       "      <th>Q020</th>\n",
       "      <th>Q021</th>\n",
       "      <th>Q022</th>\n",
       "      <th>Q023</th>\n",
       "      <th>Q024</th>\n",
       "      <th>Q025</th>\n",
       "    </tr>\n",
       "  </thead>\n",
       "  <tbody>\n",
       "    <tr>\n",
       "      <th>127375</th>\n",
       "      <td>190006120035</td>\n",
       "      <td>2019</td>\n",
       "      <td>3142700</td>\n",
       "      <td>Montalvânia</td>\n",
       "      <td>31</td>\n",
       "      <td>MG</td>\n",
       "      <td>17</td>\n",
       "      <td>F</td>\n",
       "      <td>1</td>\n",
       "      <td>1</td>\n",
       "      <td>...</td>\n",
       "      <td>A</td>\n",
       "      <td>A</td>\n",
       "      <td>A</td>\n",
       "      <td>B</td>\n",
       "      <td>A</td>\n",
       "      <td>A</td>\n",
       "      <td>D</td>\n",
       "      <td>A</td>\n",
       "      <td>B</td>\n",
       "      <td>B</td>\n",
       "    </tr>\n",
       "    <tr>\n",
       "      <th>127376</th>\n",
       "      <td>190006120036</td>\n",
       "      <td>2019</td>\n",
       "      <td>2902807</td>\n",
       "      <td>Barra da Estiva</td>\n",
       "      <td>29</td>\n",
       "      <td>BA</td>\n",
       "      <td>18</td>\n",
       "      <td>M</td>\n",
       "      <td>1</td>\n",
       "      <td>2</td>\n",
       "      <td>...</td>\n",
       "      <td>A</td>\n",
       "      <td>A</td>\n",
       "      <td>A</td>\n",
       "      <td>B</td>\n",
       "      <td>A</td>\n",
       "      <td>A</td>\n",
       "      <td>D</td>\n",
       "      <td>A</td>\n",
       "      <td>B</td>\n",
       "      <td>B</td>\n",
       "    </tr>\n",
       "    <tr>\n",
       "      <th>127377</th>\n",
       "      <td>190006120037</td>\n",
       "      <td>2019</td>\n",
       "      <td>2927408</td>\n",
       "      <td>Salvador</td>\n",
       "      <td>29</td>\n",
       "      <td>BA</td>\n",
       "      <td>22</td>\n",
       "      <td>F</td>\n",
       "      <td>1</td>\n",
       "      <td>3</td>\n",
       "      <td>...</td>\n",
       "      <td>A</td>\n",
       "      <td>A</td>\n",
       "      <td>A</td>\n",
       "      <td>A</td>\n",
       "      <td>A</td>\n",
       "      <td>A</td>\n",
       "      <td>B</td>\n",
       "      <td>A</td>\n",
       "      <td>A</td>\n",
       "      <td>B</td>\n",
       "    </tr>\n",
       "    <tr>\n",
       "      <th>127378</th>\n",
       "      <td>190006120060</td>\n",
       "      <td>2019</td>\n",
       "      <td>2930709</td>\n",
       "      <td>Simões Filho</td>\n",
       "      <td>29</td>\n",
       "      <td>BA</td>\n",
       "      <td>26</td>\n",
       "      <td>F</td>\n",
       "      <td>2</td>\n",
       "      <td>2</td>\n",
       "      <td>...</td>\n",
       "      <td>A</td>\n",
       "      <td>A</td>\n",
       "      <td>A</td>\n",
       "      <td>B</td>\n",
       "      <td>A</td>\n",
       "      <td>A</td>\n",
       "      <td>C</td>\n",
       "      <td>A</td>\n",
       "      <td>A</td>\n",
       "      <td>A</td>\n",
       "    </tr>\n",
       "    <tr>\n",
       "      <th>127379</th>\n",
       "      <td>190006120170</td>\n",
       "      <td>2019</td>\n",
       "      <td>3106200</td>\n",
       "      <td>Belo Horizonte</td>\n",
       "      <td>31</td>\n",
       "      <td>MG</td>\n",
       "      <td>19</td>\n",
       "      <td>M</td>\n",
       "      <td>1</td>\n",
       "      <td>2</td>\n",
       "      <td>...</td>\n",
       "      <td>A</td>\n",
       "      <td>A</td>\n",
       "      <td>A</td>\n",
       "      <td>B</td>\n",
       "      <td>A</td>\n",
       "      <td>A</td>\n",
       "      <td>B</td>\n",
       "      <td>B</td>\n",
       "      <td>A</td>\n",
       "      <td>B</td>\n",
       "    </tr>\n",
       "  </tbody>\n",
       "</table>\n",
       "<p>5 rows × 136 columns</p>\n",
       "</div>"
      ],
      "text/plain": [
       "        NU_INSCRICAO  NU_ANO  CO_MUNICIPIO_RESIDENCIA NO_MUNICIPIO_RESIDENCIA  \\\n",
       "127375  190006120035    2019                  3142700             Montalvânia   \n",
       "127376  190006120036    2019                  2902807         Barra da Estiva   \n",
       "127377  190006120037    2019                  2927408                Salvador   \n",
       "127378  190006120060    2019                  2930709            Simões Filho   \n",
       "127379  190006120170    2019                  3106200          Belo Horizonte   \n",
       "\n",
       "        CO_UF_RESIDENCIA SG_UF_RESIDENCIA  NU_IDADE TP_SEXO  TP_ESTADO_CIVIL  \\\n",
       "127375                31               MG        17       F                1   \n",
       "127376                29               BA        18       M                1   \n",
       "127377                29               BA        22       F                1   \n",
       "127378                29               BA        26       F                2   \n",
       "127379                31               MG        19       M                1   \n",
       "\n",
       "        TP_COR_RACA  ...  Q016  Q017 Q018  Q019 Q020  Q021  Q022  Q023  Q024  \\\n",
       "127375            1  ...     A     A    A     B    A     A     D     A     B   \n",
       "127376            2  ...     A     A    A     B    A     A     D     A     B   \n",
       "127377            3  ...     A     A    A     A    A     A     B     A     A   \n",
       "127378            2  ...     A     A    A     B    A     A     C     A     A   \n",
       "127379            2  ...     A     A    A     B    A     A     B     B     A   \n",
       "\n",
       "        Q025  \n",
       "127375     B  \n",
       "127376     B  \n",
       "127377     B  \n",
       "127378     A  \n",
       "127379     B  \n",
       "\n",
       "[5 rows x 136 columns]"
      ]
     },
     "execution_count": 119,
     "metadata": {},
     "output_type": "execute_result"
    }
   ],
   "source": [
    "dados.tail()  # inclui"
   ]
  },
  {
   "cell_type": "code",
   "execution_count": 120,
   "metadata": {
    "colab": {
     "base_uri": "https://localhost:8080/",
     "height": 34
    },
    "id": "E6Wj-7H6vcwJ",
    "outputId": "5f09645e-01ad-4cd4-bb1c-f2498a6d7f0b"
   },
   "outputs": [
    {
     "data": {
      "text/plain": [
       "(127380, 136)"
      ]
     },
     "execution_count": 120,
     "metadata": {},
     "output_type": "execute_result"
    }
   ],
   "source": [
    "dados.shape"
   ]
  },
  {
   "cell_type": "code",
   "execution_count": 121,
   "metadata": {
    "colab": {
     "base_uri": "https://localhost:8080/",
     "height": 102
    },
    "id": "qxKlwp05HQsC",
    "outputId": "8d144af6-0f29-450f-e06f-4527a1267e85"
   },
   "outputs": [
    {
     "name": "stdout",
     "output_type": "stream",
     "text": [
      "<class 'pandas.core.frame.DataFrame'>\n",
      "RangeIndex: 127380 entries, 0 to 127379\n",
      "Columns: 136 entries, NU_INSCRICAO to Q025\n",
      "dtypes: float64(24), int64(71), object(41)\n",
      "memory usage: 132.2+ MB\n"
     ]
    }
   ],
   "source": [
    "# Inclui info\n",
    "dados.info()"
   ]
  },
  {
   "cell_type": "code",
   "execution_count": 122,
   "metadata": {
    "colab": {
     "base_uri": "https://localhost:8080/",
     "height": 221
    },
    "id": "udBrXQZHJ-DD",
    "outputId": "6f90e982-d565-47b4-fce6-f5de18f97161"
   },
   "outputs": [
    {
     "data": {
      "text/plain": [
       "NU_INSCRICAO               0\n",
       "NU_ANO                     0\n",
       "CO_MUNICIPIO_RESIDENCIA    0\n",
       "NO_MUNICIPIO_RESIDENCIA    0\n",
       "CO_UF_RESIDENCIA           0\n",
       "                          ..\n",
       "Q021                       0\n",
       "Q022                       0\n",
       "Q023                       0\n",
       "Q024                       0\n",
       "Q025                       0\n",
       "Length: 136, dtype: int64"
      ]
     },
     "execution_count": 122,
     "metadata": {},
     "output_type": "execute_result"
    }
   ],
   "source": [
    "# inclui sum null values\n",
    "dados.isnull().sum()"
   ]
  },
  {
   "cell_type": "code",
   "execution_count": 123,
   "metadata": {
    "colab": {
     "base_uri": "https://localhost:8080/",
     "height": 419
    },
    "id": "gGEoHcdZvc1n",
    "outputId": "5b6ceefb-0639-41ce-cdc3-1f858015f31a"
   },
   "outputs": [
    {
     "data": {
      "text/html": [
       "<div>\n",
       "<style scoped>\n",
       "    .dataframe tbody tr th:only-of-type {\n",
       "        vertical-align: middle;\n",
       "    }\n",
       "\n",
       "    .dataframe tbody tr th {\n",
       "        vertical-align: top;\n",
       "    }\n",
       "\n",
       "    .dataframe thead th {\n",
       "        text-align: right;\n",
       "    }\n",
       "</style>\n",
       "<table border=\"1\" class=\"dataframe\">\n",
       "  <thead>\n",
       "    <tr style=\"text-align: right;\">\n",
       "      <th></th>\n",
       "      <th>SG_UF_RESIDENCIA</th>\n",
       "      <th>Q025</th>\n",
       "    </tr>\n",
       "  </thead>\n",
       "  <tbody>\n",
       "    <tr>\n",
       "      <th>0</th>\n",
       "      <td>PA</td>\n",
       "      <td>B</td>\n",
       "    </tr>\n",
       "    <tr>\n",
       "      <th>1</th>\n",
       "      <td>PA</td>\n",
       "      <td>B</td>\n",
       "    </tr>\n",
       "    <tr>\n",
       "      <th>2</th>\n",
       "      <td>PA</td>\n",
       "      <td>B</td>\n",
       "    </tr>\n",
       "    <tr>\n",
       "      <th>3</th>\n",
       "      <td>PA</td>\n",
       "      <td>B</td>\n",
       "    </tr>\n",
       "    <tr>\n",
       "      <th>4</th>\n",
       "      <td>PA</td>\n",
       "      <td>B</td>\n",
       "    </tr>\n",
       "    <tr>\n",
       "      <th>...</th>\n",
       "      <td>...</td>\n",
       "      <td>...</td>\n",
       "    </tr>\n",
       "    <tr>\n",
       "      <th>127375</th>\n",
       "      <td>MG</td>\n",
       "      <td>B</td>\n",
       "    </tr>\n",
       "    <tr>\n",
       "      <th>127376</th>\n",
       "      <td>BA</td>\n",
       "      <td>B</td>\n",
       "    </tr>\n",
       "    <tr>\n",
       "      <th>127377</th>\n",
       "      <td>BA</td>\n",
       "      <td>B</td>\n",
       "    </tr>\n",
       "    <tr>\n",
       "      <th>127378</th>\n",
       "      <td>BA</td>\n",
       "      <td>A</td>\n",
       "    </tr>\n",
       "    <tr>\n",
       "      <th>127379</th>\n",
       "      <td>MG</td>\n",
       "      <td>B</td>\n",
       "    </tr>\n",
       "  </tbody>\n",
       "</table>\n",
       "<p>127380 rows × 2 columns</p>\n",
       "</div>"
      ],
      "text/plain": [
       "       SG_UF_RESIDENCIA Q025\n",
       "0                    PA    B\n",
       "1                    PA    B\n",
       "2                    PA    B\n",
       "3                    PA    B\n",
       "4                    PA    B\n",
       "...                 ...  ...\n",
       "127375               MG    B\n",
       "127376               BA    B\n",
       "127377               BA    B\n",
       "127378               BA    A\n",
       "127379               MG    B\n",
       "\n",
       "[127380 rows x 2 columns]"
      ]
     },
     "execution_count": 123,
     "metadata": {},
     "output_type": "execute_result"
    }
   ],
   "source": [
    "# dados['SG_UF_RESIDENCIA'] # serie do pandas (coluna)\n",
    "dados[['SG_UF_RESIDENCIA', 'Q025']] #+[] cria uma lista com elementos"
   ]
  },
  {
   "cell_type": "code",
   "execution_count": 124,
   "metadata": {
    "colab": {
     "base_uri": "https://localhost:8080/",
     "height": 680
    },
    "id": "HwhwuKEtxrfd",
    "outputId": "ac9adfb9-69d3-4e91-c066-89a4c5a84645"
   },
   "outputs": [
    {
     "data": {
      "text/plain": [
       "array(['NU_INSCRICAO', 'NU_ANO', 'CO_MUNICIPIO_RESIDENCIA',\n",
       "       'NO_MUNICIPIO_RESIDENCIA', 'CO_UF_RESIDENCIA', 'SG_UF_RESIDENCIA',\n",
       "       'NU_IDADE', 'TP_SEXO', 'TP_ESTADO_CIVIL', 'TP_COR_RACA',\n",
       "       'TP_NACIONALIDADE', 'CO_MUNICIPIO_NASCIMENTO',\n",
       "       'NO_MUNICIPIO_NASCIMENTO', 'CO_UF_NASCIMENTO', 'SG_UF_NASCIMENTO',\n",
       "       'TP_ST_CONCLUSAO', 'TP_ANO_CONCLUIU', 'TP_ESCOLA', 'TP_ENSINO',\n",
       "       'IN_TREINEIRO', 'CO_ESCOLA', 'CO_MUNICIPIO_ESC',\n",
       "       'NO_MUNICIPIO_ESC', 'CO_UF_ESC', 'SG_UF_ESC',\n",
       "       'TP_DEPENDENCIA_ADM_ESC', 'TP_LOCALIZACAO_ESC', 'TP_SIT_FUNC_ESC',\n",
       "       'IN_BAIXA_VISAO', 'IN_CEGUEIRA', 'IN_SURDEZ',\n",
       "       'IN_DEFICIENCIA_AUDITIVA', 'IN_SURDO_CEGUEIRA',\n",
       "       'IN_DEFICIENCIA_FISICA', 'IN_DEFICIENCIA_MENTAL',\n",
       "       'IN_DEFICIT_ATENCAO', 'IN_DISLEXIA', 'IN_DISCALCULIA',\n",
       "       'IN_AUTISMO', 'IN_VISAO_MONOCULAR', 'IN_OUTRA_DEF', 'IN_GESTANTE',\n",
       "       'IN_LACTANTE', 'IN_IDOSO', 'IN_ESTUDA_CLASSE_HOSPITALAR',\n",
       "       'IN_SEM_RECURSO', 'IN_BRAILLE', 'IN_AMPLIADA_24', 'IN_AMPLIADA_18',\n",
       "       'IN_LEDOR', 'IN_ACESSO', 'IN_TRANSCRICAO', 'IN_LIBRAS',\n",
       "       'IN_TEMPO_ADICIONAL', 'IN_LEITURA_LABIAL', 'IN_MESA_CADEIRA_RODAS',\n",
       "       'IN_MESA_CADEIRA_SEPARADA', 'IN_APOIO_PERNA', 'IN_GUIA_INTERPRETE',\n",
       "       'IN_COMPUTADOR', 'IN_CADEIRA_ESPECIAL', 'IN_CADEIRA_CANHOTO',\n",
       "       'IN_CADEIRA_ACOLCHOADA', 'IN_PROVA_DEITADO', 'IN_MOBILIARIO_OBESO',\n",
       "       'IN_LAMINA_OVERLAY', 'IN_PROTETOR_AURICULAR', 'IN_MEDIDOR_GLICOSE',\n",
       "       'IN_MAQUINA_BRAILE', 'IN_SOROBAN', 'IN_MARCA_PASSO', 'IN_SONDA',\n",
       "       'IN_MEDICAMENTOS', 'IN_SALA_INDIVIDUAL', 'IN_SALA_ESPECIAL',\n",
       "       'IN_SALA_ACOMPANHANTE', 'IN_MOBILIARIO_ESPECIFICO',\n",
       "       'IN_MATERIAL_ESPECIFICO', 'IN_NOME_SOCIAL', 'CO_MUNICIPIO_PROVA',\n",
       "       'NO_MUNICIPIO_PROVA', 'CO_UF_PROVA', 'SG_UF_PROVA',\n",
       "       'TP_PRESENCA_CN', 'TP_PRESENCA_CH', 'TP_PRESENCA_LC',\n",
       "       'TP_PRESENCA_MT', 'CO_PROVA_CN', 'CO_PROVA_CH', 'CO_PROVA_LC',\n",
       "       'CO_PROVA_MT', 'NU_NOTA_CN', 'NU_NOTA_CH', 'NU_NOTA_LC',\n",
       "       'NU_NOTA_MT', 'TX_RESPOSTAS_CN', 'TX_RESPOSTAS_CH',\n",
       "       'TX_RESPOSTAS_LC', 'TX_RESPOSTAS_MT', 'TP_LINGUA',\n",
       "       'TX_GABARITO_CN', 'TX_GABARITO_CH', 'TX_GABARITO_LC',\n",
       "       'TX_GABARITO_MT', 'TP_STATUS_REDACAO', 'NU_NOTA_COMP1',\n",
       "       'NU_NOTA_COMP2', 'NU_NOTA_COMP3', 'NU_NOTA_COMP4', 'NU_NOTA_COMP5',\n",
       "       'NU_NOTA_REDACAO', 'Q001', 'Q002', 'Q003', 'Q004', 'Q005', 'Q006',\n",
       "       'Q007', 'Q008', 'Q009', 'Q010', 'Q011', 'Q012', 'Q013', 'Q014',\n",
       "       'Q015', 'Q016', 'Q017', 'Q018', 'Q019', 'Q020', 'Q021', 'Q022',\n",
       "       'Q023', 'Q024', 'Q025'], dtype=object)"
      ]
     },
     "execution_count": 124,
     "metadata": {},
     "output_type": "execute_result"
    }
   ],
   "source": [
    "dados.columns.values"
   ]
  },
  {
   "cell_type": "code",
   "execution_count": 125,
   "metadata": {
    "colab": {
     "base_uri": "https://localhost:8080/",
     "height": 68
    },
    "id": "o_BZl57WxriL",
    "outputId": "afa86448-9759-403a-a2a5-981f2d7b1404"
   },
   "outputs": [
    {
     "data": {
      "text/plain": [
       "array(['PA', 'RO', 'MT', 'AC', 'AM', 'RR', 'MA', 'PR', 'BA', 'PI', 'CE',\n",
       "       'PE', 'AP', 'TO', 'SC', 'GO', 'MG', 'SP', 'SE', 'RJ', 'PB', 'AL',\n",
       "       'RN', 'ES', 'DF', 'RS', 'MS'], dtype=object)"
      ]
     },
     "execution_count": 125,
     "metadata": {},
     "output_type": "execute_result"
    }
   ],
   "source": [
    "dados['SG_UF_RESIDENCIA'].unique()"
   ]
  },
  {
   "cell_type": "code",
   "execution_count": 126,
   "metadata": {
    "colab": {
     "base_uri": "https://localhost:8080/",
     "height": 34
    },
    "id": "zfNn4xN1xrky",
    "outputId": "ceb214df-b8c4-441d-d15c-f7241b315d42"
   },
   "outputs": [
    {
     "data": {
      "text/plain": [
       "27"
      ]
     },
     "execution_count": 126,
     "metadata": {},
     "output_type": "execute_result"
    }
   ],
   "source": [
    "len(dados['SG_UF_RESIDENCIA'].unique())"
   ]
  },
  {
   "cell_type": "code",
   "execution_count": 127,
   "metadata": {
    "colab": {
     "base_uri": "https://localhost:8080/",
     "height": 493
    },
    "id": "EyEcLWvy0RPt",
    "outputId": "4f056f80-21e4-4ffc-cc45-aae2897c8d90"
   },
   "outputs": [
    {
     "data": {
      "text/plain": [
       "SP    20264\n",
       "MG    13547\n",
       "BA    10040\n",
       "RJ     8467\n",
       "CE     7381\n",
       "PA     7170\n",
       "PE     6941\n",
       "MA     5543\n",
       "RS     5466\n",
       "PR     5259\n",
       "GO     4268\n",
       "PB     3690\n",
       "PI     3034\n",
       "RN     2959\n",
       "AM     2820\n",
       "SC     2673\n",
       "ES     2550\n",
       "DF     2408\n",
       "AL     2263\n",
       "MT     2230\n",
       "SE     1815\n",
       "MS     1655\n",
       "RO     1400\n",
       "TO     1178\n",
       "AP     1047\n",
       "AC      946\n",
       "RR      366\n",
       "Name: SG_UF_RESIDENCIA, dtype: int64"
      ]
     },
     "execution_count": 127,
     "metadata": {},
     "output_type": "execute_result"
    }
   ],
   "source": [
    "dados['SG_UF_RESIDENCIA'].value_counts()"
   ]
  },
  {
   "cell_type": "code",
   "execution_count": 128,
   "metadata": {
    "colab": {
     "base_uri": "https://localhost:8080/",
     "height": 493
    },
    "id": "1y_aRkgmAw-U",
    "outputId": "b25201b9-baf2-455c-8d2c-10b657f18161"
   },
   "outputs": [
    {
     "data": {
      "text/plain": [
       "SP    0.159083\n",
       "MG    0.106351\n",
       "BA    0.078819\n",
       "RJ    0.066470\n",
       "CE    0.057945\n",
       "PA    0.056288\n",
       "PE    0.054491\n",
       "MA    0.043515\n",
       "RS    0.042911\n",
       "PR    0.041286\n",
       "GO    0.033506\n",
       "PB    0.028968\n",
       "PI    0.023818\n",
       "RN    0.023230\n",
       "AM    0.022138\n",
       "SC    0.020984\n",
       "ES    0.020019\n",
       "DF    0.018904\n",
       "AL    0.017766\n",
       "MT    0.017507\n",
       "SE    0.014249\n",
       "MS    0.012993\n",
       "RO    0.010991\n",
       "TO    0.009248\n",
       "AP    0.008220\n",
       "AC    0.007427\n",
       "RR    0.002873\n",
       "Name: SG_UF_RESIDENCIA, dtype: float64"
      ]
     },
     "execution_count": 128,
     "metadata": {},
     "output_type": "execute_result"
    }
   ],
   "source": [
    "# inclui  proporcao de inscritos por Estado.\n",
    "dados['SG_UF_RESIDENCIA'].value_counts(normalize=True)"
   ]
  },
  {
   "cell_type": "code",
   "execution_count": 129,
   "metadata": {
    "colab": {
     "base_uri": "https://localhost:8080/",
     "height": 34
    },
    "id": "0wIPPQMIDKB_",
    "outputId": "83ffe487-3b96-46e9-9ecd-e974e02378fc"
   },
   "outputs": [
    {
     "data": {
      "text/plain": [
       "1.0"
      ]
     },
     "execution_count": 129,
     "metadata": {},
     "output_type": "execute_result"
    }
   ],
   "source": [
    "# inclui checking proportion\n",
    "dados['SG_UF_RESIDENCIA'].value_counts(normalize=True).sum()"
   ]
  },
  {
   "cell_type": "markdown",
   "metadata": {
    "id": "n0m9TYb1UVBt"
   },
   "source": [
    "### Desafio 1: proporção de inscritos por idade."
   ]
  },
  {
   "cell_type": "code",
   "execution_count": 130,
   "metadata": {
    "colab": {
     "base_uri": "https://localhost:8080/",
     "height": 221
    },
    "id": "r6OitrP2oN1y",
    "outputId": "4649ec1a-5701-4500-c82c-b1423cf983b2"
   },
   "outputs": [
    {
     "data": {
      "text/plain": [
       "18    0.168409\n",
       "17    0.166871\n",
       "19    0.113189\n",
       "20    0.081748\n",
       "16    0.061470\n",
       "        ...   \n",
       "75    0.000016\n",
       "73    0.000016\n",
       "82    0.000008\n",
       "77    0.000008\n",
       "76    0.000008\n",
       "Name: NU_IDADE, Length: 65, dtype: float64"
      ]
     },
     "execution_count": 130,
     "metadata": {},
     "output_type": "execute_result"
    }
   ],
   "source": [
    "dados['NU_IDADE'].value_counts(normalize=True)\n",
    "# dados['NU_IDADE'].value_counts(normalize=True).sum() # checando"
   ]
  },
  {
   "cell_type": "code",
   "execution_count": 131,
   "metadata": {
    "colab": {
     "base_uri": "https://localhost:8080/",
     "height": 170
    },
    "id": "yY8MsRmToeHS",
    "outputId": "f1b00e8f-a56c-4a0a-910e-d399a733353f"
   },
   "outputs": [
    {
     "data": {
      "text/plain": [
       "count    127380.000000\n",
       "mean         22.094355\n",
       "std           7.498707\n",
       "min          13.000000\n",
       "25%          18.000000\n",
       "50%          19.000000\n",
       "75%          24.000000\n",
       "max          82.000000\n",
       "Name: NU_IDADE, dtype: float64"
      ]
     },
     "execution_count": 131,
     "metadata": {},
     "output_type": "execute_result"
    }
   ],
   "source": [
    "dados['NU_IDADE'].describe()"
   ]
  },
  {
   "cell_type": "code",
   "execution_count": 132,
   "metadata": {
    "colab": {
     "base_uri": "https://localhost:8080/",
     "height": 221
    },
    "id": "0uz_0WtB0RSg",
    "outputId": "9a5e8366-5df7-4e58-c683-7696ca48540b"
   },
   "outputs": [
    {
     "data": {
      "text/plain": [
       "18    21452\n",
       "17    21256\n",
       "19    14418\n",
       "20    10413\n",
       "16     7830\n",
       "      ...  \n",
       "75        2\n",
       "73        2\n",
       "82        1\n",
       "77        1\n",
       "76        1\n",
       "Name: NU_IDADE, Length: 65, dtype: int64"
      ]
     },
     "execution_count": 132,
     "metadata": {},
     "output_type": "execute_result"
    }
   ],
   "source": [
    "dados['NU_IDADE'].value_counts()"
   ]
  },
  {
   "cell_type": "code",
   "execution_count": 133,
   "metadata": {
    "colab": {
     "base_uri": "https://localhost:8080/",
     "height": 221
    },
    "id": "q2oPEl8-0RVQ",
    "outputId": "3c1e24d6-d931-49c1-fa0a-63c4d53513cc"
   },
   "outputs": [
    {
     "data": {
      "text/plain": [
       "13        4\n",
       "14      141\n",
       "15     2009\n",
       "16     7830\n",
       "17    21256\n",
       "      ...  \n",
       "73        2\n",
       "75        2\n",
       "76        1\n",
       "77        1\n",
       "82        1\n",
       "Name: NU_IDADE, Length: 65, dtype: int64"
      ]
     },
     "execution_count": 133,
     "metadata": {},
     "output_type": "execute_result"
    }
   ],
   "source": [
    "dados['NU_IDADE'].value_counts().sort_index() # ordena pelo index"
   ]
  },
  {
   "cell_type": "code",
   "execution_count": 134,
   "metadata": {
    "colab": {
     "base_uri": "https://localhost:8080/",
     "height": 170
    },
    "id": "DglW4ust0RYG",
    "outputId": "5e548fcb-d83a-4d48-d3be-3eb4e27915c9"
   },
   "outputs": [
    {
     "data": {
      "text/plain": [
       "count    127380.000000\n",
       "mean         22.094355\n",
       "std           7.498707\n",
       "min          13.000000\n",
       "25%          18.000000\n",
       "50%          19.000000\n",
       "75%          24.000000\n",
       "max          82.000000\n",
       "Name: NU_IDADE, dtype: float64"
      ]
     },
     "execution_count": 134,
     "metadata": {},
     "output_type": "execute_result"
    }
   ],
   "source": [
    "# distribuicao estatistica\n",
    "dados['NU_IDADE'].describe()"
   ]
  },
  {
   "cell_type": "code",
   "execution_count": 135,
   "metadata": {
    "colab": {
     "base_uri": "https://localhost:8080/",
     "height": 285
    },
    "id": "DQvxILFD0RgQ",
    "outputId": "f5888000-9115-4b7f-e439-d4a1d27e86d4"
   },
   "outputs": [
    {
     "data": {
      "text/plain": [
       "<matplotlib.axes._subplots.AxesSubplot at 0x7fd81f286a90>"
      ]
     },
     "execution_count": 135,
     "metadata": {},
     "output_type": "execute_result"
    },
    {
     "data": {
      "image/png": "[encoded data removed]",
      "text/plain": [
       "<Figure size 432x288 with 1 Axes>"
      ]
     },
     "metadata": {
      "needs_background": "light"
     },
     "output_type": "display_data"
    }
   ],
   "source": [
    "dados['NU_IDADE'].hist()"
   ]
  },
  {
   "cell_type": "code",
   "execution_count": 136,
   "metadata": {
    "colab": {
     "base_uri": "https://localhost:8080/",
     "height": 500
    },
    "id": "MJvl6a2O0Rdd",
    "outputId": "d967564b-5026-45b3-f15b-17e685e90082"
   },
   "outputs": [
    {
     "data": {
      "text/plain": [
       "<matplotlib.axes._subplots.AxesSubplot at 0x7fd80c3981d0>"
      ]
     },
     "execution_count": 136,
     "metadata": {},
     "output_type": "execute_result"
    },
    {
     "data": {
      "image/png": "[encoded data removed]",
      "text/plain": [
       "<Figure size 720x576 with 1 Axes>"
      ]
     },
     "metadata": {
      "needs_background": "light"
     },
     "output_type": "display_data"
    }
   ],
   "source": [
    "dados['NU_IDADE'].hist(bins=20, figsize=(10,8))"
   ]
  },
  {
   "cell_type": "code",
   "execution_count": 137,
   "metadata": {
    "colab": {
     "base_uri": "https://localhost:8080/",
     "height": 68
    },
    "id": "ZXCFwa7KCTzQ",
    "outputId": "723f559e-626b-46d0-a1e6-29e725b80a2a"
   },
   "outputs": [
    {
     "data": {
      "text/plain": [
       "0    111979\n",
       "1     15401\n",
       "Name: IN_TREINEIRO, dtype: int64"
      ]
     },
     "execution_count": 137,
     "metadata": {},
     "output_type": "execute_result"
    }
   ],
   "source": [
    "dados['IN_TREINEIRO'].value_counts()"
   ]
  },
  {
   "cell_type": "markdown",
   "metadata": {
    "id": "DUMpYWEVVJVT"
   },
   "source": [
    "### Desafio 4: fazer histograma de treineiros e não-treineiros."
   ]
  },
  {
   "cell_type": "code",
   "execution_count": null,
   "metadata": {
    "id": "C2HDclxIYlwo"
   },
   "outputs": [],
   "source": []
  },
  {
   "cell_type": "code",
   "execution_count": 138,
   "metadata": {
    "colab": {
     "base_uri": "https://localhost:8080/",
     "height": 333
    },
    "id": "7Zxln5nhCkBp",
    "outputId": "3a119c9f-8135-4da0-bc11-63beff7aadcc"
   },
   "outputs": [
    {
     "data": {
      "text/plain": [
       "[Text(0, 0, 'não treineiros'), Text(0, 0, 'treineiros')]"
      ]
     },
     "execution_count": 138,
     "metadata": {},
     "output_type": "execute_result"
    },
    {
     "data": {
      "image/png": "[encoded data removed]",
      "text/plain": [
       "<Figure size 432x288 with 1 Axes>"
      ]
     },
     "metadata": {
      "needs_background": "light"
     },
     "output_type": "display_data"
    }
   ],
   "source": [
    "# pie = dados['IN_TREINEIRO'].value_counts().plot(kind=\"pie\",title='IN_TREINEIRO Distribution',legend=True,autopct='%1.1f%%')\n",
    "# comentei o gráfico pie porque acho ele impreciso, de difícil visualização\n",
    "\n",
    "#Using Pandas\n",
    "ax = dados['IN_TREINEIRO'].value_counts().plot(kind='bar', figsize=(6,4), width=.35, color=['gray', 'orange']) \n",
    "degrees = 0 \n",
    "\n",
    "ax.set_title(\"Frequência de treineiros\", fontname='Arial', fontsize=25, y=1.01)\n",
    "ax.set_ylabel(\"Frequência\", fontname=\"Arial\", fontsize=20)\n",
    "plt.gca().xaxis.set_major_formatter(EngFormatter())\n",
    "plt.gca().yaxis.set_major_formatter(EngFormatter()) \n",
    "for tick in ax.xaxis.get_major_ticks():\n",
    "    tick.label.set_fontsize(15) \n",
    "for tick in ax.yaxis.get_major_ticks():\n",
    "    tick.label.set_fontsize(15)\n",
    "\n",
    "plt.xticks(rotation=degrees)\n",
    "ax.set_xticklabels( ('não treineiros', 'treineiros') )\n"
   ]
  },
  {
   "cell_type": "markdown",
   "metadata": {
    "id": "rjePPamWUeE7"
   },
   "source": [
    "### Desafio 2: descobrir de quais Estados sao os inscritos com 13 anos."
   ]
  },
  {
   "cell_type": "code",
   "execution_count": 139,
   "metadata": {
    "colab": {
     "base_uri": "https://localhost:8080/",
     "height": 102
    },
    "id": "PaLiUCIhBdcL",
    "outputId": "755088b8-6056-49f9-ff15-4fe81a67fd79"
   },
   "outputs": [
    {
     "data": {
      "text/plain": [
       "57359     SP\n",
       "95630     MT\n",
       "98197     AP\n",
       "116501    BA\n",
       "Name: SG_UF_RESIDENCIA, dtype: object"
      ]
     },
     "execution_count": 139,
     "metadata": {},
     "output_type": "execute_result"
    }
   ],
   "source": [
    "dados.query('NU_IDADE == 13')['SG_UF_RESIDENCIA']"
   ]
  },
  {
   "cell_type": "markdown",
   "metadata": {
    "id": "-lQzSDZsUjh3"
   },
   "source": [
    "### Desafio 3: colocar títulos no histograma."
   ]
  },
  {
   "cell_type": "code",
   "execution_count": 140,
   "metadata": {
    "colab": {
     "base_uri": "https://localhost:8080/",
     "height": 317
    },
    "id": "rC-5CDHP6VAv",
    "outputId": "7b80f11c-eb35-43f6-85f6-c856b4b16c6a"
   },
   "outputs": [
    {
     "data": {
      "text/plain": [
       "Text(0, 0.5, 'count')"
      ]
     },
     "execution_count": 140,
     "metadata": {},
     "output_type": "execute_result"
    },
    {
     "data": {
      "image/png": "[encoded data removed]",
      "text/plain": [
       "<Figure size 432x288 with 1 Axes>"
      ]
     },
     "metadata": {
      "needs_background": "light"
     },
     "output_type": "display_data"
    }
   ],
   "source": [
    "ax = dados['NU_NOTA_REDACAO'].hist(bins=20) \n",
    "ax.set_title('Notas de Redação', fontname='Arial', fontsize=15, y=1.01)\n",
    "ax.set_xlabel('notas')\n",
    "ax.set_ylabel('count')"
   ]
  },
  {
   "cell_type": "code",
   "execution_count": 141,
   "metadata": {
    "colab": {
     "base_uri": "https://localhost:8080/",
     "height": 311
    },
    "id": "MTonnH1_DKMR",
    "outputId": "2875e38e-8d78-4e71-ed21-14305d5554de"
   },
   "outputs": [
    {
     "data": {
      "text/plain": [
       "Text(0.5, 0.98, 'Nota da Redação - pylab')"
      ]
     },
     "execution_count": 141,
     "metadata": {},
     "output_type": "execute_result"
    },
    {
     "data": {
      "image/png": "[encoded data removed]",
      "text/plain": [
       "<Figure size 432x288 with 1 Axes>"
      ]
     },
     "metadata": {
      "needs_background": "light"
     },
     "output_type": "display_data"
    }
   ],
   "source": [
    "# Desafio03: colocar títulos no histograma.\n",
    "import pylab as pl\n",
    "# using pylab\n",
    "axes = dados['NU_NOTA_REDACAO'].hist(bins=20, figsize=(6,4))\n",
    "pl.suptitle(\"Nota da Redação - pylab\")\n",
    "\n"
   ]
  },
  {
   "cell_type": "code",
   "execution_count": 142,
   "metadata": {
    "colab": {
     "base_uri": "https://localhost:8080/",
     "height": 318
    },
    "id": "lg2PI8V06VEx",
    "outputId": "d75ea502-5794-4701-cb44-6e76286d8320"
   },
   "outputs": [
    {
     "data": {
      "text/plain": [
       "Text(0, 0.5, 'count')"
      ]
     },
     "execution_count": 142,
     "metadata": {},
     "output_type": "execute_result"
    },
    {
     "data": {
      "image/png": "[encoded data removed]",
      "text/plain": [
       "<Figure size 432x288 with 1 Axes>"
      ]
     },
     "metadata": {
      "needs_background": "light"
     },
     "output_type": "display_data"
    }
   ],
   "source": [
    "ax= dados['NU_NOTA_LC'].hist(bins=20, figsize=(6,4))\n",
    "ax.set_title('Notas em Linguagens e Códigos', fontname='Arial', fontsize=15, y=1.01)\n",
    "ax.set_xlabel('notas')\n",
    "ax.set_ylabel('count')"
   ]
  },
  {
   "cell_type": "code",
   "execution_count": 143,
   "metadata": {
    "colab": {
     "base_uri": "https://localhost:8080/",
     "height": 34
    },
    "id": "x7bqJLZ26VHZ",
    "outputId": "704c0a2e-2012-4517-c189-1cc40df34903"
   },
   "outputs": [
    {
     "data": {
      "text/plain": [
       "571.5700253970197"
      ]
     },
     "execution_count": 143,
     "metadata": {},
     "output_type": "execute_result"
    }
   ],
   "source": [
    "dados['NU_NOTA_REDACAO'].mean()"
   ]
  },
  {
   "cell_type": "code",
   "execution_count": 144,
   "metadata": {
    "colab": {
     "base_uri": "https://localhost:8080/",
     "height": 34
    },
    "id": "yIDC5zf-6VKO",
    "outputId": "8bde4ce7-2762-4ecf-bcfe-3ae4b085bc52"
   },
   "outputs": [
    {
     "data": {
      "text/plain": [
       "188.07645455751802"
      ]
     },
     "execution_count": 144,
     "metadata": {},
     "output_type": "execute_result"
    }
   ],
   "source": [
    "dados['NU_NOTA_REDACAO'].std()"
   ]
  },
  {
   "cell_type": "code",
   "execution_count": 145,
   "metadata": {
    "colab": {
     "base_uri": "https://localhost:8080/",
     "height": 297
    },
    "id": "WZ5sro946VNB",
    "outputId": "39f33a0b-7945-4f5d-9c3b-37c9fae0b651"
   },
   "outputs": [
    {
     "data": {
      "text/html": [
       "<div>\n",
       "<style scoped>\n",
       "    .dataframe tbody tr th:only-of-type {\n",
       "        vertical-align: middle;\n",
       "    }\n",
       "\n",
       "    .dataframe tbody tr th {\n",
       "        vertical-align: top;\n",
       "    }\n",
       "\n",
       "    .dataframe thead th {\n",
       "        text-align: right;\n",
       "    }\n",
       "</style>\n",
       "<table border=\"1\" class=\"dataframe\">\n",
       "  <thead>\n",
       "    <tr style=\"text-align: right;\">\n",
       "      <th></th>\n",
       "      <th>NU_NOTA_CN</th>\n",
       "      <th>NU_NOTA_CH</th>\n",
       "      <th>NU_NOTA_MT</th>\n",
       "      <th>NU_NOTA_LC</th>\n",
       "      <th>NU_NOTA_REDACAO</th>\n",
       "    </tr>\n",
       "  </thead>\n",
       "  <tbody>\n",
       "    <tr>\n",
       "      <th>count</th>\n",
       "      <td>92758.000000</td>\n",
       "      <td>98043.000000</td>\n",
       "      <td>92758.000000</td>\n",
       "      <td>98043.000000</td>\n",
       "      <td>98043.000000</td>\n",
       "    </tr>\n",
       "    <tr>\n",
       "      <th>mean</th>\n",
       "      <td>477.964015</td>\n",
       "      <td>507.365912</td>\n",
       "      <td>523.555206</td>\n",
       "      <td>520.463928</td>\n",
       "      <td>571.570025</td>\n",
       "    </tr>\n",
       "    <tr>\n",
       "      <th>std</th>\n",
       "      <td>76.296099</td>\n",
       "      <td>82.972839</td>\n",
       "      <td>109.416939</td>\n",
       "      <td>64.556578</td>\n",
       "      <td>188.076455</td>\n",
       "    </tr>\n",
       "    <tr>\n",
       "      <th>min</th>\n",
       "      <td>0.000000</td>\n",
       "      <td>0.000000</td>\n",
       "      <td>0.000000</td>\n",
       "      <td>0.000000</td>\n",
       "      <td>0.000000</td>\n",
       "    </tr>\n",
       "    <tr>\n",
       "      <th>25%</th>\n",
       "      <td>418.000000</td>\n",
       "      <td>447.900000</td>\n",
       "      <td>435.300000</td>\n",
       "      <td>483.700000</td>\n",
       "      <td>480.000000</td>\n",
       "    </tr>\n",
       "    <tr>\n",
       "      <th>50%</th>\n",
       "      <td>470.200000</td>\n",
       "      <td>510.900000</td>\n",
       "      <td>501.600000</td>\n",
       "      <td>526.100000</td>\n",
       "      <td>580.000000</td>\n",
       "    </tr>\n",
       "    <tr>\n",
       "      <th>75%</th>\n",
       "      <td>533.300000</td>\n",
       "      <td>567.100000</td>\n",
       "      <td>598.200000</td>\n",
       "      <td>565.100000</td>\n",
       "      <td>680.000000</td>\n",
       "    </tr>\n",
       "    <tr>\n",
       "      <th>max</th>\n",
       "      <td>797.300000</td>\n",
       "      <td>809.400000</td>\n",
       "      <td>985.000000</td>\n",
       "      <td>801.700000</td>\n",
       "      <td>1000.000000</td>\n",
       "    </tr>\n",
       "  </tbody>\n",
       "</table>\n",
       "</div>"
      ],
      "text/plain": [
       "         NU_NOTA_CN    NU_NOTA_CH    NU_NOTA_MT    NU_NOTA_LC  NU_NOTA_REDACAO\n",
       "count  92758.000000  98043.000000  92758.000000  98043.000000     98043.000000\n",
       "mean     477.964015    507.365912    523.555206    520.463928       571.570025\n",
       "std       76.296099     82.972839    109.416939     64.556578       188.076455\n",
       "min        0.000000      0.000000      0.000000      0.000000         0.000000\n",
       "25%      418.000000    447.900000    435.300000    483.700000       480.000000\n",
       "50%      470.200000    510.900000    501.600000    526.100000       580.000000\n",
       "75%      533.300000    567.100000    598.200000    565.100000       680.000000\n",
       "max      797.300000    809.400000    985.000000    801.700000      1000.000000"
      ]
     },
     "execution_count": 145,
     "metadata": {},
     "output_type": "execute_result"
    }
   ],
   "source": [
    "provas = ['NU_NOTA_CN', 'NU_NOTA_CH', 'NU_NOTA_MT', 'NU_NOTA_LC', 'NU_NOTA_REDACAO']\n",
    "dados[provas].describe()"
   ]
  },
  {
   "cell_type": "code",
   "execution_count": 146,
   "metadata": {
    "id": "RQFV0Bb46VP0"
   },
   "outputs": [],
   "source": [
    "# pandas.DataFrame.quantile(0.1)"
   ]
  },
  {
   "cell_type": "code",
   "execution_count": 147,
   "metadata": {
    "colab": {
     "base_uri": "https://localhost:8080/",
     "height": 414
    },
    "id": "dGjYwOJHADuX",
    "outputId": "a9863dbe-7dee-4147-97c6-35237ae38930"
   },
   "outputs": [
    {
     "data": {
      "text/plain": [
       "Text(0, 0.5, 'count')"
      ]
     },
     "execution_count": 147,
     "metadata": {},
     "output_type": "execute_result"
    },
    {
     "data": {
      "image/png": "[encoded data removed]",
      "text/plain": [
       "<Figure size 576x432 with 1 Axes>"
      ]
     },
     "metadata": {
      "needs_background": "light"
     },
     "output_type": "display_data"
    }
   ],
   "source": [
    "ax = dados['NU_NOTA_LC'].plot.box(grid = True, figsize = (8,6))\n",
    "ax.set_title('Notas de Liguagens e Códigos', fontname='Arial', fontsize=15, y=1.01)\n",
    "ax.set_ylabel('count')"
   ]
  },
  {
   "cell_type": "markdown",
   "metadata": {
    "id": "2n10gr3yUr4b"
   },
   "source": [
    "## Desafio06: explorar a documentacao e visualizações com matplotlib ou pandas e gerar novas visualizações"
   ]
  },
  {
   "cell_type": "code",
   "execution_count": 148,
   "metadata": {
    "colab": {
     "base_uri": "https://localhost:8080/",
     "height": 413
    },
    "id": "gJ5klJSnADxM",
    "outputId": "741b5df8-8d2d-4a4f-d30a-33ed0b5469ea"
   },
   "outputs": [
    {
     "data": {
      "text/plain": [
       "Text(0, 0.5, 'count')"
      ]
     },
     "execution_count": 148,
     "metadata": {},
     "output_type": "execute_result"
    },
    {
     "data": {
      "image/png": "[encoded data removed]",
      "text/plain": [
       "<Figure size 576x432 with 1 Axes>"
      ]
     },
     "metadata": {
      "needs_background": "light"
     },
     "output_type": "display_data"
    }
   ],
   "source": [
    "ax = dados[provas].plot.box(grid = True, figsize = (8,6))\n",
    "ax.set_title('Notas nas diferentes áreas', fontname='Arial', fontsize=15, y=1.01)\n",
    "ax.set_ylabel('count')"
   ]
  },
  {
   "cell_type": "markdown",
   "metadata": {
    "id": "ePrCJfGZVUYT"
   },
   "source": [
    "## Desafio05: comparar as distribuições (hist or boxplot) &\n",
    "## Desafio06: explorar a documentacao e visualizações com matplotlib ou pandas e gerar novas visualizações"
   ]
  },
  {
   "cell_type": "code",
   "execution_count": 149,
   "metadata": {
    "colab": {
     "base_uri": "https://localhost:8080/",
     "height": 358
    },
    "id": "DxOORXx3AD2Q",
    "outputId": "3af7cf10-0235-4174-876e-ec1a076514cb"
   },
   "outputs": [
    {
     "data": {
      "text/plain": [
       "Text(0, 0.5, 'count')"
      ]
     },
     "execution_count": 149,
     "metadata": {},
     "output_type": "execute_result"
    },
    {
     "data": {
      "image/png": "[encoded data removed]",
      "text/plain": [
       "<Figure size 720x360 with 1 Axes>"
      ]
     },
     "metadata": {
      "needs_background": "light"
     },
     "output_type": "display_data"
    }
   ],
   "source": [
    "# explorando os dados por  visualizacao using boxplot\n",
    "ax = boxplot = dados[provas].plot.box(grid = False, figsize=(10,5),layout=(3,3))\n",
    "ax.set_title('Notas nas diferentes áreas', fontname='Arial', fontsize=15, y=1.01)\n",
    "ax.set_ylabel('count')"
   ]
  },
  {
   "cell_type": "code",
   "execution_count": 150,
   "metadata": {
    "colab": {
     "base_uri": "https://localhost:8080/",
     "height": 342
    },
    "id": "R9Sx9ujtAD5s",
    "outputId": "a65ee678-4a9c-4976-942e-8bd964a35311"
   },
   "outputs": [
    {
     "data": {
      "image/png": "[encoded data removed]",
      "text/plain": [
       "<Figure size 720x576 with 9 Axes>"
      ]
     },
     "metadata": {
      "needs_background": "light"
     },
     "output_type": "display_data"
    }
   ],
   "source": [
    "# explorando os dados por  visualizacao using histogram\n",
    "ax = dados[provas].hist(grid=False,figsize=(10,8),layout=(3,3))\n",
    "plt.show()"
   ]
  },
  {
   "cell_type": "markdown",
   "metadata": {
    "id": "zz_8mUvHlhQF"
   },
   "source": [
    "Considerações:\n",
    "- Como esperado, as notas de redacao tem mais variacoes. Isso é demonstrado pelos outliers no grafico boxplot e pela amplitude da normal no histograma.\n",
    "- As piores notas foram em Ciencias da Natureza e as melhores foram em Redacao"
   ]
  },
  {
   "cell_type": "code",
   "execution_count": 151,
   "metadata": {
    "id": "a2BiOUj9dI2i"
   },
   "outputs": [],
   "source": [
    "# definindo variaveis para explorar\n",
    "exploracao1 = ['NU_NOTA_CN', 'NU_NOTA_CH', 'NU_NOTA_MT', 'NU_NOTA_LC', 'NU_NOTA_REDACAO']\n",
    "#  'SG_UF_RESIDENCIA', 'Q025', 'CO_UF_PROVA', 'TP_ESCOLA, "
   ]
  },
  {
   "cell_type": "code",
   "execution_count": 152,
   "metadata": {
    "colab": {
     "base_uri": "https://localhost:8080/",
     "height": 145
    },
    "id": "-eivxCd2dJPZ",
    "outputId": "48ce52f9-e804-43f6-81a3-c531c55b59b6"
   },
   "outputs": [
    {
     "data": {
      "text/html": [
       "<style  type=\"text/css\" >\n",
       "    #T_766a5d6c_16f2_11eb_b61f_8c85906f6788row0_col0 {\n",
       "            background-color:  #b40426;\n",
       "            color:  #f1f1f1;\n",
       "        }    #T_766a5d6c_16f2_11eb_b61f_8c85906f6788row0_col1 {\n",
       "            background-color:  #9dbdff;\n",
       "            color:  #000000;\n",
       "        }    #T_766a5d6c_16f2_11eb_b61f_8c85906f6788row0_col2 {\n",
       "            background-color:  #a2c1ff;\n",
       "            color:  #000000;\n",
       "        }    #T_766a5d6c_16f2_11eb_b61f_8c85906f6788row0_col3 {\n",
       "            background-color:  #84a7fc;\n",
       "            color:  #000000;\n",
       "        }    #T_766a5d6c_16f2_11eb_b61f_8c85906f6788row0_col4 {\n",
       "            background-color:  #4055c8;\n",
       "            color:  #f1f1f1;\n",
       "        }    #T_766a5d6c_16f2_11eb_b61f_8c85906f6788row1_col0 {\n",
       "            background-color:  #a9c6fd;\n",
       "            color:  #000000;\n",
       "        }    #T_766a5d6c_16f2_11eb_b61f_8c85906f6788row1_col1 {\n",
       "            background-color:  #b40426;\n",
       "            color:  #f1f1f1;\n",
       "        }    #T_766a5d6c_16f2_11eb_b61f_8c85906f6788row1_col2 {\n",
       "            background-color:  #86a9fc;\n",
       "            color:  #000000;\n",
       "        }    #T_766a5d6c_16f2_11eb_b61f_8c85906f6788row1_col3 {\n",
       "            background-color:  #d1dae9;\n",
       "            color:  #000000;\n",
       "        }    #T_766a5d6c_16f2_11eb_b61f_8c85906f6788row1_col4 {\n",
       "            background-color:  #516ddb;\n",
       "            color:  #000000;\n",
       "        }    #T_766a5d6c_16f2_11eb_b61f_8c85906f6788row2_col0 {\n",
       "            background-color:  #9dbdff;\n",
       "            color:  #000000;\n",
       "        }    #T_766a5d6c_16f2_11eb_b61f_8c85906f6788row2_col1 {\n",
       "            background-color:  #7093f3;\n",
       "            color:  #000000;\n",
       "        }    #T_766a5d6c_16f2_11eb_b61f_8c85906f6788row2_col2 {\n",
       "            background-color:  #b40426;\n",
       "            color:  #f1f1f1;\n",
       "        }    #T_766a5d6c_16f2_11eb_b61f_8c85906f6788row2_col3 {\n",
       "            background-color:  #5b7ae5;\n",
       "            color:  #000000;\n",
       "        }    #T_766a5d6c_16f2_11eb_b61f_8c85906f6788row2_col4 {\n",
       "            background-color:  #3b4cc0;\n",
       "            color:  #f1f1f1;\n",
       "        }    #T_766a5d6c_16f2_11eb_b61f_8c85906f6788row3_col0 {\n",
       "            background-color:  #96b7ff;\n",
       "            color:  #000000;\n",
       "        }    #T_766a5d6c_16f2_11eb_b61f_8c85906f6788row3_col1 {\n",
       "            background-color:  #d3dbe7;\n",
       "            color:  #000000;\n",
       "        }    #T_766a5d6c_16f2_11eb_b61f_8c85906f6788row3_col2 {\n",
       "            background-color:  #7699f6;\n",
       "            color:  #000000;\n",
       "        }    #T_766a5d6c_16f2_11eb_b61f_8c85906f6788row3_col3 {\n",
       "            background-color:  #b40426;\n",
       "            color:  #f1f1f1;\n",
       "        }    #T_766a5d6c_16f2_11eb_b61f_8c85906f6788row3_col4 {\n",
       "            background-color:  #5572df;\n",
       "            color:  #000000;\n",
       "        }    #T_766a5d6c_16f2_11eb_b61f_8c85906f6788row4_col0 {\n",
       "            background-color:  #3b4cc0;\n",
       "            color:  #f1f1f1;\n",
       "        }    #T_766a5d6c_16f2_11eb_b61f_8c85906f6788row4_col1 {\n",
       "            background-color:  #3b4cc0;\n",
       "            color:  #f1f1f1;\n",
       "        }    #T_766a5d6c_16f2_11eb_b61f_8c85906f6788row4_col2 {\n",
       "            background-color:  #3b4cc0;\n",
       "            color:  #f1f1f1;\n",
       "        }    #T_766a5d6c_16f2_11eb_b61f_8c85906f6788row4_col3 {\n",
       "            background-color:  #3b4cc0;\n",
       "            color:  #f1f1f1;\n",
       "        }    #T_766a5d6c_16f2_11eb_b61f_8c85906f6788row4_col4 {\n",
       "            background-color:  #b40426;\n",
       "            color:  #f1f1f1;\n",
       "        }</style><table id=\"T_766a5d6c_16f2_11eb_b61f_8c85906f6788\" ><thead>    <tr>        <th class=\"blank level0\" ></th>        <th class=\"col_heading level0 col0\" >NU_NOTA_CN</th>        <th class=\"col_heading level0 col1\" >NU_NOTA_CH</th>        <th class=\"col_heading level0 col2\" >NU_NOTA_MT</th>        <th class=\"col_heading level0 col3\" >NU_NOTA_LC</th>        <th class=\"col_heading level0 col4\" >NU_NOTA_REDACAO</th>    </tr></thead><tbody>\n",
       "                <tr>\n",
       "                        <th id=\"T_766a5d6c_16f2_11eb_b61f_8c85906f6788level0_row0\" class=\"row_heading level0 row0\" >NU_NOTA_CN</th>\n",
       "                        <td id=\"T_766a5d6c_16f2_11eb_b61f_8c85906f6788row0_col0\" class=\"data row0 col0\" >1.000000</td>\n",
       "                        <td id=\"T_766a5d6c_16f2_11eb_b61f_8c85906f6788row0_col1\" class=\"data row0 col1\" >0.669259</td>\n",
       "                        <td id=\"T_766a5d6c_16f2_11eb_b61f_8c85906f6788row0_col2\" class=\"data row0 col2\" >0.650055</td>\n",
       "                        <td id=\"T_766a5d6c_16f2_11eb_b61f_8c85906f6788row0_col3\" class=\"data row0 col3\" >0.641998</td>\n",
       "                        <td id=\"T_766a5d6c_16f2_11eb_b61f_8c85906f6788row0_col4\" class=\"data row0 col4\" >0.504903</td>\n",
       "            </tr>\n",
       "            <tr>\n",
       "                        <th id=\"T_766a5d6c_16f2_11eb_b61f_8c85906f6788level0_row1\" class=\"row_heading level0 row1\" >NU_NOTA_CH</th>\n",
       "                        <td id=\"T_766a5d6c_16f2_11eb_b61f_8c85906f6788row1_col0\" class=\"data row1 col0\" >0.669259</td>\n",
       "                        <td id=\"T_766a5d6c_16f2_11eb_b61f_8c85906f6788row1_col1\" class=\"data row1 col1\" >1.000000</td>\n",
       "                        <td id=\"T_766a5d6c_16f2_11eb_b61f_8c85906f6788row1_col2\" class=\"data row1 col2\" >0.610570</td>\n",
       "                        <td id=\"T_766a5d6c_16f2_11eb_b61f_8c85906f6788row1_col3\" class=\"data row1 col3\" >0.748844</td>\n",
       "                        <td id=\"T_766a5d6c_16f2_11eb_b61f_8c85906f6788row1_col4\" class=\"data row1 col4\" >0.530950</td>\n",
       "            </tr>\n",
       "            <tr>\n",
       "                        <th id=\"T_766a5d6c_16f2_11eb_b61f_8c85906f6788level0_row2\" class=\"row_heading level0 row2\" >NU_NOTA_MT</th>\n",
       "                        <td id=\"T_766a5d6c_16f2_11eb_b61f_8c85906f6788row2_col0\" class=\"data row2 col0\" >0.650055</td>\n",
       "                        <td id=\"T_766a5d6c_16f2_11eb_b61f_8c85906f6788row2_col1\" class=\"data row2 col1\" >0.610570</td>\n",
       "                        <td id=\"T_766a5d6c_16f2_11eb_b61f_8c85906f6788row2_col2\" class=\"data row2 col2\" >1.000000</td>\n",
       "                        <td id=\"T_766a5d6c_16f2_11eb_b61f_8c85906f6788row2_col3\" class=\"data row2 col3\" >0.587986</td>\n",
       "                        <td id=\"T_766a5d6c_16f2_11eb_b61f_8c85906f6788row2_col4\" class=\"data row2 col4\" >0.493200</td>\n",
       "            </tr>\n",
       "            <tr>\n",
       "                        <th id=\"T_766a5d6c_16f2_11eb_b61f_8c85906f6788level0_row3\" class=\"row_heading level0 row3\" >NU_NOTA_LC</th>\n",
       "                        <td id=\"T_766a5d6c_16f2_11eb_b61f_8c85906f6788row3_col0\" class=\"data row3 col0\" >0.641998</td>\n",
       "                        <td id=\"T_766a5d6c_16f2_11eb_b61f_8c85906f6788row3_col1\" class=\"data row3 col1\" >0.748844</td>\n",
       "                        <td id=\"T_766a5d6c_16f2_11eb_b61f_8c85906f6788row3_col2\" class=\"data row3 col2\" >0.587986</td>\n",
       "                        <td id=\"T_766a5d6c_16f2_11eb_b61f_8c85906f6788row3_col3\" class=\"data row3 col3\" >1.000000</td>\n",
       "                        <td id=\"T_766a5d6c_16f2_11eb_b61f_8c85906f6788row3_col4\" class=\"data row3 col4\" >0.537690</td>\n",
       "            </tr>\n",
       "            <tr>\n",
       "                        <th id=\"T_766a5d6c_16f2_11eb_b61f_8c85906f6788level0_row4\" class=\"row_heading level0 row4\" >NU_NOTA_REDACAO</th>\n",
       "                        <td id=\"T_766a5d6c_16f2_11eb_b61f_8c85906f6788row4_col0\" class=\"data row4 col0\" >0.504903</td>\n",
       "                        <td id=\"T_766a5d6c_16f2_11eb_b61f_8c85906f6788row4_col1\" class=\"data row4 col1\" >0.530950</td>\n",
       "                        <td id=\"T_766a5d6c_16f2_11eb_b61f_8c85906f6788row4_col2\" class=\"data row4 col2\" >0.493200</td>\n",
       "                        <td id=\"T_766a5d6c_16f2_11eb_b61f_8c85906f6788row4_col3\" class=\"data row4 col3\" >0.537690</td>\n",
       "                        <td id=\"T_766a5d6c_16f2_11eb_b61f_8c85906f6788row4_col4\" class=\"data row4 col4\" >1.000000</td>\n",
       "            </tr>\n",
       "    </tbody></table>"
      ],
      "text/plain": [
       "<pandas.io.formats.style.Styler at 0x7fd80a20d5d0>"
      ]
     },
     "execution_count": 152,
     "metadata": {},
     "output_type": "execute_result"
    }
   ],
   "source": [
    "# checando correlacoes entre os tipos de escola com as notas nas diferentes áreas\n",
    "corr = dados[exploracao1].corr()\n",
    "corr.style.background_gradient(cmap='coolwarm')"
   ]
  },
  {
   "cell_type": "markdown",
   "metadata": {
    "id": "GjUqifTIioDT"
   },
   "source": [
    "Uma observação curiosa é que as notas de redação nao tem forte correlação com as notas em ciências humanas e nem em linguagens e códigos."
   ]
  },
  {
   "cell_type": "code",
   "execution_count": 153,
   "metadata": {
    "colab": {
     "base_uri": "https://localhost:8080/",
     "height": 119
    },
    "id": "Bp5lyWK5lKuj",
    "outputId": "c6468247-ebca-46ea-bd56-d3247e4000af"
   },
   "outputs": [
    {
     "data": {
      "text/plain": [
       "array(['SG_UF_RESIDENCIA', 'NU_IDADE', 'TP_SEXO', 'TP_COR_RACA',\n",
       "       'TP_ESCOLA', 'TP_ENSINO', 'TP_LOCALIZACAO_ESC',\n",
       "       'IN_CADEIRA_CANHOTO', 'NU_NOTA_CN', 'NU_NOTA_CH', 'NU_NOTA_LC',\n",
       "       'NU_NOTA_MT', 'TP_STATUS_REDACAO', 'NU_NOTA_COMP1',\n",
       "       'NU_NOTA_COMP2', 'NU_NOTA_COMP3', 'NU_NOTA_COMP4', 'NU_NOTA_COMP5',\n",
       "       'NU_NOTA_REDACAO', 'Q005', 'Q006', 'Q024', 'Q025'], dtype=object)"
      ]
     },
     "execution_count": 153,
     "metadata": {},
     "output_type": "execute_result"
    }
   ],
   "source": [
    "# removendo dados que nao quero analizar\n",
    "dados_escolhidos1 = dados.drop(['NU_INSCRICAO', 'NU_ANO', 'CO_MUNICIPIO_RESIDENCIA',\n",
    "       'NO_MUNICIPIO_RESIDENCIA', 'CO_UF_RESIDENCIA', 'TP_ESTADO_CIVIL',\n",
    "       'TP_NACIONALIDADE', 'CO_MUNICIPIO_NASCIMENTO',\n",
    "       'NO_MUNICIPIO_NASCIMENTO', 'CO_UF_NASCIMENTO', 'SG_UF_NASCIMENTO',\n",
    "       'TP_ST_CONCLUSAO', 'TP_ANO_CONCLUIU', 'CO_ESCOLA', 'CO_MUNICIPIO_ESC',\n",
    "       'NO_MUNICIPIO_ESC', 'CO_UF_ESC', 'SG_UF_ESC',\n",
    "       'TP_DEPENDENCIA_ADM_ESC', 'TP_SIT_FUNC_ESC',\n",
    "       'IN_BAIXA_VISAO', 'IN_CEGUEIRA', 'IN_SURDEZ',\n",
    "       'IN_DEFICIENCIA_AUDITIVA', 'IN_SURDO_CEGUEIRA',\n",
    "       'IN_DEFICIENCIA_FISICA', 'IN_DEFICIENCIA_MENTAL',\n",
    "       'IN_DEFICIT_ATENCAO', 'IN_DISLEXIA', 'IN_DISCALCULIA',\n",
    "       'IN_AUTISMO', 'IN_VISAO_MONOCULAR', 'IN_OUTRA_DEF', 'IN_GESTANTE',\n",
    "       'IN_LACTANTE', 'IN_IDOSO', 'IN_ESTUDA_CLASSE_HOSPITALAR',\n",
    "       'IN_SEM_RECURSO', 'IN_BRAILLE', 'IN_AMPLIADA_24', 'IN_AMPLIADA_18',\n",
    "       'IN_LEDOR', 'IN_ACESSO', 'IN_TRANSCRICAO', 'IN_LIBRAS',\n",
    "       'IN_TEMPO_ADICIONAL', 'IN_LEITURA_LABIAL', 'IN_MESA_CADEIRA_RODAS',\n",
    "       'IN_MESA_CADEIRA_SEPARADA', 'IN_APOIO_PERNA', 'IN_GUIA_INTERPRETE',\n",
    "       'IN_COMPUTADOR', 'IN_CADEIRA_ESPECIAL',\n",
    "       'IN_CADEIRA_ACOLCHOADA', 'IN_PROVA_DEITADO', 'IN_MOBILIARIO_OBESO',\n",
    "       'IN_LAMINA_OVERLAY', 'IN_PROTETOR_AURICULAR', 'IN_MEDIDOR_GLICOSE',\n",
    "       'IN_MAQUINA_BRAILE', 'IN_SOROBAN', 'IN_MARCA_PASSO', 'IN_SONDA',\n",
    "       'IN_MEDICAMENTOS', 'IN_SALA_INDIVIDUAL', 'IN_SALA_ESPECIAL',\n",
    "       'IN_SALA_ACOMPANHANTE', 'IN_MOBILIARIO_ESPECIFICO',\n",
    "       'IN_MATERIAL_ESPECIFICO', 'IN_NOME_SOCIAL', 'CO_MUNICIPIO_PROVA',\n",
    "       'NO_MUNICIPIO_PROVA', 'CO_UF_PROVA', 'SG_UF_PROVA',\n",
    "       'TP_PRESENCA_CN', 'TP_PRESENCA_CH', 'TP_PRESENCA_LC',\n",
    "       'TP_PRESENCA_MT', 'CO_PROVA_CN', 'CO_PROVA_CH', 'CO_PROVA_LC',\n",
    "       'CO_PROVA_MT', 'TX_RESPOSTAS_CN', 'TX_RESPOSTAS_CH',\n",
    "       'TX_RESPOSTAS_LC', 'TX_RESPOSTAS_MT', 'TP_LINGUA',\n",
    "       'TX_GABARITO_CN', 'TX_GABARITO_CH', 'TX_GABARITO_LC',\n",
    "       'TX_GABARITO_MT', 'Q001', 'Q002', 'Q003', 'Q004',\n",
    "       'Q007', 'Q008', 'Q009', 'Q010', 'Q011', 'Q012', 'Q013', 'Q014',\n",
    "       'Q015', 'Q016', 'Q017', 'Q018', 'Q019', 'Q020', 'Q021', 'Q022',\n",
    "       'Q023','IN_TREINEIRO'], axis=1)\n",
    "\n",
    "dados_escolhidos1.columns.values"
   ]
  },
  {
   "cell_type": "code",
   "execution_count": 154,
   "metadata": {
    "colab": {
     "base_uri": "https://localhost:8080/",
     "height": 438
    },
    "id": "k1Wmm__GAECQ",
    "outputId": "62825f4b-0fbe-4bd9-fed1-f08c99199021"
   },
   "outputs": [
    {
     "data": {
      "text/html": [
       "<style  type=\"text/css\" >\n",
       "    #T_76aaa30e_16f2_11eb_b61f_8c85906f6788row0_col0 {\n",
       "            background-color:  #b40426;\n",
       "            color:  #f1f1f1;\n",
       "        }    #T_76aaa30e_16f2_11eb_b61f_8c85906f6788row0_col1 {\n",
       "            background-color:  #80a3fa;\n",
       "            color:  #000000;\n",
       "        }    #T_76aaa30e_16f2_11eb_b61f_8c85906f6788row0_col2 {\n",
       "            background-color:  #3b4cc0;\n",
       "            color:  #f1f1f1;\n",
       "        }    #T_76aaa30e_16f2_11eb_b61f_8c85906f6788row0_col3 {\n",
       "            background-color:  #506bda;\n",
       "            color:  #000000;\n",
       "        }    #T_76aaa30e_16f2_11eb_b61f_8c85906f6788row0_col4 {\n",
       "            background-color:  #4f69d9;\n",
       "            color:  #000000;\n",
       "        }    #T_76aaa30e_16f2_11eb_b61f_8c85906f6788row0_col5 {\n",
       "            background-color:  #3c4ec2;\n",
       "            color:  #f1f1f1;\n",
       "        }    #T_76aaa30e_16f2_11eb_b61f_8c85906f6788row0_col6 {\n",
       "            background-color:  #5e7de7;\n",
       "            color:  #000000;\n",
       "        }    #T_76aaa30e_16f2_11eb_b61f_8c85906f6788row0_col7 {\n",
       "            background-color:  #6384eb;\n",
       "            color:  #000000;\n",
       "        }    #T_76aaa30e_16f2_11eb_b61f_8c85906f6788row0_col8 {\n",
       "            background-color:  #5673e0;\n",
       "            color:  #000000;\n",
       "        }    #T_76aaa30e_16f2_11eb_b61f_8c85906f6788row0_col9 {\n",
       "            background-color:  #4a63d3;\n",
       "            color:  #f1f1f1;\n",
       "        }    #T_76aaa30e_16f2_11eb_b61f_8c85906f6788row0_col10 {\n",
       "            background-color:  #c7d7f0;\n",
       "            color:  #000000;\n",
       "        }    #T_76aaa30e_16f2_11eb_b61f_8c85906f6788row0_col11 {\n",
       "            background-color:  #9fbfff;\n",
       "            color:  #000000;\n",
       "        }    #T_76aaa30e_16f2_11eb_b61f_8c85906f6788row0_col12 {\n",
       "            background-color:  #8caffe;\n",
       "            color:  #000000;\n",
       "        }    #T_76aaa30e_16f2_11eb_b61f_8c85906f6788row0_col13 {\n",
       "            background-color:  #89acfd;\n",
       "            color:  #000000;\n",
       "        }    #T_76aaa30e_16f2_11eb_b61f_8c85906f6788row0_col14 {\n",
       "            background-color:  #8caffe;\n",
       "            color:  #000000;\n",
       "        }    #T_76aaa30e_16f2_11eb_b61f_8c85906f6788row0_col15 {\n",
       "            background-color:  #5875e1;\n",
       "            color:  #000000;\n",
       "        }    #T_76aaa30e_16f2_11eb_b61f_8c85906f6788row0_col16 {\n",
       "            background-color:  #89acfd;\n",
       "            color:  #000000;\n",
       "        }    #T_76aaa30e_16f2_11eb_b61f_8c85906f6788row0_col17 {\n",
       "            background-color:  #3b4cc0;\n",
       "            color:  #f1f1f1;\n",
       "        }    #T_76aaa30e_16f2_11eb_b61f_8c85906f6788row1_col0 {\n",
       "            background-color:  #97b8ff;\n",
       "            color:  #000000;\n",
       "        }    #T_76aaa30e_16f2_11eb_b61f_8c85906f6788row1_col1 {\n",
       "            background-color:  #b40426;\n",
       "            color:  #f1f1f1;\n",
       "        }    #T_76aaa30e_16f2_11eb_b61f_8c85906f6788row1_col2 {\n",
       "            background-color:  #779af7;\n",
       "            color:  #000000;\n",
       "        }    #T_76aaa30e_16f2_11eb_b61f_8c85906f6788row1_col3 {\n",
       "            background-color:  #4257c9;\n",
       "            color:  #f1f1f1;\n",
       "        }    #T_76aaa30e_16f2_11eb_b61f_8c85906f6788row1_col4 {\n",
       "            background-color:  #5875e1;\n",
       "            color:  #000000;\n",
       "        }    #T_76aaa30e_16f2_11eb_b61f_8c85906f6788row1_col5 {\n",
       "            background-color:  #3b4cc0;\n",
       "            color:  #f1f1f1;\n",
       "        }    #T_76aaa30e_16f2_11eb_b61f_8c85906f6788row1_col6 {\n",
       "            background-color:  #3b4cc0;\n",
       "            color:  #f1f1f1;\n",
       "        }    #T_76aaa30e_16f2_11eb_b61f_8c85906f6788row1_col7 {\n",
       "            background-color:  #3b4cc0;\n",
       "            color:  #f1f1f1;\n",
       "        }    #T_76aaa30e_16f2_11eb_b61f_8c85906f6788row1_col8 {\n",
       "            background-color:  #3b4cc0;\n",
       "            color:  #f1f1f1;\n",
       "        }    #T_76aaa30e_16f2_11eb_b61f_8c85906f6788row1_col9 {\n",
       "            background-color:  #3b4cc0;\n",
       "            color:  #f1f1f1;\n",
       "        }    #T_76aaa30e_16f2_11eb_b61f_8c85906f6788row1_col10 {\n",
       "            background-color:  #c4d5f3;\n",
       "            color:  #000000;\n",
       "        }    #T_76aaa30e_16f2_11eb_b61f_8c85906f6788row1_col11 {\n",
       "            background-color:  #a3c2fe;\n",
       "            color:  #000000;\n",
       "        }    #T_76aaa30e_16f2_11eb_b61f_8c85906f6788row1_col12 {\n",
       "            background-color:  #94b6ff;\n",
       "            color:  #000000;\n",
       "        }    #T_76aaa30e_16f2_11eb_b61f_8c85906f6788row1_col13 {\n",
       "            background-color:  #90b2fe;\n",
       "            color:  #000000;\n",
       "        }    #T_76aaa30e_16f2_11eb_b61f_8c85906f6788row1_col14 {\n",
       "            background-color:  #9bbcff;\n",
       "            color:  #000000;\n",
       "        }    #T_76aaa30e_16f2_11eb_b61f_8c85906f6788row1_col15 {\n",
       "            background-color:  #6180e9;\n",
       "            color:  #000000;\n",
       "        }    #T_76aaa30e_16f2_11eb_b61f_8c85906f6788row1_col16 {\n",
       "            background-color:  #93b5fe;\n",
       "            color:  #000000;\n",
       "        }    #T_76aaa30e_16f2_11eb_b61f_8c85906f6788row1_col17 {\n",
       "            background-color:  #7a9df8;\n",
       "            color:  #000000;\n",
       "        }    #T_76aaa30e_16f2_11eb_b61f_8c85906f6788row2_col0 {\n",
       "            background-color:  #3b4cc0;\n",
       "            color:  #f1f1f1;\n",
       "        }    #T_76aaa30e_16f2_11eb_b61f_8c85906f6788row2_col1 {\n",
       "            background-color:  #5e7de7;\n",
       "            color:  #000000;\n",
       "        }    #T_76aaa30e_16f2_11eb_b61f_8c85906f6788row2_col2 {\n",
       "            background-color:  #b40426;\n",
       "            color:  #f1f1f1;\n",
       "        }    #T_76aaa30e_16f2_11eb_b61f_8c85906f6788row2_col3 {\n",
       "            background-color:  #3d50c3;\n",
       "            color:  #f1f1f1;\n",
       "        }    #T_76aaa30e_16f2_11eb_b61f_8c85906f6788row2_col4 {\n",
       "            background-color:  #3e51c5;\n",
       "            color:  #f1f1f1;\n",
       "        }    #T_76aaa30e_16f2_11eb_b61f_8c85906f6788row2_col5 {\n",
       "            background-color:  #3b4cc0;\n",
       "            color:  #f1f1f1;\n",
       "        }    #T_76aaa30e_16f2_11eb_b61f_8c85906f6788row2_col6 {\n",
       "            background-color:  #7da0f9;\n",
       "            color:  #000000;\n",
       "        }    #T_76aaa30e_16f2_11eb_b61f_8c85906f6788row2_col7 {\n",
       "            background-color:  #7699f6;\n",
       "            color:  #000000;\n",
       "        }    #T_76aaa30e_16f2_11eb_b61f_8c85906f6788row2_col8 {\n",
       "            background-color:  #779af7;\n",
       "            color:  #000000;\n",
       "        }    #T_76aaa30e_16f2_11eb_b61f_8c85906f6788row2_col9 {\n",
       "            background-color:  #89acfd;\n",
       "            color:  #000000;\n",
       "        }    #T_76aaa30e_16f2_11eb_b61f_8c85906f6788row2_col10 {\n",
       "            background-color:  #bcd2f7;\n",
       "            color:  #000000;\n",
       "        }    #T_76aaa30e_16f2_11eb_b61f_8c85906f6788row2_col11 {\n",
       "            background-color:  #c6d6f1;\n",
       "            color:  #000000;\n",
       "        }    #T_76aaa30e_16f2_11eb_b61f_8c85906f6788row2_col12 {\n",
       "            background-color:  #b9d0f9;\n",
       "            color:  #000000;\n",
       "        }    #T_76aaa30e_16f2_11eb_b61f_8c85906f6788row2_col13 {\n",
       "            background-color:  #b7cff9;\n",
       "            color:  #000000;\n",
       "        }    #T_76aaa30e_16f2_11eb_b61f_8c85906f6788row2_col14 {\n",
       "            background-color:  #c3d5f4;\n",
       "            color:  #000000;\n",
       "        }    #T_76aaa30e_16f2_11eb_b61f_8c85906f6788row2_col15 {\n",
       "            background-color:  #97b8ff;\n",
       "            color:  #000000;\n",
       "        }    #T_76aaa30e_16f2_11eb_b61f_8c85906f6788row2_col16 {\n",
       "            background-color:  #c0d4f5;\n",
       "            color:  #000000;\n",
       "        }    #T_76aaa30e_16f2_11eb_b61f_8c85906f6788row2_col17 {\n",
       "            background-color:  #7093f3;\n",
       "            color:  #000000;\n",
       "        }    #T_76aaa30e_16f2_11eb_b61f_8c85906f6788row3_col0 {\n",
       "            background-color:  #96b7ff;\n",
       "            color:  #000000;\n",
       "        }    #T_76aaa30e_16f2_11eb_b61f_8c85906f6788row3_col1 {\n",
       "            background-color:  #7093f3;\n",
       "            color:  #000000;\n",
       "        }    #T_76aaa30e_16f2_11eb_b61f_8c85906f6788row3_col2 {\n",
       "            background-color:  #85a8fc;\n",
       "            color:  #000000;\n",
       "        }    #T_76aaa30e_16f2_11eb_b61f_8c85906f6788row3_col3 {\n",
       "            background-color:  #b40426;\n",
       "            color:  #f1f1f1;\n",
       "        }    #T_76aaa30e_16f2_11eb_b61f_8c85906f6788row3_col4 {\n",
       "            background-color:  #506bda;\n",
       "            color:  #000000;\n",
       "        }    #T_76aaa30e_16f2_11eb_b61f_8c85906f6788row3_col5 {\n",
       "            background-color:  #000000;\n",
       "            color:  #f1f1f1;\n",
       "        }    #T_76aaa30e_16f2_11eb_b61f_8c85906f6788row3_col6 {\n",
       "            background-color:  #6a8bef;\n",
       "            color:  #000000;\n",
       "        }    #T_76aaa30e_16f2_11eb_b61f_8c85906f6788row3_col7 {\n",
       "            background-color:  #688aef;\n",
       "            color:  #000000;\n",
       "        }    #T_76aaa30e_16f2_11eb_b61f_8c85906f6788row3_col8 {\n",
       "            background-color:  #6b8df0;\n",
       "            color:  #000000;\n",
       "        }    #T_76aaa30e_16f2_11eb_b61f_8c85906f6788row3_col9 {\n",
       "            background-color:  #6c8ff1;\n",
       "            color:  #000000;\n",
       "        }    #T_76aaa30e_16f2_11eb_b61f_8c85906f6788row3_col10 {\n",
       "            background-color:  #bed2f6;\n",
       "            color:  #000000;\n",
       "        }    #T_76aaa30e_16f2_11eb_b61f_8c85906f6788row3_col11 {\n",
       "            background-color:  #b9d0f9;\n",
       "            color:  #000000;\n",
       "        }    #T_76aaa30e_16f2_11eb_b61f_8c85906f6788row3_col12 {\n",
       "            background-color:  #a7c5fe;\n",
       "            color:  #000000;\n",
       "        }    #T_76aaa30e_16f2_11eb_b61f_8c85906f6788row3_col13 {\n",
       "            background-color:  #a7c5fe;\n",
       "            color:  #000000;\n",
       "        }    #T_76aaa30e_16f2_11eb_b61f_8c85906f6788row3_col14 {\n",
       "            background-color:  #aec9fc;\n",
       "            color:  #000000;\n",
       "        }    #T_76aaa30e_16f2_11eb_b61f_8c85906f6788row3_col15 {\n",
       "            background-color:  #7b9ff9;\n",
       "            color:  #000000;\n",
       "        }    #T_76aaa30e_16f2_11eb_b61f_8c85906f6788row3_col16 {\n",
       "            background-color:  #aac7fd;\n",
       "            color:  #000000;\n",
       "        }    #T_76aaa30e_16f2_11eb_b61f_8c85906f6788row3_col17 {\n",
       "            background-color:  #5b7ae5;\n",
       "            color:  #000000;\n",
       "        }    #T_76aaa30e_16f2_11eb_b61f_8c85906f6788row4_col0 {\n",
       "            background-color:  #89acfd;\n",
       "            color:  #000000;\n",
       "        }    #T_76aaa30e_16f2_11eb_b61f_8c85906f6788row4_col1 {\n",
       "            background-color:  #779af7;\n",
       "            color:  #000000;\n",
       "        }    #T_76aaa30e_16f2_11eb_b61f_8c85906f6788row4_col2 {\n",
       "            background-color:  #799cf8;\n",
       "            color:  #000000;\n",
       "        }    #T_76aaa30e_16f2_11eb_b61f_8c85906f6788row4_col3 {\n",
       "            background-color:  #4358cb;\n",
       "            color:  #f1f1f1;\n",
       "        }    #T_76aaa30e_16f2_11eb_b61f_8c85906f6788row4_col4 {\n",
       "            background-color:  #b40426;\n",
       "            color:  #f1f1f1;\n",
       "        }    #T_76aaa30e_16f2_11eb_b61f_8c85906f6788row4_col5 {\n",
       "            background-color:  #000000;\n",
       "            color:  #f1f1f1;\n",
       "        }    #T_76aaa30e_16f2_11eb_b61f_8c85906f6788row4_col6 {\n",
       "            background-color:  #5e7de7;\n",
       "            color:  #000000;\n",
       "        }    #T_76aaa30e_16f2_11eb_b61f_8c85906f6788row4_col7 {\n",
       "            background-color:  #5a78e4;\n",
       "            color:  #000000;\n",
       "        }    #T_76aaa30e_16f2_11eb_b61f_8c85906f6788row4_col8 {\n",
       "            background-color:  #5977e3;\n",
       "            color:  #000000;\n",
       "        }    #T_76aaa30e_16f2_11eb_b61f_8c85906f6788row4_col9 {\n",
       "            background-color:  #6384eb;\n",
       "            color:  #000000;\n",
       "        }    #T_76aaa30e_16f2_11eb_b61f_8c85906f6788row4_col10 {\n",
       "            background-color:  #c1d4f4;\n",
       "            color:  #000000;\n",
       "        }    #T_76aaa30e_16f2_11eb_b61f_8c85906f6788row4_col11 {\n",
       "            background-color:  #b2ccfb;\n",
       "            color:  #000000;\n",
       "        }    #T_76aaa30e_16f2_11eb_b61f_8c85906f6788row4_col12 {\n",
       "            background-color:  #a1c0ff;\n",
       "            color:  #000000;\n",
       "        }    #T_76aaa30e_16f2_11eb_b61f_8c85906f6788row4_col13 {\n",
       "            background-color:  #9fbfff;\n",
       "            color:  #000000;\n",
       "        }    #T_76aaa30e_16f2_11eb_b61f_8c85906f6788row4_col14 {\n",
       "            background-color:  #aac7fd;\n",
       "            color:  #000000;\n",
       "        }    #T_76aaa30e_16f2_11eb_b61f_8c85906f6788row4_col15 {\n",
       "            background-color:  #7597f6;\n",
       "            color:  #000000;\n",
       "        }    #T_76aaa30e_16f2_11eb_b61f_8c85906f6788row4_col16 {\n",
       "            background-color:  #a3c2fe;\n",
       "            color:  #000000;\n",
       "        }    #T_76aaa30e_16f2_11eb_b61f_8c85906f6788row4_col17 {\n",
       "            background-color:  #6b8df0;\n",
       "            color:  #000000;\n",
       "        }    #T_76aaa30e_16f2_11eb_b61f_8c85906f6788row5_col0 {\n",
       "            background-color:  #89acfd;\n",
       "            color:  #000000;\n",
       "        }    #T_76aaa30e_16f2_11eb_b61f_8c85906f6788row5_col1 {\n",
       "            background-color:  #6f92f3;\n",
       "            color:  #000000;\n",
       "        }    #T_76aaa30e_16f2_11eb_b61f_8c85906f6788row5_col2 {\n",
       "            background-color:  #88abfd;\n",
       "            color:  #000000;\n",
       "        }    #T_76aaa30e_16f2_11eb_b61f_8c85906f6788row5_col3 {\n",
       "            background-color:  #000000;\n",
       "            color:  #f1f1f1;\n",
       "        }    #T_76aaa30e_16f2_11eb_b61f_8c85906f6788row5_col4 {\n",
       "            background-color:  #000000;\n",
       "            color:  #f1f1f1;\n",
       "        }    #T_76aaa30e_16f2_11eb_b61f_8c85906f6788row5_col5 {\n",
       "            background-color:  #b40426;\n",
       "            color:  #f1f1f1;\n",
       "        }    #T_76aaa30e_16f2_11eb_b61f_8c85906f6788row5_col6 {\n",
       "            background-color:  #000000;\n",
       "            color:  #f1f1f1;\n",
       "        }    #T_76aaa30e_16f2_11eb_b61f_8c85906f6788row5_col7 {\n",
       "            background-color:  #000000;\n",
       "            color:  #f1f1f1;\n",
       "        }    #T_76aaa30e_16f2_11eb_b61f_8c85906f6788row5_col8 {\n",
       "            background-color:  #000000;\n",
       "            color:  #f1f1f1;\n",
       "        }    #T_76aaa30e_16f2_11eb_b61f_8c85906f6788row5_col9 {\n",
       "            background-color:  #000000;\n",
       "            color:  #f1f1f1;\n",
       "        }    #T_76aaa30e_16f2_11eb_b61f_8c85906f6788row5_col10 {\n",
       "            background-color:  #000000;\n",
       "            color:  #f1f1f1;\n",
       "        }    #T_76aaa30e_16f2_11eb_b61f_8c85906f6788row5_col11 {\n",
       "            background-color:  #000000;\n",
       "            color:  #f1f1f1;\n",
       "        }    #T_76aaa30e_16f2_11eb_b61f_8c85906f6788row5_col12 {\n",
       "            background-color:  #000000;\n",
       "            color:  #f1f1f1;\n",
       "        }    #T_76aaa30e_16f2_11eb_b61f_8c85906f6788row5_col13 {\n",
       "            background-color:  #000000;\n",
       "            color:  #f1f1f1;\n",
       "        }    #T_76aaa30e_16f2_11eb_b61f_8c85906f6788row5_col14 {\n",
       "            background-color:  #000000;\n",
       "            color:  #f1f1f1;\n",
       "        }    #T_76aaa30e_16f2_11eb_b61f_8c85906f6788row5_col15 {\n",
       "            background-color:  #000000;\n",
       "            color:  #f1f1f1;\n",
       "        }    #T_76aaa30e_16f2_11eb_b61f_8c85906f6788row5_col16 {\n",
       "            background-color:  #000000;\n",
       "            color:  #f1f1f1;\n",
       "        }    #T_76aaa30e_16f2_11eb_b61f_8c85906f6788row5_col17 {\n",
       "            background-color:  #5e7de7;\n",
       "            color:  #000000;\n",
       "        }    #T_76aaa30e_16f2_11eb_b61f_8c85906f6788row6_col0 {\n",
       "            background-color:  #7a9df8;\n",
       "            color:  #000000;\n",
       "        }    #T_76aaa30e_16f2_11eb_b61f_8c85906f6788row6_col1 {\n",
       "            background-color:  #3c4ec2;\n",
       "            color:  #f1f1f1;\n",
       "        }    #T_76aaa30e_16f2_11eb_b61f_8c85906f6788row6_col2 {\n",
       "            background-color:  #96b7ff;\n",
       "            color:  #000000;\n",
       "        }    #T_76aaa30e_16f2_11eb_b61f_8c85906f6788row6_col3 {\n",
       "            background-color:  #3d50c3;\n",
       "            color:  #f1f1f1;\n",
       "        }    #T_76aaa30e_16f2_11eb_b61f_8c85906f6788row6_col4 {\n",
       "            background-color:  #3e51c5;\n",
       "            color:  #f1f1f1;\n",
       "        }    #T_76aaa30e_16f2_11eb_b61f_8c85906f6788row6_col5 {\n",
       "            background-color:  #000000;\n",
       "            color:  #f1f1f1;\n",
       "        }    #T_76aaa30e_16f2_11eb_b61f_8c85906f6788row6_col6 {\n",
       "            background-color:  #b40426;\n",
       "            color:  #f1f1f1;\n",
       "        }    #T_76aaa30e_16f2_11eb_b61f_8c85906f6788row6_col7 {\n",
       "            background-color:  #f6a586;\n",
       "            color:  #000000;\n",
       "        }    #T_76aaa30e_16f2_11eb_b61f_8c85906f6788row6_col8 {\n",
       "            background-color:  #f7ac8e;\n",
       "            color:  #000000;\n",
       "        }    #T_76aaa30e_16f2_11eb_b61f_8c85906f6788row6_col9 {\n",
       "            background-color:  #f7a98b;\n",
       "            color:  #000000;\n",
       "        }    #T_76aaa30e_16f2_11eb_b61f_8c85906f6788row6_col10 {\n",
       "            background-color:  #a6c4fe;\n",
       "            color:  #000000;\n",
       "        }    #T_76aaa30e_16f2_11eb_b61f_8c85906f6788row6_col11 {\n",
       "            background-color:  #f6bda2;\n",
       "            color:  #000000;\n",
       "        }    #T_76aaa30e_16f2_11eb_b61f_8c85906f6788row6_col12 {\n",
       "            background-color:  #f2c9b4;\n",
       "            color:  #000000;\n",
       "        }    #T_76aaa30e_16f2_11eb_b61f_8c85906f6788row6_col13 {\n",
       "            background-color:  #f6bfa6;\n",
       "            color:  #000000;\n",
       "        }    #T_76aaa30e_16f2_11eb_b61f_8c85906f6788row6_col14 {\n",
       "            background-color:  #f6bfa6;\n",
       "            color:  #000000;\n",
       "        }    #T_76aaa30e_16f2_11eb_b61f_8c85906f6788row6_col15 {\n",
       "            background-color:  #edd1c2;\n",
       "            color:  #000000;\n",
       "        }    #T_76aaa30e_16f2_11eb_b61f_8c85906f6788row6_col16 {\n",
       "            background-color:  #f7b497;\n",
       "            color:  #000000;\n",
       "        }    #T_76aaa30e_16f2_11eb_b61f_8c85906f6788row6_col17 {\n",
       "            background-color:  #445acc;\n",
       "            color:  #f1f1f1;\n",
       "        }    #T_76aaa30e_16f2_11eb_b61f_8c85906f6788row7_col0 {\n",
       "            background-color:  #81a4fb;\n",
       "            color:  #000000;\n",
       "        }    #T_76aaa30e_16f2_11eb_b61f_8c85906f6788row7_col1 {\n",
       "            background-color:  #3e51c5;\n",
       "            color:  #f1f1f1;\n",
       "        }    #T_76aaa30e_16f2_11eb_b61f_8c85906f6788row7_col2 {\n",
       "            background-color:  #93b5fe;\n",
       "            color:  #000000;\n",
       "        }    #T_76aaa30e_16f2_11eb_b61f_8c85906f6788row7_col3 {\n",
       "            background-color:  #3e51c5;\n",
       "            color:  #f1f1f1;\n",
       "        }    #T_76aaa30e_16f2_11eb_b61f_8c85906f6788row7_col4 {\n",
       "            background-color:  #3e51c5;\n",
       "            color:  #f1f1f1;\n",
       "        }    #T_76aaa30e_16f2_11eb_b61f_8c85906f6788row7_col5 {\n",
       "            background-color:  #000000;\n",
       "            color:  #f1f1f1;\n",
       "        }    #T_76aaa30e_16f2_11eb_b61f_8c85906f6788row7_col6 {\n",
       "            background-color:  #f6a385;\n",
       "            color:  #000000;\n",
       "        }    #T_76aaa30e_16f2_11eb_b61f_8c85906f6788row7_col7 {\n",
       "            background-color:  #b40426;\n",
       "            color:  #f1f1f1;\n",
       "        }    #T_76aaa30e_16f2_11eb_b61f_8c85906f6788row7_col8 {\n",
       "            background-color:  #f08a6c;\n",
       "            color:  #000000;\n",
       "        }    #T_76aaa30e_16f2_11eb_b61f_8c85906f6788row7_col9 {\n",
       "            background-color:  #f7b599;\n",
       "            color:  #000000;\n",
       "        }    #T_76aaa30e_16f2_11eb_b61f_8c85906f6788row7_col10 {\n",
       "            background-color:  #9abbff;\n",
       "            color:  #000000;\n",
       "        }    #T_76aaa30e_16f2_11eb_b61f_8c85906f6788row7_col11 {\n",
       "            background-color:  #f7b599;\n",
       "            color:  #000000;\n",
       "        }    #T_76aaa30e_16f2_11eb_b61f_8c85906f6788row7_col12 {\n",
       "            background-color:  #f5c4ac;\n",
       "            color:  #000000;\n",
       "        }    #T_76aaa30e_16f2_11eb_b61f_8c85906f6788row7_col13 {\n",
       "            background-color:  #f7b99e;\n",
       "            color:  #000000;\n",
       "        }    #T_76aaa30e_16f2_11eb_b61f_8c85906f6788row7_col14 {\n",
       "            background-color:  #f7bca1;\n",
       "            color:  #000000;\n",
       "        }    #T_76aaa30e_16f2_11eb_b61f_8c85906f6788row7_col15 {\n",
       "            background-color:  #f0cdbb;\n",
       "            color:  #000000;\n",
       "        }    #T_76aaa30e_16f2_11eb_b61f_8c85906f6788row7_col16 {\n",
       "            background-color:  #f7af91;\n",
       "            color:  #000000;\n",
       "        }    #T_76aaa30e_16f2_11eb_b61f_8c85906f6788row7_col17 {\n",
       "            background-color:  #4257c9;\n",
       "            color:  #f1f1f1;\n",
       "        }    #T_76aaa30e_16f2_11eb_b61f_8c85906f6788row8_col0 {\n",
       "            background-color:  #7295f4;\n",
       "            color:  #000000;\n",
       "        }    #T_76aaa30e_16f2_11eb_b61f_8c85906f6788row8_col1 {\n",
       "            background-color:  #3c4ec2;\n",
       "            color:  #f1f1f1;\n",
       "        }    #T_76aaa30e_16f2_11eb_b61f_8c85906f6788row8_col2 {\n",
       "            background-color:  #92b4fe;\n",
       "            color:  #000000;\n",
       "        }    #T_76aaa30e_16f2_11eb_b61f_8c85906f6788row8_col3 {\n",
       "            background-color:  #3e51c5;\n",
       "            color:  #f1f1f1;\n",
       "        }    #T_76aaa30e_16f2_11eb_b61f_8c85906f6788row8_col4 {\n",
       "            background-color:  #3b4cc0;\n",
       "            color:  #f1f1f1;\n",
       "        }    #T_76aaa30e_16f2_11eb_b61f_8c85906f6788row8_col5 {\n",
       "            background-color:  #000000;\n",
       "            color:  #f1f1f1;\n",
       "        }    #T_76aaa30e_16f2_11eb_b61f_8c85906f6788row8_col6 {\n",
       "            background-color:  #f7ac8e;\n",
       "            color:  #000000;\n",
       "        }    #T_76aaa30e_16f2_11eb_b61f_8c85906f6788row8_col7 {\n",
       "            background-color:  #f08a6c;\n",
       "            color:  #000000;\n",
       "        }    #T_76aaa30e_16f2_11eb_b61f_8c85906f6788row8_col8 {\n",
       "            background-color:  #b40426;\n",
       "            color:  #f1f1f1;\n",
       "        }    #T_76aaa30e_16f2_11eb_b61f_8c85906f6788row8_col9 {\n",
       "            background-color:  #f7ba9f;\n",
       "            color:  #000000;\n",
       "        }    #T_76aaa30e_16f2_11eb_b61f_8c85906f6788row8_col10 {\n",
       "            background-color:  #96b7ff;\n",
       "            color:  #000000;\n",
       "        }    #T_76aaa30e_16f2_11eb_b61f_8c85906f6788row8_col11 {\n",
       "            background-color:  #f7b093;\n",
       "            color:  #000000;\n",
       "        }    #T_76aaa30e_16f2_11eb_b61f_8c85906f6788row8_col12 {\n",
       "            background-color:  #f5c4ac;\n",
       "            color:  #000000;\n",
       "        }    #T_76aaa30e_16f2_11eb_b61f_8c85906f6788row8_col13 {\n",
       "            background-color:  #f7b89c;\n",
       "            color:  #000000;\n",
       "        }    #T_76aaa30e_16f2_11eb_b61f_8c85906f6788row8_col14 {\n",
       "            background-color:  #f7ba9f;\n",
       "            color:  #000000;\n",
       "        }    #T_76aaa30e_16f2_11eb_b61f_8c85906f6788row8_col15 {\n",
       "            background-color:  #f1cdba;\n",
       "            color:  #000000;\n",
       "        }    #T_76aaa30e_16f2_11eb_b61f_8c85906f6788row8_col16 {\n",
       "            background-color:  #f7ad90;\n",
       "            color:  #000000;\n",
       "        }    #T_76aaa30e_16f2_11eb_b61f_8c85906f6788row8_col17 {\n",
       "            background-color:  #4055c8;\n",
       "            color:  #f1f1f1;\n",
       "        }    #T_76aaa30e_16f2_11eb_b61f_8c85906f6788row9_col0 {\n",
       "            background-color:  #6485ec;\n",
       "            color:  #000000;\n",
       "        }    #T_76aaa30e_16f2_11eb_b61f_8c85906f6788row9_col1 {\n",
       "            background-color:  #3b4cc0;\n",
       "            color:  #f1f1f1;\n",
       "        }    #T_76aaa30e_16f2_11eb_b61f_8c85906f6788row9_col2 {\n",
       "            background-color:  #9fbfff;\n",
       "            color:  #000000;\n",
       "        }    #T_76aaa30e_16f2_11eb_b61f_8c85906f6788row9_col3 {\n",
       "            background-color:  #3e51c5;\n",
       "            color:  #f1f1f1;\n",
       "        }    #T_76aaa30e_16f2_11eb_b61f_8c85906f6788row9_col4 {\n",
       "            background-color:  #4257c9;\n",
       "            color:  #f1f1f1;\n",
       "        }    #T_76aaa30e_16f2_11eb_b61f_8c85906f6788row9_col5 {\n",
       "            background-color:  #000000;\n",
       "            color:  #f1f1f1;\n",
       "        }    #T_76aaa30e_16f2_11eb_b61f_8c85906f6788row9_col6 {\n",
       "            background-color:  #f7aa8c;\n",
       "            color:  #000000;\n",
       "        }    #T_76aaa30e_16f2_11eb_b61f_8c85906f6788row9_col7 {\n",
       "            background-color:  #f7b79b;\n",
       "            color:  #000000;\n",
       "        }    #T_76aaa30e_16f2_11eb_b61f_8c85906f6788row9_col8 {\n",
       "            background-color:  #f7bca1;\n",
       "            color:  #000000;\n",
       "        }    #T_76aaa30e_16f2_11eb_b61f_8c85906f6788row9_col9 {\n",
       "            background-color:  #b40426;\n",
       "            color:  #f1f1f1;\n",
       "        }    #T_76aaa30e_16f2_11eb_b61f_8c85906f6788row9_col10 {\n",
       "            background-color:  #a7c5fe;\n",
       "            color:  #000000;\n",
       "        }    #T_76aaa30e_16f2_11eb_b61f_8c85906f6788row9_col11 {\n",
       "            background-color:  #f6bda2;\n",
       "            color:  #000000;\n",
       "        }    #T_76aaa30e_16f2_11eb_b61f_8c85906f6788row9_col12 {\n",
       "            background-color:  #f2cbb7;\n",
       "            color:  #000000;\n",
       "        }    #T_76aaa30e_16f2_11eb_b61f_8c85906f6788row9_col13 {\n",
       "            background-color:  #f5c1a9;\n",
       "            color:  #000000;\n",
       "        }    #T_76aaa30e_16f2_11eb_b61f_8c85906f6788row9_col14 {\n",
       "            background-color:  #f5c0a7;\n",
       "            color:  #000000;\n",
       "        }    #T_76aaa30e_16f2_11eb_b61f_8c85906f6788row9_col15 {\n",
       "            background-color:  #ebd3c6;\n",
       "            color:  #000000;\n",
       "        }    #T_76aaa30e_16f2_11eb_b61f_8c85906f6788row9_col16 {\n",
       "            background-color:  #f7b79b;\n",
       "            color:  #000000;\n",
       "        }    #T_76aaa30e_16f2_11eb_b61f_8c85906f6788row9_col17 {\n",
       "            background-color:  #4a63d3;\n",
       "            color:  #f1f1f1;\n",
       "        }    #T_76aaa30e_16f2_11eb_b61f_8c85906f6788row10_col0 {\n",
       "            background-color:  #97b8ff;\n",
       "            color:  #000000;\n",
       "        }    #T_76aaa30e_16f2_11eb_b61f_8c85906f6788row10_col1 {\n",
       "            background-color:  #7a9df8;\n",
       "            color:  #000000;\n",
       "        }    #T_76aaa30e_16f2_11eb_b61f_8c85906f6788row10_col2 {\n",
       "            background-color:  #88abfd;\n",
       "            color:  #000000;\n",
       "        }    #T_76aaa30e_16f2_11eb_b61f_8c85906f6788row10_col3 {\n",
       "            background-color:  #4358cb;\n",
       "            color:  #f1f1f1;\n",
       "        }    #T_76aaa30e_16f2_11eb_b61f_8c85906f6788row10_col4 {\n",
       "            background-color:  #5673e0;\n",
       "            color:  #000000;\n",
       "        }    #T_76aaa30e_16f2_11eb_b61f_8c85906f6788row10_col5 {\n",
       "            background-color:  #000000;\n",
       "            color:  #f1f1f1;\n",
       "        }    #T_76aaa30e_16f2_11eb_b61f_8c85906f6788row10_col6 {\n",
       "            background-color:  #506bda;\n",
       "            color:  #000000;\n",
       "        }    #T_76aaa30e_16f2_11eb_b61f_8c85906f6788row10_col7 {\n",
       "            background-color:  #3f53c6;\n",
       "            color:  #f1f1f1;\n",
       "        }    #T_76aaa30e_16f2_11eb_b61f_8c85906f6788row10_col8 {\n",
       "            background-color:  #3c4ec2;\n",
       "            color:  #f1f1f1;\n",
       "        }    #T_76aaa30e_16f2_11eb_b61f_8c85906f6788row10_col9 {\n",
       "            background-color:  #536edd;\n",
       "            color:  #000000;\n",
       "        }    #T_76aaa30e_16f2_11eb_b61f_8c85906f6788row10_col10 {\n",
       "            background-color:  #b40426;\n",
       "            color:  #f1f1f1;\n",
       "        }    #T_76aaa30e_16f2_11eb_b61f_8c85906f6788row10_col11 {\n",
       "            background-color:  #3b4cc0;\n",
       "            color:  #f1f1f1;\n",
       "        }    #T_76aaa30e_16f2_11eb_b61f_8c85906f6788row10_col12 {\n",
       "            background-color:  #3b4cc0;\n",
       "            color:  #f1f1f1;\n",
       "        }    #T_76aaa30e_16f2_11eb_b61f_8c85906f6788row10_col13 {\n",
       "            background-color:  #3b4cc0;\n",
       "            color:  #f1f1f1;\n",
       "        }    #T_76aaa30e_16f2_11eb_b61f_8c85906f6788row10_col14 {\n",
       "            background-color:  #3b4cc0;\n",
       "            color:  #f1f1f1;\n",
       "        }    #T_76aaa30e_16f2_11eb_b61f_8c85906f6788row10_col15 {\n",
       "            background-color:  #3b4cc0;\n",
       "            color:  #f1f1f1;\n",
       "        }    #T_76aaa30e_16f2_11eb_b61f_8c85906f6788row10_col16 {\n",
       "            background-color:  #3b4cc0;\n",
       "            color:  #f1f1f1;\n",
       "        }    #T_76aaa30e_16f2_11eb_b61f_8c85906f6788row10_col17 {\n",
       "            background-color:  #6485ec;\n",
       "            color:  #000000;\n",
       "        }    #T_76aaa30e_16f2_11eb_b61f_8c85906f6788row11_col0 {\n",
       "            background-color:  #6384eb;\n",
       "            color:  #000000;\n",
       "        }    #T_76aaa30e_16f2_11eb_b61f_8c85906f6788row11_col1 {\n",
       "            background-color:  #4e68d8;\n",
       "            color:  #000000;\n",
       "        }    #T_76aaa30e_16f2_11eb_b61f_8c85906f6788row11_col2 {\n",
       "            background-color:  #96b7ff;\n",
       "            color:  #000000;\n",
       "        }    #T_76aaa30e_16f2_11eb_b61f_8c85906f6788row11_col3 {\n",
       "            background-color:  #3c4ec2;\n",
       "            color:  #f1f1f1;\n",
       "        }    #T_76aaa30e_16f2_11eb_b61f_8c85906f6788row11_col4 {\n",
       "            background-color:  #3f53c6;\n",
       "            color:  #f1f1f1;\n",
       "        }    #T_76aaa30e_16f2_11eb_b61f_8c85906f6788row11_col5 {\n",
       "            background-color:  #000000;\n",
       "            color:  #f1f1f1;\n",
       "        }    #T_76aaa30e_16f2_11eb_b61f_8c85906f6788row11_col6 {\n",
       "            background-color:  #e2dad5;\n",
       "            color:  #000000;\n",
       "        }    #T_76aaa30e_16f2_11eb_b61f_8c85906f6788row11_col7 {\n",
       "            background-color:  #ead5c9;\n",
       "            color:  #000000;\n",
       "        }    #T_76aaa30e_16f2_11eb_b61f_8c85906f6788row11_col8 {\n",
       "            background-color:  #edd1c2;\n",
       "            color:  #000000;\n",
       "        }    #T_76aaa30e_16f2_11eb_b61f_8c85906f6788row11_col9 {\n",
       "            background-color:  #e2dad5;\n",
       "            color:  #000000;\n",
       "        }    #T_76aaa30e_16f2_11eb_b61f_8c85906f6788row11_col10 {\n",
       "            background-color:  #3b4cc0;\n",
       "            color:  #f1f1f1;\n",
       "        }    #T_76aaa30e_16f2_11eb_b61f_8c85906f6788row11_col11 {\n",
       "            background-color:  #b40426;\n",
       "            color:  #f1f1f1;\n",
       "        }    #T_76aaa30e_16f2_11eb_b61f_8c85906f6788row11_col12 {\n",
       "            background-color:  #ed8366;\n",
       "            color:  #000000;\n",
       "        }    #T_76aaa30e_16f2_11eb_b61f_8c85906f6788row11_col13 {\n",
       "            background-color:  #e26952;\n",
       "            color:  #000000;\n",
       "        }    #T_76aaa30e_16f2_11eb_b61f_8c85906f6788row11_col14 {\n",
       "            background-color:  #d95847;\n",
       "            color:  #000000;\n",
       "        }    #T_76aaa30e_16f2_11eb_b61f_8c85906f6788row11_col15 {\n",
       "            background-color:  #f7b99e;\n",
       "            color:  #000000;\n",
       "        }    #T_76aaa30e_16f2_11eb_b61f_8c85906f6788row11_col16 {\n",
       "            background-color:  #d55042;\n",
       "            color:  #000000;\n",
       "        }    #T_76aaa30e_16f2_11eb_b61f_8c85906f6788row11_col17 {\n",
       "            background-color:  #4e68d8;\n",
       "            color:  #000000;\n",
       "        }    #T_76aaa30e_16f2_11eb_b61f_8c85906f6788row12_col0 {\n",
       "            background-color:  #6687ed;\n",
       "            color:  #000000;\n",
       "        }    #T_76aaa30e_16f2_11eb_b61f_8c85906f6788row12_col1 {\n",
       "            background-color:  #5470de;\n",
       "            color:  #000000;\n",
       "        }    #T_76aaa30e_16f2_11eb_b61f_8c85906f6788row12_col2 {\n",
       "            background-color:  #9abbff;\n",
       "            color:  #000000;\n",
       "        }    #T_76aaa30e_16f2_11eb_b61f_8c85906f6788row12_col3 {\n",
       "            background-color:  #3d50c3;\n",
       "            color:  #f1f1f1;\n",
       "        }    #T_76aaa30e_16f2_11eb_b61f_8c85906f6788row12_col4 {\n",
       "            background-color:  #4257c9;\n",
       "            color:  #f1f1f1;\n",
       "        }    #T_76aaa30e_16f2_11eb_b61f_8c85906f6788row12_col5 {\n",
       "            background-color:  #000000;\n",
       "            color:  #f1f1f1;\n",
       "        }    #T_76aaa30e_16f2_11eb_b61f_8c85906f6788row12_col6 {\n",
       "            background-color:  #dedcdb;\n",
       "            color:  #000000;\n",
       "        }    #T_76aaa30e_16f2_11eb_b61f_8c85906f6788row12_col7 {\n",
       "            background-color:  #e3d9d3;\n",
       "            color:  #000000;\n",
       "        }    #T_76aaa30e_16f2_11eb_b61f_8c85906f6788row12_col8 {\n",
       "            background-color:  #e4d9d2;\n",
       "            color:  #000000;\n",
       "        }    #T_76aaa30e_16f2_11eb_b61f_8c85906f6788row12_col9 {\n",
       "            background-color:  #dcdddd;\n",
       "            color:  #000000;\n",
       "        }    #T_76aaa30e_16f2_11eb_b61f_8c85906f6788row12_col10 {\n",
       "            background-color:  #536edd;\n",
       "            color:  #000000;\n",
       "        }    #T_76aaa30e_16f2_11eb_b61f_8c85906f6788row12_col11 {\n",
       "            background-color:  #ea7b60;\n",
       "            color:  #000000;\n",
       "        }    #T_76aaa30e_16f2_11eb_b61f_8c85906f6788row12_col12 {\n",
       "            background-color:  #b40426;\n",
       "            color:  #f1f1f1;\n",
       "        }    #T_76aaa30e_16f2_11eb_b61f_8c85906f6788row12_col13 {\n",
       "            background-color:  #d44e41;\n",
       "            color:  #000000;\n",
       "        }    #T_76aaa30e_16f2_11eb_b61f_8c85906f6788row12_col14 {\n",
       "            background-color:  #e7745b;\n",
       "            color:  #000000;\n",
       "        }    #T_76aaa30e_16f2_11eb_b61f_8c85906f6788row12_col15 {\n",
       "            background-color:  #f6a283;\n",
       "            color:  #000000;\n",
       "        }    #T_76aaa30e_16f2_11eb_b61f_8c85906f6788row12_col16 {\n",
       "            background-color:  #cc403a;\n",
       "            color:  #f1f1f1;\n",
       "        }    #T_76aaa30e_16f2_11eb_b61f_8c85906f6788row12_col17 {\n",
       "            background-color:  #516ddb;\n",
       "            color:  #000000;\n",
       "        }    #T_76aaa30e_16f2_11eb_b61f_8c85906f6788row13_col0 {\n",
       "            background-color:  #6384eb;\n",
       "            color:  #000000;\n",
       "        }    #T_76aaa30e_16f2_11eb_b61f_8c85906f6788row13_col1 {\n",
       "            background-color:  #506bda;\n",
       "            color:  #000000;\n",
       "        }    #T_76aaa30e_16f2_11eb_b61f_8c85906f6788row13_col2 {\n",
       "            background-color:  #98b9ff;\n",
       "            color:  #000000;\n",
       "        }    #T_76aaa30e_16f2_11eb_b61f_8c85906f6788row13_col3 {\n",
       "            background-color:  #3d50c3;\n",
       "            color:  #f1f1f1;\n",
       "        }    #T_76aaa30e_16f2_11eb_b61f_8c85906f6788row13_col4 {\n",
       "            background-color:  #4055c8;\n",
       "            color:  #f1f1f1;\n",
       "        }    #T_76aaa30e_16f2_11eb_b61f_8c85906f6788row13_col5 {\n",
       "            background-color:  #000000;\n",
       "            color:  #f1f1f1;\n",
       "        }    #T_76aaa30e_16f2_11eb_b61f_8c85906f6788row13_col6 {\n",
       "            background-color:  #ead5c9;\n",
       "            color:  #000000;\n",
       "        }    #T_76aaa30e_16f2_11eb_b61f_8c85906f6788row13_col7 {\n",
       "            background-color:  #edd2c3;\n",
       "            color:  #000000;\n",
       "        }    #T_76aaa30e_16f2_11eb_b61f_8c85906f6788row13_col8 {\n",
       "            background-color:  #eed0c0;\n",
       "            color:  #000000;\n",
       "        }    #T_76aaa30e_16f2_11eb_b61f_8c85906f6788row13_col9 {\n",
       "            background-color:  #e7d7ce;\n",
       "            color:  #000000;\n",
       "        }    #T_76aaa30e_16f2_11eb_b61f_8c85906f6788row13_col10 {\n",
       "            background-color:  #536edd;\n",
       "            color:  #000000;\n",
       "        }    #T_76aaa30e_16f2_11eb_b61f_8c85906f6788row13_col11 {\n",
       "            background-color:  #df634e;\n",
       "            color:  #000000;\n",
       "        }    #T_76aaa30e_16f2_11eb_b61f_8c85906f6788row13_col12 {\n",
       "            background-color:  #d44e41;\n",
       "            color:  #000000;\n",
       "        }    #T_76aaa30e_16f2_11eb_b61f_8c85906f6788row13_col13 {\n",
       "            background-color:  #b40426;\n",
       "            color:  #f1f1f1;\n",
       "        }    #T_76aaa30e_16f2_11eb_b61f_8c85906f6788row13_col14 {\n",
       "            background-color:  #dc5d4a;\n",
       "            color:  #000000;\n",
       "        }    #T_76aaa30e_16f2_11eb_b61f_8c85906f6788row13_col15 {\n",
       "            background-color:  #f29072;\n",
       "            color:  #000000;\n",
       "        }    #T_76aaa30e_16f2_11eb_b61f_8c85906f6788row13_col16 {\n",
       "            background-color:  #c32e31;\n",
       "            color:  #f1f1f1;\n",
       "        }    #T_76aaa30e_16f2_11eb_b61f_8c85906f6788row13_col17 {\n",
       "            background-color:  #506bda;\n",
       "            color:  #000000;\n",
       "        }    #T_76aaa30e_16f2_11eb_b61f_8c85906f6788row14_col0 {\n",
       "            background-color:  #5b7ae5;\n",
       "            color:  #000000;\n",
       "        }    #T_76aaa30e_16f2_11eb_b61f_8c85906f6788row14_col1 {\n",
       "            background-color:  #516ddb;\n",
       "            color:  #000000;\n",
       "        }    #T_76aaa30e_16f2_11eb_b61f_8c85906f6788row14_col2 {\n",
       "            background-color:  #9ebeff;\n",
       "            color:  #000000;\n",
       "        }    #T_76aaa30e_16f2_11eb_b61f_8c85906f6788row14_col3 {\n",
       "            background-color:  #3b4cc0;\n",
       "            color:  #f1f1f1;\n",
       "        }    #T_76aaa30e_16f2_11eb_b61f_8c85906f6788row14_col4 {\n",
       "            background-color:  #4358cb;\n",
       "            color:  #f1f1f1;\n",
       "        }    #T_76aaa30e_16f2_11eb_b61f_8c85906f6788row14_col5 {\n",
       "            background-color:  #000000;\n",
       "            color:  #f1f1f1;\n",
       "        }    #T_76aaa30e_16f2_11eb_b61f_8c85906f6788row14_col6 {\n",
       "            background-color:  #e4d9d2;\n",
       "            color:  #000000;\n",
       "        }    #T_76aaa30e_16f2_11eb_b61f_8c85906f6788row14_col7 {\n",
       "            background-color:  #e8d6cc;\n",
       "            color:  #000000;\n",
       "        }    #T_76aaa30e_16f2_11eb_b61f_8c85906f6788row14_col8 {\n",
       "            background-color:  #e9d5cb;\n",
       "            color:  #000000;\n",
       "        }    #T_76aaa30e_16f2_11eb_b61f_8c85906f6788row14_col9 {\n",
       "            background-color:  #e4d9d2;\n",
       "            color:  #000000;\n",
       "        }    #T_76aaa30e_16f2_11eb_b61f_8c85906f6788row14_col10 {\n",
       "            background-color:  #485fd1;\n",
       "            color:  #f1f1f1;\n",
       "        }    #T_76aaa30e_16f2_11eb_b61f_8c85906f6788row14_col11 {\n",
       "            background-color:  #d85646;\n",
       "            color:  #000000;\n",
       "        }    #T_76aaa30e_16f2_11eb_b61f_8c85906f6788row14_col12 {\n",
       "            background-color:  #e9785d;\n",
       "            color:  #000000;\n",
       "        }    #T_76aaa30e_16f2_11eb_b61f_8c85906f6788row14_col13 {\n",
       "            background-color:  #de614d;\n",
       "            color:  #000000;\n",
       "        }    #T_76aaa30e_16f2_11eb_b61f_8c85906f6788row14_col14 {\n",
       "            background-color:  #b40426;\n",
       "            color:  #f1f1f1;\n",
       "        }    #T_76aaa30e_16f2_11eb_b61f_8c85906f6788row14_col15 {\n",
       "            background-color:  #f7a688;\n",
       "            color:  #000000;\n",
       "        }    #T_76aaa30e_16f2_11eb_b61f_8c85906f6788row14_col16 {\n",
       "            background-color:  #cd423b;\n",
       "            color:  #f1f1f1;\n",
       "        }    #T_76aaa30e_16f2_11eb_b61f_8c85906f6788row14_col17 {\n",
       "            background-color:  #536edd;\n",
       "            color:  #000000;\n",
       "        }    #T_76aaa30e_16f2_11eb_b61f_8c85906f6788row15_col0 {\n",
       "            background-color:  #6180e9;\n",
       "            color:  #000000;\n",
       "        }    #T_76aaa30e_16f2_11eb_b61f_8c85906f6788row15_col1 {\n",
       "            background-color:  #506bda;\n",
       "            color:  #000000;\n",
       "        }    #T_76aaa30e_16f2_11eb_b61f_8c85906f6788row15_col2 {\n",
       "            background-color:  #9fbfff;\n",
       "            color:  #000000;\n",
       "        }    #T_76aaa30e_16f2_11eb_b61f_8c85906f6788row15_col3 {\n",
       "            background-color:  #3c4ec2;\n",
       "            color:  #f1f1f1;\n",
       "        }    #T_76aaa30e_16f2_11eb_b61f_8c85906f6788row15_col4 {\n",
       "            background-color:  #4358cb;\n",
       "            color:  #f1f1f1;\n",
       "        }    #T_76aaa30e_16f2_11eb_b61f_8c85906f6788row15_col5 {\n",
       "            background-color:  #000000;\n",
       "            color:  #f1f1f1;\n",
       "        }    #T_76aaa30e_16f2_11eb_b61f_8c85906f6788row15_col6 {\n",
       "            background-color:  #e8d6cc;\n",
       "            color:  #000000;\n",
       "        }    #T_76aaa30e_16f2_11eb_b61f_8c85906f6788row15_col7 {\n",
       "            background-color:  #ebd3c6;\n",
       "            color:  #000000;\n",
       "        }    #T_76aaa30e_16f2_11eb_b61f_8c85906f6788row15_col8 {\n",
       "            background-color:  #ecd3c5;\n",
       "            color:  #000000;\n",
       "        }    #T_76aaa30e_16f2_11eb_b61f_8c85906f6788row15_col9 {\n",
       "            background-color:  #e6d7cf;\n",
       "            color:  #000000;\n",
       "        }    #T_76aaa30e_16f2_11eb_b61f_8c85906f6788row15_col10 {\n",
       "            background-color:  #84a7fc;\n",
       "            color:  #000000;\n",
       "        }    #T_76aaa30e_16f2_11eb_b61f_8c85906f6788row15_col11 {\n",
       "            background-color:  #f59d7e;\n",
       "            color:  #000000;\n",
       "        }    #T_76aaa30e_16f2_11eb_b61f_8c85906f6788row15_col12 {\n",
       "            background-color:  #f29072;\n",
       "            color:  #000000;\n",
       "        }    #T_76aaa30e_16f2_11eb_b61f_8c85906f6788row15_col13 {\n",
       "            background-color:  #ec8165;\n",
       "            color:  #000000;\n",
       "        }    #T_76aaa30e_16f2_11eb_b61f_8c85906f6788row15_col14 {\n",
       "            background-color:  #f29072;\n",
       "            color:  #000000;\n",
       "        }    #T_76aaa30e_16f2_11eb_b61f_8c85906f6788row15_col15 {\n",
       "            background-color:  #b40426;\n",
       "            color:  #f1f1f1;\n",
       "        }    #T_76aaa30e_16f2_11eb_b61f_8c85906f6788row15_col16 {\n",
       "            background-color:  #d65244;\n",
       "            color:  #000000;\n",
       "        }    #T_76aaa30e_16f2_11eb_b61f_8c85906f6788row15_col17 {\n",
       "            background-color:  #516ddb;\n",
       "            color:  #000000;\n",
       "        }    #T_76aaa30e_16f2_11eb_b61f_8c85906f6788row16_col0 {\n",
       "            background-color:  #5d7ce6;\n",
       "            color:  #000000;\n",
       "        }    #T_76aaa30e_16f2_11eb_b61f_8c85906f6788row16_col1 {\n",
       "            background-color:  #4c66d6;\n",
       "            color:  #000000;\n",
       "        }    #T_76aaa30e_16f2_11eb_b61f_8c85906f6788row16_col2 {\n",
       "            background-color:  #9ebeff;\n",
       "            color:  #000000;\n",
       "        }    #T_76aaa30e_16f2_11eb_b61f_8c85906f6788row16_col3 {\n",
       "            background-color:  #3b4cc0;\n",
       "            color:  #f1f1f1;\n",
       "        }    #T_76aaa30e_16f2_11eb_b61f_8c85906f6788row16_col4 {\n",
       "            background-color:  #4055c8;\n",
       "            color:  #f1f1f1;\n",
       "        }    #T_76aaa30e_16f2_11eb_b61f_8c85906f6788row16_col5 {\n",
       "            background-color:  #000000;\n",
       "            color:  #f1f1f1;\n",
       "        }    #T_76aaa30e_16f2_11eb_b61f_8c85906f6788row16_col6 {\n",
       "            background-color:  #efcebd;\n",
       "            color:  #000000;\n",
       "        }    #T_76aaa30e_16f2_11eb_b61f_8c85906f6788row16_col7 {\n",
       "            background-color:  #f2cab5;\n",
       "            color:  #000000;\n",
       "        }    #T_76aaa30e_16f2_11eb_b61f_8c85906f6788row16_col8 {\n",
       "            background-color:  #f3c8b2;\n",
       "            color:  #000000;\n",
       "        }    #T_76aaa30e_16f2_11eb_b61f_8c85906f6788row16_col9 {\n",
       "            background-color:  #eed0c0;\n",
       "            color:  #000000;\n",
       "        }    #T_76aaa30e_16f2_11eb_b61f_8c85906f6788row16_col10 {\n",
       "            background-color:  #4e68d8;\n",
       "            color:  #000000;\n",
       "        }    #T_76aaa30e_16f2_11eb_b61f_8c85906f6788row16_col11 {\n",
       "            background-color:  #d44e41;\n",
       "            color:  #000000;\n",
       "        }    #T_76aaa30e_16f2_11eb_b61f_8c85906f6788row16_col12 {\n",
       "            background-color:  #cd423b;\n",
       "            color:  #f1f1f1;\n",
       "        }    #T_76aaa30e_16f2_11eb_b61f_8c85906f6788row16_col13 {\n",
       "            background-color:  #c43032;\n",
       "            color:  #f1f1f1;\n",
       "        }    #T_76aaa30e_16f2_11eb_b61f_8c85906f6788row16_col14 {\n",
       "            background-color:  #cc403a;\n",
       "            color:  #f1f1f1;\n",
       "        }    #T_76aaa30e_16f2_11eb_b61f_8c85906f6788row16_col15 {\n",
       "            background-color:  #dc5d4a;\n",
       "            color:  #000000;\n",
       "        }    #T_76aaa30e_16f2_11eb_b61f_8c85906f6788row16_col16 {\n",
       "            background-color:  #b40426;\n",
       "            color:  #f1f1f1;\n",
       "        }    #T_76aaa30e_16f2_11eb_b61f_8c85906f6788row16_col17 {\n",
       "            background-color:  #4f69d9;\n",
       "            color:  #000000;\n",
       "        }    #T_76aaa30e_16f2_11eb_b61f_8c85906f6788row17_col0 {\n",
       "            background-color:  #6485ec;\n",
       "            color:  #000000;\n",
       "        }    #T_76aaa30e_16f2_11eb_b61f_8c85906f6788row17_col1 {\n",
       "            background-color:  #89acfd;\n",
       "            color:  #000000;\n",
       "        }    #T_76aaa30e_16f2_11eb_b61f_8c85906f6788row17_col2 {\n",
       "            background-color:  #98b9ff;\n",
       "            color:  #000000;\n",
       "        }    #T_76aaa30e_16f2_11eb_b61f_8c85906f6788row17_col3 {\n",
       "            background-color:  #3e51c5;\n",
       "            color:  #f1f1f1;\n",
       "        }    #T_76aaa30e_16f2_11eb_b61f_8c85906f6788row17_col4 {\n",
       "            background-color:  #5a78e4;\n",
       "            color:  #000000;\n",
       "        }    #T_76aaa30e_16f2_11eb_b61f_8c85906f6788row17_col5 {\n",
       "            background-color:  #3b4cc0;\n",
       "            color:  #f1f1f1;\n",
       "        }    #T_76aaa30e_16f2_11eb_b61f_8c85906f6788row17_col6 {\n",
       "            background-color:  #536edd;\n",
       "            color:  #000000;\n",
       "        }    #T_76aaa30e_16f2_11eb_b61f_8c85906f6788row17_col7 {\n",
       "            background-color:  #4f69d9;\n",
       "            color:  #000000;\n",
       "        }    #T_76aaa30e_16f2_11eb_b61f_8c85906f6788row17_col8 {\n",
       "            background-color:  #4f69d9;\n",
       "            color:  #000000;\n",
       "        }    #T_76aaa30e_16f2_11eb_b61f_8c85906f6788row17_col9 {\n",
       "            background-color:  #5a78e4;\n",
       "            color:  #000000;\n",
       "        }    #T_76aaa30e_16f2_11eb_b61f_8c85906f6788row17_col10 {\n",
       "            background-color:  #c0d4f5;\n",
       "            color:  #000000;\n",
       "        }    #T_76aaa30e_16f2_11eb_b61f_8c85906f6788row17_col11 {\n",
       "            background-color:  #afcafc;\n",
       "            color:  #000000;\n",
       "        }    #T_76aaa30e_16f2_11eb_b61f_8c85906f6788row17_col12 {\n",
       "            background-color:  #9fbfff;\n",
       "            color:  #000000;\n",
       "        }    #T_76aaa30e_16f2_11eb_b61f_8c85906f6788row17_col13 {\n",
       "            background-color:  #9ebeff;\n",
       "            color:  #000000;\n",
       "        }    #T_76aaa30e_16f2_11eb_b61f_8c85906f6788row17_col14 {\n",
       "            background-color:  #aac7fd;\n",
       "            color:  #000000;\n",
       "        }    #T_76aaa30e_16f2_11eb_b61f_8c85906f6788row17_col15 {\n",
       "            background-color:  #7295f4;\n",
       "            color:  #000000;\n",
       "        }    #T_76aaa30e_16f2_11eb_b61f_8c85906f6788row17_col16 {\n",
       "            background-color:  #a2c1ff;\n",
       "            color:  #000000;\n",
       "        }    #T_76aaa30e_16f2_11eb_b61f_8c85906f6788row17_col17 {\n",
       "            background-color:  #b40426;\n",
       "            color:  #f1f1f1;\n",
       "        }</style><table id=\"T_76aaa30e_16f2_11eb_b61f_8c85906f6788\" ><thead>    <tr>        <th class=\"blank level0\" ></th>        <th class=\"col_heading level0 col0\" >NU_IDADE</th>        <th class=\"col_heading level0 col1\" >TP_COR_RACA</th>        <th class=\"col_heading level0 col2\" >TP_ESCOLA</th>        <th class=\"col_heading level0 col3\" >TP_ENSINO</th>        <th class=\"col_heading level0 col4\" >TP_LOCALIZACAO_ESC</th>        <th class=\"col_heading level0 col5\" >IN_CADEIRA_CANHOTO</th>        <th class=\"col_heading level0 col6\" >NU_NOTA_CN</th>        <th class=\"col_heading level0 col7\" >NU_NOTA_CH</th>        <th class=\"col_heading level0 col8\" >NU_NOTA_LC</th>        <th class=\"col_heading level0 col9\" >NU_NOTA_MT</th>        <th class=\"col_heading level0 col10\" >TP_STATUS_REDACAO</th>        <th class=\"col_heading level0 col11\" >NU_NOTA_COMP1</th>        <th class=\"col_heading level0 col12\" >NU_NOTA_COMP2</th>        <th class=\"col_heading level0 col13\" >NU_NOTA_COMP3</th>        <th class=\"col_heading level0 col14\" >NU_NOTA_COMP4</th>        <th class=\"col_heading level0 col15\" >NU_NOTA_COMP5</th>        <th class=\"col_heading level0 col16\" >NU_NOTA_REDACAO</th>        <th class=\"col_heading level0 col17\" >Q005</th>    </tr></thead><tbody>\n",
       "                <tr>\n",
       "                        <th id=\"T_76aaa30e_16f2_11eb_b61f_8c85906f6788level0_row0\" class=\"row_heading level0 row0\" >NU_IDADE</th>\n",
       "                        <td id=\"T_76aaa30e_16f2_11eb_b61f_8c85906f6788row0_col0\" class=\"data row0 col0\" >1.000000</td>\n",
       "                        <td id=\"T_76aaa30e_16f2_11eb_b61f_8c85906f6788row0_col1\" class=\"data row0 col1\" >0.056299</td>\n",
       "                        <td id=\"T_76aaa30e_16f2_11eb_b61f_8c85906f6788row0_col2\" class=\"data row0 col2\" >-0.312013</td>\n",
       "                        <td id=\"T_76aaa30e_16f2_11eb_b61f_8c85906f6788row0_col3\" class=\"data row0 col3\" >0.050912</td>\n",
       "                        <td id=\"T_76aaa30e_16f2_11eb_b61f_8c85906f6788row0_col4\" class=\"data row0 col4\" >0.002191</td>\n",
       "                        <td id=\"T_76aaa30e_16f2_11eb_b61f_8c85906f6788row0_col5\" class=\"data row0 col5\" >0.004075</td>\n",
       "                        <td id=\"T_76aaa30e_16f2_11eb_b61f_8c85906f6788row0_col6\" class=\"data row0 col6\" >-0.054437</td>\n",
       "                        <td id=\"T_76aaa30e_16f2_11eb_b61f_8c85906f6788row0_col7\" class=\"data row0 col7\" >-0.028107</td>\n",
       "                        <td id=\"T_76aaa30e_16f2_11eb_b61f_8c85906f6788row0_col8\" class=\"data row0 col8\" >-0.081902</td>\n",
       "                        <td id=\"T_76aaa30e_16f2_11eb_b61f_8c85906f6788row0_col9\" class=\"data row0 col9\" >-0.137160</td>\n",
       "                        <td id=\"T_76aaa30e_16f2_11eb_b61f_8c85906f6788row0_col10\" class=\"data row0 col10\" >0.056812</td>\n",
       "                        <td id=\"T_76aaa30e_16f2_11eb_b61f_8c85906f6788row0_col11\" class=\"data row0 col11\" >-0.137924</td>\n",
       "                        <td id=\"T_76aaa30e_16f2_11eb_b61f_8c85906f6788row0_col12\" class=\"data row0 col12\" >-0.130468</td>\n",
       "                        <td id=\"T_76aaa30e_16f2_11eb_b61f_8c85906f6788row0_col13\" class=\"data row0 col13\" >-0.142799</td>\n",
       "                        <td id=\"T_76aaa30e_16f2_11eb_b61f_8c85906f6788row0_col14\" class=\"data row0 col14\" >-0.171216</td>\n",
       "                        <td id=\"T_76aaa30e_16f2_11eb_b61f_8c85906f6788row0_col15\" class=\"data row0 col15\" >-0.149503</td>\n",
       "                        <td id=\"T_76aaa30e_16f2_11eb_b61f_8c85906f6788row0_col16\" class=\"data row0 col16\" >-0.166211</td>\n",
       "                        <td id=\"T_76aaa30e_16f2_11eb_b61f_8c85906f6788row0_col17\" class=\"data row0 col17\" >-0.133107</td>\n",
       "            </tr>\n",
       "            <tr>\n",
       "                        <th id=\"T_76aaa30e_16f2_11eb_b61f_8c85906f6788level0_row1\" class=\"row_heading level0 row1\" >TP_COR_RACA</th>\n",
       "                        <td id=\"T_76aaa30e_16f2_11eb_b61f_8c85906f6788row1_col0\" class=\"data row1 col0\" >0.056299</td>\n",
       "                        <td id=\"T_76aaa30e_16f2_11eb_b61f_8c85906f6788row1_col1\" class=\"data row1 col1\" >1.000000</td>\n",
       "                        <td id=\"T_76aaa30e_16f2_11eb_b61f_8c85906f6788row1_col2\" class=\"data row1 col2\" >-0.061916</td>\n",
       "                        <td id=\"T_76aaa30e_16f2_11eb_b61f_8c85906f6788row1_col3\" class=\"data row1 col3\" >0.003441</td>\n",
       "                        <td id=\"T_76aaa30e_16f2_11eb_b61f_8c85906f6788row1_col4\" class=\"data row1 col4\" >0.029767</td>\n",
       "                        <td id=\"T_76aaa30e_16f2_11eb_b61f_8c85906f6788row1_col5\" class=\"data row1 col5\" >-0.000361</td>\n",
       "                        <td id=\"T_76aaa30e_16f2_11eb_b61f_8c85906f6788row1_col6\" class=\"data row1 col6\" >-0.192881</td>\n",
       "                        <td id=\"T_76aaa30e_16f2_11eb_b61f_8c85906f6788row1_col7\" class=\"data row1 col7\" >-0.182989</td>\n",
       "                        <td id=\"T_76aaa30e_16f2_11eb_b61f_8c85906f6788row1_col8\" class=\"data row1 col8\" >-0.190353</td>\n",
       "                        <td id=\"T_76aaa30e_16f2_11eb_b61f_8c85906f6788row1_col9\" class=\"data row1 col9\" >-0.199233</td>\n",
       "                        <td id=\"T_76aaa30e_16f2_11eb_b61f_8c85906f6788row1_col10\" class=\"data row1 col10\" >0.035785</td>\n",
       "                        <td id=\"T_76aaa30e_16f2_11eb_b61f_8c85906f6788row1_col11\" class=\"data row1 col11\" >-0.123291</td>\n",
       "                        <td id=\"T_76aaa30e_16f2_11eb_b61f_8c85906f6788row1_col12\" class=\"data row1 col12\" >-0.097602</td>\n",
       "                        <td id=\"T_76aaa30e_16f2_11eb_b61f_8c85906f6788row1_col13\" class=\"data row1 col13\" >-0.113816</td>\n",
       "                        <td id=\"T_76aaa30e_16f2_11eb_b61f_8c85906f6788row1_col14\" class=\"data row1 col14\" >-0.107194</td>\n",
       "                        <td id=\"T_76aaa30e_16f2_11eb_b61f_8c85906f6788row1_col15\" class=\"data row1 col15\" >-0.111893</td>\n",
       "                        <td id=\"T_76aaa30e_16f2_11eb_b61f_8c85906f6788row1_col16\" class=\"data row1 col16\" >-0.125184</td>\n",
       "                        <td id=\"T_76aaa30e_16f2_11eb_b61f_8c85906f6788row1_col17\" class=\"data row1 col17\" >0.090262</td>\n",
       "            </tr>\n",
       "            <tr>\n",
       "                        <th id=\"T_76aaa30e_16f2_11eb_b61f_8c85906f6788level0_row2\" class=\"row_heading level0 row2\" >TP_ESCOLA</th>\n",
       "                        <td id=\"T_76aaa30e_16f2_11eb_b61f_8c85906f6788row2_col0\" class=\"data row2 col0\" >-0.312013</td>\n",
       "                        <td id=\"T_76aaa30e_16f2_11eb_b61f_8c85906f6788row2_col1\" class=\"data row2 col1\" >-0.061916</td>\n",
       "                        <td id=\"T_76aaa30e_16f2_11eb_b61f_8c85906f6788row2_col2\" class=\"data row2 col2\" >1.000000</td>\n",
       "                        <td id=\"T_76aaa30e_16f2_11eb_b61f_8c85906f6788row2_col3\" class=\"data row2 col3\" >-0.014592</td>\n",
       "                        <td id=\"T_76aaa30e_16f2_11eb_b61f_8c85906f6788row2_col4\" class=\"data row2 col4\" >-0.056233</td>\n",
       "                        <td id=\"T_76aaa30e_16f2_11eb_b61f_8c85906f6788row2_col5\" class=\"data row2 col5\" >-0.001668</td>\n",
       "                        <td id=\"T_76aaa30e_16f2_11eb_b61f_8c85906f6788row2_col6\" class=\"data row2 col6\" >0.051758</td>\n",
       "                        <td id=\"T_76aaa30e_16f2_11eb_b61f_8c85906f6788row2_col7\" class=\"data row2 col7\" >0.037647</td>\n",
       "                        <td id=\"T_76aaa30e_16f2_11eb_b61f_8c85906f6788row2_col8\" class=\"data row2 col8\" >0.032995</td>\n",
       "                        <td id=\"T_76aaa30e_16f2_11eb_b61f_8c85906f6788row2_col9\" class=\"data row2 col9\" >0.087477</td>\n",
       "                        <td id=\"T_76aaa30e_16f2_11eb_b61f_8c85906f6788row2_col10\" class=\"data row2 col10\" >-0.001214</td>\n",
       "                        <td id=\"T_76aaa30e_16f2_11eb_b61f_8c85906f6788row2_col11\" class=\"data row2 col11\" >0.050922</td>\n",
       "                        <td id=\"T_76aaa30e_16f2_11eb_b61f_8c85906f6788row2_col12\" class=\"data row2 col12\" >0.063593</td>\n",
       "                        <td id=\"T_76aaa30e_16f2_11eb_b61f_8c85906f6788row2_col13\" class=\"data row2 col13\" >0.060388</td>\n",
       "                        <td id=\"T_76aaa30e_16f2_11eb_b61f_8c85906f6788row2_col14\" class=\"data row2 col14\" >0.078487</td>\n",
       "                        <td id=\"T_76aaa30e_16f2_11eb_b61f_8c85906f6788row2_col15\" class=\"data row2 col15\" >0.085110</td>\n",
       "                        <td id=\"T_76aaa30e_16f2_11eb_b61f_8c85906f6788row2_col16\" class=\"data row2 col16\" >0.079033</td>\n",
       "                        <td id=\"T_76aaa30e_16f2_11eb_b61f_8c85906f6788row2_col17\" class=\"data row2 col17\" >0.060295</td>\n",
       "            </tr>\n",
       "            <tr>\n",
       "                        <th id=\"T_76aaa30e_16f2_11eb_b61f_8c85906f6788level0_row3\" class=\"row_heading level0 row3\" >TP_ENSINO</th>\n",
       "                        <td id=\"T_76aaa30e_16f2_11eb_b61f_8c85906f6788row3_col0\" class=\"data row3 col0\" >0.050912</td>\n",
       "                        <td id=\"T_76aaa30e_16f2_11eb_b61f_8c85906f6788row3_col1\" class=\"data row3 col1\" >0.003441</td>\n",
       "                        <td id=\"T_76aaa30e_16f2_11eb_b61f_8c85906f6788row3_col2\" class=\"data row3 col2\" >-0.014592</td>\n",
       "                        <td id=\"T_76aaa30e_16f2_11eb_b61f_8c85906f6788row3_col3\" class=\"data row3 col3\" >1.000000</td>\n",
       "                        <td id=\"T_76aaa30e_16f2_11eb_b61f_8c85906f6788row3_col4\" class=\"data row3 col4\" >0.006975</td>\n",
       "                        <td id=\"T_76aaa30e_16f2_11eb_b61f_8c85906f6788row3_col5\" class=\"data row3 col5\" >nan</td>\n",
       "                        <td id=\"T_76aaa30e_16f2_11eb_b61f_8c85906f6788row3_col6\" class=\"data row3 col6\" >-0.012364</td>\n",
       "                        <td id=\"T_76aaa30e_16f2_11eb_b61f_8c85906f6788row3_col7\" class=\"data row3 col7\" >-0.007841</td>\n",
       "                        <td id=\"T_76aaa30e_16f2_11eb_b61f_8c85906f6788row3_col8\" class=\"data row3 col8\" >-0.007816</td>\n",
       "                        <td id=\"T_76aaa30e_16f2_11eb_b61f_8c85906f6788row3_col9\" class=\"data row3 col9\" >-0.009408</td>\n",
       "                        <td id=\"T_76aaa30e_16f2_11eb_b61f_8c85906f6788row3_col10\" class=\"data row3 col10\" >0.006957</td>\n",
       "                        <td id=\"T_76aaa30e_16f2_11eb_b61f_8c85906f6788row3_col11\" class=\"data row3 col11\" >-0.017712</td>\n",
       "                        <td id=\"T_76aaa30e_16f2_11eb_b61f_8c85906f6788row3_col12\" class=\"data row3 col12\" >-0.012921</td>\n",
       "                        <td id=\"T_76aaa30e_16f2_11eb_b61f_8c85906f6788row3_col13\" class=\"data row3 col13\" >-0.014108</td>\n",
       "                        <td id=\"T_76aaa30e_16f2_11eb_b61f_8c85906f6788row3_col14\" class=\"data row3 col14\" >-0.022786</td>\n",
       "                        <td id=\"T_76aaa30e_16f2_11eb_b61f_8c85906f6788row3_col15\" class=\"data row3 col15\" >-0.016316</td>\n",
       "                        <td id=\"T_76aaa30e_16f2_11eb_b61f_8c85906f6788row3_col16\" class=\"data row3 col16\" >-0.018907</td>\n",
       "                        <td id=\"T_76aaa30e_16f2_11eb_b61f_8c85906f6788row3_col17\" class=\"data row3 col17\" >-0.009886</td>\n",
       "            </tr>\n",
       "            <tr>\n",
       "                        <th id=\"T_76aaa30e_16f2_11eb_b61f_8c85906f6788level0_row4\" class=\"row_heading level0 row4\" >TP_LOCALIZACAO_ESC</th>\n",
       "                        <td id=\"T_76aaa30e_16f2_11eb_b61f_8c85906f6788row4_col0\" class=\"data row4 col0\" >0.002191</td>\n",
       "                        <td id=\"T_76aaa30e_16f2_11eb_b61f_8c85906f6788row4_col1\" class=\"data row4 col1\" >0.029767</td>\n",
       "                        <td id=\"T_76aaa30e_16f2_11eb_b61f_8c85906f6788row4_col2\" class=\"data row4 col2\" >-0.056233</td>\n",
       "                        <td id=\"T_76aaa30e_16f2_11eb_b61f_8c85906f6788row4_col3\" class=\"data row4 col3\" >0.006975</td>\n",
       "                        <td id=\"T_76aaa30e_16f2_11eb_b61f_8c85906f6788row4_col4\" class=\"data row4 col4\" >1.000000</td>\n",
       "                        <td id=\"T_76aaa30e_16f2_11eb_b61f_8c85906f6788row4_col5\" class=\"data row4 col5\" >nan</td>\n",
       "                        <td id=\"T_76aaa30e_16f2_11eb_b61f_8c85906f6788row4_col6\" class=\"data row4 col6\" >-0.055524</td>\n",
       "                        <td id=\"T_76aaa30e_16f2_11eb_b61f_8c85906f6788row4_col7\" class=\"data row4 col7\" >-0.058897</td>\n",
       "                        <td id=\"T_76aaa30e_16f2_11eb_b61f_8c85906f6788row4_col8\" class=\"data row4 col8\" >-0.071608</td>\n",
       "                        <td id=\"T_76aaa30e_16f2_11eb_b61f_8c85906f6788row4_col9\" class=\"data row4 col9\" >-0.043341</td>\n",
       "                        <td id=\"T_76aaa30e_16f2_11eb_b61f_8c85906f6788row4_col10\" class=\"data row4 col10\" >0.027657</td>\n",
       "                        <td id=\"T_76aaa30e_16f2_11eb_b61f_8c85906f6788row4_col11\" class=\"data row4 col11\" >-0.052301</td>\n",
       "                        <td id=\"T_76aaa30e_16f2_11eb_b61f_8c85906f6788row4_col12\" class=\"data row4 col12\" >-0.044225</td>\n",
       "                        <td id=\"T_76aaa30e_16f2_11eb_b61f_8c85906f6788row4_col13\" class=\"data row4 col13\" >-0.048228</td>\n",
       "                        <td id=\"T_76aaa30e_16f2_11eb_b61f_8c85906f6788row4_col14\" class=\"data row4 col14\" >-0.042270</td>\n",
       "                        <td id=\"T_76aaa30e_16f2_11eb_b61f_8c85906f6788row4_col15\" class=\"data row4 col15\" >-0.041309</td>\n",
       "                        <td id=\"T_76aaa30e_16f2_11eb_b61f_8c85906f6788row4_col16\" class=\"data row4 col16\" >-0.050629</td>\n",
       "                        <td id=\"T_76aaa30e_16f2_11eb_b61f_8c85906f6788row4_col17\" class=\"data row4 col17\" >0.040050</td>\n",
       "            </tr>\n",
       "            <tr>\n",
       "                        <th id=\"T_76aaa30e_16f2_11eb_b61f_8c85906f6788level0_row5\" class=\"row_heading level0 row5\" >IN_CADEIRA_CANHOTO</th>\n",
       "                        <td id=\"T_76aaa30e_16f2_11eb_b61f_8c85906f6788row5_col0\" class=\"data row5 col0\" >0.004075</td>\n",
       "                        <td id=\"T_76aaa30e_16f2_11eb_b61f_8c85906f6788row5_col1\" class=\"data row5 col1\" >-0.000361</td>\n",
       "                        <td id=\"T_76aaa30e_16f2_11eb_b61f_8c85906f6788row5_col2\" class=\"data row5 col2\" >-0.001668</td>\n",
       "                        <td id=\"T_76aaa30e_16f2_11eb_b61f_8c85906f6788row5_col3\" class=\"data row5 col3\" >nan</td>\n",
       "                        <td id=\"T_76aaa30e_16f2_11eb_b61f_8c85906f6788row5_col4\" class=\"data row5 col4\" >nan</td>\n",
       "                        <td id=\"T_76aaa30e_16f2_11eb_b61f_8c85906f6788row5_col5\" class=\"data row5 col5\" >1.000000</td>\n",
       "                        <td id=\"T_76aaa30e_16f2_11eb_b61f_8c85906f6788row5_col6\" class=\"data row5 col6\" >nan</td>\n",
       "                        <td id=\"T_76aaa30e_16f2_11eb_b61f_8c85906f6788row5_col7\" class=\"data row5 col7\" >nan</td>\n",
       "                        <td id=\"T_76aaa30e_16f2_11eb_b61f_8c85906f6788row5_col8\" class=\"data row5 col8\" >nan</td>\n",
       "                        <td id=\"T_76aaa30e_16f2_11eb_b61f_8c85906f6788row5_col9\" class=\"data row5 col9\" >nan</td>\n",
       "                        <td id=\"T_76aaa30e_16f2_11eb_b61f_8c85906f6788row5_col10\" class=\"data row5 col10\" >nan</td>\n",
       "                        <td id=\"T_76aaa30e_16f2_11eb_b61f_8c85906f6788row5_col11\" class=\"data row5 col11\" >nan</td>\n",
       "                        <td id=\"T_76aaa30e_16f2_11eb_b61f_8c85906f6788row5_col12\" class=\"data row5 col12\" >nan</td>\n",
       "                        <td id=\"T_76aaa30e_16f2_11eb_b61f_8c85906f6788row5_col13\" class=\"data row5 col13\" >nan</td>\n",
       "                        <td id=\"T_76aaa30e_16f2_11eb_b61f_8c85906f6788row5_col14\" class=\"data row5 col14\" >nan</td>\n",
       "                        <td id=\"T_76aaa30e_16f2_11eb_b61f_8c85906f6788row5_col15\" class=\"data row5 col15\" >nan</td>\n",
       "                        <td id=\"T_76aaa30e_16f2_11eb_b61f_8c85906f6788row5_col16\" class=\"data row5 col16\" >nan</td>\n",
       "                        <td id=\"T_76aaa30e_16f2_11eb_b61f_8c85906f6788row5_col17\" class=\"data row5 col17\" >-0.003539</td>\n",
       "            </tr>\n",
       "            <tr>\n",
       "                        <th id=\"T_76aaa30e_16f2_11eb_b61f_8c85906f6788level0_row6\" class=\"row_heading level0 row6\" >NU_NOTA_CN</th>\n",
       "                        <td id=\"T_76aaa30e_16f2_11eb_b61f_8c85906f6788row6_col0\" class=\"data row6 col0\" >-0.054437</td>\n",
       "                        <td id=\"T_76aaa30e_16f2_11eb_b61f_8c85906f6788row6_col1\" class=\"data row6 col1\" >-0.192881</td>\n",
       "                        <td id=\"T_76aaa30e_16f2_11eb_b61f_8c85906f6788row6_col2\" class=\"data row6 col2\" >0.051758</td>\n",
       "                        <td id=\"T_76aaa30e_16f2_11eb_b61f_8c85906f6788row6_col3\" class=\"data row6 col3\" >-0.012364</td>\n",
       "                        <td id=\"T_76aaa30e_16f2_11eb_b61f_8c85906f6788row6_col4\" class=\"data row6 col4\" >-0.055524</td>\n",
       "                        <td id=\"T_76aaa30e_16f2_11eb_b61f_8c85906f6788row6_col5\" class=\"data row6 col5\" >nan</td>\n",
       "                        <td id=\"T_76aaa30e_16f2_11eb_b61f_8c85906f6788row6_col6\" class=\"data row6 col6\" >1.000000</td>\n",
       "                        <td id=\"T_76aaa30e_16f2_11eb_b61f_8c85906f6788row6_col7\" class=\"data row6 col7\" >0.669259</td>\n",
       "                        <td id=\"T_76aaa30e_16f2_11eb_b61f_8c85906f6788row6_col8\" class=\"data row6 col8\" >0.641998</td>\n",
       "                        <td id=\"T_76aaa30e_16f2_11eb_b61f_8c85906f6788row6_col9\" class=\"data row6 col9\" >0.650055</td>\n",
       "                        <td id=\"T_76aaa30e_16f2_11eb_b61f_8c85906f6788row6_col10\" class=\"data row6 col10\" >-0.105392</td>\n",
       "                        <td id=\"T_76aaa30e_16f2_11eb_b61f_8c85906f6788row6_col11\" class=\"data row6 col11\" >0.430355</td>\n",
       "                        <td id=\"T_76aaa30e_16f2_11eb_b61f_8c85906f6788row6_col12\" class=\"data row6 col12\" >0.411399</td>\n",
       "                        <td id=\"T_76aaa30e_16f2_11eb_b61f_8c85906f6788row6_col13\" class=\"data row6 col13\" >0.465166</td>\n",
       "                        <td id=\"T_76aaa30e_16f2_11eb_b61f_8c85906f6788row6_col14\" class=\"data row6 col14\" >0.440447</td>\n",
       "                        <td id=\"T_76aaa30e_16f2_11eb_b61f_8c85906f6788row6_col15\" class=\"data row6 col15\" >0.457013</td>\n",
       "                        <td id=\"T_76aaa30e_16f2_11eb_b61f_8c85906f6788row6_col16\" class=\"data row6 col16\" >0.504903</td>\n",
       "                        <td id=\"T_76aaa30e_16f2_11eb_b61f_8c85906f6788row6_col17\" class=\"data row6 col17\" >-0.096046</td>\n",
       "            </tr>\n",
       "            <tr>\n",
       "                        <th id=\"T_76aaa30e_16f2_11eb_b61f_8c85906f6788level0_row7\" class=\"row_heading level0 row7\" >NU_NOTA_CH</th>\n",
       "                        <td id=\"T_76aaa30e_16f2_11eb_b61f_8c85906f6788row7_col0\" class=\"data row7 col0\" >-0.028107</td>\n",
       "                        <td id=\"T_76aaa30e_16f2_11eb_b61f_8c85906f6788row7_col1\" class=\"data row7 col1\" >-0.182989</td>\n",
       "                        <td id=\"T_76aaa30e_16f2_11eb_b61f_8c85906f6788row7_col2\" class=\"data row7 col2\" >0.037647</td>\n",
       "                        <td id=\"T_76aaa30e_16f2_11eb_b61f_8c85906f6788row7_col3\" class=\"data row7 col3\" >-0.007841</td>\n",
       "                        <td id=\"T_76aaa30e_16f2_11eb_b61f_8c85906f6788row7_col4\" class=\"data row7 col4\" >-0.058897</td>\n",
       "                        <td id=\"T_76aaa30e_16f2_11eb_b61f_8c85906f6788row7_col5\" class=\"data row7 col5\" >nan</td>\n",
       "                        <td id=\"T_76aaa30e_16f2_11eb_b61f_8c85906f6788row7_col6\" class=\"data row7 col6\" >0.669259</td>\n",
       "                        <td id=\"T_76aaa30e_16f2_11eb_b61f_8c85906f6788row7_col7\" class=\"data row7 col7\" >1.000000</td>\n",
       "                        <td id=\"T_76aaa30e_16f2_11eb_b61f_8c85906f6788row7_col8\" class=\"data row7 col8\" >0.748844</td>\n",
       "                        <td id=\"T_76aaa30e_16f2_11eb_b61f_8c85906f6788row7_col9\" class=\"data row7 col9\" >0.610570</td>\n",
       "                        <td id=\"T_76aaa30e_16f2_11eb_b61f_8c85906f6788row7_col10\" class=\"data row7 col10\" >-0.162885</td>\n",
       "                        <td id=\"T_76aaa30e_16f2_11eb_b61f_8c85906f6788row7_col11\" class=\"data row7 col11\" >0.468723</td>\n",
       "                        <td id=\"T_76aaa30e_16f2_11eb_b61f_8c85906f6788row7_col12\" class=\"data row7 col12\" >0.437303</td>\n",
       "                        <td id=\"T_76aaa30e_16f2_11eb_b61f_8c85906f6788row7_col13\" class=\"data row7 col13\" >0.491154</td>\n",
       "                        <td id=\"T_76aaa30e_16f2_11eb_b61f_8c85906f6788row7_col14\" class=\"data row7 col14\" >0.460272</td>\n",
       "                        <td id=\"T_76aaa30e_16f2_11eb_b61f_8c85906f6788row7_col15\" class=\"data row7 col15\" >0.478832</td>\n",
       "                        <td id=\"T_76aaa30e_16f2_11eb_b61f_8c85906f6788row7_col16\" class=\"data row7 col16\" >0.530950</td>\n",
       "                        <td id=\"T_76aaa30e_16f2_11eb_b61f_8c85906f6788row7_col17\" class=\"data row7 col17\" >-0.104263</td>\n",
       "            </tr>\n",
       "            <tr>\n",
       "                        <th id=\"T_76aaa30e_16f2_11eb_b61f_8c85906f6788level0_row8\" class=\"row_heading level0 row8\" >NU_NOTA_LC</th>\n",
       "                        <td id=\"T_76aaa30e_16f2_11eb_b61f_8c85906f6788row8_col0\" class=\"data row8 col0\" >-0.081902</td>\n",
       "                        <td id=\"T_76aaa30e_16f2_11eb_b61f_8c85906f6788row8_col1\" class=\"data row8 col1\" >-0.190353</td>\n",
       "                        <td id=\"T_76aaa30e_16f2_11eb_b61f_8c85906f6788row8_col2\" class=\"data row8 col2\" >0.032995</td>\n",
       "                        <td id=\"T_76aaa30e_16f2_11eb_b61f_8c85906f6788row8_col3\" class=\"data row8 col3\" >-0.007816</td>\n",
       "                        <td id=\"T_76aaa30e_16f2_11eb_b61f_8c85906f6788row8_col4\" class=\"data row8 col4\" >-0.071608</td>\n",
       "                        <td id=\"T_76aaa30e_16f2_11eb_b61f_8c85906f6788row8_col5\" class=\"data row8 col5\" >nan</td>\n",
       "                        <td id=\"T_76aaa30e_16f2_11eb_b61f_8c85906f6788row8_col6\" class=\"data row8 col6\" >0.641998</td>\n",
       "                        <td id=\"T_76aaa30e_16f2_11eb_b61f_8c85906f6788row8_col7\" class=\"data row8 col7\" >0.748844</td>\n",
       "                        <td id=\"T_76aaa30e_16f2_11eb_b61f_8c85906f6788row8_col8\" class=\"data row8 col8\" >1.000000</td>\n",
       "                        <td id=\"T_76aaa30e_16f2_11eb_b61f_8c85906f6788row8_col9\" class=\"data row8 col9\" >0.587986</td>\n",
       "                        <td id=\"T_76aaa30e_16f2_11eb_b61f_8c85906f6788row8_col10\" class=\"data row8 col10\" >-0.181848</td>\n",
       "                        <td id=\"T_76aaa30e_16f2_11eb_b61f_8c85906f6788row8_col11\" class=\"data row8 col11\" >0.492001</td>\n",
       "                        <td id=\"T_76aaa30e_16f2_11eb_b61f_8c85906f6788row8_col12\" class=\"data row8 col12\" >0.438303</td>\n",
       "                        <td id=\"T_76aaa30e_16f2_11eb_b61f_8c85906f6788row8_col13\" class=\"data row8 col13\" >0.497266</td>\n",
       "                        <td id=\"T_76aaa30e_16f2_11eb_b61f_8c85906f6788row8_col14\" class=\"data row8 col14\" >0.464610</td>\n",
       "                        <td id=\"T_76aaa30e_16f2_11eb_b61f_8c85906f6788row8_col15\" class=\"data row8 col15\" >0.479532</td>\n",
       "                        <td id=\"T_76aaa30e_16f2_11eb_b61f_8c85906f6788row8_col16\" class=\"data row8 col16\" >0.537690</td>\n",
       "                        <td id=\"T_76aaa30e_16f2_11eb_b61f_8c85906f6788row8_col17\" class=\"data row8 col17\" >-0.109597</td>\n",
       "            </tr>\n",
       "            <tr>\n",
       "                        <th id=\"T_76aaa30e_16f2_11eb_b61f_8c85906f6788level0_row9\" class=\"row_heading level0 row9\" >NU_NOTA_MT</th>\n",
       "                        <td id=\"T_76aaa30e_16f2_11eb_b61f_8c85906f6788row9_col0\" class=\"data row9 col0\" >-0.137160</td>\n",
       "                        <td id=\"T_76aaa30e_16f2_11eb_b61f_8c85906f6788row9_col1\" class=\"data row9 col1\" >-0.199233</td>\n",
       "                        <td id=\"T_76aaa30e_16f2_11eb_b61f_8c85906f6788row9_col2\" class=\"data row9 col2\" >0.087477</td>\n",
       "                        <td id=\"T_76aaa30e_16f2_11eb_b61f_8c85906f6788row9_col3\" class=\"data row9 col3\" >-0.009408</td>\n",
       "                        <td id=\"T_76aaa30e_16f2_11eb_b61f_8c85906f6788row9_col4\" class=\"data row9 col4\" >-0.043341</td>\n",
       "                        <td id=\"T_76aaa30e_16f2_11eb_b61f_8c85906f6788row9_col5\" class=\"data row9 col5\" >nan</td>\n",
       "                        <td id=\"T_76aaa30e_16f2_11eb_b61f_8c85906f6788row9_col6\" class=\"data row9 col6\" >0.650055</td>\n",
       "                        <td id=\"T_76aaa30e_16f2_11eb_b61f_8c85906f6788row9_col7\" class=\"data row9 col7\" >0.610570</td>\n",
       "                        <td id=\"T_76aaa30e_16f2_11eb_b61f_8c85906f6788row9_col8\" class=\"data row9 col8\" >0.587986</td>\n",
       "                        <td id=\"T_76aaa30e_16f2_11eb_b61f_8c85906f6788row9_col9\" class=\"data row9 col9\" >1.000000</td>\n",
       "                        <td id=\"T_76aaa30e_16f2_11eb_b61f_8c85906f6788row9_col10\" class=\"data row9 col10\" >-0.101937</td>\n",
       "                        <td id=\"T_76aaa30e_16f2_11eb_b61f_8c85906f6788row9_col11\" class=\"data row9 col11\" >0.425793</td>\n",
       "                        <td id=\"T_76aaa30e_16f2_11eb_b61f_8c85906f6788row9_col12\" class=\"data row9 col12\" >0.398999</td>\n",
       "                        <td id=\"T_76aaa30e_16f2_11eb_b61f_8c85906f6788row9_col13\" class=\"data row9 col13\" >0.451353</td>\n",
       "                        <td id=\"T_76aaa30e_16f2_11eb_b61f_8c85906f6788row9_col14\" class=\"data row9 col14\" >0.436736</td>\n",
       "                        <td id=\"T_76aaa30e_16f2_11eb_b61f_8c85906f6788row9_col15\" class=\"data row9 col15\" >0.443501</td>\n",
       "                        <td id=\"T_76aaa30e_16f2_11eb_b61f_8c85906f6788row9_col16\" class=\"data row9 col16\" >0.493200</td>\n",
       "                        <td id=\"T_76aaa30e_16f2_11eb_b61f_8c85906f6788row9_col17\" class=\"data row9 col17\" >-0.074493</td>\n",
       "            </tr>\n",
       "            <tr>\n",
       "                        <th id=\"T_76aaa30e_16f2_11eb_b61f_8c85906f6788level0_row10\" class=\"row_heading level0 row10\" >TP_STATUS_REDACAO</th>\n",
       "                        <td id=\"T_76aaa30e_16f2_11eb_b61f_8c85906f6788row10_col0\" class=\"data row10 col0\" >0.056812</td>\n",
       "                        <td id=\"T_76aaa30e_16f2_11eb_b61f_8c85906f6788row10_col1\" class=\"data row10 col1\" >0.035785</td>\n",
       "                        <td id=\"T_76aaa30e_16f2_11eb_b61f_8c85906f6788row10_col2\" class=\"data row10 col2\" >-0.001214</td>\n",
       "                        <td id=\"T_76aaa30e_16f2_11eb_b61f_8c85906f6788row10_col3\" class=\"data row10 col3\" >0.006957</td>\n",
       "                        <td id=\"T_76aaa30e_16f2_11eb_b61f_8c85906f6788row10_col4\" class=\"data row10 col4\" >0.027657</td>\n",
       "                        <td id=\"T_76aaa30e_16f2_11eb_b61f_8c85906f6788row10_col5\" class=\"data row10 col5\" >nan</td>\n",
       "                        <td id=\"T_76aaa30e_16f2_11eb_b61f_8c85906f6788row10_col6\" class=\"data row10 col6\" >-0.105392</td>\n",
       "                        <td id=\"T_76aaa30e_16f2_11eb_b61f_8c85906f6788row10_col7\" class=\"data row10 col7\" >-0.162885</td>\n",
       "                        <td id=\"T_76aaa30e_16f2_11eb_b61f_8c85906f6788row10_col8\" class=\"data row10 col8\" >-0.181848</td>\n",
       "                        <td id=\"T_76aaa30e_16f2_11eb_b61f_8c85906f6788row10_col9\" class=\"data row10 col9\" >-0.101937</td>\n",
       "                        <td id=\"T_76aaa30e_16f2_11eb_b61f_8c85906f6788row10_col10\" class=\"data row10 col10\" >1.000000</td>\n",
       "                        <td id=\"T_76aaa30e_16f2_11eb_b61f_8c85906f6788row10_col11\" class=\"data row10 col11\" >-0.635001</td>\n",
       "                        <td id=\"T_76aaa30e_16f2_11eb_b61f_8c85906f6788row10_col12\" class=\"data row10 col12\" >-0.503121</td>\n",
       "                        <td id=\"T_76aaa30e_16f2_11eb_b61f_8c85906f6788row10_col13\" class=\"data row10 col13\" >-0.502713</td>\n",
       "                        <td id=\"T_76aaa30e_16f2_11eb_b61f_8c85906f6788row10_col14\" class=\"data row10 col14\" >-0.561519</td>\n",
       "                        <td id=\"T_76aaa30e_16f2_11eb_b61f_8c85906f6788row10_col15\" class=\"data row10 col15\" >-0.269932</td>\n",
       "                        <td id=\"T_76aaa30e_16f2_11eb_b61f_8c85906f6788row10_col16\" class=\"data row10 col16\" >-0.532256</td>\n",
       "                        <td id=\"T_76aaa30e_16f2_11eb_b61f_8c85906f6788row10_col17\" class=\"data row10 col17\" >0.018196</td>\n",
       "            </tr>\n",
       "            <tr>\n",
       "                        <th id=\"T_76aaa30e_16f2_11eb_b61f_8c85906f6788level0_row11\" class=\"row_heading level0 row11\" >NU_NOTA_COMP1</th>\n",
       "                        <td id=\"T_76aaa30e_16f2_11eb_b61f_8c85906f6788row11_col0\" class=\"data row11 col0\" >-0.137924</td>\n",
       "                        <td id=\"T_76aaa30e_16f2_11eb_b61f_8c85906f6788row11_col1\" class=\"data row11 col1\" >-0.123291</td>\n",
       "                        <td id=\"T_76aaa30e_16f2_11eb_b61f_8c85906f6788row11_col2\" class=\"data row11 col2\" >0.050922</td>\n",
       "                        <td id=\"T_76aaa30e_16f2_11eb_b61f_8c85906f6788row11_col3\" class=\"data row11 col3\" >-0.017712</td>\n",
       "                        <td id=\"T_76aaa30e_16f2_11eb_b61f_8c85906f6788row11_col4\" class=\"data row11 col4\" >-0.052301</td>\n",
       "                        <td id=\"T_76aaa30e_16f2_11eb_b61f_8c85906f6788row11_col5\" class=\"data row11 col5\" >nan</td>\n",
       "                        <td id=\"T_76aaa30e_16f2_11eb_b61f_8c85906f6788row11_col6\" class=\"data row11 col6\" >0.430355</td>\n",
       "                        <td id=\"T_76aaa30e_16f2_11eb_b61f_8c85906f6788row11_col7\" class=\"data row11 col7\" >0.468723</td>\n",
       "                        <td id=\"T_76aaa30e_16f2_11eb_b61f_8c85906f6788row11_col8\" class=\"data row11 col8\" >0.492001</td>\n",
       "                        <td id=\"T_76aaa30e_16f2_11eb_b61f_8c85906f6788row11_col9\" class=\"data row11 col9\" >0.425793</td>\n",
       "                        <td id=\"T_76aaa30e_16f2_11eb_b61f_8c85906f6788row11_col10\" class=\"data row11 col10\" >-0.635001</td>\n",
       "                        <td id=\"T_76aaa30e_16f2_11eb_b61f_8c85906f6788row11_col11\" class=\"data row11 col11\" >1.000000</td>\n",
       "                        <td id=\"T_76aaa30e_16f2_11eb_b61f_8c85906f6788row11_col12\" class=\"data row11 col12\" >0.705254</td>\n",
       "                        <td id=\"T_76aaa30e_16f2_11eb_b61f_8c85906f6788row11_col13\" class=\"data row11 col13\" >0.782854</td>\n",
       "                        <td id=\"T_76aaa30e_16f2_11eb_b61f_8c85906f6788row11_col14\" class=\"data row11 col14\" >0.826159</td>\n",
       "                        <td id=\"T_76aaa30e_16f2_11eb_b61f_8c85906f6788row11_col15\" class=\"data row11 col15\" >0.572142</td>\n",
       "                        <td id=\"T_76aaa30e_16f2_11eb_b61f_8c85906f6788row11_col16\" class=\"data row11 col16\" >0.851214</td>\n",
       "                        <td id=\"T_76aaa30e_16f2_11eb_b61f_8c85906f6788row11_col17\" class=\"data row11 col17\" >-0.060692</td>\n",
       "            </tr>\n",
       "            <tr>\n",
       "                        <th id=\"T_76aaa30e_16f2_11eb_b61f_8c85906f6788level0_row12\" class=\"row_heading level0 row12\" >NU_NOTA_COMP2</th>\n",
       "                        <td id=\"T_76aaa30e_16f2_11eb_b61f_8c85906f6788row12_col0\" class=\"data row12 col0\" >-0.130468</td>\n",
       "                        <td id=\"T_76aaa30e_16f2_11eb_b61f_8c85906f6788row12_col1\" class=\"data row12 col1\" >-0.097602</td>\n",
       "                        <td id=\"T_76aaa30e_16f2_11eb_b61f_8c85906f6788row12_col2\" class=\"data row12 col2\" >0.063593</td>\n",
       "                        <td id=\"T_76aaa30e_16f2_11eb_b61f_8c85906f6788row12_col3\" class=\"data row12 col3\" >-0.012921</td>\n",
       "                        <td id=\"T_76aaa30e_16f2_11eb_b61f_8c85906f6788row12_col4\" class=\"data row12 col4\" >-0.044225</td>\n",
       "                        <td id=\"T_76aaa30e_16f2_11eb_b61f_8c85906f6788row12_col5\" class=\"data row12 col5\" >nan</td>\n",
       "                        <td id=\"T_76aaa30e_16f2_11eb_b61f_8c85906f6788row12_col6\" class=\"data row12 col6\" >0.411399</td>\n",
       "                        <td id=\"T_76aaa30e_16f2_11eb_b61f_8c85906f6788row12_col7\" class=\"data row12 col7\" >0.437303</td>\n",
       "                        <td id=\"T_76aaa30e_16f2_11eb_b61f_8c85906f6788row12_col8\" class=\"data row12 col8\" >0.438303</td>\n",
       "                        <td id=\"T_76aaa30e_16f2_11eb_b61f_8c85906f6788row12_col9\" class=\"data row12 col9\" >0.398999</td>\n",
       "                        <td id=\"T_76aaa30e_16f2_11eb_b61f_8c85906f6788row12_col10\" class=\"data row12 col10\" >-0.503121</td>\n",
       "                        <td id=\"T_76aaa30e_16f2_11eb_b61f_8c85906f6788row12_col11\" class=\"data row12 col11\" >0.705254</td>\n",
       "                        <td id=\"T_76aaa30e_16f2_11eb_b61f_8c85906f6788row12_col12\" class=\"data row12 col12\" >1.000000</td>\n",
       "                        <td id=\"T_76aaa30e_16f2_11eb_b61f_8c85906f6788row12_col13\" class=\"data row12 col13\" >0.863526</td>\n",
       "                        <td id=\"T_76aaa30e_16f2_11eb_b61f_8c85906f6788row12_col14\" class=\"data row12 col14\" >0.739897</td>\n",
       "                        <td id=\"T_76aaa30e_16f2_11eb_b61f_8c85906f6788row12_col15\" class=\"data row12 col15\" >0.657280</td>\n",
       "                        <td id=\"T_76aaa30e_16f2_11eb_b61f_8c85906f6788row12_col16\" class=\"data row12 col16\" >0.892802</td>\n",
       "                        <td id=\"T_76aaa30e_16f2_11eb_b61f_8c85906f6788row12_col17\" class=\"data row12 col17\" >-0.045431</td>\n",
       "            </tr>\n",
       "            <tr>\n",
       "                        <th id=\"T_76aaa30e_16f2_11eb_b61f_8c85906f6788level0_row13\" class=\"row_heading level0 row13\" >NU_NOTA_COMP3</th>\n",
       "                        <td id=\"T_76aaa30e_16f2_11eb_b61f_8c85906f6788row13_col0\" class=\"data row13 col0\" >-0.142799</td>\n",
       "                        <td id=\"T_76aaa30e_16f2_11eb_b61f_8c85906f6788row13_col1\" class=\"data row13 col1\" >-0.113816</td>\n",
       "                        <td id=\"T_76aaa30e_16f2_11eb_b61f_8c85906f6788row13_col2\" class=\"data row13 col2\" >0.060388</td>\n",
       "                        <td id=\"T_76aaa30e_16f2_11eb_b61f_8c85906f6788row13_col3\" class=\"data row13 col3\" >-0.014108</td>\n",
       "                        <td id=\"T_76aaa30e_16f2_11eb_b61f_8c85906f6788row13_col4\" class=\"data row13 col4\" >-0.048228</td>\n",
       "                        <td id=\"T_76aaa30e_16f2_11eb_b61f_8c85906f6788row13_col5\" class=\"data row13 col5\" >nan</td>\n",
       "                        <td id=\"T_76aaa30e_16f2_11eb_b61f_8c85906f6788row13_col6\" class=\"data row13 col6\" >0.465166</td>\n",
       "                        <td id=\"T_76aaa30e_16f2_11eb_b61f_8c85906f6788row13_col7\" class=\"data row13 col7\" >0.491154</td>\n",
       "                        <td id=\"T_76aaa30e_16f2_11eb_b61f_8c85906f6788row13_col8\" class=\"data row13 col8\" >0.497266</td>\n",
       "                        <td id=\"T_76aaa30e_16f2_11eb_b61f_8c85906f6788row13_col9\" class=\"data row13 col9\" >0.451353</td>\n",
       "                        <td id=\"T_76aaa30e_16f2_11eb_b61f_8c85906f6788row13_col10\" class=\"data row13 col10\" >-0.502713</td>\n",
       "                        <td id=\"T_76aaa30e_16f2_11eb_b61f_8c85906f6788row13_col11\" class=\"data row13 col11\" >0.782854</td>\n",
       "                        <td id=\"T_76aaa30e_16f2_11eb_b61f_8c85906f6788row13_col12\" class=\"data row13 col12\" >0.863526</td>\n",
       "                        <td id=\"T_76aaa30e_16f2_11eb_b61f_8c85906f6788row13_col13\" class=\"data row13 col13\" >1.000000</td>\n",
       "                        <td id=\"T_76aaa30e_16f2_11eb_b61f_8c85906f6788row13_col14\" class=\"data row13 col14\" >0.811689</td>\n",
       "                        <td id=\"T_76aaa30e_16f2_11eb_b61f_8c85906f6788row13_col15\" class=\"data row13 col15\" >0.708674</td>\n",
       "                        <td id=\"T_76aaa30e_16f2_11eb_b61f_8c85906f6788row13_col16\" class=\"data row13 col16\" >0.935235</td>\n",
       "                        <td id=\"T_76aaa30e_16f2_11eb_b61f_8c85906f6788row13_col17\" class=\"data row13 col17\" >-0.053220</td>\n",
       "            </tr>\n",
       "            <tr>\n",
       "                        <th id=\"T_76aaa30e_16f2_11eb_b61f_8c85906f6788level0_row14\" class=\"row_heading level0 row14\" >NU_NOTA_COMP4</th>\n",
       "                        <td id=\"T_76aaa30e_16f2_11eb_b61f_8c85906f6788row14_col0\" class=\"data row14 col0\" >-0.171216</td>\n",
       "                        <td id=\"T_76aaa30e_16f2_11eb_b61f_8c85906f6788row14_col1\" class=\"data row14 col1\" >-0.107194</td>\n",
       "                        <td id=\"T_76aaa30e_16f2_11eb_b61f_8c85906f6788row14_col2\" class=\"data row14 col2\" >0.078487</td>\n",
       "                        <td id=\"T_76aaa30e_16f2_11eb_b61f_8c85906f6788row14_col3\" class=\"data row14 col3\" >-0.022786</td>\n",
       "                        <td id=\"T_76aaa30e_16f2_11eb_b61f_8c85906f6788row14_col4\" class=\"data row14 col4\" >-0.042270</td>\n",
       "                        <td id=\"T_76aaa30e_16f2_11eb_b61f_8c85906f6788row14_col5\" class=\"data row14 col5\" >nan</td>\n",
       "                        <td id=\"T_76aaa30e_16f2_11eb_b61f_8c85906f6788row14_col6\" class=\"data row14 col6\" >0.440447</td>\n",
       "                        <td id=\"T_76aaa30e_16f2_11eb_b61f_8c85906f6788row14_col7\" class=\"data row14 col7\" >0.460272</td>\n",
       "                        <td id=\"T_76aaa30e_16f2_11eb_b61f_8c85906f6788row14_col8\" class=\"data row14 col8\" >0.464610</td>\n",
       "                        <td id=\"T_76aaa30e_16f2_11eb_b61f_8c85906f6788row14_col9\" class=\"data row14 col9\" >0.436736</td>\n",
       "                        <td id=\"T_76aaa30e_16f2_11eb_b61f_8c85906f6788row14_col10\" class=\"data row14 col10\" >-0.561519</td>\n",
       "                        <td id=\"T_76aaa30e_16f2_11eb_b61f_8c85906f6788row14_col11\" class=\"data row14 col11\" >0.826159</td>\n",
       "                        <td id=\"T_76aaa30e_16f2_11eb_b61f_8c85906f6788row14_col12\" class=\"data row14 col12\" >0.739897</td>\n",
       "                        <td id=\"T_76aaa30e_16f2_11eb_b61f_8c85906f6788row14_col13\" class=\"data row14 col13\" >0.811689</td>\n",
       "                        <td id=\"T_76aaa30e_16f2_11eb_b61f_8c85906f6788row14_col14\" class=\"data row14 col14\" >1.000000</td>\n",
       "                        <td id=\"T_76aaa30e_16f2_11eb_b61f_8c85906f6788row14_col15\" class=\"data row14 col15\" >0.642501</td>\n",
       "                        <td id=\"T_76aaa30e_16f2_11eb_b61f_8c85906f6788row14_col16\" class=\"data row14 col16\" >0.891793</td>\n",
       "                        <td id=\"T_76aaa30e_16f2_11eb_b61f_8c85906f6788row14_col17\" class=\"data row14 col17\" >-0.041811</td>\n",
       "            </tr>\n",
       "            <tr>\n",
       "                        <th id=\"T_76aaa30e_16f2_11eb_b61f_8c85906f6788level0_row15\" class=\"row_heading level0 row15\" >NU_NOTA_COMP5</th>\n",
       "                        <td id=\"T_76aaa30e_16f2_11eb_b61f_8c85906f6788row15_col0\" class=\"data row15 col0\" >-0.149503</td>\n",
       "                        <td id=\"T_76aaa30e_16f2_11eb_b61f_8c85906f6788row15_col1\" class=\"data row15 col1\" >-0.111893</td>\n",
       "                        <td id=\"T_76aaa30e_16f2_11eb_b61f_8c85906f6788row15_col2\" class=\"data row15 col2\" >0.085110</td>\n",
       "                        <td id=\"T_76aaa30e_16f2_11eb_b61f_8c85906f6788row15_col3\" class=\"data row15 col3\" >-0.016316</td>\n",
       "                        <td id=\"T_76aaa30e_16f2_11eb_b61f_8c85906f6788row15_col4\" class=\"data row15 col4\" >-0.041309</td>\n",
       "                        <td id=\"T_76aaa30e_16f2_11eb_b61f_8c85906f6788row15_col5\" class=\"data row15 col5\" >nan</td>\n",
       "                        <td id=\"T_76aaa30e_16f2_11eb_b61f_8c85906f6788row15_col6\" class=\"data row15 col6\" >0.457013</td>\n",
       "                        <td id=\"T_76aaa30e_16f2_11eb_b61f_8c85906f6788row15_col7\" class=\"data row15 col7\" >0.478832</td>\n",
       "                        <td id=\"T_76aaa30e_16f2_11eb_b61f_8c85906f6788row15_col8\" class=\"data row15 col8\" >0.479532</td>\n",
       "                        <td id=\"T_76aaa30e_16f2_11eb_b61f_8c85906f6788row15_col9\" class=\"data row15 col9\" >0.443501</td>\n",
       "                        <td id=\"T_76aaa30e_16f2_11eb_b61f_8c85906f6788row15_col10\" class=\"data row15 col10\" >-0.269932</td>\n",
       "                        <td id=\"T_76aaa30e_16f2_11eb_b61f_8c85906f6788row15_col11\" class=\"data row15 col11\" >0.572142</td>\n",
       "                        <td id=\"T_76aaa30e_16f2_11eb_b61f_8c85906f6788row15_col12\" class=\"data row15 col12\" >0.657280</td>\n",
       "                        <td id=\"T_76aaa30e_16f2_11eb_b61f_8c85906f6788row15_col13\" class=\"data row15 col13\" >0.708674</td>\n",
       "                        <td id=\"T_76aaa30e_16f2_11eb_b61f_8c85906f6788row15_col14\" class=\"data row15 col14\" >0.642501</td>\n",
       "                        <td id=\"T_76aaa30e_16f2_11eb_b61f_8c85906f6788row15_col15\" class=\"data row15 col15\" >1.000000</td>\n",
       "                        <td id=\"T_76aaa30e_16f2_11eb_b61f_8c85906f6788row15_col16\" class=\"data row15 col16\" >0.846894</td>\n",
       "                        <td id=\"T_76aaa30e_16f2_11eb_b61f_8c85906f6788row15_col17\" class=\"data row15 col17\" >-0.046722</td>\n",
       "            </tr>\n",
       "            <tr>\n",
       "                        <th id=\"T_76aaa30e_16f2_11eb_b61f_8c85906f6788level0_row16\" class=\"row_heading level0 row16\" >NU_NOTA_REDACAO</th>\n",
       "                        <td id=\"T_76aaa30e_16f2_11eb_b61f_8c85906f6788row16_col0\" class=\"data row16 col0\" >-0.166211</td>\n",
       "                        <td id=\"T_76aaa30e_16f2_11eb_b61f_8c85906f6788row16_col1\" class=\"data row16 col1\" >-0.125184</td>\n",
       "                        <td id=\"T_76aaa30e_16f2_11eb_b61f_8c85906f6788row16_col2\" class=\"data row16 col2\" >0.079033</td>\n",
       "                        <td id=\"T_76aaa30e_16f2_11eb_b61f_8c85906f6788row16_col3\" class=\"data row16 col3\" >-0.018907</td>\n",
       "                        <td id=\"T_76aaa30e_16f2_11eb_b61f_8c85906f6788row16_col4\" class=\"data row16 col4\" >-0.050629</td>\n",
       "                        <td id=\"T_76aaa30e_16f2_11eb_b61f_8c85906f6788row16_col5\" class=\"data row16 col5\" >nan</td>\n",
       "                        <td id=\"T_76aaa30e_16f2_11eb_b61f_8c85906f6788row16_col6\" class=\"data row16 col6\" >0.504903</td>\n",
       "                        <td id=\"T_76aaa30e_16f2_11eb_b61f_8c85906f6788row16_col7\" class=\"data row16 col7\" >0.530950</td>\n",
       "                        <td id=\"T_76aaa30e_16f2_11eb_b61f_8c85906f6788row16_col8\" class=\"data row16 col8\" >0.537690</td>\n",
       "                        <td id=\"T_76aaa30e_16f2_11eb_b61f_8c85906f6788row16_col9\" class=\"data row16 col9\" >0.493200</td>\n",
       "                        <td id=\"T_76aaa30e_16f2_11eb_b61f_8c85906f6788row16_col10\" class=\"data row16 col10\" >-0.532256</td>\n",
       "                        <td id=\"T_76aaa30e_16f2_11eb_b61f_8c85906f6788row16_col11\" class=\"data row16 col11\" >0.851214</td>\n",
       "                        <td id=\"T_76aaa30e_16f2_11eb_b61f_8c85906f6788row16_col12\" class=\"data row16 col12\" >0.892802</td>\n",
       "                        <td id=\"T_76aaa30e_16f2_11eb_b61f_8c85906f6788row16_col13\" class=\"data row16 col13\" >0.935235</td>\n",
       "                        <td id=\"T_76aaa30e_16f2_11eb_b61f_8c85906f6788row16_col14\" class=\"data row16 col14\" >0.891793</td>\n",
       "                        <td id=\"T_76aaa30e_16f2_11eb_b61f_8c85906f6788row16_col15\" class=\"data row16 col15\" >0.846894</td>\n",
       "                        <td id=\"T_76aaa30e_16f2_11eb_b61f_8c85906f6788row16_col16\" class=\"data row16 col16\" >1.000000</td>\n",
       "                        <td id=\"T_76aaa30e_16f2_11eb_b61f_8c85906f6788row16_col17\" class=\"data row16 col17\" >-0.055581</td>\n",
       "            </tr>\n",
       "            <tr>\n",
       "                        <th id=\"T_76aaa30e_16f2_11eb_b61f_8c85906f6788level0_row17\" class=\"row_heading level0 row17\" >Q005</th>\n",
       "                        <td id=\"T_76aaa30e_16f2_11eb_b61f_8c85906f6788row17_col0\" class=\"data row17 col0\" >-0.133107</td>\n",
       "                        <td id=\"T_76aaa30e_16f2_11eb_b61f_8c85906f6788row17_col1\" class=\"data row17 col1\" >0.090262</td>\n",
       "                        <td id=\"T_76aaa30e_16f2_11eb_b61f_8c85906f6788row17_col2\" class=\"data row17 col2\" >0.060295</td>\n",
       "                        <td id=\"T_76aaa30e_16f2_11eb_b61f_8c85906f6788row17_col3\" class=\"data row17 col3\" >-0.009886</td>\n",
       "                        <td id=\"T_76aaa30e_16f2_11eb_b61f_8c85906f6788row17_col4\" class=\"data row17 col4\" >0.040050</td>\n",
       "                        <td id=\"T_76aaa30e_16f2_11eb_b61f_8c85906f6788row17_col5\" class=\"data row17 col5\" >-0.003539</td>\n",
       "                        <td id=\"T_76aaa30e_16f2_11eb_b61f_8c85906f6788row17_col6\" class=\"data row17 col6\" >-0.096046</td>\n",
       "                        <td id=\"T_76aaa30e_16f2_11eb_b61f_8c85906f6788row17_col7\" class=\"data row17 col7\" >-0.104263</td>\n",
       "                        <td id=\"T_76aaa30e_16f2_11eb_b61f_8c85906f6788row17_col8\" class=\"data row17 col8\" >-0.109597</td>\n",
       "                        <td id=\"T_76aaa30e_16f2_11eb_b61f_8c85906f6788row17_col9\" class=\"data row17 col9\" >-0.074493</td>\n",
       "                        <td id=\"T_76aaa30e_16f2_11eb_b61f_8c85906f6788row17_col10\" class=\"data row17 col10\" >0.018196</td>\n",
       "                        <td id=\"T_76aaa30e_16f2_11eb_b61f_8c85906f6788row17_col11\" class=\"data row17 col11\" >-0.060692</td>\n",
       "                        <td id=\"T_76aaa30e_16f2_11eb_b61f_8c85906f6788row17_col12\" class=\"data row17 col12\" >-0.045431</td>\n",
       "                        <td id=\"T_76aaa30e_16f2_11eb_b61f_8c85906f6788row17_col13\" class=\"data row17 col13\" >-0.053220</td>\n",
       "                        <td id=\"T_76aaa30e_16f2_11eb_b61f_8c85906f6788row17_col14\" class=\"data row17 col14\" >-0.041811</td>\n",
       "                        <td id=\"T_76aaa30e_16f2_11eb_b61f_8c85906f6788row17_col15\" class=\"data row17 col15\" >-0.046722</td>\n",
       "                        <td id=\"T_76aaa30e_16f2_11eb_b61f_8c85906f6788row17_col16\" class=\"data row17 col16\" >-0.055581</td>\n",
       "                        <td id=\"T_76aaa30e_16f2_11eb_b61f_8c85906f6788row17_col17\" class=\"data row17 col17\" >1.000000</td>\n",
       "            </tr>\n",
       "    </tbody></table>"
      ],
      "text/plain": [
       "<pandas.io.formats.style.Styler at 0x7fd81a017950>"
      ]
     },
     "execution_count": 154,
     "metadata": {},
     "output_type": "execute_result"
    }
   ],
   "source": [
    "# Desafio06: explorar a documentacao e visualizações com matplotlib ou pandas e gerar novas visualizações\n",
    "# check correlations\n",
    "corr = dados_escolhidos1.corr()\n",
    "corr.style.background_gradient(cmap='coolwarm')"
   ]
  },
  {
   "cell_type": "code",
   "execution_count": null,
   "metadata": {
    "id": "twTI2vj0iXm5"
   },
   "outputs": [],
   "source": []
  },
  {
   "cell_type": "markdown",
   "metadata": {
    "id": "Kd1QfFelymdo"
   },
   "source": [
    "\n",
    "Não identifiquei nenhum assunto que tivesse forte relação na nota da redação. \n",
    "Então vou removê-los.\n",
    "\n"
   ]
  },
  {
   "cell_type": "code",
   "execution_count": 155,
   "metadata": {
    "id": "pHY29zRJzIlX"
   },
   "outputs": [],
   "source": [
    "dados_escolhidos2 = dados_escolhidos1.drop(['NU_NOTA_COMP1', 'NU_NOTA_COMP2',\t'NU_NOTA_COMP3', 'NU_NOTA_COMP4',\t'NU_NOTA_COMP5'], axis=1)"
   ]
  },
  {
   "cell_type": "code",
   "execution_count": 156,
   "metadata": {
    "colab": {
     "base_uri": "https://localhost:8080/",
     "height": 170
    },
    "id": "N_rnr_BC0I1D",
    "outputId": "f2a9a7e0-d4e8-44e3-fdd1-fb508c93d133"
   },
   "outputs": [
    {
     "data": {
      "text/plain": [
       "1.0    0.964250\n",
       "4.0    0.014728\n",
       "6.0    0.009322\n",
       "3.0    0.005610\n",
       "8.0    0.002213\n",
       "2.0    0.001469\n",
       "9.0    0.001367\n",
       "7.0    0.001040\n",
       "Name: TP_STATUS_REDACAO, dtype: float64"
      ]
     },
     "execution_count": 156,
     "metadata": {},
     "output_type": "execute_result"
    }
   ],
   "source": [
    "status_redacao = pd.Series(dados_escolhidos2['TP_STATUS_REDACAO'])\n",
    "status_redacao.value_counts(normalize=True)"
   ]
  },
  {
   "cell_type": "markdown",
   "metadata": {
    "id": "5WddmoLx2_m8"
   },
   "source": [
    "O maior problemas encontrado nas redações foi que os alunos as deixaram em branco. Fuga ao tema é o segundo fator de problemas nas redações.\n",
    "\n",
    "1- sem problemas\n",
    "\n",
    "2- anulada\n",
    "\n",
    "3- cópia texto motivador\n",
    "\n",
    "4- em branco\n",
    "\n",
    "5- (N/A)\n",
    "\n",
    "6- fuga ao tema\n",
    "\n",
    "7- não atendimento ao tipo textual\n",
    "\n",
    "8- texto insuficiente\n",
    "\n",
    "9- parte desconectada"
   ]
  },
  {
   "cell_type": "code",
   "execution_count": 157,
   "metadata": {
    "colab": {
     "base_uri": "https://localhost:8080/",
     "height": 386
    },
    "id": "cR6nuDMvdHkn",
    "outputId": "009f1d83-8a2d-40bc-ddb1-a6a5a7b3897b"
   },
   "outputs": [
    {
     "name": "stdout",
     "output_type": "stream",
     "text": [
      "\u001bTipos de escolas:\n",
      "1-desconhecida\n",
      "2-publica\n",
      "3-privada\n"
     ]
    },
    {
     "data": {
      "text/plain": [
       "Text(0.5, 1.015, 'Tipo de escola vs. notas de redação')"
      ]
     },
     "execution_count": 157,
     "metadata": {},
     "output_type": "execute_result"
    },
    {
     "data": {
      "image/png": "[encoded data removed]",
      "text/plain": [
       "<Figure size 432x288 with 1 Axes>"
      ]
     },
     "metadata": {
      "needs_background": "light"
     },
     "output_type": "display_data"
    }
   ],
   "source": [
    "# Desafio06: explorar a documentacao e visualizações com matplotlib ou pandas e gerar novas visualizações\n",
    "\n",
    "# multivariable \n",
    "\n",
    "print('''\u001bTipos de escolas:\n",
    "1-desconhecida\n",
    "2-publica\n",
    "3-privada''')\n",
    "\n",
    "labels = ['desconhecida', 'publica','privada']\n",
    "x = sns.stripplot(data = dados_escolhidos2, x = 'TP_ESCOLA', y = 'NU_NOTA_REDACAO',\n",
    "           jitter = 0.35 , alpha =  1/3);\n",
    "plt.title('Tipo de escola vs. notas de redação', fontsize=14, y=1.015)\n"
   ]
  },
  {
   "cell_type": "markdown",
   "metadata": {
    "id": "YcjpJPEhB4YJ"
   },
   "source": [
    "Nas escolas privadas as notas tendem a ser menos notas baixas.\n",
    "\n",
    "A melhorar: inserir legenda, renomear lables e itens do eixo x."
   ]
  },
  {
   "cell_type": "markdown",
   "metadata": {
    "id": "Pz9Bwhf-XQkg"
   },
   "source": [
    "### Desafio 6: explorar a documentacao e visualizações com matplotlib ou pandas e gerar novas visualizações"
   ]
  },
  {
   "cell_type": "code",
   "execution_count": 158,
   "metadata": {
    "colab": {
     "base_uri": "https://localhost:8080/",
     "height": 313
    },
    "id": "w0Ed_T0sAD_1",
    "outputId": "2aca7801-e40b-49fd-b32b-a4865983a3f1"
   },
   "outputs": [
    {
     "data": {
      "text/plain": [
       "Text(0.5, 1.0, 'Tipo de Sexo vs. Notas de Redacao')"
      ]
     },
     "execution_count": 158,
     "metadata": {},
     "output_type": "execute_result"
    },
    {
     "data": {
      "image/png": "[encoded data removed]",
      "text/plain": [
       "<Figure size 432x288 with 1 Axes>"
      ]
     },
     "metadata": {
      "needs_background": "light"
     },
     "output_type": "display_data"
    }
   ],
   "source": [
    "# Desafio06: explorar a documentacao e visualizações com matplotlib ou pandas e gerar novas visualizações\n",
    "base_color = sns.color_palette()[0]\n",
    "sns.violinplot(data = dados_escolhidos2, x = 'TP_SEXO', y = 'NU_NOTA_REDACAO', color=base_color)\n",
    "plt.title('Tipo de Sexo vs. Notas de Redacao')\n",
    "\n"
   ]
  },
  {
   "cell_type": "markdown",
   "metadata": {
    "id": "9kNP7fHZI5LG"
   },
   "source": [
    "A nota de redação não variou muito se comparando sexos feminino e masculino."
   ]
  },
  {
   "cell_type": "markdown",
   "metadata": {
    "id": "SU_DHZUm49M3"
   },
   "source": [
    "Desafio 1: proporção de inscritos por idade.\n",
    "\n",
    "Desafio 2: descobrir de quais Estados sao os inscritos com 13 anos.\n",
    "\n",
    "Desafio 3: colocar títulos no histograma.\n",
    "\n",
    "Desafio 4: fazer histograma de treineiros e não-treineiros.\n",
    "\n",
    "Desafio 5: comparar as distribuições (hist or boxplot)\n",
    "\n",
    "Desafio 6: explorar a documentacao e visualizações com matplotlib ou pandas e gerar novas visualizações\n"
   ]
  },
  {
   "cell_type": "code",
   "execution_count": null,
   "metadata": {
    "id": "c9njAMqqAD9T"
   },
   "outputs": [],
   "source": []
  },
  {
   "cell_type": "markdown",
   "metadata": {
    "id": "eCD4BYt7LQBz"
   },
   "source": [
    "## Aula 2: Análise explorarória\n",
    "\n",
    "https://www.alura.com.br/imersao-dados/aula02-analises-exploratoria"
   ]
  },
  {
   "cell_type": "code",
   "execution_count": 159,
   "metadata": {
    "colab": {
     "base_uri": "https://localhost:8080/",
     "height": 222
    },
    "id": "cWjDFNwXdXjc",
    "outputId": "001e38c5-b490-472c-db1e-01780bc6331d"
   },
   "outputs": [
    {
     "data": {
      "text/html": [
       "<div>\n",
       "<style scoped>\n",
       "    .dataframe tbody tr th:only-of-type {\n",
       "        vertical-align: middle;\n",
       "    }\n",
       "\n",
       "    .dataframe tbody tr th {\n",
       "        vertical-align: top;\n",
       "    }\n",
       "\n",
       "    .dataframe thead th {\n",
       "        text-align: right;\n",
       "    }\n",
       "</style>\n",
       "<table border=\"1\" class=\"dataframe\">\n",
       "  <thead>\n",
       "    <tr style=\"text-align: right;\">\n",
       "      <th></th>\n",
       "      <th>NU_INSCRICAO</th>\n",
       "      <th>NU_ANO</th>\n",
       "      <th>CO_MUNICIPIO_RESIDENCIA</th>\n",
       "      <th>NO_MUNICIPIO_RESIDENCIA</th>\n",
       "      <th>CO_UF_RESIDENCIA</th>\n",
       "      <th>SG_UF_RESIDENCIA</th>\n",
       "      <th>NU_IDADE</th>\n",
       "      <th>TP_SEXO</th>\n",
       "      <th>TP_ESTADO_CIVIL</th>\n",
       "      <th>TP_COR_RACA</th>\n",
       "      <th>...</th>\n",
       "      <th>Q016</th>\n",
       "      <th>Q017</th>\n",
       "      <th>Q018</th>\n",
       "      <th>Q019</th>\n",
       "      <th>Q020</th>\n",
       "      <th>Q021</th>\n",
       "      <th>Q022</th>\n",
       "      <th>Q023</th>\n",
       "      <th>Q024</th>\n",
       "      <th>Q025</th>\n",
       "    </tr>\n",
       "  </thead>\n",
       "  <tbody>\n",
       "    <tr>\n",
       "      <th>57359</th>\n",
       "      <td>190003297248</td>\n",
       "      <td>2019</td>\n",
       "      <td>3504107</td>\n",
       "      <td>Atibaia</td>\n",
       "      <td>35</td>\n",
       "      <td>SP</td>\n",
       "      <td>13</td>\n",
       "      <td>F</td>\n",
       "      <td>1</td>\n",
       "      <td>1</td>\n",
       "      <td>...</td>\n",
       "      <td>B</td>\n",
       "      <td>A</td>\n",
       "      <td>A</td>\n",
       "      <td>B</td>\n",
       "      <td>A</td>\n",
       "      <td>A</td>\n",
       "      <td>D</td>\n",
       "      <td>B</td>\n",
       "      <td>B</td>\n",
       "      <td>B</td>\n",
       "    </tr>\n",
       "    <tr>\n",
       "      <th>95630</th>\n",
       "      <td>190004825557</td>\n",
       "      <td>2019</td>\n",
       "      <td>5107602</td>\n",
       "      <td>Rondonópolis</td>\n",
       "      <td>51</td>\n",
       "      <td>MT</td>\n",
       "      <td>13</td>\n",
       "      <td>M</td>\n",
       "      <td>1</td>\n",
       "      <td>1</td>\n",
       "      <td>...</td>\n",
       "      <td>A</td>\n",
       "      <td>A</td>\n",
       "      <td>A</td>\n",
       "      <td>B</td>\n",
       "      <td>B</td>\n",
       "      <td>A</td>\n",
       "      <td>B</td>\n",
       "      <td>A</td>\n",
       "      <td>A</td>\n",
       "      <td>B</td>\n",
       "    </tr>\n",
       "    <tr>\n",
       "      <th>98197</th>\n",
       "      <td>190004926952</td>\n",
       "      <td>2019</td>\n",
       "      <td>1600303</td>\n",
       "      <td>Macapá</td>\n",
       "      <td>16</td>\n",
       "      <td>AP</td>\n",
       "      <td>13</td>\n",
       "      <td>M</td>\n",
       "      <td>1</td>\n",
       "      <td>3</td>\n",
       "      <td>...</td>\n",
       "      <td>B</td>\n",
       "      <td>A</td>\n",
       "      <td>A</td>\n",
       "      <td>C</td>\n",
       "      <td>B</td>\n",
       "      <td>A</td>\n",
       "      <td>E</td>\n",
       "      <td>A</td>\n",
       "      <td>B</td>\n",
       "      <td>B</td>\n",
       "    </tr>\n",
       "    <tr>\n",
       "      <th>116501</th>\n",
       "      <td>190005659236</td>\n",
       "      <td>2019</td>\n",
       "      <td>2917508</td>\n",
       "      <td>Jacobina</td>\n",
       "      <td>29</td>\n",
       "      <td>BA</td>\n",
       "      <td>13</td>\n",
       "      <td>M</td>\n",
       "      <td>1</td>\n",
       "      <td>3</td>\n",
       "      <td>...</td>\n",
       "      <td>B</td>\n",
       "      <td>A</td>\n",
       "      <td>A</td>\n",
       "      <td>D</td>\n",
       "      <td>A</td>\n",
       "      <td>B</td>\n",
       "      <td>C</td>\n",
       "      <td>B</td>\n",
       "      <td>C</td>\n",
       "      <td>B</td>\n",
       "    </tr>\n",
       "  </tbody>\n",
       "</table>\n",
       "<p>4 rows × 136 columns</p>\n",
       "</div>"
      ],
      "text/plain": [
       "        NU_INSCRICAO  NU_ANO  CO_MUNICIPIO_RESIDENCIA NO_MUNICIPIO_RESIDENCIA  \\\n",
       "57359   190003297248    2019                  3504107                 Atibaia   \n",
       "95630   190004825557    2019                  5107602            Rondonópolis   \n",
       "98197   190004926952    2019                  1600303                  Macapá   \n",
       "116501  190005659236    2019                  2917508                Jacobina   \n",
       "\n",
       "        CO_UF_RESIDENCIA SG_UF_RESIDENCIA  NU_IDADE TP_SEXO  TP_ESTADO_CIVIL  \\\n",
       "57359                 35               SP        13       F                1   \n",
       "95630                 51               MT        13       M                1   \n",
       "98197                 16               AP        13       M                1   \n",
       "116501                29               BA        13       M                1   \n",
       "\n",
       "        TP_COR_RACA  ...  Q016  Q017 Q018  Q019 Q020  Q021  Q022  Q023  Q024  \\\n",
       "57359             1  ...     B     A    A     B    A     A     D     B     B   \n",
       "95630             1  ...     A     A    A     B    B     A     B     A     A   \n",
       "98197             3  ...     B     A    A     C    B     A     E     A     B   \n",
       "116501            3  ...     B     A    A     D    A     B     C     B     C   \n",
       "\n",
       "        Q025  \n",
       "57359      B  \n",
       "95630      B  \n",
       "98197      B  \n",
       "116501     B  \n",
       "\n",
       "[4 rows x 136 columns]"
      ]
     },
     "execution_count": 159,
     "metadata": {},
     "output_type": "execute_result"
    }
   ],
   "source": [
    "dados.query('NU_IDADE == 13')"
   ]
  },
  {
   "cell_type": "code",
   "execution_count": 160,
   "metadata": {
    "colab": {
     "base_uri": "https://localhost:8080/",
     "height": 493
    },
    "id": "TF-YDqHvdTv0",
    "outputId": "81f48d6b-0c45-46f8-9a0e-5f2864720832"
   },
   "outputs": [
    {
     "data": {
      "text/plain": [
       "SP    20263\n",
       "MG    13547\n",
       "BA    10039\n",
       "RJ     8467\n",
       "CE     7381\n",
       "PA     7170\n",
       "PE     6941\n",
       "MA     5543\n",
       "RS     5466\n",
       "PR     5259\n",
       "GO     4268\n",
       "PB     3690\n",
       "PI     3034\n",
       "RN     2959\n",
       "AM     2820\n",
       "SC     2673\n",
       "ES     2550\n",
       "DF     2408\n",
       "AL     2263\n",
       "MT     2229\n",
       "SE     1815\n",
       "MS     1655\n",
       "RO     1400\n",
       "TO     1178\n",
       "AP     1046\n",
       "AC      946\n",
       "RR      366\n",
       "Name: SG_UF_RESIDENCIA, dtype: int64"
      ]
     },
     "execution_count": 160,
     "metadata": {},
     "output_type": "execute_result"
    }
   ],
   "source": [
    "dados.query('NU_IDADE >= 14')['SG_UF_RESIDENCIA'].value_counts()"
   ]
  },
  {
   "cell_type": "code",
   "execution_count": 161,
   "metadata": {
    "colab": {
     "base_uri": "https://localhost:8080/",
     "height": 493
    },
    "id": "UpPXtUgVdT5M",
    "outputId": "aa795f23-d3d5-4170-a194-ceec842708e3"
   },
   "outputs": [
    {
     "data": {
      "text/plain": [
       "SP    0.159080\n",
       "MG    0.106354\n",
       "BA    0.078814\n",
       "RJ    0.066472\n",
       "CE    0.057947\n",
       "PA    0.056290\n",
       "PE    0.054492\n",
       "MA    0.043517\n",
       "RS    0.042912\n",
       "PR    0.041287\n",
       "GO    0.033507\n",
       "PB    0.028969\n",
       "PI    0.023819\n",
       "RN    0.023230\n",
       "AM    0.022139\n",
       "SC    0.020985\n",
       "ES    0.020019\n",
       "DF    0.018905\n",
       "AL    0.017766\n",
       "MT    0.017499\n",
       "SE    0.014249\n",
       "MS    0.012993\n",
       "RO    0.010991\n",
       "TO    0.009248\n",
       "AP    0.008212\n",
       "AC    0.007427\n",
       "RR    0.002873\n",
       "Name: SG_UF_RESIDENCIA, dtype: float64"
      ]
     },
     "execution_count": 161,
     "metadata": {},
     "output_type": "execute_result"
    }
   ],
   "source": [
    "dados.query('NU_IDADE >= 14')['SG_UF_RESIDENCIA'].value_counts(normalize=True)"
   ]
  },
  {
   "cell_type": "code",
   "execution_count": 162,
   "metadata": {
    "colab": {
     "base_uri": "https://localhost:8080/",
     "height": 483
    },
    "id": "xuDzu0GDdUOM",
    "outputId": "fbad1f39-e978-47c7-c945-3fd128ff7afd"
   },
   "outputs": [
    {
     "data": {
      "text/plain": [
       "<matplotlib.axes._subplots.AxesSubplot at 0x7fd83382acd0>"
      ]
     },
     "execution_count": 162,
     "metadata": {},
     "output_type": "execute_result"
    },
    {
     "data": {
      "image/png": "[encoded data removed]",
      "text/plain": [
       "<Figure size 720x576 with 1 Axes>"
      ]
     },
     "metadata": {},
     "output_type": "display_data"
    }
   ],
   "source": [
    "alunos_menor_quatorze = dados.query('NU_IDADE <= 14')\n",
    "alunos_menor_quatorze['SG_UF_RESIDENCIA'].value_counts().plot.pie(figsize=(10,8))"
   ]
  },
  {
   "cell_type": "code",
   "execution_count": 163,
   "metadata": {
    "colab": {
     "base_uri": "https://localhost:8080/",
     "height": 506
    },
    "id": "09escc9xdULg",
    "outputId": "ae4cc712-43ca-419e-cd62-c0c20ff75f93"
   },
   "outputs": [
    {
     "data": {
      "text/plain": [
       "<matplotlib.axes._subplots.AxesSubplot at 0x7fd809ecca10>"
      ]
     },
     "execution_count": 163,
     "metadata": {},
     "output_type": "execute_result"
    },
    {
     "data": {
      "image/png": "[encoded data removed]",
      "text/plain": [
       "<Figure size 720x576 with 1 Axes>"
      ]
     },
     "metadata": {
      "needs_background": "light"
     },
     "output_type": "display_data"
    }
   ],
   "source": [
    "alunos_menor_quatorze['SG_UF_RESIDENCIA'].value_counts(normalize=True).plot.bar(figsize=(10,8))"
   ]
  },
  {
   "cell_type": "code",
   "execution_count": 164,
   "metadata": {
    "colab": {
     "base_uri": "https://localhost:8080/",
     "height": 34
    },
    "id": "NlMKT3YHdT2D",
    "outputId": "4b582144-2f2a-4606-dae1-751b59cb9010"
   },
   "outputs": [
    {
     "data": {
      "text/plain": [
       "145"
      ]
     },
     "execution_count": 164,
     "metadata": {},
     "output_type": "execute_result"
    }
   ],
   "source": [
    "len(alunos_menor_quatorze)"
   ]
  },
  {
   "cell_type": "code",
   "execution_count": 165,
   "metadata": {
    "colab": {
     "base_uri": "https://localhost:8080/",
     "height": 530
    },
    "id": "9UaS04m8dTzh",
    "outputId": "fec5af51-1cc4-46eb-c2f7-2aade795b1d5"
   },
   "outputs": [
    {
     "data": {
      "text/plain": [
       "Text(0.5, 1.0, 'Boxplot das notas de matemática pela renda')"
      ]
     },
     "execution_count": 165,
     "metadata": {},
     "output_type": "execute_result"
    },
    {
     "data": {
      "image/png": "[encoded data removed]",
      "text/plain": [
       "<Figure size 720x576 with 1 Axes>"
      ]
     },
     "metadata": {
      "needs_background": "light"
     },
     "output_type": "display_data"
    }
   ],
   "source": [
    "# import seaborn as sns\n",
    "# import matplotlib.pyplot as plt\n",
    "\n",
    "plt.figure(figsize=(10,8))\n",
    "sns.boxplot(x='Q006', y = 'NU_NOTA_MT', data = dados)\n",
    "plt.title('Boxplot das notas de matemática pela renda')"
   ]
  },
  {
   "cell_type": "code",
   "execution_count": 166,
   "metadata": {
    "id": "emTguHHWdTow"
   },
   "outputs": [],
   "source": [
    "renda_ordenada = dados['Q006'].unique()\n",
    "renda_ordenada.sort()"
   ]
  },
  {
   "cell_type": "code",
   "execution_count": 167,
   "metadata": {
    "colab": {
     "base_uri": "https://localhost:8080/",
     "height": 51
    },
    "id": "0ionzlxfhLSt",
    "outputId": "0d50c378-4485-49d7-8d21-5e1a1a9a2a6e"
   },
   "outputs": [
    {
     "data": {
      "text/plain": [
       "array(['A', 'B', 'C', 'D', 'E', 'F', 'G', 'H', 'I', 'J', 'K', 'L', 'M',\n",
       "       'N', 'O', 'P', 'Q'], dtype=object)"
      ]
     },
     "execution_count": 167,
     "metadata": {},
     "output_type": "execute_result"
    }
   ],
   "source": [
    "renda_ordenada"
   ]
  },
  {
   "cell_type": "code",
   "execution_count": 168,
   "metadata": {
    "colab": {
     "base_uri": "https://localhost:8080/",
     "height": 421
    },
    "id": "w9Dxx39FhLbA",
    "outputId": "9c2c4c42-e2bb-4bde-a889-055039968d2e"
   },
   "outputs": [
    {
     "data": {
      "text/plain": [
       "Text(0.5, 1.0, 'Boxplot das notas de matemática pela renda')"
      ]
     },
     "execution_count": 168,
     "metadata": {},
     "output_type": "execute_result"
    },
    {
     "data": {
      "image/png": "[encoded data removed]",
      "text/plain": [
       "<Figure size 720x432 with 1 Axes>"
      ]
     },
     "metadata": {
      "needs_background": "light"
     },
     "output_type": "display_data"
    }
   ],
   "source": [
    "plt.figure(figsize=(10,6)) \n",
    "sns.boxplot(x='Q006', y = 'NU_NOTA_MT', data = dados, order = renda_ordenada)\n",
    "plt.title('Boxplot das notas de matemática pela renda')\n"
   ]
  },
  {
   "cell_type": "code",
   "execution_count": 169,
   "metadata": {
    "colab": {
     "base_uri": "https://localhost:8080/",
     "height": 119
    },
    "id": "mXpBKRTCjNel",
    "outputId": "91774ce4-255a-485b-de4c-f44c64bd3881"
   },
   "outputs": [
    {
     "data": {
      "text/plain": [
       "NU_NOTA_CN         44334986.1\n",
       "NU_NOTA_CH         49743676.1\n",
       "NU_NOTA_MT         48563933.8\n",
       "NU_NOTA_LC         51027844.9\n",
       "NU_NOTA_REDACAO    56038440.0\n",
       "dtype: float64"
      ]
     },
     "execution_count": 169,
     "metadata": {},
     "output_type": "execute_result"
    }
   ],
   "source": [
    "dados[provas].sum()"
   ]
  },
  {
   "cell_type": "code",
   "execution_count": 170,
   "metadata": {
    "colab": {
     "base_uri": "https://localhost:8080/",
     "height": 253
    },
    "id": "jM2PlE9mnXUb",
    "outputId": "b87772c9-5b46-4fcb-f403-e334bb2a87f9"
   },
   "outputs": [
    {
     "data": {
      "text/html": [
       "<div>\n",
       "<style scoped>\n",
       "    .dataframe tbody tr th:only-of-type {\n",
       "        vertical-align: middle;\n",
       "    }\n",
       "\n",
       "    .dataframe tbody tr th {\n",
       "        vertical-align: top;\n",
       "    }\n",
       "\n",
       "    .dataframe thead th {\n",
       "        text-align: right;\n",
       "    }\n",
       "</style>\n",
       "<table border=\"1\" class=\"dataframe\">\n",
       "  <thead>\n",
       "    <tr style=\"text-align: right;\">\n",
       "      <th></th>\n",
       "      <th>NU_INSCRICAO</th>\n",
       "      <th>NU_ANO</th>\n",
       "      <th>CO_MUNICIPIO_RESIDENCIA</th>\n",
       "      <th>NO_MUNICIPIO_RESIDENCIA</th>\n",
       "      <th>CO_UF_RESIDENCIA</th>\n",
       "      <th>SG_UF_RESIDENCIA</th>\n",
       "      <th>NU_IDADE</th>\n",
       "      <th>TP_SEXO</th>\n",
       "      <th>TP_ESTADO_CIVIL</th>\n",
       "      <th>TP_COR_RACA</th>\n",
       "      <th>...</th>\n",
       "      <th>Q017</th>\n",
       "      <th>Q018</th>\n",
       "      <th>Q019</th>\n",
       "      <th>Q020</th>\n",
       "      <th>Q021</th>\n",
       "      <th>Q022</th>\n",
       "      <th>Q023</th>\n",
       "      <th>Q024</th>\n",
       "      <th>Q025</th>\n",
       "      <th>NU_NOTA_TOTAL</th>\n",
       "    </tr>\n",
       "  </thead>\n",
       "  <tbody>\n",
       "    <tr>\n",
       "      <th>0</th>\n",
       "      <td>190001004661</td>\n",
       "      <td>2019</td>\n",
       "      <td>1506138</td>\n",
       "      <td>Redenção</td>\n",
       "      <td>15</td>\n",
       "      <td>PA</td>\n",
       "      <td>17</td>\n",
       "      <td>M</td>\n",
       "      <td>1</td>\n",
       "      <td>3</td>\n",
       "      <td>...</td>\n",
       "      <td>A</td>\n",
       "      <td>A</td>\n",
       "      <td>A</td>\n",
       "      <td>B</td>\n",
       "      <td>A</td>\n",
       "      <td>C</td>\n",
       "      <td>A</td>\n",
       "      <td>B</td>\n",
       "      <td>B</td>\n",
       "      <td>2288.9</td>\n",
       "    </tr>\n",
       "    <tr>\n",
       "      <th>1</th>\n",
       "      <td>190001004674</td>\n",
       "      <td>2019</td>\n",
       "      <td>1504208</td>\n",
       "      <td>Marabá</td>\n",
       "      <td>15</td>\n",
       "      <td>PA</td>\n",
       "      <td>23</td>\n",
       "      <td>M</td>\n",
       "      <td>1</td>\n",
       "      <td>3</td>\n",
       "      <td>...</td>\n",
       "      <td>A</td>\n",
       "      <td>A</td>\n",
       "      <td>B</td>\n",
       "      <td>A</td>\n",
       "      <td>A</td>\n",
       "      <td>B</td>\n",
       "      <td>A</td>\n",
       "      <td>A</td>\n",
       "      <td>B</td>\n",
       "      <td>1184.6</td>\n",
       "    </tr>\n",
       "    <tr>\n",
       "      <th>2</th>\n",
       "      <td>190001004722</td>\n",
       "      <td>2019</td>\n",
       "      <td>1501402</td>\n",
       "      <td>Belém</td>\n",
       "      <td>15</td>\n",
       "      <td>PA</td>\n",
       "      <td>35</td>\n",
       "      <td>F</td>\n",
       "      <td>2</td>\n",
       "      <td>1</td>\n",
       "      <td>...</td>\n",
       "      <td>A</td>\n",
       "      <td>A</td>\n",
       "      <td>B</td>\n",
       "      <td>A</td>\n",
       "      <td>B</td>\n",
       "      <td>B</td>\n",
       "      <td>A</td>\n",
       "      <td>A</td>\n",
       "      <td>B</td>\n",
       "      <td>2350.5</td>\n",
       "    </tr>\n",
       "    <tr>\n",
       "      <th>3</th>\n",
       "      <td>190001004735</td>\n",
       "      <td>2019</td>\n",
       "      <td>1507300</td>\n",
       "      <td>São Félix do Xingu</td>\n",
       "      <td>15</td>\n",
       "      <td>PA</td>\n",
       "      <td>23</td>\n",
       "      <td>F</td>\n",
       "      <td>1</td>\n",
       "      <td>3</td>\n",
       "      <td>...</td>\n",
       "      <td>A</td>\n",
       "      <td>A</td>\n",
       "      <td>B</td>\n",
       "      <td>A</td>\n",
       "      <td>A</td>\n",
       "      <td>B</td>\n",
       "      <td>A</td>\n",
       "      <td>A</td>\n",
       "      <td>B</td>\n",
       "      <td>2555.7</td>\n",
       "    </tr>\n",
       "    <tr>\n",
       "      <th>4</th>\n",
       "      <td>190001004776</td>\n",
       "      <td>2019</td>\n",
       "      <td>1500800</td>\n",
       "      <td>Ananindeua</td>\n",
       "      <td>15</td>\n",
       "      <td>PA</td>\n",
       "      <td>16</td>\n",
       "      <td>F</td>\n",
       "      <td>1</td>\n",
       "      <td>3</td>\n",
       "      <td>...</td>\n",
       "      <td>A</td>\n",
       "      <td>A</td>\n",
       "      <td>B</td>\n",
       "      <td>A</td>\n",
       "      <td>A</td>\n",
       "      <td>D</td>\n",
       "      <td>A</td>\n",
       "      <td>A</td>\n",
       "      <td>B</td>\n",
       "      <td>2803.5</td>\n",
       "    </tr>\n",
       "  </tbody>\n",
       "</table>\n",
       "<p>5 rows × 137 columns</p>\n",
       "</div>"
      ],
      "text/plain": [
       "   NU_INSCRICAO  NU_ANO  CO_MUNICIPIO_RESIDENCIA NO_MUNICIPIO_RESIDENCIA  \\\n",
       "0  190001004661    2019                  1506138                Redenção   \n",
       "1  190001004674    2019                  1504208                  Marabá   \n",
       "2  190001004722    2019                  1501402                   Belém   \n",
       "3  190001004735    2019                  1507300      São Félix do Xingu   \n",
       "4  190001004776    2019                  1500800              Ananindeua   \n",
       "\n",
       "   CO_UF_RESIDENCIA SG_UF_RESIDENCIA  NU_IDADE TP_SEXO  TP_ESTADO_CIVIL  \\\n",
       "0                15               PA        17       M                1   \n",
       "1                15               PA        23       M                1   \n",
       "2                15               PA        35       F                2   \n",
       "3                15               PA        23       F                1   \n",
       "4                15               PA        16       F                1   \n",
       "\n",
       "   TP_COR_RACA  ...  Q017  Q018 Q019  Q020 Q021  Q022  Q023  Q024  Q025  \\\n",
       "0            3  ...     A     A    A     B    A     C     A     B     B   \n",
       "1            3  ...     A     A    B     A    A     B     A     A     B   \n",
       "2            1  ...     A     A    B     A    B     B     A     A     B   \n",
       "3            3  ...     A     A    B     A    A     B     A     A     B   \n",
       "4            3  ...     A     A    B     A    A     D     A     A     B   \n",
       "\n",
       "   NU_NOTA_TOTAL  \n",
       "0         2288.9  \n",
       "1         1184.6  \n",
       "2         2350.5  \n",
       "3         2555.7  \n",
       "4         2803.5  \n",
       "\n",
       "[5 rows x 137 columns]"
      ]
     },
     "execution_count": 170,
     "metadata": {},
     "output_type": "execute_result"
    }
   ],
   "source": [
    "dados['NU_NOTA_TOTAL'] = dados[provas].sum(axis=1)\n",
    "dados.head()"
   ]
  },
  {
   "cell_type": "code",
   "execution_count": 172,
   "metadata": {
    "colab": {
     "base_uri": "https://localhost:8080/",
     "height": 386
    },
    "id": "iilPwMFhjNh-",
    "outputId": "7cb9cf85-304d-40b4-ce56-4d9ace3c9458"
   },
   "outputs": [
    {
     "ename": "AttributeError",
     "evalue": "module 'seaborn' has no attribute 'displot'",
     "output_type": "error",
     "traceback": [
      "\u001b[0;31m---------------------------------------------------------------------------\u001b[0m",
      "\u001b[0;31mAttributeError\u001b[0m                            Traceback (most recent call last)",
      "\u001b[0;32m<ipython-input-172-ecea6d9f2029>\u001b[0m in \u001b[0;36m<module>\u001b[0;34m\u001b[0m\n\u001b[1;32m      1\u001b[0m \u001b[0;32mimport\u001b[0m \u001b[0mseaborn\u001b[0m \u001b[0;32mas\u001b[0m \u001b[0msns\u001b[0m\u001b[0;34m\u001b[0m\u001b[0;34m\u001b[0m\u001b[0m\n\u001b[0;32m----> 2\u001b[0;31m \u001b[0msns\u001b[0m\u001b[0;34m.\u001b[0m\u001b[0mdisplot\u001b[0m\u001b[0;34m(\u001b[0m\u001b[0mdados\u001b[0m\u001b[0;34m,\u001b[0m \u001b[0mx\u001b[0m \u001b[0;34m=\u001b[0m\u001b[0;34m\"NU_NOTA_TOTAL\"\u001b[0m\u001b[0;34m)\u001b[0m\u001b[0;34m\u001b[0m\u001b[0;34m\u001b[0m\u001b[0m\n\u001b[0m",
      "\u001b[0;31mAttributeError\u001b[0m: module 'seaborn' has no attribute 'displot'"
     ]
    }
   ],
   "source": [
    "\n",
    "ax= sns.displot(dados, x =\"NU_NOTA_TOTAL\")\n",
    "\n",
    "\n",
    "\n",
    "\n",
    "import seaborn as sns, numpy as np\n",
    "sns.set(); np.random.seed(0)\n",
    "x = np.random.randn(100)\n",
    "ax = sns.distplot(x)"
   ]
  },
  {
   "cell_type": "code",
   "execution_count": null,
   "metadata": {
    "colab": {
     "base_uri": "https://localhost:8080/",
     "height": 419
    },
    "id": "R0uBGqStjNbR",
    "outputId": "239719b8-bedb-4de0-9112-4a120ca60049"
   },
   "outputs": [],
   "source": [
    "provas = ['NU_NOTA_CN', 'NU_NOTA_CH','NU_NOTA_MT', 'NU_NOTA_LC', 'NU_NOTA_REDACAO']\n",
    "provas.append('NU_NOTA_TOTAL')\n",
    "dados[provas].query('NU_NOTA_TOTAL == 0')\n"
   ]
  },
  {
   "cell_type": "code",
   "execution_count": null,
   "metadata": {
    "colab": {
     "base_uri": "https://localhost:8080/",
     "height": 253
    },
    "id": "JkT80LF7nXOJ",
    "outputId": "c4ab3360-56ec-4a5a-ef57-00107f303594"
   },
   "outputs": [],
   "source": [
    "dados_sem_notas_zero = dados.query('NU_NOTA_TOTAL != 0')\n",
    "dados_sem_notas_zero.head()"
   ]
  },
  {
   "cell_type": "code",
   "execution_count": null,
   "metadata": {
    "colab": {
     "base_uri": "https://localhost:8080/",
     "height": 421
    },
    "id": "Ic6XhwLnhLXK",
    "outputId": "e33e1f03-4000-4896-bd2b-a0619d2d892b"
   },
   "outputs": [],
   "source": [
    "plt.figure(figsize=(10,6))\n",
    "sns.boxplot(x='Q006', y = 'NU_NOTA_TOTAL', data = dados_sem_notas_zero, order = renda_ordenada)\n",
    "plt.title('Boxplot das notas de total pela renda')"
   ]
  },
  {
   "cell_type": "code",
   "execution_count": null,
   "metadata": {
    "colab": {
     "base_uri": "https://localhost:8080/",
     "height": 530
    },
    "id": "BfxGtJmPuqWD",
    "outputId": "39dad557-4b03-42ba-e300-e1ce7ed731c1"
   },
   "outputs": [],
   "source": [
    "plt.figure(figsize = (14,8))\n",
    "sns.boxplot(x = 'Q006', y = 'NU_NOTA_TOTAL', data = dados_sem_notas_zero, hue = 'IN_TREINEIRO', order = renda_ordenada)\n",
    "plt.title('Boxplot das notas de total pela renda')"
   ]
  },
  {
   "cell_type": "markdown",
   "metadata": {
    "id": "n5eoyLEnwqum"
   },
   "source": [
    "MEGA DESAFIO DA THAINÁ: Pegar a amostra completa dos alunos de 13 e 14 anos\n",
    "\n",
    "Desafio do Gui bonzinho: aumentar a amostra para alunos menor de idade e compara a proporção por estado.\n",
    "\n",
    "Desafio 3: Criar uma função para plotar o boxplot do seaborn\n",
    "\n",
    "Desafio 4: Verificar se quem zerou a prova foi eliminado ou não estava presente\n",
    "\n",
    "Desafio 5: Quem é eliminado tira zero ou será NaN (não teve registro de notas)\n",
    "\n",
    "DEsafio 6: Verificar a proporção dos participantes de rendas mais altas e mais baixas como treineiro e não treineiro.\n",
    "\n",
    "Desafio 7: Fazer o mesmo boxplot olhando para a questão 25 (tem internet ou não) e fazer uma reflexão sobre o assunto e o contexto de pandemia."
   ]
  },
  {
   "cell_type": "markdown",
   "metadata": {
    "id": "ihUdkZ4qXeDC"
   },
   "source": [
    "## Desafio 1 (MEGA DESAFIO DA THAINÁ): Pegar a amostra completa dos alunos de 13 e 14 anos"
   ]
  },
  {
   "cell_type": "markdown",
   "metadata": {
    "id": "hg7nXpN7WhKz"
   },
   "source": [
    "### Desafio 2 (Gui bonzinho): aumentar a amostra para alunos menor de idade e compara a proporção por estado"
   ]
  },
  {
   "cell_type": "code",
   "execution_count": null,
   "metadata": {
    "colab": {
     "base_uri": "https://localhost:8080/",
     "height": 439
    },
    "id": "SK7pync5uqSV",
    "outputId": "6e409d18-e8bc-4501-d4f1-91d356e3ca6a"
   },
   "outputs": [],
   "source": [
    "alunos_menor_idade = dados.query('NU_IDADE < 18')\n",
    "alunos_menor_idade"
   ]
  },
  {
   "cell_type": "code",
   "execution_count": null,
   "metadata": {
    "colab": {
     "base_uri": "https://localhost:8080/",
     "height": 413
    },
    "id": "VDx2fjvahMBC",
    "outputId": "ebf09bff-3616-4cc6-9982-d37081a52d4c"
   },
   "outputs": [],
   "source": [
    "alunos_menor_idade['SG_UF_RESIDENCIA'].value_counts(normalize=True).plot.bar(figsize=(10,6))\n",
    "plt.title('Proporcao de alunos menor de idade por Estado')"
   ]
  },
  {
   "cell_type": "markdown",
   "metadata": {
    "id": "5fhjZTa0rehS"
   },
   "source": [
    "## Desafio 3: Criar uma função para plotar o boxplot do seaborn"
   ]
  },
  {
   "cell_type": "code",
   "execution_count": null,
   "metadata": {
    "id": "Upod_2bxhK3J"
   },
   "outputs": [],
   "source": [
    "def plotBoxplot(figsize,x,y,dataset, hue, order, title):\n",
    "  plt.figure(figsize=figsize)\n",
    "  sns.boxplot(x=x, y=y, data = dataset ,hue = hue, order = order)\n",
    "  plt.title(title)\n"
   ]
  },
  {
   "cell_type": "code",
   "execution_count": null,
   "metadata": {
    "colab": {
     "base_uri": "https://localhost:8080/",
     "height": 404
    },
    "id": "CisROFxp2ypR",
    "outputId": "9862d188-b0ae-4885-bb37-ad31df7e8191"
   },
   "outputs": [],
   "source": [
    "plotBoxplot((14,6), 'Q006', 'NU_NOTA_TOTAL', dados_sem_notas_zero, 'IN_TREINEIRO', renda_ordenada, 'Boxplot das notas de total pela renda entre treineiros')"
   ]
  },
  {
   "cell_type": "code",
   "execution_count": null,
   "metadata": {
    "id": "BuXfarYVvmZ8"
   },
   "outputs": [],
   "source": [
    "# Funcao para plotarboxplot trocando o eixo x:\n",
    "def plotBoxplotNewAxes(y, title):\n",
    "  sns.boxplot(x ='Q006', y = y, data = dados_sem_notas_zero, hue = 'IN_TREINEIRO', order = renda_ordenada)\n",
    "  plt.title(title)"
   ]
  },
  {
   "cell_type": "code",
   "execution_count": null,
   "metadata": {
    "colab": {
     "base_uri": "https://localhost:8080/",
     "height": 404
    },
    "id": "NOsLVsNTvmW0",
    "outputId": "10a3f10a-bdb7-4cc0-8838-1544dd015069"
   },
   "outputs": [],
   "source": [
    "plt.figure(figsize=(14,6))\n",
    "plotBoxplotNewAxes('NU_NOTA_REDACAO', 'Boxplot das notas de redacao pela renda entre treineiros')"
   ]
  },
  {
   "cell_type": "code",
   "execution_count": null,
   "metadata": {
    "colab": {
     "base_uri": "https://localhost:8080/",
     "height": 419
    },
    "id": "eTgPk9_iVLFn",
    "outputId": "0b2f830a-ec26-4aaa-838d-bfe9c744ae52"
   },
   "outputs": [],
   "source": [
    "alunos_zeraram_cn = dados.query('NU_NOTA_CN == 0')\n",
    "dados[['NU_NOTA_CN', 'TP_PRESENCA_CN']]"
   ]
  },
  {
   "cell_type": "markdown",
   "metadata": {
    "id": "dY7uvrcprXZi"
   },
   "source": [
    "## Desafio 4: Verificar se quem zerou a prova foi eliminado ou não estava presente"
   ]
  },
  {
   "cell_type": "code",
   "execution_count": null,
   "metadata": {
    "colab": {
     "base_uri": "https://localhost:8080/",
     "height": 34
    },
    "id": "EoN6kAGjvmRY",
    "outputId": "5352d0d2-c069-4939-faf0-7d8acbf6c04a"
   },
   "outputs": [],
   "source": [
    "''' TP_PRESENCA_<disciplina> \n",
    "0 - faltou, 1- present 2- foi eliminado\n",
    "NU_NOTA_<disciplina> \n",
    "0'''\n",
    "((dados['TP_PRESENCA_CN'] == 0) & (dados['NU_NOTA_CN']==0)).any()"
   ]
  },
  {
   "cell_type": "code",
   "execution_count": null,
   "metadata": {
    "colab": {
     "base_uri": "https://localhost:8080/",
     "height": 34
    },
    "id": "TWMX9msUaB7A",
    "outputId": "33c7b1b6-cd83-4de2-dca1-60805f98892e"
   },
   "outputs": [],
   "source": [
    "((dados['TP_PRESENCA_CN'] == 2) & (dados['NU_NOTA_CN']==2)).any()"
   ]
  },
  {
   "cell_type": "markdown",
   "metadata": {
    "id": "MNoYH2xFrF5u"
   },
   "source": [
    "## Desafio 5: Quem é eliminado tira zero ou será NaN (não teve registro de notas)"
   ]
  },
  {
   "cell_type": "code",
   "execution_count": null,
   "metadata": {
    "colab": {
     "base_uri": "https://localhost:8080/",
     "height": 34
    },
    "id": "q5xIScdzOPnJ",
    "outputId": "8b632e81-1505-4c23-d6b3-adae85c3b931"
   },
   "outputs": [],
   "source": [
    "((dados['TP_PRESENCA_CN'] == 2) & (dados['NU_NOTA_CN'] == 0)).any()"
   ]
  },
  {
   "cell_type": "code",
   "execution_count": null,
   "metadata": {
    "colab": {
     "base_uri": "https://localhost:8080/",
     "height": 129
    },
    "id": "dqWl8Ax8lKUY",
    "outputId": "dab7e322-4e21-48d0-bb7c-4a2408c9a9b3"
   },
   "outputs": [],
   "source": [
    "dados_sem_NaN = dados.fillna('none')\n",
    "dados_sem_NaN.head(1)"
   ]
  },
  {
   "cell_type": "code",
   "execution_count": null,
   "metadata": {
    "colab": {
     "base_uri": "https://localhost:8080/",
     "height": 34
    },
    "id": "pteX0RPKk33S",
    "outputId": "ad70c461-71db-4330-bcba-ff00d735953b"
   },
   "outputs": [],
   "source": [
    "((dados_sem_NaN['TP_PRESENCA_CN'] == 2) & (dados_sem_NaN['NU_NOTA_CN'] == 'none')).any()"
   ]
  },
  {
   "cell_type": "markdown",
   "metadata": {
    "id": "j7KVJqQkKzdk"
   },
   "source": [
    "Os elimidados nao copmpareceram às provas. "
   ]
  },
  {
   "cell_type": "code",
   "execution_count": null,
   "metadata": {
    "colab": {
     "base_uri": "https://localhost:8080/",
     "height": 918
    },
    "id": "Vggu-J6ziCuq",
    "outputId": "8679611f-05b1-4409-81af-e73f74603a92"
   },
   "outputs": [],
   "source": [
    "# Desafio5 - fazendo de outra forma\n",
    "dados.query(\"TP_PRESENCA_CN == 2\")[\"NU_NOTA_CN\"]"
   ]
  },
  {
   "cell_type": "markdown",
   "metadata": {
    "id": "F9Cav0uhq_B7"
   },
   "source": [
    "## Desafio 6: Verificar a proporção dos participantes de rendas mais altas e mais baixas como treineiro e não treineiro\n"
   ]
  },
  {
   "cell_type": "code",
   "execution_count": null,
   "metadata": {
    "colab": {
     "base_uri": "https://localhost:8080/",
     "height": 142
    },
    "id": "4vBNPlw6eySR",
    "outputId": "12a3d80f-dc35-4a50-b833-0a6eeef7ad01"
   },
   "outputs": [],
   "source": [
    "dados[['Q006','IN_TREINEIRO']].head(3)"
   ]
  },
  {
   "cell_type": "code",
   "execution_count": null,
   "metadata": {
    "colab": {
     "base_uri": "https://localhost:8080/",
     "height": 323
    },
    "id": "UMkm7KvyqNYk",
    "outputId": "49260675-7cd1-46e4-f232-3a6ad868dd0b"
   },
   "outputs": [],
   "source": [
    "perc_treineiros_renda = dados.query('IN_TREINEIRO == 1')['Q006'].value_counts(normalize=True)\n",
    "perc_treineiros_renda"
   ]
  },
  {
   "cell_type": "markdown",
   "metadata": {
    "id": "32Rf50nzIXE_"
   },
   "source": [
    "As rendas sao agrupadas em classes de A até Q de forma crescente. Em termos proporcionais, as classes mais baixas sao as mais tem maiores taxas de treineiros. Isso pode acontecer pelas isencoes de pagamento da taxa de inscricao para candidatos de rendas baixas. Suspeito que escolas partriculares costumam aplicar seus proprios simulados, o que acaba por diminuir o interesse de alunos de prestar enem como treineiros. Isso seria uma informacao a se averigar no caso de uma análise real."
   ]
  },
  {
   "cell_type": "markdown",
   "metadata": {
    "id": "LznBwCT9q5sk"
   },
   "source": [
    "## Desafio 7: Fazer o mesmo boxplot olhando para a questão 25 (tem internet ou não) e fazer uma reflexão sobre o assunto e o contexto de pandemia."
   ]
  },
  {
   "cell_type": "code",
   "execution_count": null,
   "metadata": {
    "colab": {
     "base_uri": "https://localhost:8080/",
     "height": 35
    },
    "id": "To3Xe2TSOPtK",
    "outputId": "541ce3f2-782d-4568-8ee4-983c2d809251"
   },
   "outputs": [],
   "source": [
    "# quem tem internet tem melhores notas?\n",
    "'''acesso a internet: Q025 a- sem acesso / B - com acesso\n",
    "notas totais: dados['NU_NOTA_TOTAL']\n",
    "'''"
   ]
  },
  {
   "cell_type": "code",
   "execution_count": null,
   "metadata": {
    "colab": {
     "base_uri": "https://localhost:8080/",
     "height": 421
    },
    "id": "sF62jthaOPjk",
    "outputId": "e14718fe-7202-4854-8588-e1f45823d841"
   },
   "outputs": [],
   "source": [
    "title = 'Notas total pela de alunos com e sem internet, considedando a renda familiar'\n",
    "x = 'Q006'\n",
    "y = dados_sem_notas_zero['NU_NOTA_TOTAL']\n",
    "hue = 'Q025'\n",
    "plt.figure(figsize=(14,6))\n",
    "sns.boxplot(x=x,y=y,data = dados_sem_notas_zero, hue = hue, order = renda_ordenada)\n",
    "plt.title(title)"
   ]
  },
  {
   "cell_type": "markdown",
   "metadata": {
    "id": "SXI5G5lg7UHv"
   },
   "source": [
    "O acesso a internet parece influenciar nas notas. Contudo, essa relacao muda em algumas faixas nas classes mais altas, existem faixas bem diferentes existem muitos outliers. Assim, me parece que outros estudos, usando uma amostragem maior, sao necessários."
   ]
  },
  {
   "cell_type": "code",
   "execution_count": null,
   "metadata": {
    "colab": {
     "base_uri": "https://localhost:8080/",
     "height": 367
    },
    "id": "EVwzIfi3vmN5",
    "outputId": "efca6f7c-ac8d-4290-ebe1-2b257ac47d8e"
   },
   "outputs": [],
   "source": [
    "# ref: mariannamassi  https://github.com/mariannamassi/Data-Visualization/blob/main/EstudoSocial_ENEM2019%20(1).ipynb\n",
    "# Use cut when you need to segment and sort data values into bins.\n",
    "dados['TXT_COR_RACA']=pd.cut(\n",
    "   dados['TP_COR_RACA'],\n",
    "   bins=[-1, 0, 1, 2, 3, 4, 5],\n",
    "   labels=['Não declarado', 'Branca', 'Preta', 'Parda', 'Amarela', 'Indígena']\n",
    ")\n",
    "\n",
    "plt.figure(figsize=(20, 5))\n",
    "sns.boxplot(x=\"TXT_COR_RACA\", y=\"NU_NOTA_TOTAL\", data = dados, hue=\"TP_SEXO\")\n",
    "plt.xlabel(\"Cor/Raça\")\n",
    "plt.ylabel(\"Nota Total\")\n",
    "L=plt.legend()\n",
    "L.get_texts()[0].set_text('Homem')\n",
    "L.get_texts()[1].set_text('Mulher')\n",
    "plt.title(\"Notas totais por Cor/Raça e Gênero\")"
   ]
  },
  {
   "cell_type": "code",
   "execution_count": null,
   "metadata": {
    "id": "BiIJNxDVoZ_t"
   },
   "outputs": [],
   "source": []
  },
  {
   "cell_type": "code",
   "execution_count": null,
   "metadata": {
    "colab": {
     "base_uri": "https://localhost:8080/",
     "height": 421
    },
    "id": "ccdp3jPBmQpx",
    "outputId": "3a5deac9-7c39-4a43-e239-17d1586e5e56"
   },
   "outputs": [],
   "source": [
    "# nota por renda e genero\n",
    "plt.figure(figsize=(20,6))\n",
    "\n",
    "renda = dados[\"Q006\"].unique()\n",
    "renda.sort()\n",
    "\n",
    "sns.boxplot(x='Q006', y='NU_NOTA_TOTAL', data=dados, hue= 'TP_SEXO', order = renda)\n",
    "plt.xlabel('Renda familiar crescente')\n",
    "plt.ylabel('Nota Total')\n",
    "L = plt.legend()\n",
    "L.get_texts()[0].set_text('Homem')\n",
    "L.get_texts()[1].set_text('Mulher')\n",
    "plt.title('Notas totais por Renda e Gênero')"
   ]
  },
  {
   "cell_type": "markdown",
   "metadata": {
    "id": "st96YMRDUO77"
   },
   "source": [
    "## Aula3: DISTRIBUIÇÕES E CORRELAÇÕES ENTRE NOTAS\n",
    "\n",
    "https://www.alura.com.br/imersao-dados/aula03-distribuicoes-ciencia-de-dados"
   ]
  },
  {
   "cell_type": "code",
   "execution_count": null,
   "metadata": {
    "colab": {
     "base_uri": "https://localhost:8080/",
     "height": 515
    },
    "id": "SdY6RjV0q5XP",
    "outputId": "1061c99c-869d-4994-b3ca-49fca7451fe3"
   },
   "outputs": [],
   "source": [
    "plt.figure(figsize=(12,8))\n",
    "sns.histplot(dados_sem_notas_zero, x= 'NU_NOTA_TOTAL')"
   ]
  },
  {
   "cell_type": "code",
   "execution_count": null,
   "metadata": {
    "colab": {
     "base_uri": "https://localhost:8080/",
     "height": 515
    },
    "id": "sqiQHraPHdiU",
    "outputId": "ed444ae9-3dbf-413d-fbd8-61ff88becc83"
   },
   "outputs": [],
   "source": [
    "plt.figure(figsize=(12,8))\n",
    "sns.histplot(dados_sem_notas_zero, x = 'NU_NOTA_MT')"
   ]
  },
  {
   "cell_type": "code",
   "execution_count": null,
   "metadata": {
    "colab": {
     "base_uri": "https://localhost:8080/",
     "height": 515
    },
    "id": "gg8rL0qLHdlx",
    "outputId": "e7350773-a83a-499a-8065-521cf2f8ee26"
   },
   "outputs": [],
   "source": [
    "plt.figure(figsize=(12,8))\n",
    "sns.histplot(dados_sem_notas_zero, x = 'NU_NOTA_LC')"
   ]
  },
  {
   "cell_type": "code",
   "execution_count": null,
   "metadata": {
    "colab": {
     "base_uri": "https://localhost:8080/",
     "height": 515
    },
    "id": "iSwKh8c5HeDe",
    "outputId": "d5aea5cf-d595-409c-dbaa-35f21e1e44b2"
   },
   "outputs": [],
   "source": [
    "plt.figure(figsize=(12,8))\n",
    "sns.histplot(dados_sem_notas_zero, x= 'NU_NOTA_TOTAL', hue='Q025', kde=True)"
   ]
  },
  {
   "cell_type": "code",
   "execution_count": null,
   "metadata": {
    "colab": {
     "base_uri": "https://localhost:8080/",
     "height": 515
    },
    "id": "Iqi9_sIcHeGS",
    "outputId": "64e09cd9-582c-4bff-a64d-2df5a945f84b"
   },
   "outputs": [],
   "source": [
    "plt.figure(figsize=(12,8))\n",
    "sns.histplot(dados_sem_notas_zero, x= 'NU_NOTA_TOTAL', hue='Q025', kde=True, stat='probability')"
   ]
  },
  {
   "cell_type": "code",
   "execution_count": null,
   "metadata": {
    "colab": {
     "base_uri": "https://localhost:8080/",
     "height": 515
    },
    "id": "sK351h98RGBW",
    "outputId": "477f2788-5a36-4feb-8cba-96efc0489618"
   },
   "outputs": [],
   "source": [
    "plt.figure(figsize=(12,8))\n",
    "sns.histplot(dados_sem_notas_zero, x= 'NU_NOTA_TOTAL', hue='Q025', kde=True, stat='density', cumulative=True)"
   ]
  },
  {
   "cell_type": "code",
   "execution_count": null,
   "metadata": {
    "colab": {
     "base_uri": "https://localhost:8080/",
     "height": 623
    },
    "id": "WWqowHF3RGGl",
    "outputId": "9339e3ca-7191-4cdf-993d-860e2468066b"
   },
   "outputs": [],
   "source": [
    "plt.figure(figsize=(10,10))\n",
    "sns.scatterplot(data = dados_sem_notas_zero, x='NU_NOTA_MT', y='NU_NOTA_LC', hue='Q025')\n",
    "plt.xlim(-50, 1050)\n",
    "plt.ylim(-50, 1050)"
   ]
  },
  {
   "cell_type": "code",
   "execution_count": null,
   "metadata": {
    "colab": {
     "base_uri": "https://localhost:8080/",
     "height": 119
    },
    "id": "ceCPRhAFRF7u",
    "outputId": "ee722b82-1288-4abb-88ca-b57f2587ab88"
   },
   "outputs": [],
   "source": [
    "provas"
   ]
  },
  {
   "cell_type": "code",
   "execution_count": null,
   "metadata": {
    "colab": {
     "base_uri": "https://localhost:8080/",
     "height": 1000
    },
    "id": "AsviESXDHdqs",
    "outputId": "e88b6878-62a3-43ba-eef8-109ab5e625ec"
   },
   "outputs": [],
   "source": [
    "sns.pairplot(dados_sem_notas_zero[provas])"
   ]
  },
  {
   "cell_type": "code",
   "execution_count": null,
   "metadata": {
    "colab": {
     "base_uri": "https://localhost:8080/",
     "height": 235
    },
    "id": "syc5X96pS8NR",
    "outputId": "6017ff24-c40a-4cb4-83c7-bd0d9a18dbb8"
   },
   "outputs": [],
   "source": [
    "correlacao = dados_sem_notas_zero[provas].corr()\n",
    "correlacao"
   ]
  },
  {
   "cell_type": "code",
   "execution_count": null,
   "metadata": {
    "colab": {
     "base_uri": "https://localhost:8080/",
     "height": 377
    },
    "id": "4JGurwflS8Iu",
    "outputId": "3d9538f0-fc17-46c3-a0e3-0e481c06fc27"
   },
   "outputs": [],
   "source": [
    "sns.heatmap(correlacao, cmap='Blues', center=0, annot=True)"
   ]
  },
  {
   "cell_type": "markdown",
   "metadata": {
    "id": "uWT2cCH_UEQH"
   },
   "source": [
    "Desafio1: Plotar as médias, medianas e moda nas notas de LC e MT (matiplotlib linha vertical)\n",
    "\n",
    "Desafio2: Melhorar a visualização da matriz de correlação e analisar mais detalhadamente.\n",
    "\n",
    "Desafio3: Filtrar as notas por seu estado ou sua cidade e refazer as análises, verificando se são semelhantes ao geral.\n",
    "\n",
    "Desafio4: Pensar sobre a correlação entre matemática e Linguagens."
   ]
  },
  {
   "cell_type": "markdown",
   "metadata": {
    "id": "vnYmxX_TYYLq"
   },
   "source": [
    "## Desafio1: Plotar as médias, medianas e moda nas notas de LC e MT (matiplotlib linha vertical)"
   ]
  },
  {
   "cell_type": "code",
   "execution_count": null,
   "metadata": {
    "colab": {
     "base_uri": "https://localhost:8080/",
     "height": 623
    },
    "id": "qPnKS-IqTqCa",
    "outputId": "f9247519-43ca-4bcc-b1e0-e969b3b13a3a"
   },
   "outputs": [],
   "source": [
    "plt.figure(figsize=(16,10))\n",
    "sns.histplot(dados_sem_notas_zero, x = 'NU_NOTA_TOTAL')\n",
    "plt.axvline(dados_sem_notas_zero['NU_NOTA_TOTAL'].mean(), color='k', linestyle='dashed', linewidth=1)\n",
    "plt.axvline(dados_sem_notas_zero['NU_NOTA_TOTAL'].median(), color='g', linestyle='dashed', linewidth=1)\n",
    "plt.axvline(dados_sem_notas_zero['NU_NOTA_TOTAL'].mode()[0], color='r', linestyle='dashed', linewidth=1)"
   ]
  },
  {
   "cell_type": "code",
   "execution_count": null,
   "metadata": {
    "colab": {
     "base_uri": "https://localhost:8080/",
     "height": 623
    },
    "id": "jhZ7igHzTqGT",
    "outputId": "1933f279-b010-4273-e4b6-5be1536d71cc"
   },
   "outputs": [],
   "source": [
    "plt.figure(figsize=(16,10))\n",
    "sns.histplot(dados_sem_notas_zero, x = 'NU_NOTA_LC')\n",
    "plt.axvline(dados_sem_notas_zero['NU_NOTA_LC'].mean(), color='k', linestyle='dashed', linewidth=1)\n",
    "plt.axvline(dados_sem_notas_zero['NU_NOTA_LC'].median(), color='g', linestyle='dashed', linewidth=1)\n",
    "plt.axvline(dados_sem_notas_zero['NU_NOTA_LC'].mode()[0], color='r', linestyle='dashed', linewidth=1)"
   ]
  },
  {
   "cell_type": "code",
   "execution_count": null,
   "metadata": {
    "colab": {
     "base_uri": "https://localhost:8080/",
     "height": 623
    },
    "id": "ua1DxJQwTp9a",
    "outputId": "a98163cf-1d0c-48ac-b94a-3e62e352290b"
   },
   "outputs": [],
   "source": [
    "plt.figure(figsize=(16,10))\n",
    "sns.histplot(dados_sem_notas_zero, x = 'NU_NOTA_MT')\n",
    "plt.axvline(dados_sem_notas_zero['NU_NOTA_MT'].mean(), color='k', linestyle='dashed', linewidth=1)\n",
    "plt.axvline(dados_sem_notas_zero['NU_NOTA_MT'].median(), color='g', linestyle='dashed', linewidth=1)\n",
    "plt.axvline(dados_sem_notas_zero['NU_NOTA_MT'].mode()[0], color='r', linestyle='dashed', linewidth=1)"
   ]
  },
  {
   "cell_type": "markdown",
   "metadata": {
    "id": "Cxfd7zqrYgGh"
   },
   "source": [
    "## Desafio2: Melhorar a visualização da matriz de correlação e analisar mais detalhadamente."
   ]
  },
  {
   "cell_type": "code",
   "execution_count": null,
   "metadata": {
    "id": "LMp2znYaFh5u"
   },
   "outputs": [],
   "source": [
    "# testes de paletas\n",
    "# corr_provas = dados[provas].corr()\n",
    "# corr_provas.style.background_gradient(cmap='Oranges')\n",
    "# corr_provas.style.background_gradient(cmap='Blues')\n",
    "# sns.heatmap(df_provas.corr(), annot = True, vmin=-1, vmax=1, center= 0, cmap= 'coolwarm')"
   ]
  },
  {
   "cell_type": "code",
   "execution_count": null,
   "metadata": {
    "colab": {
     "base_uri": "https://localhost:8080/",
     "height": 373
    },
    "id": "J6U2CEAnYm5g",
    "outputId": "18706616-6203-471c-ff4a-20531845cbe7"
   },
   "outputs": [],
   "source": [
    "import numpy as np\n",
    "df_provas = dados[provas]\n",
    "matrix = np.triu(df_provas.corr())\n",
    "sns.heatmap(df_provas.corr(), cmap='viridis', annot=True, mask=matrix)"
   ]
  },
  {
   "cell_type": "markdown",
   "metadata": {
    "id": "RgI8LL0ei-Vz"
   },
   "source": [
    "Uma observação curiosa é que as notas de redação nao tem forte correlação com as notas em ciências humanas e nem em linguagens e códigos."
   ]
  },
  {
   "cell_type": "code",
   "execution_count": null,
   "metadata": {
    "colab": {
     "base_uri": "https://localhost:8080/",
     "height": 166
    },
    "id": "W7z5-hOkHdey",
    "outputId": "a0281dc2-e97a-4f0d-923f-88e4d22002b4"
   },
   "outputs": [],
   "source": [
    "# checando correlacoes entre os tipos de escola com as notas nas diferentes áreas em outra configuracao\n",
    "corr = dados[provas].corr()\n",
    "corr.style.background_gradient(cmap='coolwarm')"
   ]
  },
  {
   "cell_type": "markdown",
   "metadata": {
    "id": "81GWrrTmYodf"
   },
   "source": [
    "## Desafio3: Filtrar as notas por seu estado ou sua cidade e refazer as análises, verificando se são semelhantes ao geral."
   ]
  },
  {
   "cell_type": "code",
   "execution_count": null,
   "metadata": {
    "colab": {
     "base_uri": "https://localhost:8080/",
     "height": 1000
    },
    "id": "jR1rxM8DgumF",
    "outputId": "5bb8c3ba-e106-4bef-b8b0-a7d6f4329840"
   },
   "outputs": [],
   "source": [
    "dados_sem_notas_zero = dados.query('NU_NOTA_TOTAL != 0')\n",
    "dados_estado_rj = dados_sem_notas_zero.query(\"SG_UF_RESIDENCIA == 'RJ'\")\n",
    "sns.pairplot(dados_estado_rj[provas])"
   ]
  },
  {
   "cell_type": "code",
   "execution_count": null,
   "metadata": {
    "colab": {
     "base_uri": "https://localhost:8080/",
     "height": 373
    },
    "id": "2V47us3tkDbo",
    "outputId": "cb9fe90e-18b9-4fb9-d62f-14f44b708ffb"
   },
   "outputs": [],
   "source": [
    "corr_rj = dados_estado_rj[provas].corr()\n",
    "matrix = np.triu(np.ones_like(corr_rj, dtype=bool))\n",
    "sns.heatmap(corr_rj, cmap='viridis', annot=True, mask=matrix)"
   ]
  },
  {
   "cell_type": "code",
   "execution_count": null,
   "metadata": {
    "colab": {
     "base_uri": "https://localhost:8080/",
     "height": 1000
    },
    "id": "W5T4RWqjHoxT",
    "outputId": "4acaecf2-cb06-4348-fe7f-a9e2ab2e0411"
   },
   "outputs": [],
   "source": [
    "# NO_MUNICIPIO_RESIDENCIA\n",
    "\n",
    "provas_niteroi = dados_sem_notas_zero.query(\"NO_MUNICIPIO_RESIDENCIA == 'Niterói'\")\n",
    "sns.pairplot(provas_niteroi[provas])"
   ]
  },
  {
   "cell_type": "code",
   "execution_count": null,
   "metadata": {
    "colab": {
     "base_uri": "https://localhost:8080/",
     "height": 373
    },
    "id": "Prs-Q-PtHo80",
    "outputId": "b4f54a57-ede0-4fd6-c3e0-3c955813e962"
   },
   "outputs": [],
   "source": [
    "# incluindo Niteroi a provas\n",
    "corr_niteroi = provas_niteroi[provas].corr()\n",
    "matrix = np.triu(np.ones_like(corr_niteroi, dtype=bool))\n",
    "sns.heatmap(corr_rj, cmap=\"viridis\", annot=True, mask=matrix)\n"
   ]
  },
  {
   "cell_type": "code",
   "execution_count": null,
   "metadata": {
    "id": "WmaBmKU0gusq"
   },
   "outputs": [],
   "source": []
  },
  {
   "cell_type": "markdown",
   "metadata": {
    "id": "0KCcap47nHx4"
   },
   "source": [
    "Os resultados totais, para o Estado do Rio de Janeiro e para a cidade de Niterói nao mostraram grandes diferencas. Contudo, o scatter com  dados de Niterói parace demonstrar uma correlacao positiva mais forte entre as notas das diversas disciplinas."
   ]
  },
  {
   "cell_type": "markdown",
   "metadata": {
    "id": "a1Y_Bh93YuX4"
   },
   "source": [
    "## Desafio4: Pensar sobre a correlação entre matemática e Linguagens"
   ]
  },
  {
   "cell_type": "markdown",
   "metadata": {
    "id": "rOVikhZeoA4A"
   },
   "source": [
    "Os graficos de correlacao nao demonstraram nenhuma ligacao entre matemática e linguagens."
   ]
  },
  {
   "cell_type": "markdown",
   "metadata": {
    "id": "1Ds5PBNnKLR_"
   },
   "source": [
    "## Aula 4: Machine Learning"
   ]
  },
  {
   "cell_type": "code",
   "execution_count": null,
   "metadata": {
    "colab": {
     "base_uri": "https://localhost:8080/",
     "height": 119
    },
    "id": "HNnTFpKcYvMR",
    "outputId": "071266ad-44c1-4544-c9d9-b1f4f372ed4c"
   },
   "outputs": [],
   "source": [
    "provas"
   ]
  },
  {
   "cell_type": "code",
   "execution_count": null,
   "metadata": {
    "id": "zNR_kcptKjRy"
   },
   "outputs": [],
   "source": [
    "provas_entrada = ['NU_NOTA_CH', 'NU_NOTA_LC', 'NU_NOTA_CN', 'NU_NOTA_REDACAO']\n",
    "prova_saida = 'NU_NOTA_MT'\n",
    "dados_sem_notas_zero = dados_sem_notas_zero[provas].dropna()\n",
    "notas_entrada = dados_sem_notas_zero[provas_entrada]\n",
    "notas_saida = dados_sem_notas_zero[prova_saida]"
   ]
  },
  {
   "cell_type": "code",
   "execution_count": null,
   "metadata": {
    "colab": {
     "base_uri": "https://localhost:8080/",
     "height": 419
    },
    "id": "CU22ogcaT4wi",
    "outputId": "7f7be80c-345e-4d7b-f0f2-f31758cd5eb6"
   },
   "outputs": [],
   "source": [
    "notas_entrada"
   ]
  },
  {
   "cell_type": "code",
   "execution_count": null,
   "metadata": {
    "id": "S-60o77RKjO4"
   },
   "outputs": [],
   "source": [
    "x = notas_entrada\n",
    "y = notas_saida"
   ]
  },
  {
   "cell_type": "code",
   "execution_count": null,
   "metadata": {
    "id": "trsUZEWAKjU8"
   },
   "outputs": [],
   "source": [
    "from sklearn.model_selection import train_test_split\n",
    "\n",
    "SEED = 4321\n",
    "\n",
    "x_treino, x_teste, y_treino, y_teste = train_test_split(x, y, test_size = 0.25, random_state=SEED)"
   ]
  },
  {
   "cell_type": "code",
   "execution_count": null,
   "metadata": {
    "colab": {
     "base_uri": "https://localhost:8080/",
     "height": 102
    },
    "id": "_TzgjWBXKjYN",
    "outputId": "b1997fda-6811-432b-9c17-1ad44120ebb5"
   },
   "outputs": [],
   "source": [
    "from sklearn.svm import LinearSVR\n",
    "\n",
    "modelo = LinearSVR(random_state = SEED)\n",
    "modelo.fit(x_treino, y_treino)"
   ]
  },
  {
   "cell_type": "code",
   "execution_count": null,
   "metadata": {
    "id": "0LjxgGQkKjjX"
   },
   "outputs": [],
   "source": [
    "predicoes_matematica = modelo.predict(x_teste)"
   ]
  },
  {
   "cell_type": "code",
   "execution_count": null,
   "metadata": {
    "colab": {
     "base_uri": "https://localhost:8080/",
     "height": 119
    },
    "id": "hGNvup_rKj44",
    "outputId": "fdffbbdd-ec86-4557-cda9-eac34906f6f1"
   },
   "outputs": [],
   "source": [
    "y_teste[:5]"
   ]
  },
  {
   "cell_type": "code",
   "execution_count": null,
   "metadata": {
    "colab": {
     "base_uri": "https://localhost:8080/",
     "height": 500
    },
    "id": "EHN2GhWVKj1q",
    "outputId": "81f3cf92-1b47-46a7-e575-75fd745d0b24"
   },
   "outputs": [],
   "source": [
    "plt.figure(figsize=(8,8))\n",
    "sns.scatterplot(x=predicoes_matematica,y=y_teste)\n",
    "plt.xlim((-50,1050))\n",
    "plt.ylim((-50, 1050))"
   ]
  },
  {
   "cell_type": "code",
   "execution_count": null,
   "metadata": {
    "colab": {
     "base_uri": "https://localhost:8080/",
     "height": 515
    },
    "id": "0AykJAToKjeu",
    "outputId": "1ff4ea05-96fc-4512-948d-e8aa221e198e"
   },
   "outputs": [],
   "source": [
    "plt.figure(figsize=(8,8))\n",
    "sns.scatterplot(x=y_teste, y=y_teste - predicoes_matematica)"
   ]
  },
  {
   "cell_type": "code",
   "execution_count": null,
   "metadata": {
    "colab": {
     "base_uri": "https://localhost:8080/",
     "height": 515
    },
    "id": "4L7OJWaZXVCt",
    "outputId": "70a743db-5629-49b5-f706-d512e19b7bce"
   },
   "outputs": [],
   "source": [
    "plt.figure(figsize=(8,8))\n",
    "sns.scatterplot(x=y_teste, y=x_teste.mean(axis=1))\n",
    "plt.xlim((-50,1050))\n",
    "plt.ylim((-50,1050))"
   ]
  },
  {
   "cell_type": "code",
   "execution_count": null,
   "metadata": {
    "id": "5rOj3tGmXVZN"
   },
   "outputs": [],
   "source": [
    "resultados = pd.DataFrame()\n",
    "resultados['Real'] = y_teste\n",
    "resultados['Previsao'] = predicoes_matematica\n",
    "resultados['quadrado_diferenca'] = (resultados['Real'] - resultados['Previsao'])**2"
   ]
  },
  {
   "cell_type": "code",
   "execution_count": null,
   "metadata": {
    "colab": {
     "base_uri": "https://localhost:8080/",
     "height": 419
    },
    "id": "yfybOLQOXVK1",
    "outputId": "6ee80c55-e297-41b9-f6b7-d9b0442619b3"
   },
   "outputs": [],
   "source": [
    "resultados"
   ]
  },
  {
   "cell_type": "code",
   "execution_count": null,
   "metadata": {
    "colab": {
     "base_uri": "https://localhost:8080/",
     "height": 34
    },
    "id": "HXxF0Gz2Yrb9",
    "outputId": "5e5d262a-8d7c-4b93-e8ce-248e25089a12"
   },
   "outputs": [],
   "source": [
    "resultados['quadrado_diferenca'].mean()"
   ]
  },
  {
   "cell_type": "code",
   "execution_count": null,
   "metadata": {
    "colab": {
     "base_uri": "https://localhost:8080/",
     "height": 34
    },
    "id": "IkDT6uYtZ3wV",
    "outputId": "2d508a98-ae16-4875-db71-7cedcc8f721b"
   },
   "outputs": [],
   "source": [
    "resultados['quadrado_diferenca'].mean()**(1/2)"
   ]
  },
  {
   "cell_type": "code",
   "execution_count": null,
   "metadata": {
    "id": "L2QrJ80EZ32G"
   },
   "outputs": [],
   "source": [
    "from sklearn.dummy import DummyRegressor\n",
    "\n",
    "modelo_dummy = DummyRegressor()\n",
    "modelo_dummy.fit(x_treino, y_treino)\n",
    "dummy_predicoes = modelo_dummy.predict(x_teste)"
   ]
  },
  {
   "cell_type": "code",
   "execution_count": null,
   "metadata": {
    "colab": {
     "base_uri": "https://localhost:8080/",
     "height": 34
    },
    "id": "ljpO6B2DbEw1",
    "outputId": "62d6bccd-a987-492f-cb77-0c85d11db07b"
   },
   "outputs": [],
   "source": [
    "from sklearn.metrics import mean_squared_error\n",
    "\n",
    "mean_squared_error(y_teste, dummy_predicoes)"
   ]
  },
  {
   "cell_type": "code",
   "execution_count": null,
   "metadata": {
    "colab": {
     "base_uri": "https://localhost:8080/",
     "height": 34
    },
    "id": "O4KuCCiAbE_N",
    "outputId": "405d8e4c-dc05-4bfa-f967-493ef9b39fae"
   },
   "outputs": [],
   "source": [
    "mean_squared_error(y_teste, predicoes_matematica)"
   ]
  },
  {
   "cell_type": "markdown",
   "metadata": {
    "id": "LSoT9ihpKi3y"
   },
   "source": [
    "Desafio01: Procurar outro modelo de ML para treinar e comparar com os modelos criados em aula\n",
    "\n",
    "Desafio02: Ler a documentação do Dummy e alterar o método de regressão\n",
    "\n",
    "Desafio03: Buscar outra métrica para avaliar modelos de regressão"
   ]
  },
  {
   "cell_type": "markdown",
   "metadata": {
    "id": "lr2C-OYFbpDr"
   },
   "source": [
    "Desafio01: Procurar outro modelo de ML para treinar e comparar com os modelos criados em aula"
   ]
  },
  {
   "cell_type": "code",
   "execution_count": null,
   "metadata": {
    "id": "l41YAoBBbE44"
   },
   "outputs": [],
   "source": []
  },
  {
   "cell_type": "code",
   "execution_count": null,
   "metadata": {
    "id": "RyYEU3P9bEsa"
   },
   "outputs": [],
   "source": [
    "def get_prediction_probability(predictions, probabilities):\n",
    "  top_probability = pd.Series(dtype = \"float64\")\n",
    "  for index in range(0,len(predictions)):\n",
    "    top_probability = top_probability.append(pd.Series([probabilities[index][predictions[index]]]))\n",
    "  top_probability.reset_index(drop=True, inplace=True)\n",
    "  return top_probability"
   ]
  },
  {
   "cell_type": "markdown",
   "metadata": {
    "id": "hEe_6yTsbtU0"
   },
   "source": [
    "Desafio02: Ler a documentação do Dummy e alterar o método de regressão"
   ]
  },
  {
   "cell_type": "code",
   "execution_count": null,
   "metadata": {
    "id": "ZqidjpO_Z3rz"
   },
   "outputs": [],
   "source": []
  },
  {
   "cell_type": "markdown",
   "metadata": {
    "id": "xEAcS_uUbsKI"
   },
   "source": [
    "Desafio03: Buscar outra métrica para avaliar modelos de regressão"
   ]
  },
  {
   "cell_type": "code",
   "execution_count": null,
   "metadata": {
    "id": "WZAvab_EYrXn"
   },
   "outputs": [],
   "source": []
  },
  {
   "cell_type": "markdown",
   "metadata": {
    "id": "xGzHaBbSizzu"
   },
   "source": []
  },
  {
   "cell_type": "markdown",
   "metadata": {
    "id": "Y_dpbWUui1Pw"
   },
   "source": [
    "## Aula 5: Validacao de modelo e overfit\n"
   ]
  },
  {
   "cell_type": "code",
   "execution_count": null,
   "metadata": {
    "colab": {
     "base_uri": "https://localhost:8080/",
     "height": 68
    },
    "id": "3lhsCfvxjFmw",
    "outputId": "ac5dc543-3d4b-4a7e-b92f-a293e18f6406"
   },
   "outputs": [],
   "source": [
    "from sklearn.svm import LinearSVR\n",
    "\n",
    "modelo = LinearSVR(random_state = SEED)\n",
    "modelo.fit(x_treino, y_treino)\n",
    "predicoes_matematica = modelo.predict(x_teste)\n",
    "mean_squared_error(y_teste, predicoes_matematica)   # MSE"
   ]
  },
  {
   "cell_type": "code",
   "execution_count": null,
   "metadata": {
    "colab": {
     "base_uri": "https://localhost:8080/",
     "height": 34
    },
    "id": "kYzeqoCSjFkc",
    "outputId": "702fda43-c7ed-44b7-c79b-a95282e5386d"
   },
   "outputs": [],
   "source": [
    "from sklearn.tree import DecisionTreeRegressor\n",
    "\n",
    "x_treino, x_teste, y_treino, y_teste = train_test_split(x, y, test_size = 0.25)\n",
    "\n",
    "modelo_arvore = DecisionTreeRegressor(max_depth=3)\n",
    "modelo_arvore.fit(x_treino, y_treino)\n",
    "predicoes_matematica_arvore = modelo.predict(x_teste)\n",
    "mean_squared_error(y_teste, predicoes_matematica_arvore)"
   ]
  },
  {
   "cell_type": "code",
   "execution_count": null,
   "metadata": {
    "id": "u0b_5eHN3HXa"
   },
   "outputs": [],
   "source": [
    "def calcula_mse(resultados):\n",
    "  media = (resultados['test_score']*-1).mean()\n",
    "  desvio_padrao = (resultados['test_score']*-1).std()\n",
    "  lim_inferior = media - (2*desvio_padrao)\n",
    "  lim_superior = media + (2*desvio_padrao)\n",
    "  print(f'Intervalo de convianca {lim_inferior} - {lim_superior}')"
   ]
  },
  {
   "cell_type": "code",
   "execution_count": null,
   "metadata": {
    "colab": {
     "base_uri": "https://localhost:8080/",
     "height": 34
    },
    "id": "R46eiKETjFh0",
    "outputId": "4ae52d4e-4364-4d06-c3ca-b78d30a396e6"
   },
   "outputs": [],
   "source": [
    "from sklearn.model_selection import cross_validate\n",
    "from sklearn.model_selection import KFold\n",
    "import numpy as np\n",
    "\n",
    "SEED = 1232\n",
    "np.random.seed(SEED)\n",
    "\n",
    "partes = KFold(n_splits = 10, shuffle=True)\n",
    "modelo_arvore = DecisionTreeRegressor(max_depth=2)\n",
    "resultados = cross_validate(modelo_arvore, x, y, cv=partes, scoring= 'neg_mean_squared_error')\n",
    "calcula_mse(resultados)"
   ]
  },
  {
   "cell_type": "code",
   "execution_count": null,
   "metadata": {
    "colab": {
     "base_uri": "https://localhost:8080/",
     "height": 34
    },
    "id": "-MCJQq_g3ciw",
    "outputId": "a34222be-db2e-4533-cd50-d37f44882f20"
   },
   "outputs": [],
   "source": [
    "def regressor_arvore(nivel):\n",
    "  SEED = 1232\n",
    "  np.random.seed(SEED)\n",
    "  partes = KFold(n_splits = 10, shuffle=True)\n",
    "  modelo_arvore = DecisionTreeRegressor(max_depth=nivel)\n",
    "  # resultados = cross_validate(modelo_arvore, x, y, cv=partes, scoring= 'neg_mean_squared_error')\n",
    "  resultados = cross_validate(modelo_arvore, x, y, cv=partes, scoring= 'neg_mean_squared_error', return_train_score=True)\n",
    "  print(f\"Teste = {(resultados['test_score']*-1).mean()}|Train = {(resultados['train_score']*-1).mean()}\")\n",
    "\n",
    "regressor_arvore(4)"
   ]
  },
  {
   "cell_type": "code",
   "execution_count": null,
   "metadata": {
    "colab": {
     "base_uri": "https://localhost:8080/",
     "height": 357
    },
    "id": "veqzoVK_3cc_",
    "outputId": "bf4e0f0d-98e1-4dbe-8e8c-65fb50ae4478"
   },
   "outputs": [],
   "source": [
    "for i in range(1,21):\n",
    "  regressor_arvore(i)"
   ]
  },
  {
   "cell_type": "code",
   "execution_count": null,
   "metadata": {
    "id": "CRG2zgzE3cYz"
   },
   "outputs": [],
   "source": [
    "# Overfit"
   ]
  },
  {
   "cell_type": "markdown",
   "metadata": {
    "colab": {
     "base_uri": "https://localhost:8080/",
     "height": 130
    },
    "id": "W_HwyVGA5vAk",
    "outputId": "123a6ecf-bda7-49b3-e400-422765063d1c"
   },
   "source": [
    "Desafio 1: pesquisar sobre intervalo de confiança</BR>\n",
    "Desafio 2: testar com outros parâmetros da arvore de decisão</BR>\n",
    "Desafio 3: procurar outras formas de realizar os ajustes de parâmetros com o sklearn</BR>\n",
    "Desafio 4: pesquisar o que é o problema de underfit</BR>\n",
    "Desafio 5: plotar um gráfico com o test_score e o train_test (gráficos de curva de aprendizagem)\n"
   ]
  },
  {
   "cell_type": "markdown",
   "metadata": {
    "id": "GFj_XDhi5rqt"
   },
   "source": []
  }
 ],
 "metadata": {
  "colab": {
   "collapsed_sections": [
    "st96YMRDUO77"
   ],
   "name": "ENEM_imersao_dados.ipynb",
   "provenance": []
  },
  "kernelspec": {
   "display_name": "Python 3",
   "language": "python",
   "name": "python3"
  },
  "language_info": {
   "codemirror_mode": {
    "name": "ipython",
    "version": 3
   },
   "file_extension": ".py",
   "mimetype": "text/x-python",
   "name": "python",
   "nbconvert_exporter": "python",
   "pygments_lexer": "ipython3",
   "version": "3.7.7"
  }
 },
 "nbformat": 4,
 "nbformat_minor": 1
}
